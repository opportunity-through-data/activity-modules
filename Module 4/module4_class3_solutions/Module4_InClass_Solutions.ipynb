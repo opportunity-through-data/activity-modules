{
 "cells": [
  {
   "cell_type": "markdown",
   "metadata": {},
   "source": [
    "# Activity 4: Data Analysis!"
   ]
  },
  {
   "cell_type": "markdown",
   "metadata": {},
   "source": [
    "## Overview"
   ]
  },
  {
   "cell_type": "markdown",
   "metadata": {},
   "source": [
    "For this activity, we are going to be using data on the WIC (Women, Infants, and Children) supplemental nutrition program. Our data contains the state and/or tribe and the number of people enrolled in the program in a given year.\n",
    "\n",
    "You don't need to know what next few lines of code are doing, but in essence, they're reading in a table from a file! We'll talk more about how data is stored soon, but we often transport data from one place to another in CSV (comma-separated value) format. Since we're looking at real data here, we're reading in from a CSV file!\n",
    "\n",
    "We got this data from https://catalog.data.gov/dataset/women-infants-and-children-wic-participating-and-cost-data\n"
   ]
  },
  {
   "cell_type": "code",
   "execution_count": 1,
   "metadata": {},
   "outputs": [],
   "source": [
    "from otd_util import *"
   ]
  },
  {
   "cell_type": "code",
   "execution_count": 2,
   "metadata": {},
   "outputs": [],
   "source": [
    "WIC_States_and_Tribes_Data = read_table('WIC_Participation_edited.csv', columns=[0, 5], column_names={'FY 2018':'Total Enrollment', \"State / Indian Tribe         \":'State/Indian Tribe'})\n",
    "WIC_States_and_Tribes = {'State/Indian Tribe': list(WIC_States_and_Tribes_Data['State/Indian Tribe']), 'Total Enrollment': list(WIC_States_and_Tribes_Data['Total Enrollment'])}"
   ]
  },
  {
   "cell_type": "markdown",
   "metadata": {},
   "source": [
    "## Problem 1: Loops"
   ]
  },
  {
   "cell_type": "markdown",
   "metadata": {},
   "source": [
    "Loops can help us perform the same set of actions on multiple pieces of data! We will use loops to filter data and remove pieces we don't want or modify data to make is easier for us to use. \n",
    "\n",
    "Let's take a look at the data we have first. We have two columns: `State/Indian Tribe` and `Total Enrollment`."
   ]
  },
  {
   "cell_type": "code",
   "execution_count": 3,
   "metadata": {},
   "outputs": [
    {
     "name": "stdout",
     "output_type": "stream",
     "text": [
      "      State/Indian Tribe Total Enrollment\n",
      "0                Alabama          120,605\n",
      "1                 Alaska           17,092\n",
      "2         American Samoa            5,235\n",
      "3                Arizona          149,513\n",
      "4        Dept. of Health          133,547\n",
      "..                   ...              ...\n",
      "98               Wyoming            9,062\n",
      "99       Dept. of Health            8,607\n",
      "100    Northern Arapahoe              282\n",
      "101       Shoshone Tribe              173\n",
      "102    Northern Marianas            3,205\n",
      "\n",
      "[103 rows x 2 columns]\n"
     ]
    }
   ],
   "source": [
    "visualize_table(WIC_States_and_Tribes)"
   ]
  },
  {
   "cell_type": "markdown",
   "metadata": {},
   "source": [
    "In the cell above we have downloaded a table that shows us each state and Native American tribe in the country and their respective enrollment in the WIC program. "
   ]
  },
  {
   "cell_type": "markdown",
   "metadata": {},
   "source": [
    "As you may recall from Module 2, a table is made up of columns. The table we are using has two columns named 'Total Enrollment' and 'State / Indian Tribe'. Each column is a list with every piece of data about a certain topic. We can use square brackets like these [] to view the columns in a table in list form. "
   ]
  },
  {
   "cell_type": "code",
   "execution_count": 4,
   "metadata": {},
   "outputs": [
    {
     "data": {
      "text/plain": [
       "['120,605',\n",
       " '17,092',\n",
       " '5,235',\n",
       " '149,513',\n",
       " '133,547',\n",
       " '7,561',\n",
       " '8,406',\n",
       " '73,607',\n",
       " '1,009,492',\n",
       " '85,258',\n",
       " '85,103',\n",
       " '155',\n",
       " '47,297',\n",
       " '16,797',\n",
       " '12,466',\n",
       " '450,624',\n",
       " '217,695',\n",
       " '6,610',\n",
       " '26,115',\n",
       " '33,717',\n",
       " '199,360',\n",
       " '143,730',\n",
       " '60,249',\n",
       " '50,681',\n",
       " '101,743',\n",
       " '112,362',\n",
       " '18,320',\n",
       " '18,200',\n",
       " '61',\n",
       " '60',\n",
       " '128,542',\n",
       " '108,593',\n",
       " '213,964',\n",
       " '105,961',\n",
       " '85,449',\n",
       " '84,783',\n",
       " '666',\n",
       " '114,323',\n",
       " '16,682',\n",
       " '35,833',\n",
       " '35,245',\n",
       " '246',\n",
       " '211',\n",
       " '131',\n",
       " '62,531',\n",
       " '61,161',\n",
       " '1,370',\n",
       " '12,332',\n",
       " '141,568',\n",
       " '46,187',\n",
       " '42,921',\n",
       " '243',\n",
       " '1,385',\n",
       " '572',\n",
       " '234',\n",
       " '213',\n",
       " '234',\n",
       " '385',\n",
       " '416,173',\n",
       " '415,988',\n",
       " '185',\n",
       " '221,719',\n",
       " '221,175',\n",
       " '544',\n",
       " '12,313',\n",
       " '11,485',\n",
       " '555',\n",
       " '272',\n",
       " '208,955',\n",
       " '98,551',\n",
       " '73,587',\n",
       " '3,696',\n",
       " '3,398',\n",
       " '2,373',\n",
       " '6,594',\n",
       " '1,499',\n",
       " '2,939',\n",
       " '382',\n",
       " '723',\n",
       " '3,362',\n",
       " '85,774',\n",
       " '218,188',\n",
       " '112,709',\n",
       " '18,950',\n",
       " '92,153',\n",
       " '17,667',\n",
       " '15,760',\n",
       " '757',\n",
       " '1,150',\n",
       " '127,814',\n",
       " '746,246',\n",
       " '48,989',\n",
       " '11,427',\n",
       " '113,952',\n",
       " '2,836',\n",
       " '145,015',\n",
       " '35,412',\n",
       " '92,487',\n",
       " '9,062',\n",
       " '8,607',\n",
       " '282',\n",
       " '173',\n",
       " '3,205']"
      ]
     },
     "execution_count": 4,
     "metadata": {},
     "output_type": "execute_result"
    }
   ],
   "source": [
    "WIC_States_and_Tribes[\"Total Enrollment\"]"
   ]
  },
  {
   "cell_type": "markdown",
   "metadata": {},
   "source": [
    "Remember when we learned about data types? The four data types we talked about are: integers, strings, floats, and booleans. Look back in the textbook if you do not remember what these are. "
   ]
  },
  {
   "cell_type": "markdown",
   "metadata": {},
   "source": [
    "It is good practice to check what kind of data you are working with so you know what kind of tools you can use on it. A good rule of thumb is for data in 'words' (like the names of states and tribes) to be in strings while data in 'numbers' (like the total enrollment) would be in integers. You can use the type() function to check the type of a single piece of data. "
   ]
  },
  {
   "cell_type": "code",
   "execution_count": 5,
   "metadata": {},
   "outputs": [
    {
     "data": {
      "text/plain": [
       "str"
      ]
     },
     "execution_count": 5,
     "metadata": {},
     "output_type": "execute_result"
    }
   ],
   "source": [
    "type('this is a string')"
   ]
  },
  {
   "cell_type": "markdown",
   "metadata": {},
   "source": [
    "Let's check what type of data the 'State / Indian Tribe' column has by using the type() function on its first element!"
   ]
  },
  {
   "cell_type": "code",
   "execution_count": 6,
   "metadata": {},
   "outputs": [
    {
     "data": {
      "text/plain": [
       "str"
      ]
     },
     "execution_count": 6,
     "metadata": {},
     "output_type": "execute_result"
    }
   ],
   "source": [
    "type(WIC_States_and_Tribes[\"State/Indian Tribe\"][0])"
   ]
  },
  {
   "cell_type": "markdown",
   "metadata": {},
   "source": [
    "Now, let's look at the type of data in the 'Total Enrollment' column:"
   ]
  },
  {
   "cell_type": "code",
   "execution_count": 7,
   "metadata": {},
   "outputs": [
    {
     "data": {
      "text/plain": [
       "str"
      ]
     },
     "execution_count": 7,
     "metadata": {},
     "output_type": "execute_result"
    }
   ],
   "source": [
    "type(WIC_States_and_Tribes[\"Total Enrollment\"][0])"
   ]
  },
  {
   "cell_type": "markdown",
   "metadata": {},
   "source": [
    "Oh no! The data in this column is in strings instead of integers. Don't worry! We can use a for loop to change the type of every element in the column into an integer by applying the int() function to each value in the column."
   ]
  },
  {
   "cell_type": "code",
   "execution_count": 8,
   "metadata": {},
   "outputs": [
    {
     "data": {
      "text/plain": [
       "10"
      ]
     },
     "execution_count": 8,
     "metadata": {},
     "output_type": "execute_result"
    }
   ],
   "source": [
    "int('10')"
   ]
  },
  {
   "cell_type": "markdown",
   "metadata": {},
   "source": [
    "However, this might have issues when there are commas in the data. What happens when the following cell is run?"
   ]
  },
  {
   "cell_type": "code",
   "execution_count": 9,
   "metadata": {},
   "outputs": [
    {
     "ename": "ValueError",
     "evalue": "invalid literal for int() with base 10: '10,000'",
     "output_type": "error",
     "traceback": [
      "\u001b[0;31m---------------------------------------------------------------------------\u001b[0m",
      "\u001b[0;31mValueError\u001b[0m                                Traceback (most recent call last)",
      "\u001b[0;32m<ipython-input-9-665322a82640>\u001b[0m in \u001b[0;36m<module>\u001b[0;34m\u001b[0m\n\u001b[0;32m----> 1\u001b[0;31m \u001b[0mint\u001b[0m\u001b[0;34m(\u001b[0m\u001b[0;34m'10,000'\u001b[0m\u001b[0;34m)\u001b[0m\u001b[0;34m\u001b[0m\u001b[0;34m\u001b[0m\u001b[0m\n\u001b[0m",
      "\u001b[0;31mValueError\u001b[0m: invalid literal for int() with base 10: '10,000'"
     ]
    }
   ],
   "source": [
    "int('10,000')"
   ]
  },
  {
   "cell_type": "markdown",
   "metadata": {},
   "source": [
    "So let's try removing the commas from our number string and turning that into an integer:"
   ]
  },
  {
   "cell_type": "code",
   "execution_count": 10,
   "metadata": {},
   "outputs": [
    {
     "data": {
      "text/plain": [
       "10000"
      ]
     },
     "execution_count": 10,
     "metadata": {},
     "output_type": "execute_result"
    }
   ],
   "source": [
    "no_commas = '10,000'.replace(',', '')\n",
    "int(no_commas)"
   ]
  },
  {
   "cell_type": "markdown",
   "metadata": {},
   "source": [
    "Now, let's try doing this in a loop to get a new list where all of the values are numbers!"
   ]
  },
  {
   "cell_type": "code",
   "execution_count": 11,
   "metadata": {},
   "outputs": [
    {
     "name": "stdout",
     "output_type": "stream",
     "text": [
      "[120605, 17092, 5235, 149513, 133547, 7561, 8406, 73607, 1009492, 85258, 85103, 155, 47297, 16797, 12466, 450624, 217695, 6610, 26115, 33717, 199360, 143730, 60249, 50681, 101743, 112362, 18320, 18200, 61, 60, 128542, 108593, 213964, 105961, 85449, 84783, 666, 114323, 16682, 35833, 35245, 246, 211, 131, 62531, 61161, 1370, 12332, 141568, 46187, 42921, 243, 1385, 572, 234, 213, 234, 385, 416173, 415988, 185, 221719, 221175, 544, 12313, 11485, 555, 272, 208955, 98551, 73587, 3696, 3398, 2373, 6594, 1499, 2939, 382, 723, 3362, 85774, 218188, 112709, 18950, 92153, 17667, 15760, 757, 1150, 127814, 746246, 48989, 11427, 113952, 2836, 145015, 35412, 92487, 9062, 8607, 282, 173, 3205]\n"
     ]
    }
   ],
   "source": [
    "integer_enrollment = []\n",
    "\n",
    "for num in WIC_States_and_Tribes[\"Total Enrollment\"]:\n",
    "    no_commas = num.replace(',', '')\n",
    "    integer_enrollment.append(int(no_commas))\n",
    "\n",
    "print(integer_enrollment)"
   ]
  },
  {
   "cell_type": "markdown",
   "metadata": {},
   "source": [
    "Our table currently shows us the number of people enrolled in WIC by state and by Native American Tribe. Since the state counts include tribe counts, let's try removing all the Tribe counts in the table. "
   ]
  },
  {
   "cell_type": "markdown",
   "metadata": {},
   "source": [
    "How do we tell Python which rows are tribe counts and which are state counts? Notice that the tribe counts have a space at the beginning of the names. For example, the one of the first Tribe entries is `' Navajo Nation'`. We need to constuct a filter that goes through every entry in the data table and removes ones that start with a space. We can do this using a loop. "
   ]
  },
  {
   "cell_type": "code",
   "execution_count": 12,
   "metadata": {},
   "outputs": [
    {
     "data": {
      "text/plain": [
       "'  Navajo Nation'"
      ]
     },
     "execution_count": 12,
     "metadata": {},
     "output_type": "execute_result"
    }
   ],
   "source": [
    "WIC_States_and_Tribes[\"State/Indian Tribe\"][5]"
   ]
  },
  {
   "cell_type": "code",
   "execution_count": 13,
   "metadata": {},
   "outputs": [],
   "source": [
    "state_names = []\n",
    "corresponding_numbers = []\n",
    "\n",
    "index_value = 0\n",
    "\n",
    "for state in WIC_States_and_Tribes[\"State/Indian Tribe\"]: \n",
    "    if state[0] != ' ': #this indexes a string to get the first charecter\n",
    "        state_names.append(state)\n",
    "        corresponding_numbers.append(integer_enrollment[index_value])\n",
    "        \n",
    "    index_value += 1"
   ]
  },
  {
   "cell_type": "markdown",
   "metadata": {},
   "source": [
    "Now, let's replace our old `Total Enrollment` and `State/Indian Tribe` columns with our new lists!"
   ]
  },
  {
   "cell_type": "code",
   "execution_count": 14,
   "metadata": {},
   "outputs": [],
   "source": [
    "WIC_States_and_Tribes[\"Total Enrollment\"] = corresponding_numbers\n",
    "WIC_States_and_Tribes[\"State/Indian Tribe\"] = state_names"
   ]
  },
  {
   "cell_type": "markdown",
   "metadata": {},
   "source": [
    "## Problem 2: Analysis"
   ]
  },
  {
   "cell_type": "markdown",
   "metadata": {},
   "source": [
    "### Analysis Part 1:"
   ]
  },
  {
   "cell_type": "markdown",
   "metadata": {},
   "source": [
    "In this next section, we will combine all the tools you have learned throughout this module to learn more about the data as a whole. You will be finding the top 10 states with largest enrollment in WIC programs and make a bar chart of the values."
   ]
  },
  {
   "cell_type": "markdown",
   "metadata": {},
   "source": [
    "We want to find the top 10 largest values within corresponding numbers. We can start by sorting the enrollment counts per state in descending order (largest to smallest). We can use the `sorted` function to sort a list; setting the `reverse` argument to `True` tells it to sort from largest to smallest."
   ]
  },
  {
   "cell_type": "code",
   "execution_count": 15,
   "metadata": {},
   "outputs": [],
   "source": [
    "sorted_enrollment = sorted(WIC_States_and_Tribes[\"Total Enrollment\"], reverse = True) ## TEACH SORT IN LIST SECTION"
   ]
  },
  {
   "cell_type": "markdown",
   "metadata": {},
   "source": [
    "Now that the list is sorted from largest to smallest, assign the ten largest counts to the name `top_10_amounts` as a list."
   ]
  },
  {
   "cell_type": "code",
   "execution_count": 16,
   "metadata": {},
   "outputs": [
    {
     "data": {
      "text/plain": [
       "[1009492,\n",
       " 746246,\n",
       " 450624,\n",
       " 416173,\n",
       " 221719,\n",
       " 218188,\n",
       " 217695,\n",
       " 213964,\n",
       " 208955,\n",
       " 199360]"
      ]
     },
     "execution_count": 16,
     "metadata": {},
     "output_type": "execute_result"
    }
   ],
   "source": [
    "top_10_amounts = sorted_enrollment[0:10] #SOLUTION\n",
    "top_10_amounts"
   ]
  },
  {
   "cell_type": "markdown",
   "metadata": {},
   "source": [
    "With the top ten values, we can find out where they were in the original list to find the correct corresponding states. To do this, we can use a for loop that goes through each \"row\" of our table and adding the state to our top ten list if its enrollment value corresponds to our state."
   ]
  },
  {
   "cell_type": "code",
   "execution_count": 17,
   "metadata": {},
   "outputs": [
    {
     "data": {
      "text/plain": [
       "{'California': 1009492,\n",
       " 'Florida': 450624,\n",
       " 'Georgia': 217695,\n",
       " 'Illinois': 199360,\n",
       " 'Michigan': 213964,\n",
       " 'New York': 416173,\n",
       " 'North Carolina': 221719,\n",
       " 'Ohio': 208955,\n",
       " 'Pennsylvania': 218188,\n",
       " 'Texas': 746246}"
      ]
     },
     "execution_count": 17,
     "metadata": {},
     "output_type": "execute_result"
    }
   ],
   "source": [
    "top_state_enrollments = {}\n",
    "num_states = len(WIC_States_and_Tribes[\"State/Indian Tribe\"]) # number of states\n",
    "for i in range(num_states):\n",
    "    state = WIC_States_and_Tribes[\"State/Indian Tribe\"][i] # get state at row\n",
    "    enrollment = WIC_States_and_Tribes[\"Total Enrollment\"][i] # get enrollment at row\n",
    "    if enrollment in top_10_amounts:\n",
    "        top_state_enrollments[state] = enrollment\n",
    "        \n",
    "top_state_enrollments"
   ]
  },
  {
   "cell_type": "markdown",
   "metadata": {},
   "source": [
    "Now that we have the indices of the top ten enrollment counts, we can index into the state_names list to get the corresponding state names to these counts. Use a forloop to obtain the values."
   ]
  },
  {
   "cell_type": "markdown",
   "metadata": {},
   "source": [
    "Hooray! At this point, we have both the top ten enrollment counts and the state names that correspond to those counts. Let's make a new table using the `visualize_table()` function to see values look like side by side. Start this by making a dictionary of the values using the variable we just found in this section."
   ]
  },
  {
   "cell_type": "code",
   "execution_count": 18,
   "metadata": {},
   "outputs": [],
   "source": [
    "top_states = list(top_state_enrollments.keys())\n",
    "top_enrollments = list(top_state_enrollments.values())\n",
    "top_state_and_value = {'State': top_states, \"Enrollment\": top_enrollments}"
   ]
  },
  {
   "cell_type": "code",
   "execution_count": 19,
   "metadata": {},
   "outputs": [
    {
     "name": "stdout",
     "output_type": "stream",
     "text": [
      "            State  Enrollment\n",
      "0      California     1009492\n",
      "1         Florida      450624\n",
      "2         Georgia      217695\n",
      "3        Illinois      199360\n",
      "4        Michigan      213964\n",
      "5        New York      416173\n",
      "6  North Carolina      221719\n",
      "7            Ohio      208955\n",
      "8    Pennsylvania      218188\n",
      "9           Texas      746246\n"
     ]
    }
   ],
   "source": [
    "visualize_table(top_state_and_value)"
   ]
  },
  {
   "cell_type": "markdown",
   "metadata": {},
   "source": [
    "We can see the table we have made up to this point, and we are able to use this information to plot the different states against each other. This is helpful, because we can understand how frequently people need help in some states versus others."
   ]
  },
  {
   "cell_type": "code",
   "execution_count": 20,
   "metadata": {},
   "outputs": [
    {
     "data": {
      "image/png": "[encoded data removed]",
      "text/plain": [
       "<Figure size 432x288 with 1 Axes>"
      ]
     },
     "metadata": {
      "needs_background": "light"
     },
     "output_type": "display_data"
    }
   ],
   "source": [
    "bar(top_state_and_value, 'State', \"Enrollment\")"
   ]
  },
  {
   "cell_type": "markdown",
   "metadata": {},
   "source": [
    "In the bar chart, we can see that California has the largest enrollment in WIC as 1,009,492 people use these services. The next state is Texas and has around 250,000 fewer people enrolled. How is the difference between the enrollment of each state so far apart. Something to consider is the size of the population. California has over 39 million people within the state at this time, while Texas has around 27 million people. Based on the different population sizes we would expect California to have more people enrolled.\n"
   ]
  },
  {
   "cell_type": "code",
   "execution_count": null,
   "metadata": {},
   "outputs": [],
   "source": []
  }
 ],
 "metadata": {
  "kernelspec": {
   "display_name": "Python 3",
   "language": "python",
   "name": "python3"
  },
  "language_info": {
   "codemirror_mode": {
    "name": "ipython",
    "version": 3
   },
   "file_extension": ".py",
   "mimetype": "text/x-python",
   "name": "python",
   "nbconvert_exporter": "python",
   "pygments_lexer": "ipython3",
   "version": "3.8.2"
  }
 },
 "nbformat": 4,
 "nbformat_minor": 2
}
