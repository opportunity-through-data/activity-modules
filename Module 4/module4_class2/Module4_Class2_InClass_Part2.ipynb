{
 "cells": [
  {
   "cell_type": "markdown",
   "metadata": {},
   "source": [
    "# Activity 4: Sampling!"
   ]
  },
  {
   "cell_type": "markdown",
   "metadata": {},
   "source": [
    "## Problem 1: Conditional Statements"
   ]
  },
  {
   "cell_type": "markdown",
   "metadata": {
    "collapsed": true
   },
   "source": [
    "We can use conditionals to further impose restrictions on what parts of our code are executed or only allow some actions to be taken when certain conditions are met! Let's review the syntax we learnt earlier. Recall that we use the **if** statement to specify what our condition should be. When this condition evaluates to true, the program will execute the block of code under that if statement. You can also choose to specify an **else** statement and provide alternate instructions for what you want the program to do if the condition evaluates to false. "
   ]
  },
  {
   "cell_type": "code",
   "execution_count": 15,
   "metadata": {
    "collapsed": true
   },
   "outputs": [],
   "source": [
    "#if (condition):\n",
    "#    code to execute\n",
    "# else:\n",
    "#    alternate code to execute"
   ]
  },
  {
   "cell_type": "markdown",
   "metadata": {},
   "source": [
    "Now, suppose we want to compare how many participants there were in the WIC program in Alabama in December 2018 vs. November 2018, and check whether this number increased or decreased."
   ]
  },
  {
   "cell_type": "code",
   "execution_count": 1,
   "metadata": {},
   "outputs": [
    {
     "name": "stdout",
     "output_type": "stream",
     "text": [
      "Decrease in program participants!\n"
     ]
    }
   ],
   "source": [
    "alabama_december_2018 = 115036\n",
    "alabama_november_2018 = 117518\n",
    "\n",
    "#SOLUTION\n",
    "if ...:\n",
    "    print(...)\n",
    "else:\n",
    "    print(...)"
   ]
  },
  {
   "cell_type": "markdown",
   "metadata": {},
   "source": [
    "We can also have multiple conditions that we can check for using **if** and **elif** statements! If the condition specified in the if(condition1...) statement is false, the program moves down to the elif(condition2...) statement and checks it. We can choose to have as many elif statements as needed. "
   ]
  },
  {
   "cell_type": "code",
   "execution_count": 2,
   "metadata": {},
   "outputs": [],
   "source": [
    "#if (condition 1):\n",
    "#    code to execute for condition 1\n",
    "#elif (condiiton 2):\n",
    "#    code to execute for condition 2\n",
    "#elif (condition 3):\n",
    "#    ....\n",
    "# elif:\n",
    "#    alternate code to execute if none of the conditions are met"
   ]
  },
  {
   "cell_type": "markdown",
   "metadata": {},
   "source": [
    "Now suppose we want to check which state among California, Georgia, and Illinois had the largest **magnitude** of change from December 2017 to December 2018. Below, we've entered the numbers for you. Try calculating the change in number of program participants and check which state has the largest absolute change! Note that you can combine conditions using **and** if you want two or more conditions to **all** be satisfied, or **or** if **at least one** should be satisfied."
   ]
  },
  {
   "cell_type": "code",
   "execution_count": 3,
   "metadata": {},
   "outputs": [
    {
     "name": "stdout",
     "output_type": "stream",
     "text": [
      "California had the most change.\n"
     ]
    }
   ],
   "source": [
    "california_dec_2017 = 993706\n",
    "california_dec_2018 = 926600\n",
    "\n",
    "georgia_dec_2017 = 219881\n",
    "georgia_dec_2018 = 199837\n",
    "\n",
    "illinois_dec_2017 = 199365\n",
    "illinois_dec_2018 = 182419\n",
    "\n",
    "california_change = ...\n",
    "georgia_change = ...\n",
    "illinois_change = ...\n",
    "\n",
    "if ...:\n",
    "    print(\"California had the most change.\")\n",
    "elif ...:\n",
    "    print(\"Georgia had the most change.\")\n",
    "else:\n",
    "    print(\"Illinois had the most change.\")"
   ]
  },
  {
   "cell_type": "markdown",
   "metadata": {},
   "source": [
    "You can also choose to **nest** if-else statements. You can use this in a situation when you want different parts of the code under a particular if statement to be executed under different conditions. Can we rewrite our program from the previous part using nested if-else statements?"
   ]
  },
  {
   "cell_type": "code",
   "execution_count": 4,
   "metadata": {},
   "outputs": [
    {
     "name": "stdout",
     "output_type": "stream",
     "text": [
      "California had the most change.\n"
     ]
    }
   ],
   "source": [
    "if ...:\n",
    "    if ...:\n",
    "        print(...)\n",
    "    else:\n",
    "        print(...)\n",
    "else:\n",
    "    if ...:\n",
    "        print(...)\n",
    "    else:\n",
    "        print(...)"
   ]
  },
  {
   "cell_type": "code",
   "execution_count": null,
   "metadata": {
    "collapsed": true
   },
   "outputs": [],
   "source": []
  }
 ],
 "metadata": {
  "kernelspec": {
   "display_name": "Python 3",
   "language": "python",
   "name": "python3"
  },
  "language_info": {
   "codemirror_mode": {
    "name": "ipython",
    "version": 3
   },
   "file_extension": ".py",
   "mimetype": "text/x-python",
   "name": "python",
   "nbconvert_exporter": "python",
   "pygments_lexer": "ipython3",
   "version": "3.8.2"
  }
 },
 "nbformat": 4,
 "nbformat_minor": 2
}
