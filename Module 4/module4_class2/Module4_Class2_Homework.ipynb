{
 "cells": [
  {
   "cell_type": "markdown",
   "metadata": {},
   "source": [
    "# Module 4 Class 2 Homework"
   ]
  },
  {
   "cell_type": "markdown",
   "metadata": {},
   "source": [
    "Hello! Like previously, this assignment will not be collected or graded, but it is just meant to give you extra practice on the material in Module 4. \n",
    "\n",
    "For reference, here is a link to Module 4 in the textbook: https://otd.gitbook.io/book/module-4/programming-logic"
   ]
  },
  {
   "cell_type": "markdown",
   "metadata": {},
   "source": [
    "### Question 1: Conditonals"
   ]
  },
  {
   "cell_type": "markdown",
   "metadata": {},
   "source": [
    "#### Question 1: Part A"
   ]
  },
  {
   "cell_type": "markdown",
   "metadata": {},
   "source": [
    "Let's get started with conditionals!\n",
    "\n",
    "For this conditional, we are using the month of someone's birthday to see if they were born in winter, spring, summer or fall! Each month will correspond to a number (January = 1, February = 2, ...)."
   ]
  },
  {
   "cell_type": "markdown",
   "metadata": {},
   "source": [
    "Fill in the code below. Keep in mind winter is December, January, and Febrary, spring is March, April, and May, summer is June, July, and August, and fall is September, October, and November."
   ]
  },
  {
   "cell_type": "code",
   "execution_count": null,
   "metadata": {},
   "outputs": [],
   "source": [
    "birthday_month = ...\n",
    "\n",
    "if birthday_month <= ... or birthday_month == ...:\n",
    "    print(\"You have a winter birthday\")\n",
    "elif birthday_month >= ... and birthday_month <= ...:\n",
    "    print(\"You have a spring birthday\")\n",
    "elif birthday_month >= ... and birthday_month <= ...:\n",
    "    print(\"You have a summer birthday\")\n",
    "else: \n",
    "    print(\"You have a fall birthday\")\n"
   ]
  },
  {
   "cell_type": "markdown",
   "metadata": {},
   "source": [
    "For each of the following months, what would be printed?\n",
    "\n",
    "    a. December\n",
    "    b. June\n",
    "    c. October\n",
    "    c. Your birth month? \n"
   ]
  },
  {
   "cell_type": "markdown",
   "metadata": {},
   "source": [
    "#### Question 1: Part B"
   ]
  },
  {
   "cell_type": "markdown",
   "metadata": {},
   "source": [
    "This question will combine knowledge of logical and artithmetic operators and conditionals. \n",
    "\n",
    "Suppose we have the following code:"
   ]
  },
  {
   "cell_type": "code",
   "execution_count": null,
   "metadata": {},
   "outputs": [],
   "source": [
    "birth_year = ...\n",
    "\n",
    "if birth_year >= 1946 and birth_year <=1980:\n",
    "    if birth_year <= 1964:\n",
    "        print(\"OK Boomer!!!\")\n",
    "    else:\n",
    "        print(\"Gen X\")\n",
    "    \n",
    "elif birth_year > 1980 and birth_year <= 1996:\n",
    "    print(\"Millenial\")\n",
    "    \n",
    "elif birth_year > 1996 and birth_year <= 2009:\n",
    "    print(\"Gen Z!\")\n",
    "    \n",
    "else:\n",
    "    print(\"Gen Alpha\")"
   ]
  },
  {
   "cell_type": "markdown",
   "metadata": {},
   "source": [
    "For each of the following birth years, what would be printed?\n",
    "\n",
    "    a) 1988\n",
    "    b) 2015\n",
    "    c) 1946\n",
    "    d) 1980\n",
    "    e) 2001\n",
    "\n",
    "*To check your answers, set birth_year equal to the year you are considering and run the cell above!*"
   ]
  },
  {
   "cell_type": "markdown",
   "metadata": {},
   "source": [
    "#### Question 1: Part C"
   ]
  },
  {
   "cell_type": "markdown",
   "metadata": {},
   "source": [
    "Lets make our own conditional code to find the maximum of three numbers without using the maximum function! Fill in the code below! \n",
    "Once you are done filling in your code, put values in for x, y, and z and see if your conditional statements give you the correct answer!"
   ]
  },
  {
   "cell_type": "code",
   "execution_count": null,
   "metadata": {},
   "outputs": [],
   "source": [
    "x = ...\n",
    "y = ...\n",
    "z = ...\n",
    "if x > y:\n",
    "    if x > z:\n",
    "        maximum = ...\n",
    "    else:\n",
    "        maximum = ...\n",
    "else: \n",
    "    if y > z:\n",
    "        maximum = ...\n",
    "    else:\n",
    "        maximum = ...\n",
    "maximum"
   ]
  },
  {
   "cell_type": "code",
   "execution_count": null,
   "metadata": {},
   "outputs": [],
   "source": []
  }
 ],
 "metadata": {
  "kernelspec": {
   "display_name": "Python 3",
   "language": "python",
   "name": "python3"
  },
  "language_info": {
   "codemirror_mode": {
    "name": "ipython",
    "version": 3
   },
   "file_extension": ".py",
   "mimetype": "text/x-python",
   "name": "python",
   "nbconvert_exporter": "python",
   "pygments_lexer": "ipython3",
   "version": "3.8.2"
  }
 },
 "nbformat": 4,
 "nbformat_minor": 4
}
