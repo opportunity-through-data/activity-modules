{
 "cells": [
  {
   "cell_type": "markdown",
   "metadata": {},
   "source": [
    "# Activity 4: Data Analysis!"
   ]
  },
  {
   "cell_type": "markdown",
   "metadata": {},
   "source": [
    "## Overview"
   ]
  },
  {
   "cell_type": "markdown",
   "metadata": {},
   "source": [
    "For this activity, we are going to be using data on the WIC (Women, Infants, and Children) supplemental nutrition program. Our data contains the state and/or tribe and the number of people enrolled in the program in a given year.\n",
    "\n",
    "You don't need to know what next few lines of code are doing, but in essence, they're reading in a table from a file! We'll talk more about how data is stored soon, but we often transport data from one place to another in CSV (comma-separated value) format. Since we're looking at real data here, we're reading in from a CSV file!\n",
    "\n",
    "We got this data from https://catalog.data.gov/dataset/women-infants-and-children-wic-participating-and-cost-data\n"
   ]
  },
  {
   "cell_type": "code",
   "execution_count": null,
   "metadata": {},
   "outputs": [],
   "source": [
    "from otd_util import *"
   ]
  },
  {
   "cell_type": "code",
   "execution_count": null,
   "metadata": {},
   "outputs": [],
   "source": [
    "WIC_States_and_Tribes_Data = read_table('WIC_Participation_edited.csv', columns=[0, 5], column_names={'FY 2018':'Total Enrollment', \"State / Indian Tribe         \":'State/Indian Tribe'})\n",
    "WIC_States_and_Tribes = {'State/Indian Tribe': list(WIC_States_and_Tribes_Data['State/Indian Tribe']), 'Total Enrollment': list(WIC_States_and_Tribes_Data['Total Enrollment'])}"
   ]
  },
  {
   "cell_type": "markdown",
   "metadata": {},
   "source": [
    "## Problem 1: Loops"
   ]
  },
  {
   "cell_type": "markdown",
   "metadata": {},
   "source": [
    "Loops can help us perform the same set of actions on multiple pieces of data! We will use loops to filter data and remove pieces we don't want or modify data to make is easier for us to use. \n",
    "\n",
    "Let's take a look at the data we have first. We have two columns: `State/Indian Tribe` and `Total Enrollment`."
   ]
  },
  {
   "cell_type": "code",
   "execution_count": null,
   "metadata": {},
   "outputs": [],
   "source": [
    "visualize_table(WIC_States_and_Tribes)"
   ]
  },
  {
   "cell_type": "markdown",
   "metadata": {},
   "source": [
    "In the cell above we have downloaded a table that shows us each state and Native American tribe in the country and their respective enrollment in the WIC program. "
   ]
  },
  {
   "cell_type": "markdown",
   "metadata": {},
   "source": [
    "As you may recall from Module 2, a table is made up of columns. The table we are using has two columns named 'Total Enrollment' and 'State / Indian Tribe'. Each column is a list with every piece of data about a certain topic. We can use square brackets like these [] to view the columns in a table in list form. "
   ]
  },
  {
   "cell_type": "code",
   "execution_count": null,
   "metadata": {},
   "outputs": [],
   "source": [
    "WIC_States_and_Tribes[\"Total Enrollment\"]"
   ]
  },
  {
   "cell_type": "markdown",
   "metadata": {},
   "source": [
    "Remember when we learned about data types? The four data types we talked about are: integers, strings, floats, and booleans. Look back in the textbook if you do not remember what these are. "
   ]
  },
  {
   "cell_type": "markdown",
   "metadata": {},
   "source": [
    "It is good practice to check what kind of data you are working with so you know what kind of tools you can use on it. A good rule of thumb is for data in 'words' (like the names of states and tribes) to be in strings while data in 'numbers' (like the total enrollment) would be in integers. You can use the type() function to check the type of a single piece of data. "
   ]
  },
  {
   "cell_type": "code",
   "execution_count": null,
   "metadata": {},
   "outputs": [],
   "source": [
    "type('this is a string')"
   ]
  },
  {
   "cell_type": "markdown",
   "metadata": {},
   "source": [
    "Let's check what type of data the 'State / Indian Tribe' column has by using the type() function on its first element!"
   ]
  },
  {
   "cell_type": "code",
   "execution_count": null,
   "metadata": {},
   "outputs": [],
   "source": [
    "type(WIC_States_and_Tribes[\"State/Indian Tribe\"][0])"
   ]
  },
  {
   "cell_type": "markdown",
   "metadata": {},
   "source": [
    "Now, let's look at the type of data in the 'Total Enrollment' column:"
   ]
  },
  {
   "cell_type": "code",
   "execution_count": null,
   "metadata": {},
   "outputs": [],
   "source": [
    "type(WIC_States_and_Tribes[\"Total Enrollment\"][0])"
   ]
  },
  {
   "cell_type": "markdown",
   "metadata": {},
   "source": [
    "Oh no! The data in this column is in strings instead of integers. Don't worry! We can use a for loop to change the type of every element in the column into an integer by applying the int() function to each value in the column."
   ]
  },
  {
   "cell_type": "code",
   "execution_count": null,
   "metadata": {},
   "outputs": [],
   "source": [
    "int('10')"
   ]
  },
  {
   "cell_type": "markdown",
   "metadata": {},
   "source": [
    "However, this might have issues when there are commas in the data. What happens when the following cell is run?"
   ]
  },
  {
   "cell_type": "code",
   "execution_count": null,
   "metadata": {},
   "outputs": [],
   "source": [
    "int('10,000')"
   ]
  },
  {
   "cell_type": "markdown",
   "metadata": {},
   "source": [
    "So let's try removing the commas from our number string and turning that into an integer:"
   ]
  },
  {
   "cell_type": "code",
   "execution_count": null,
   "metadata": {},
   "outputs": [],
   "source": [
    "no_commas = '10,000'.replace(',', '')\n",
    "int(no_commas)"
   ]
  },
  {
   "cell_type": "markdown",
   "metadata": {},
   "source": [
    "Now, let's try doing this in a loop to get a new list where all of the values are numbers!"
   ]
  },
  {
   "cell_type": "code",
   "execution_count": null,
   "metadata": {},
   "outputs": [],
   "source": [
    "integer_enrollment = []\n",
    "\n",
    "for num in WIC_States_and_Tribes[\"Total Enrollment\"]:\n",
    "    no_commas = ... # Fill in your code here! Hint: Think about what we did in the above cell \n",
    "    integer_enrollment.append(...) # Fill in your code here!\n",
    "\n",
    "print(integer_enrollment)"
   ]
  },
  {
   "cell_type": "markdown",
   "metadata": {},
   "source": [
    "Our table currently shows us the number of people enrolled in WIC by state and by Native American Tribe. Since the state counts include tribe counts, let's try removing all the Tribe counts in the table. "
   ]
  },
  {
   "cell_type": "markdown",
   "metadata": {},
   "source": [
    "How do we tell Python which rows are tribe counts and which are state counts? Notice that the tribe counts have a space at the beginning of the names. For example, the one of the first Tribe entries is `' Navajo Nation'`. We need to constuct a filter that goes through every entry in the data table and removes ones that start with a space. We can do this using a loop. "
   ]
  },
  {
   "cell_type": "code",
   "execution_count": null,
   "metadata": {},
   "outputs": [],
   "source": [
    "WIC_States_and_Tribes[\"State/Indian Tribe\"][5]"
   ]
  },
  {
   "cell_type": "code",
   "execution_count": null,
   "metadata": {},
   "outputs": [],
   "source": [
    "state_names = []\n",
    "corresponding_numbers = []\n",
    "\n",
    "index_value = 0\n",
    "\n",
    "for state in ...: # Fill in your code here! What do you want to be indexing through?\n",
    "    if state[0] != ' ': # This indexes a string to get the first charecter\n",
    "        ... # Fill in your code here!\n",
    "        corresponding_numbers.append(...) # Fill in your code here!\n",
    "        \n",
    "    index_value += 1"
   ]
  },
  {
   "cell_type": "markdown",
   "metadata": {},
   "source": [
    "Now, let's replace our old `Total Enrollment` and `State/Indian Tribe` columns with our new lists!"
   ]
  },
  {
   "cell_type": "code",
   "execution_count": null,
   "metadata": {},
   "outputs": [],
   "source": [
    "WIC_States_and_Tribes[\"Total Enrollment\"] = corresponding_numbers\n",
    "WIC_States_and_Tribes[\"State/Indian Tribe\"] = state_names"
   ]
  },
  {
   "cell_type": "markdown",
   "metadata": {},
   "source": [
    "## Problem 2: Analysis"
   ]
  },
  {
   "cell_type": "markdown",
   "metadata": {},
   "source": [
    "### Analysis Part 1:"
   ]
  },
  {
   "cell_type": "markdown",
   "metadata": {},
   "source": [
    "In this next section, we will combine all the tools you have learned throughout this module to learn more about the data as a whole. You will be finding the top 10 states with largest enrollment in WIC programs and make a bar chart of the values."
   ]
  },
  {
   "cell_type": "markdown",
   "metadata": {},
   "source": [
    "We want to find the top 10 largest values within corresponding numbers. We can start by sorting the enrollment counts per state in descending order (largest to smallest). We can use the `sorted` function to sort a list; setting the `reverse` argument to `True` tells it to sort from largest to smallest."
   ]
  },
  {
   "cell_type": "code",
   "execution_count": null,
   "metadata": {},
   "outputs": [],
   "source": [
    "sorted_enrollment = sorted(WIC_States_and_Tribes[\"Total Enrollment\"], reverse = True) ## TEACH SORT IN LIST SECTION"
   ]
  },
  {
   "cell_type": "markdown",
   "metadata": {},
   "source": [
    "Now that the list is sorted from largest to smallest, assign the ten largest counts to the name `top_10_amounts` as a list."
   ]
  },
  {
   "cell_type": "code",
   "execution_count": null,
   "metadata": {},
   "outputs": [],
   "source": [
    "top_10_amounts = ... # Fill in your code here! How might you get the top 10 amounts using sorted_enrollment?\n",
    "top_10_amounts"
   ]
  },
  {
   "cell_type": "markdown",
   "metadata": {},
   "source": [
    "With the top ten values, we can find out where they were in the original list to find the correct corresponding states. To do this, we can use a for loop that goes through each \"row\" of our table and adding the state to our top ten list if its enrollment value corresponds to our state."
   ]
  },
  {
   "cell_type": "code",
   "execution_count": null,
   "metadata": {},
   "outputs": [],
   "source": [
    "top_state_enrollments = {}\n",
    "num_states = len(WIC_States_and_Tribes[\"State/Indian Tribe\"]) # number of states\n",
    "\n",
    "for i in range(num_states):\n",
    "    state = WIC_States_and_Tribes[\"State/Indian Tribe\"][i] # get state at row\n",
    "    enrollment = ... # Fill in your code here to get enrollment at row\n",
    "    \n",
    "    if ...: # When do you want to add to top_state_enrollments?\n",
    "        top_state_enrollments[state] = enrollment\n",
    "        \n",
    "top_state_enrollments"
   ]
  },
  {
   "cell_type": "markdown",
   "metadata": {},
   "source": [
    "Now that we have the indices of the top ten enrollment counts, we can index into the state_names list to get the corresponding state names to these counts. Use a forloop to obtain the values."
   ]
  },
  {
   "cell_type": "markdown",
   "metadata": {},
   "source": [
    "Hooray! At this point, we have both the top ten enrollment counts and the state names that correspond to those counts. Let's make a new table using the `visualize_table()` function to see values look like side by side. Start this by making a dictionary of the values using the variable we just found in this section."
   ]
  },
  {
   "cell_type": "code",
   "execution_count": null,
   "metadata": {},
   "outputs": [],
   "source": [
    "top_states = list(top_state_enrollments.keys())\n",
    "top_enrollments = list(top_state_enrollments.values())\n",
    "top_state_and_value = ... # Fill in your code here!"
   ]
  },
  {
   "cell_type": "code",
   "execution_count": null,
   "metadata": {},
   "outputs": [],
   "source": [
    "visualize_table(top_state_and_value)"
   ]
  },
  {
   "cell_type": "markdown",
   "metadata": {},
   "source": [
    "We can see the table we have made up to this point, and we are able to use this information to plot the different states against each other. This is helpful, because we can understand how frequently people need help in some states versus others."
   ]
  },
  {
   "cell_type": "code",
   "execution_count": null,
   "metadata": {},
   "outputs": [],
   "source": [
    "# Fill in the column names you used when creating top_state_and_value above!\n",
    "bar(top_state_and_value, ..., ...) "
   ]
  },
  {
   "cell_type": "markdown",
   "metadata": {},
   "source": [
    "In the bar chart, we can see that California has the largest enrollment in WIC as 1,009,492 people use these services. The next state is Texas and has around 250,000 fewer people enrolled. How is the difference between the enrollment of each state so far apart. Something to consider is the size of the population. California has over 39 million people within the state at this time, while Texas has around 27 million people. Based on the different population sizes we would expect California to have more people enrolled.\n"
   ]
  },
  {
   "cell_type": "code",
   "execution_count": null,
   "metadata": {},
   "outputs": [],
   "source": []
  }
 ],
 "metadata": {
  "kernelspec": {
   "display_name": "Python 3",
   "language": "python",
   "name": "python3"
  },
  "language_info": {
   "codemirror_mode": {
    "name": "ipython",
    "version": 3
   },
   "file_extension": ".py",
   "mimetype": "text/x-python",
   "name": "python",
   "nbconvert_exporter": "python",
   "pygments_lexer": "ipython3",
   "version": "3.8.2"
  }
 },
 "nbformat": 4,
 "nbformat_minor": 2
}
