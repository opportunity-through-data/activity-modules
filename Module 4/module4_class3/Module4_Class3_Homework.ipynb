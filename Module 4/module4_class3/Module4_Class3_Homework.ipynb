{
 "cells": [
  {
   "cell_type": "markdown",
   "metadata": {},
   "source": [
    "# Module 4 Class 3 Homework"
   ]
  },
  {
   "cell_type": "markdown",
   "metadata": {},
   "source": [
    "Hello! Like previously, this assignment will not be collected or graded, but it is just meant to give you extra practice on the material in Module 4 Class 3. \n",
    "\n",
    "For reference, here is a link to Module 4 in the textbook: https://otd.gitbook.io/book/module-4/programming-logic"
   ]
  },
  {
   "cell_type": "markdown",
   "metadata": {},
   "source": [
    "### Question 1: For loops"
   ]
  },
  {
   "cell_type": "markdown",
   "metadata": {},
   "source": [
    "Suppose we have the following dictionary. Remember from Module 2 that dictionaries contain key: value pairs. In the dictionary below, the keys (\"Succulent\", \"Fiddle Leaf\", \"Snake Plant\", etc.) are names of plants. The values associated with each key is the current height of the plant. For example, the dictionary indicates that succulent currently is two inches tall.   \n",
    "\n",
    "Run the cell below so you can use the list in later problems."
   ]
  },
  {
   "cell_type": "code",
   "execution_count": null,
   "metadata": {},
   "outputs": [],
   "source": [
    "plant_heights = {\"Succulent\": 2, \"Fiddle Leaf\": 40, \"Snake Plant\": 32, \"Cactus\": 4, \n",
    "                 \"Pothos\": 13, \"Spider Plant\": 9, \"Monstera\": 53, \"Yucca\": 49, \n",
    "                 \"Peperomia\": 3, \"Calathea\": 11, \"Orchid\": 14}"
   ]
  },
  {
   "cell_type": "markdown",
   "metadata": {},
   "source": [
    "Now, say we measured each plant's height and found that every plant has each grown 2 inches! Fill in the for loop below to update the height of each plant in our dictionary to reflect the new growth.     \n",
    "\n",
    "*Recall from Module 2 that you can use dictionary_name[key] to access the value at the specified key*"
   ]
  },
  {
   "cell_type": "code",
   "execution_count": null,
   "metadata": {},
   "outputs": [],
   "source": [
    "for x in ___________:\n",
    "    # Add 2 to plant_heights[x]\n",
    "    plant_heights[x] = ____________\n",
    "    "
   ]
  },
  {
   "cell_type": "markdown",
   "metadata": {},
   "source": [
    "Run the cell below to see the updated plant_heights dictionary!"
   ]
  },
  {
   "cell_type": "code",
   "execution_count": null,
   "metadata": {
    "scrolled": true
   },
   "outputs": [],
   "source": [
    "print(plant_heights)"
   ]
  },
  {
   "cell_type": "markdown",
   "metadata": {},
   "source": [
    "### Question 2: Bringing it All Together!"
   ]
  },
  {
   "cell_type": "markdown",
   "metadata": {},
   "source": [
    "The goal of this question is to combine all of the knowledge learned in this Module!\n",
    "\n",
    "Recall our plant_heights dictionary from question 1. Now, we want to figure out how many small, medium, and large plants we have.\n",
    "\n",
    "For this question, a plant is...\n",
    "\n",
    "    - small if its height is less or equal to 8 inches\n",
    "    - medium if its height is less than or equal to 20 inches\n",
    "    - large if its height is greater than 20 inches\n",
    "    \n",
    "We will use a for loop to iterate through the plant_heights dictionary. Inside the for loop, we can use conditionals and arithmetic operators to check whether the plant is small, medium, or large (depending on its height).\n",
    "\n",
    "The check for the small plant is done for you as an example."
   ]
  },
  {
   "cell_type": "code",
   "execution_count": null,
   "metadata": {},
   "outputs": [],
   "source": [
    "plant_heights = {\"Succulent\": 2, \"Fiddle Leaf\": 40, \"Snake Plant\": 32, \"Cactus\": 4, \n",
    "                 \"Pothos\": 13, \"Spider Plant\": 9, \"Monstera\": 53, \"Yucca\": 49, \"Peperomia\": 3,\n",
    "                 \"Calathea\": 11, \"Orchid\": 14}\n",
    "\n",
    "num_small_plants = 0\n",
    "num_med_plants = 0\n",
    "num_large_plants = 0\n",
    "\n",
    "for x in ___________:\n",
    "    \n",
    "    if plant_heights[x] <= 8:\n",
    "        num_small_plants = num_small_plants + 1\n",
    "    \n",
    "    elif ___________________:\n",
    "        ________________ = _________________\n",
    "        \n",
    "    # Hint for this part, if the plant is not small or medium, then what is it?\n",
    "    else:\n",
    "        ________________ = _________________\n",
    "        "
   ]
  },
  {
   "cell_type": "markdown",
   "metadata": {},
   "source": [
    "Run the cell below to print out the number of small, medium, and large plants we have in our collection!"
   ]
  },
  {
   "cell_type": "code",
   "execution_count": null,
   "metadata": {},
   "outputs": [],
   "source": [
    "print(\"Number of small plants: \")\n",
    "print(num_small_plants)\n",
    "print(\"\\n\")\n",
    "\n",
    "print(\"Number of medium plants: \")\n",
    "print(num_med_plants)\n",
    "print(\"\\n\")\n",
    "\n",
    "print(\"Number of large plants: \")\n",
    "print(num_large_plants)"
   ]
  },
  {
   "cell_type": "code",
   "execution_count": null,
   "metadata": {},
   "outputs": [],
   "source": []
  }
 ],
 "metadata": {
  "kernelspec": {
   "display_name": "Python 3",
   "language": "python",
   "name": "python3"
  },
  "language_info": {
   "codemirror_mode": {
    "name": "ipython",
    "version": 3
   },
   "file_extension": ".py",
   "mimetype": "text/x-python",
   "name": "python",
   "nbconvert_exporter": "python",
   "pygments_lexer": "ipython3",
   "version": "3.8.2"
  }
 },
 "nbformat": 4,
 "nbformat_minor": 4
}
