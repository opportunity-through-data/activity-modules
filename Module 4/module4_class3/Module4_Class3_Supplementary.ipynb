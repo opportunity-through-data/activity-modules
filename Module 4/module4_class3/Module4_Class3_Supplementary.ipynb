{
 "cells": [
  {
   "cell_type": "markdown",
   "metadata": {},
   "source": [
    "# Opportunity Through Data: Module Four"
   ]
  },
  {
   "cell_type": "markdown",
   "metadata": {},
   "source": [
    "## Lesson Three: Iteration"
   ]
  },
  {
   "cell_type": "markdown",
   "metadata": {},
   "source": [
    "Here are two ways of doing the same thing in the Python language."
   ]
  },
  {
   "cell_type": "code",
   "execution_count": null,
   "metadata": {},
   "outputs": [],
   "source": [
    "# This one does not use a for loop\n",
    "print(\"Hello!\")\n",
    "print(\"Hello!\")\n",
    "print(\"Hello!\")\n",
    "print(\"Hello!\")\n",
    "print(\"Hello!\")"
   ]
  },
  {
   "cell_type": "code",
   "execution_count": null,
   "metadata": {},
   "outputs": [],
   "source": [
    "# This one does use a for loop - see how much shorter it is?\n",
    "for i in range(5):\n",
    "    print(\"Hello!\")"
   ]
  },
  {
   "cell_type": "markdown",
   "metadata": {},
   "source": [
    "Which one seems more efficient to you? When using a for loop in Python, your code not only looks much nicer but is much more efficient for the programmer."
   ]
  },
  {
   "cell_type": "code",
   "execution_count": null,
   "metadata": {},
   "outputs": [],
   "source": [
    "# for loops can help you avoid repeating code - here is an example\n",
    "students = ['Sarah', 'Bob', 'Jen', 'Steven', 'Mark', 'Rose']\n",
    "for student in students:\n",
    "    print('Hi, my name is: ' + student)"
   ]
  },
  {
   "cell_type": "markdown",
   "metadata": {},
   "source": [
    "We are also able to iterate through a range of numbers."
   ]
  },
  {
   "cell_type": "code",
   "execution_count": null,
   "metadata": {},
   "outputs": [],
   "source": [
    "# shows that range(a, b) goes from a to b-1\n",
    "for j in range(10,20):\n",
    "    print(j)"
   ]
  },
  {
   "cell_type": "code",
   "execution_count": null,
   "metadata": {},
   "outputs": [],
   "source": [
    "# one application of for loops\n",
    "numbers = [5,2,7,1,4,6]\n",
    "total = 0\n",
    "for k in numbers:\n",
    "    total = total + k\n",
    "    \n",
    "total"
   ]
  },
  {
   "cell_type": "markdown",
   "metadata": {},
   "source": [
    "## A Final Example"
   ]
  },
  {
   "cell_type": "markdown",
   "metadata": {},
   "source": [
    "All three of the above topics fit well together when applied to a more realistic situation such as a dice roll. Let's use the techniques that we just learned about programming logic to complete a final, cumulative example."
   ]
  },
  {
   "cell_type": "code",
   "execution_count": null,
   "metadata": {},
   "outputs": [],
   "source": [
    "# Setting up a random function! You don't need to know what this code does \n",
    "# The `dice_roll` acts like you are rolling a random, 6-sided die!\n",
    "\n",
    "from random import *\n",
    "\n",
    "def die_roll():\n",
    "    return randint(1,6)"
   ]
  },
  {
   "cell_type": "code",
   "execution_count": null,
   "metadata": {},
   "outputs": [],
   "source": [
    "# We are going to count the fraction of ones when we roll a die\n",
    "\n",
    "count = 0\n",
    "for i in range(10000):\n",
    "    roll = die_roll()\n",
    "    if roll == 1:\n",
    "        count = count + 1\n",
    "\n",
    "print(count / 10000) #the proportion of ones\n"
   ]
  },
  {
   "cell_type": "markdown",
   "metadata": {},
   "source": [
    "Repurpose the following code (...) in order to achieve the desired result."
   ]
  },
  {
   "cell_type": "code",
   "execution_count": null,
   "metadata": {},
   "outputs": [],
   "source": [
    "# Try these exercises on your own\n",
    "\n",
    "# 1. Repurpose the above code so that it counts the fraction of even numbers\n",
    "\n",
    "count = 0\n",
    "for i in range(10000):\n",
    "    roll = die_roll()\n",
    "    if (...) == 0:\n",
    "        count = ...\n",
    "\n",
    "print(count / 10000) #the proportion of ones\n",
    "\n",
    "# 2. Repurpose the above code so that it counts the fraction of ones and sixes\n",
    "\n",
    "count = 0\n",
    "for i in range(10000):\n",
    "    roll = die_roll()\n",
    "    if ( ... or ... ):\n",
    "        count = ...\n",
    "\n",
    "print(count / 10000) #the proportion of ones"
   ]
  },
  {
   "cell_type": "markdown",
   "metadata": {},
   "source": [
    "## You've now complete Module 4 of Opportunity Through Data's Course!"
   ]
  },
  {
   "cell_type": "code",
   "execution_count": null,
   "metadata": {},
   "outputs": [],
   "source": []
  }
 ],
 "metadata": {
  "kernelspec": {
   "display_name": "Python 3",
   "language": "python",
   "name": "python3"
  },
  "language_info": {
   "codemirror_mode": {
    "name": "ipython",
    "version": 3
   },
   "file_extension": ".py",
   "mimetype": "text/x-python",
   "name": "python",
   "nbconvert_exporter": "python",
   "pygments_lexer": "ipython3",
   "version": "3.8.2"
  }
 },
 "nbformat": 4,
 "nbformat_minor": 2
}
