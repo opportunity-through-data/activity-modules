{
 "cells": [
  {
   "cell_type": "markdown",
   "metadata": {},
   "source": [
    "Looking for a dataset for this activity!\n",
    "\n",
    "Potential Ideas:\n",
    "- WICS data\n",
    "- SNAP data\n",
    "- transit data"
   ]
  },
  {
   "cell_type": "markdown",
   "metadata": {},
   "source": [
    "# Activity 4: Sampling!"
   ]
  },
  {
   "cell_type": "markdown",
   "metadata": {},
   "source": [
    "Topics covered:\n",
    "* Logical operators \n",
    "* Conditional statements (if / else)\n",
    "* Loops (for loops)\n",
    "* Analysis "
   ]
  },
  {
   "cell_type": "markdown",
   "metadata": {},
   "source": [
    "## Overview"
   ]
  },
  {
   "cell_type": "markdown",
   "metadata": {},
   "source": [
    "We can load in the data we decide on here!"
   ]
  },
  {
   "cell_type": "code",
   "execution_count": 79,
   "metadata": {
    "collapsed": true
   },
   "outputs": [],
   "source": [
    "from otd_util import *\n",
    "\n",
    "import pandas as pd"
   ]
  },
  {
   "cell_type": "markdown",
   "metadata": {},
   "source": [
    "## Problem 1: Logical Operators"
   ]
  },
  {
   "cell_type": "markdown",
   "metadata": {},
   "source": [
    "Common logical operators we will use in the course are `==`, `!=`, `>`, `>=`, `<`, `<=`. We can use these to compare individual numbers or strings! This activity will deal with WIC (Women, Infants, and Children) data. Let's consider the data on a smaller scale. Say we are looking at women in the table, who make less than $20,000 a year. We can analyze how many dependents these women have. The first woman we find in the dataset has 4 dependents. "
   ]
  },
  {
   "cell_type": "code",
   "execution_count": 2,
   "metadata": {},
   "outputs": [
    {
     "data": {
      "text/plain": [
       "3"
      ]
     },
     "execution_count": 2,
     "metadata": {},
     "output_type": "execute_result"
    }
   ],
   "source": [
    "first_woman_dependents = 3\n",
    "first_woman_dependents"
   ]
  },
  {
   "cell_type": "markdown",
   "metadata": {},
   "source": [
    "For women with less than $21,330 annual income, having 3 dependents means they are below the Federal poverty guidelines in California. If we wanted to check the number of `first_woman_dependents` against the guideline we could write an inequality."
   ]
  },
  {
   "cell_type": "code",
   "execution_count": 3,
   "metadata": {},
   "outputs": [
    {
     "data": {
      "text/plain": [
       "True"
      ]
     },
     "execution_count": 3,
     "metadata": {},
     "output_type": "execute_result"
    }
   ],
   "source": [
    "first_woman_dependents >= 3"
   ]
  },
  {
   "cell_type": "markdown",
   "metadata": {},
   "source": [
    "Make another variable named `second_woman_dependents`, where the second woman has 1 dependents and makes the same amount of money as the first woman. Write an inequality to check whether she would meet the Federal poverty guidelines."
   ]
  },
  {
   "cell_type": "code",
   "execution_count": 4,
   "metadata": {},
   "outputs": [
    {
     "data": {
      "text/plain": [
       "1"
      ]
     },
     "execution_count": 4,
     "metadata": {},
     "output_type": "execute_result"
    }
   ],
   "source": [
    "... # PROMPT\n",
    "second_woman_dependents = 1 # SOLUTION\n",
    "second_woman_dependents"
   ]
  },
  {
   "cell_type": "code",
   "execution_count": 5,
   "metadata": {},
   "outputs": [
    {
     "data": {
      "text/plain": [
       "False"
      ]
     },
     "execution_count": 5,
     "metadata": {},
     "output_type": "execute_result"
    }
   ],
   "source": [
    "... # PROMPT\n",
    "second_woman_dependents >= 3 # SOLUTION"
   ]
  },
  {
   "cell_type": "markdown",
   "metadata": {},
   "source": [
    "What if we had a list of how many family members 10 different people had? Could we use the same operators? Try it out below using the list called `dependents`."
   ]
  },
  {
   "cell_type": "code",
   "execution_count": 6,
   "metadata": {},
   "outputs": [
    {
     "data": {
      "text/plain": [
       "[1, 3, 1, 5, 6, 2, 1, 2, 3, 4]"
      ]
     },
     "execution_count": 6,
     "metadata": {},
     "output_type": "execute_result"
    }
   ],
   "source": [
    "dependents = [1, 3, 1, 5, 6, 2, 1, 2, 3, 4] \n",
    "dependents"
   ]
  },
  {
   "cell_type": "code",
   "execution_count": 7,
   "metadata": {},
   "outputs": [
    {
     "ename": "TypeError",
     "evalue": "'>=' not supported between instances of 'list' and 'int'",
     "output_type": "error",
     "traceback": [
      "\u001b[0;31m---------------------------------------------------------------------------\u001b[0m",
      "\u001b[0;31mTypeError\u001b[0m                                 Traceback (most recent call last)",
      "\u001b[0;32m<ipython-input-7-b41dd79e345b>\u001b[0m in \u001b[0;36m<module>\u001b[0;34m()\u001b[0m\n\u001b[0;32m----> 1\u001b[0;31m \u001b[0mdependents\u001b[0m \u001b[0;34m>=\u001b[0m \u001b[0;36m3\u001b[0m \u001b[0;31m#SOLUTION\u001b[0m\u001b[0;34m\u001b[0m\u001b[0;34m\u001b[0m\u001b[0m\n\u001b[0m\u001b[1;32m      2\u001b[0m \u001b[0;34m\u001b[0m\u001b[0m\n\u001b[1;32m      3\u001b[0m \u001b[0;31m## THIS WILL ERROR!!!\u001b[0m\u001b[0;34m\u001b[0m\u001b[0;34m\u001b[0m\u001b[0;34m\u001b[0m\u001b[0m\n",
      "\u001b[0;31mTypeError\u001b[0m: '>=' not supported between instances of 'list' and 'int'"
     ]
    }
   ],
   "source": [
    "dependents >= 3 #SOLUTION\n",
    "\n",
    "## THIS WILL ERROR!!! "
   ]
  },
  {
   "cell_type": "markdown",
   "metadata": {},
   "source": [
    "We cannot check whether the elements inside the list meet the condition of being greater than or equal to 3. What happens if we wanted to check which of the women in the list had 3 children? What if we tried the statement below? What does the result mean?"
   ]
  },
  {
   "cell_type": "code",
   "execution_count": 8,
   "metadata": {},
   "outputs": [
    {
     "data": {
      "text/plain": [
       "False"
      ]
     },
     "execution_count": 8,
     "metadata": {},
     "output_type": "execute_result"
    }
   ],
   "source": [
    "dependents == 3"
   ]
  },
  {
   "cell_type": "markdown",
   "metadata": {},
   "source": [
    "**What happened above was that rather than check the elements in the list, Python checked if a list is the same as a number, which is False. This is something to keep in mind for future comparisons!**"
   ]
  },
  {
   "cell_type": "markdown",
   "metadata": {},
   "source": [
    "Another place you may use logical operators is on strings. Consider the case where we have a dictionary of dependent count paired with the names of women who have that number of dependents. "
   ]
  },
  {
   "cell_type": "code",
   "execution_count": 9,
   "metadata": {},
   "outputs": [
    {
     "data": {
      "text/plain": [
       "{'1': ['Jessica', 'Natasha A.'],\n",
       " '2': ['Whitney', 'Natasha B.'],\n",
       " '3': ['Danielle', 'Valerie'],\n",
       " '4': ['Chelsea', 'Karen'],\n",
       " '5+': ['Robin', 'Marissa']}"
      ]
     },
     "execution_count": 9,
     "metadata": {},
     "output_type": "execute_result"
    }
   ],
   "source": [
    "dependents_to_women = {'1':['Jessica', 'Natasha A.'], '2': ['Whitney', 'Natasha B.'], '3': ['Danielle', 'Valerie'], '4':['Chelsea', 'Karen'], '5+':['Robin', 'Marissa']}\n",
    "dependents_to_women"
   ]
  },
  {
   "cell_type": "markdown",
   "metadata": {},
   "source": [
    "By looking at the dictionary we see that there are two women with the same first name. Let's compare their names with the operators. First, make a variable called `one_dep` which contains all the values from the dictionary that match the key '1'. And make another variable called `two_dep` which contains all the values for the key '2'."
   ]
  },
  {
   "cell_type": "code",
   "execution_count": 10,
   "metadata": {},
   "outputs": [
    {
     "data": {
      "text/plain": [
       "['Jessica', 'Natasha A.']"
      ]
     },
     "execution_count": 10,
     "metadata": {},
     "output_type": "execute_result"
    }
   ],
   "source": [
    "... #PROMPT\n",
    "one_dep = dependents_to_women['1'] #SOLUTION\n",
    "one_dep"
   ]
  },
  {
   "cell_type": "code",
   "execution_count": 11,
   "metadata": {},
   "outputs": [
    {
     "data": {
      "text/plain": [
       "['Whitney', 'Natasha B.']"
      ]
     },
     "execution_count": 11,
     "metadata": {},
     "output_type": "execute_result"
    }
   ],
   "source": [
    "... #PROMPT\n",
    "two_dep = dependents_to_women['2'] #SOLUTION\n",
    "two_dep"
   ]
  },
  {
   "cell_type": "markdown",
   "metadata": {},
   "source": [
    "Using these variables compare the lists below. What is the result we expect to get? Double check that this matches your logic."
   ]
  },
  {
   "cell_type": "code",
   "execution_count": 12,
   "metadata": {},
   "outputs": [
    {
     "data": {
      "text/plain": [
       "False"
      ]
     },
     "execution_count": 12,
     "metadata": {},
     "output_type": "execute_result"
    }
   ],
   "source": [
    "one_dep == two_dep"
   ]
  },
  {
   "cell_type": "markdown",
   "metadata": {},
   "source": [
    "The result is false, because it is comparing whether the two lists contain the same values. However, the first woman in both of the lists is different, so the two lists are not equal. In the next cell, make two comparisons between the second element in each of the lists. You can use any operator you want, but get one to say `True` and another to say `False`. **Note: you must use the variables you created above.**"
   ]
  },
  {
   "cell_type": "code",
   "execution_count": 13,
   "metadata": {},
   "outputs": [
    {
     "data": {
      "text/plain": [
       "False"
      ]
     },
     "execution_count": 13,
     "metadata": {},
     "output_type": "execute_result"
    }
   ],
   "source": [
    "... #PROMPT\n",
    "# POSSIBLE SOLUTION\n",
    "one_dep[1] == two_dep[1]"
   ]
  },
  {
   "cell_type": "code",
   "execution_count": 14,
   "metadata": {},
   "outputs": [
    {
     "data": {
      "text/plain": [
       "True"
      ]
     },
     "execution_count": 14,
     "metadata": {},
     "output_type": "execute_result"
    }
   ],
   "source": [
    "... # PROMPT\n",
    "# POSSIBLE SOLUTION\n",
    "one_dep[1] <= two_dep[1]"
   ]
  },
  {
   "cell_type": "markdown",
   "metadata": {},
   "source": [
    "## Problem 2: Conditional Statements"
   ]
  },
  {
   "cell_type": "markdown",
   "metadata": {
    "collapsed": true
   },
   "source": [
    "We can use conditionals to further impose restrictions on what parts of our code are executed or only allow some actions to be taken when certain conditions are met! Let's review the syntax we learnt earlier. Recall that we use the **if** statement to specify what our condition should be. When this condition evaluates to true, the program will execute the block of code under that if statement. You can also choose to specify an **else** statement and provide alternate instructions for what you want the program to do if the condition evaluates to false. "
   ]
  },
  {
   "cell_type": "code",
   "execution_count": 15,
   "metadata": {
    "collapsed": true
   },
   "outputs": [],
   "source": [
    "#if (condition):\n",
    "#    code to execute\n",
    "# else:\n",
    "#    alternate code to execute"
   ]
  },
  {
   "cell_type": "markdown",
   "metadata": {},
   "source": [
    "Now, suppose we want to compare how many participants there were in the WIC program in Alabama in December 2018 vs. November 2018, and check whether this number increased or decreased."
   ]
  },
  {
   "cell_type": "code",
   "execution_count": 16,
   "metadata": {},
   "outputs": [
    {
     "name": "stdout",
     "output_type": "stream",
     "text": [
      "Decrease in program participants!\n"
     ]
    }
   ],
   "source": [
    "alabama_december_2018 = 115036\n",
    "alabama_november_2018 = 117518\n",
    "\n",
    "#SOLUTION\n",
    "if (alabama_december_2018 < alabama_november_2018):\n",
    "    print(\"Decrease in program participants!\")\n",
    "else:\n",
    "    print(\"Increase in program participants!\")"
   ]
  },
  {
   "cell_type": "markdown",
   "metadata": {},
   "source": [
    "We can also have multiple conditions that we can check for using **if** and **elif** statements! If the condition specified in the if(condition1...) statement is false, the program moves down to the elif(condition2...) statement and checks it. We can choose to have as many elif statements as needed. "
   ]
  },
  {
   "cell_type": "code",
   "execution_count": 17,
   "metadata": {
    "collapsed": true
   },
   "outputs": [],
   "source": [
    "#if (condition 1):\n",
    "#    code to execute for condition 1\n",
    "#elif (condiiton 2):\n",
    "#    code to execute for condition 2\n",
    "#elif (condition 3):\n",
    "#    ....\n",
    "# elif:\n",
    "#    alternate code to execute if none of the conditions are met"
   ]
  },
  {
   "cell_type": "markdown",
   "metadata": {},
   "source": [
    "Now suppose we want to check which state among California, Georgia, and Illinois had the largest **magnitude** of change from December 2017 to December 2018. Below, we've entered the numbers for you. Try calculating the change in number of program participants and check which state has the largest absolute change! Note that you can combine conditions using **and** if you want two or more conditions to **all** be satisfied, or **or** if **at least one** should be satisfied."
   ]
  },
  {
   "cell_type": "code",
   "execution_count": 18,
   "metadata": {},
   "outputs": [
    {
     "name": "stdout",
     "output_type": "stream",
     "text": [
      "California had the most change.\n"
     ]
    }
   ],
   "source": [
    "california_dec_2017 = 993706\n",
    "california_dec_2018 = 926600\n",
    "\n",
    "georgia_dec_2017 = 219881\n",
    "georgia_dec_2018 = 199837\n",
    "\n",
    "illinois_dec_2017 = 199365\n",
    "illinois_dec_2018 = 182419\n",
    "\n",
    "### SOLUTION ###\n",
    "california_change = abs(california_dec_2018 - california_dec_2017)\n",
    "georgia_change = abs(georgia_dec_2018 - georgia_dec_2017)\n",
    "illinois_change = abs(illinois_dec_2018 - illinois_dec_2017)\n",
    "\n",
    "if (california_change > georgia_change and california_change > illinois_change):\n",
    "    print(\"California had the most change.\")\n",
    "elif (georgia_change > california_change and georgia_change > illinois_change):\n",
    "    print(\"Georgia had the most change.\")\n",
    "else:\n",
    "    # Note that this automatically means if (illinois_change > california_change and illinois_change > georgia_change)\n",
    "    # Can you reason why?\n",
    "    print(\"Illinois had the most change.\")"
   ]
  },
  {
   "cell_type": "markdown",
   "metadata": {},
   "source": [
    "You can also choose to **nest** if-else statements. You can use this in a situation when you want different parts of the code under a particular if statement to be executed under different conditions. Can we rewrite our program from the previous part using nested if-else statements?"
   ]
  },
  {
   "cell_type": "code",
   "execution_count": 19,
   "metadata": {},
   "outputs": [
    {
     "name": "stdout",
     "output_type": "stream",
     "text": [
      "California had the most change.\n"
     ]
    }
   ],
   "source": [
    "### SOLUTION ###\n",
    "if (california_change > georgia_change):\n",
    "    if (california_change > illinois_change):\n",
    "        print(\"California had the most change.\")\n",
    "    else:\n",
    "        print(\"Illinois had the most change.\")\n",
    "else:\n",
    "    if (georgia_change > illinois_change):\n",
    "        print(\"Georgia had the most change.\")\n",
    "    else:\n",
    "        print(\"Illinois had the most change.\")"
   ]
  },
  {
   "cell_type": "markdown",
   "metadata": {},
   "source": [
    "## Problem 3: Loops"
   ]
  },
  {
   "cell_type": "markdown",
   "metadata": {},
   "source": [
    "Loops can help us perform the same set of actions on multiple pieces of data! We will use loops to filter data and remove pieces we don't want or modify data to make is easier for us to use. "
   ]
  },
  {
   "cell_type": "code",
   "execution_count": 20,
   "metadata": {},
   "outputs": [
    {
     "data": {
      "text/html": [
       "<div>\n",
       "<style>\n",
       "    .dataframe thead tr:only-child th {\n",
       "        text-align: right;\n",
       "    }\n",
       "\n",
       "    .dataframe thead th {\n",
       "        text-align: left;\n",
       "    }\n",
       "\n",
       "    .dataframe tbody tr th {\n",
       "        vertical-align: top;\n",
       "    }\n",
       "</style>\n",
       "<table border=\"1\" class=\"dataframe\">\n",
       "  <thead>\n",
       "    <tr style=\"text-align: right;\">\n",
       "      <th></th>\n",
       "      <th>State / Indian Tribe</th>\n",
       "      <th>FY 2018</th>\n",
       "    </tr>\n",
       "  </thead>\n",
       "  <tbody>\n",
       "    <tr>\n",
       "      <th>0</th>\n",
       "      <td>Alabama</td>\n",
       "      <td>120,605</td>\n",
       "    </tr>\n",
       "    <tr>\n",
       "      <th>1</th>\n",
       "      <td>Alaska</td>\n",
       "      <td>17,092</td>\n",
       "    </tr>\n",
       "    <tr>\n",
       "      <th>2</th>\n",
       "      <td>American Samoa</td>\n",
       "      <td>5,235</td>\n",
       "    </tr>\n",
       "    <tr>\n",
       "      <th>3</th>\n",
       "      <td>Arizona</td>\n",
       "      <td>149,513</td>\n",
       "    </tr>\n",
       "    <tr>\n",
       "      <th>4</th>\n",
       "      <td>Dept. of Health</td>\n",
       "      <td>133,547</td>\n",
       "    </tr>\n",
       "  </tbody>\n",
       "</table>\n",
       "</div>"
      ],
      "text/plain": [
       "  State / Indian Tribe           FY 2018\n",
       "0                       Alabama  120,605\n",
       "1                        Alaska   17,092\n",
       "2                American Samoa    5,235\n",
       "3                       Arizona  149,513\n",
       "4               Dept. of Health  133,547"
      ]
     },
     "execution_count": 20,
     "metadata": {},
     "output_type": "execute_result"
    }
   ],
   "source": [
    "#downloaded from https://catalog.data.gov/dataset/women-infants-and-children-wic-participating-and-cost-data\n",
    "WIC_States_and_Tribes = pd.read_csv('WIC_Participation_edited.csv', usecols = [0,5])\n",
    "#Index into table to get a list\n",
    "WIC_States_and_Tribes.head()"
   ]
  },
  {
   "cell_type": "code",
   "execution_count": 21,
   "metadata": {
    "collapsed": true
   },
   "outputs": [],
   "source": [
    "# EXPLAIN NEXT CELL BREAK DOWN FROM TABLE TO COLUMN TO ITEM AND WHAT TYPE FUNCTION DOES\n",
    "# EXPLAIN THAT IT IS GOOD DATA PRACTICE TO CHECK DATA TYPE BEFORE STARTING ANALYSIS"
   ]
  },
  {
   "cell_type": "code",
   "execution_count": 22,
   "metadata": {},
   "outputs": [
    {
     "data": {
      "text/plain": [
       "str"
      ]
     },
     "execution_count": 22,
     "metadata": {},
     "output_type": "execute_result"
    }
   ],
   "source": [
    "type(WIC_States_and_Tribes[\"FY 2018\"][0])"
   ]
  },
  {
   "cell_type": "code",
   "execution_count": 23,
   "metadata": {
    "collapsed": true
   },
   "outputs": [],
   "source": [
    "# WE NOTICED THEY ARE NOT NUMBERS AND WILL CHANGE IT BELOW"
   ]
  },
  {
   "cell_type": "code",
   "execution_count": 36,
   "metadata": {
    "collapsed": true
   },
   "outputs": [],
   "source": [
    "strings_wic = WIC_States_and_Tribes[\"FY 2018\"]\n",
    "str_to_num = []\n",
    "\n",
    "for i in strings_wic:\n",
    "    without_comma = i.replace(',', \"\")\n",
    "    str_to_num.append(int(without_comma))\n",
    "    "
   ]
  },
  {
   "cell_type": "markdown",
   "metadata": {},
   "source": [
    "This table shows us the number of people enrolled in WIC by state and by Native American Tribe. Since the state counts include the Tribe counts, lets perform a function to remove all the Tribe counts in the table. "
   ]
  },
  {
   "cell_type": "markdown",
   "metadata": {},
   "source": [
    "How do we tell Python which rows are Tribe counts and which are State counts? Notice that the tribe counts have a space at the beginning of the names. For example, the one of the first Tribe entries is ' Navajo Nation'. We need to constuct a filter that goes through every entry in the data table and removes ones that start with a space. We can do this using a loop. "
   ]
  },
  {
   "cell_type": "code",
   "execution_count": 56,
   "metadata": {
    "collapsed": true
   },
   "outputs": [],
   "source": [
    "state_names = []\n",
    "corresponding_numbers = []\n",
    "\n",
    "index_value = 0\n",
    "\n",
    "for i in WIC_States_and_Tribes[\"State / Indian Tribe         \"]: \n",
    "    \n",
    "    \n",
    "    if i[0] != ' ': #this indexes a string to get the first charecter\n",
    "        state_names.append(i)\n",
    "        corresponding_numbers.append(str_to_num[index_value])\n",
    "        \n",
    "    index_value += 1"
   ]
  },
  {
   "cell_type": "markdown",
   "metadata": {},
   "source": [
    "## Problem 4: Analysis"
   ]
  },
  {
   "cell_type": "markdown",
   "metadata": {},
   "source": [
    "In this next section, we will combine all the tools you have learned throughout the notebook to learn more about the data as a whole. There are two goals with this section:\n",
    "1. Find the top 10 states with largest enrollment in WIC programs and make a bar chart of the values.\n",
    "2. Find the relative enrollment in each state. (Optional: find the top 10 states using relative enrollment)"
   ]
  },
  {
   "cell_type": "markdown",
   "metadata": {},
   "source": [
    "Let's start approaching our first goal! We want to find the top 10 largest values within corresponding numbers. We can start by sorting the enrollment counts per state in descending order (largest to smallest)."
   ]
  },
  {
   "cell_type": "code",
   "execution_count": 81,
   "metadata": {},
   "outputs": [],
   "source": [
    "original_unsorted = corresponding_numbers.copy() \n",
    "corresponding_numbers.sort(reverse = True) ## TEACH SORT IN LIST SECTION"
   ]
  },
  {
   "cell_type": "markdown",
   "metadata": {},
   "source": [
    "Now that the list is sorted from largest to smallest, assign the ten largest counts to the name `top_10_amounts` as a list."
   ]
  },
  {
   "cell_type": "code",
   "execution_count": 82,
   "metadata": {},
   "outputs": [
    {
     "data": {
      "text/plain": [
       "[1009492,\n",
       " 746246,\n",
       " 450624,\n",
       " 416173,\n",
       " 221719,\n",
       " 218188,\n",
       " 217695,\n",
       " 213964,\n",
       " 208955,\n",
       " 199360]"
      ]
     },
     "execution_count": 82,
     "metadata": {},
     "output_type": "execute_result"
    }
   ],
   "source": [
    "top_10_amounts = corresponding_numbers[0:10] #SOLUTION\n",
    "top_10_amounts"
   ]
  },
  {
   "cell_type": "markdown",
   "metadata": {},
   "source": [
    "With the top ten values, we can find out where they were in the original list to find the correct corresponding states. To do this we need to create a for loop that gets the index from the `original_unsorted` list of each count in the top 10 amounts."
   ]
  },
  {
   "cell_type": "code",
   "execution_count": 59,
   "metadata": {},
   "outputs": [
    {
     "data": {
      "text/plain": [
       "[4, 43, 9, 32, 33, 38, 10, 22, 35, 13]"
      ]
     },
     "execution_count": 59,
     "metadata": {},
     "output_type": "execute_result"
    }
   ],
   "source": [
    "indices = []\n",
    "for i in top_10_amounts:\n",
    "     indices.append(original_unsorted.index(i))\n",
    "        \n",
    "indices"
   ]
  },
  {
   "cell_type": "markdown",
   "metadata": {},
   "source": [
    "Now that we have the indices of the top ten enrollment counts, we can index into the state_names list to get the corresponding state names to these counts. Use a forloop to obtain the values."
   ]
  },
  {
   "cell_type": "code",
   "execution_count": 83,
   "metadata": {},
   "outputs": [
    {
     "data": {
      "text/plain": [
       "['California',\n",
       " 'Texas',\n",
       " 'Florida',\n",
       " 'New York',\n",
       " 'North Carolina',\n",
       " 'Pennsylvania',\n",
       " 'Georgia',\n",
       " 'Michigan',\n",
       " 'Ohio',\n",
       " 'Illinois']"
      ]
     },
     "execution_count": 83,
     "metadata": {},
     "output_type": "execute_result"
    }
   ],
   "source": [
    "## SOLUTION\n",
    "top_states = []\n",
    "for i in indices:\n",
    "    top_states.append(state_names[i])\n",
    "top_states"
   ]
  },
  {
   "cell_type": "markdown",
   "metadata": {},
   "source": [
    "Hooray! At this point, we have both the top ten enrollment counts and the state names that correspond to those counts. Let's make a new table using the `visualize_table()` function to see values look like side by side. Start this by making a dictionary of the values using the variable we just found in this section."
   ]
  },
  {
   "cell_type": "code",
   "execution_count": 61,
   "metadata": {},
   "outputs": [
    {
     "data": {
      "text/plain": [
       "{'Enrollment': [1009492,\n",
       "  746246,\n",
       "  450624,\n",
       "  416173,\n",
       "  221719,\n",
       "  218188,\n",
       "  217695,\n",
       "  213964,\n",
       "  208955,\n",
       "  199360],\n",
       " 'State': ['California',\n",
       "  'Texas',\n",
       "  'Florida',\n",
       "  'New York',\n",
       "  'North Carolina',\n",
       "  'Pennsylvania',\n",
       "  'Georgia',\n",
       "  'Michigan',\n",
       "  'Ohio',\n",
       "  'Illinois']}"
      ]
     },
     "execution_count": 61,
     "metadata": {},
     "output_type": "execute_result"
    }
   ],
   "source": [
    "# PROMPT\n",
    "# top_state_and_value = {'State': ..., \"Enrollment\": ...}\n",
    "\n",
    "top_state_and_value = {'State': top_states, \"Enrollment\": top_10_amounts}\n",
    "top_state_and_value"
   ]
  },
  {
   "cell_type": "code",
   "execution_count": null,
   "metadata": {},
   "outputs": [],
   "source": [
    "visualize_table(top_state_and_value)"
   ]
  },
  {
   "cell_type": "markdown",
   "metadata": {},
   "source": [
    "We can see the table we have made up to this point, and we are able to use this information to plot the different states against each other. This is helpful, because we can understand how frequently people need help in some states versus others."
   ]
  },
  {
   "cell_type": "code",
   "execution_count": null,
   "metadata": {
    "collapsed": true
   },
   "outputs": [],
   "source": [
    "bar(top_state_and_value, 'State', \"Enrollment in WIC\")"
   ]
  },
  {
   "cell_type": "markdown",
   "metadata": {},
   "source": [
    "In the bar chart, we can see that California has the largest enrollment in WIC as 1,009,492 people use these services. The next state is Texas and has around 250,000 fewer people enrolled. How is the difference between the enrollment of each state so far apart. Something to consider is the size of the population. California has over 39 million people within the state at this time, while Texas has around 27 million people. Based on the different population sizes we would expect California to have more people enrolled.\n"
   ]
  },
  {
   "cell_type": "markdown",
   "metadata": {},
   "source": [
    "\n",
    "## Vivi's part starts below"
   ]
  },
  {
   "cell_type": "markdown",
   "metadata": {
    "collapsed": true
   },
   "source": [
    "The second goal is to find the relative enrollment by finding the proportion of people receiving aid in a state divided by the state's population.\n"
   ]
  },
  {
   "cell_type": "code",
   "execution_count": null,
   "metadata": {
    "collapsed": true
   },
   "outputs": [],
   "source": []
  },
  {
   "cell_type": "markdown",
   "metadata": {},
   "source": [
    "Now we have all the states with their counts of people enrolled. Lets find the states with more than X number of people in WIC."
   ]
  },
  {
   "cell_type": "code",
   "execution_count": 26,
   "metadata": {},
   "outputs": [
    {
     "data": {
      "text/html": [
       "<div>\n",
       "<style>\n",
       "    .dataframe thead tr:only-child th {\n",
       "        text-align: right;\n",
       "    }\n",
       "\n",
       "    .dataframe thead th {\n",
       "        text-align: left;\n",
       "    }\n",
       "\n",
       "    .dataframe tbody tr th {\n",
       "        vertical-align: top;\n",
       "    }\n",
       "</style>\n",
       "<table border=\"1\" class=\"dataframe\">\n",
       "  <thead>\n",
       "    <tr style=\"text-align: right;\">\n",
       "      <th></th>\n",
       "      <th>State / Indian Tribe</th>\n",
       "      <th>FY 2018</th>\n",
       "    </tr>\n",
       "  </thead>\n",
       "  <tbody>\n",
       "    <tr>\n",
       "      <th>0</th>\n",
       "      <td>Alabama</td>\n",
       "      <td>120,605</td>\n",
       "    </tr>\n",
       "    <tr>\n",
       "      <th>1</th>\n",
       "      <td>Alaska</td>\n",
       "      <td>17,092</td>\n",
       "    </tr>\n",
       "    <tr>\n",
       "      <th>2</th>\n",
       "      <td>American Samoa</td>\n",
       "      <td>5,235</td>\n",
       "    </tr>\n",
       "    <tr>\n",
       "      <th>3</th>\n",
       "      <td>Arizona</td>\n",
       "      <td>149,513</td>\n",
       "    </tr>\n",
       "    <tr>\n",
       "      <th>4</th>\n",
       "      <td>Dept. of Health</td>\n",
       "      <td>133,547</td>\n",
       "    </tr>\n",
       "    <tr>\n",
       "      <th>5</th>\n",
       "      <td>Navajo Nation</td>\n",
       "      <td>7,561</td>\n",
       "    </tr>\n",
       "    <tr>\n",
       "      <th>6</th>\n",
       "      <td>Inter-Tribal Council</td>\n",
       "      <td>8,406</td>\n",
       "    </tr>\n",
       "    <tr>\n",
       "      <th>7</th>\n",
       "      <td>Arkansas</td>\n",
       "      <td>73,607</td>\n",
       "    </tr>\n",
       "    <tr>\n",
       "      <th>8</th>\n",
       "      <td>California</td>\n",
       "      <td>1,009,492</td>\n",
       "    </tr>\n",
       "    <tr>\n",
       "      <th>9</th>\n",
       "      <td>Colorado</td>\n",
       "      <td>85,258</td>\n",
       "    </tr>\n",
       "    <tr>\n",
       "      <th>10</th>\n",
       "      <td>Dept. of Health</td>\n",
       "      <td>85,103</td>\n",
       "    </tr>\n",
       "    <tr>\n",
       "      <th>11</th>\n",
       "      <td>Ute Mountain Ute Tribe</td>\n",
       "      <td>155</td>\n",
       "    </tr>\n",
       "    <tr>\n",
       "      <th>12</th>\n",
       "      <td>Connecticut</td>\n",
       "      <td>47,297</td>\n",
       "    </tr>\n",
       "    <tr>\n",
       "      <th>13</th>\n",
       "      <td>Delaware</td>\n",
       "      <td>16,797</td>\n",
       "    </tr>\n",
       "    <tr>\n",
       "      <th>14</th>\n",
       "      <td>District of Columbia</td>\n",
       "      <td>12,466</td>\n",
       "    </tr>\n",
       "    <tr>\n",
       "      <th>15</th>\n",
       "      <td>Florida</td>\n",
       "      <td>450,624</td>\n",
       "    </tr>\n",
       "    <tr>\n",
       "      <th>16</th>\n",
       "      <td>Georgia</td>\n",
       "      <td>217,695</td>\n",
       "    </tr>\n",
       "    <tr>\n",
       "      <th>17</th>\n",
       "      <td>Guam</td>\n",
       "      <td>6,610</td>\n",
       "    </tr>\n",
       "    <tr>\n",
       "      <th>18</th>\n",
       "      <td>Hawaii</td>\n",
       "      <td>26,115</td>\n",
       "    </tr>\n",
       "    <tr>\n",
       "      <th>19</th>\n",
       "      <td>Idaho</td>\n",
       "      <td>33,717</td>\n",
       "    </tr>\n",
       "    <tr>\n",
       "      <th>20</th>\n",
       "      <td>Illinois</td>\n",
       "      <td>199,360</td>\n",
       "    </tr>\n",
       "    <tr>\n",
       "      <th>21</th>\n",
       "      <td>Indiana</td>\n",
       "      <td>143,730</td>\n",
       "    </tr>\n",
       "    <tr>\n",
       "      <th>22</th>\n",
       "      <td>Iowa</td>\n",
       "      <td>60,249</td>\n",
       "    </tr>\n",
       "    <tr>\n",
       "      <th>23</th>\n",
       "      <td>Kansas</td>\n",
       "      <td>50,681</td>\n",
       "    </tr>\n",
       "    <tr>\n",
       "      <th>24</th>\n",
       "      <td>Kentucky</td>\n",
       "      <td>101,743</td>\n",
       "    </tr>\n",
       "    <tr>\n",
       "      <th>25</th>\n",
       "      <td>Louisiana</td>\n",
       "      <td>112,362</td>\n",
       "    </tr>\n",
       "    <tr>\n",
       "      <th>26</th>\n",
       "      <td>Maine</td>\n",
       "      <td>18,320</td>\n",
       "    </tr>\n",
       "    <tr>\n",
       "      <th>27</th>\n",
       "      <td>Dept. of Human Services</td>\n",
       "      <td>18,200</td>\n",
       "    </tr>\n",
       "    <tr>\n",
       "      <th>28</th>\n",
       "      <td>Pleasant Point</td>\n",
       "      <td>61</td>\n",
       "    </tr>\n",
       "    <tr>\n",
       "      <th>29</th>\n",
       "      <td>Indian Township</td>\n",
       "      <td>60</td>\n",
       "    </tr>\n",
       "    <tr>\n",
       "      <th>...</th>\n",
       "      <td>...</td>\n",
       "      <td>...</td>\n",
       "    </tr>\n",
       "    <tr>\n",
       "      <th>73</th>\n",
       "      <td>Muscogee Creek Nation</td>\n",
       "      <td>2,373</td>\n",
       "    </tr>\n",
       "    <tr>\n",
       "      <th>74</th>\n",
       "      <td>Cherokee Nation</td>\n",
       "      <td>6,594</td>\n",
       "    </tr>\n",
       "    <tr>\n",
       "      <th>75</th>\n",
       "      <td>Citizen Potawatomi Nation</td>\n",
       "      <td>1,499</td>\n",
       "    </tr>\n",
       "    <tr>\n",
       "      <th>76</th>\n",
       "      <td>Osage Tribal Council</td>\n",
       "      <td>2,939</td>\n",
       "    </tr>\n",
       "    <tr>\n",
       "      <th>77</th>\n",
       "      <td>Otoe-Missouria Tribe</td>\n",
       "      <td>382</td>\n",
       "    </tr>\n",
       "    <tr>\n",
       "      <th>78</th>\n",
       "      <td>Inter-Tribal Council</td>\n",
       "      <td>723</td>\n",
       "    </tr>\n",
       "    <tr>\n",
       "      <th>79</th>\n",
       "      <td>Wichita, Caddo &amp; Delaware (WCD)</td>\n",
       "      <td>3,362</td>\n",
       "    </tr>\n",
       "    <tr>\n",
       "      <th>80</th>\n",
       "      <td>Oregon</td>\n",
       "      <td>85,774</td>\n",
       "    </tr>\n",
       "    <tr>\n",
       "      <th>81</th>\n",
       "      <td>Pennsylvania</td>\n",
       "      <td>218,188</td>\n",
       "    </tr>\n",
       "    <tr>\n",
       "      <th>82</th>\n",
       "      <td>Puerto Rico</td>\n",
       "      <td>112,709</td>\n",
       "    </tr>\n",
       "    <tr>\n",
       "      <th>83</th>\n",
       "      <td>Rhode Island</td>\n",
       "      <td>18,950</td>\n",
       "    </tr>\n",
       "    <tr>\n",
       "      <th>84</th>\n",
       "      <td>South Carolina</td>\n",
       "      <td>92,153</td>\n",
       "    </tr>\n",
       "    <tr>\n",
       "      <th>85</th>\n",
       "      <td>South Dakota</td>\n",
       "      <td>17,667</td>\n",
       "    </tr>\n",
       "    <tr>\n",
       "      <th>86</th>\n",
       "      <td>Dept. of Health</td>\n",
       "      <td>15,760</td>\n",
       "    </tr>\n",
       "    <tr>\n",
       "      <th>87</th>\n",
       "      <td>Cheyenne River Sioux</td>\n",
       "      <td>757</td>\n",
       "    </tr>\n",
       "    <tr>\n",
       "      <th>88</th>\n",
       "      <td>Rosebud Sioux</td>\n",
       "      <td>1,150</td>\n",
       "    </tr>\n",
       "    <tr>\n",
       "      <th>89</th>\n",
       "      <td>Tennessee</td>\n",
       "      <td>127,814</td>\n",
       "    </tr>\n",
       "    <tr>\n",
       "      <th>90</th>\n",
       "      <td>Texas</td>\n",
       "      <td>746,246</td>\n",
       "    </tr>\n",
       "    <tr>\n",
       "      <th>91</th>\n",
       "      <td>Utah</td>\n",
       "      <td>48,989</td>\n",
       "    </tr>\n",
       "    <tr>\n",
       "      <th>92</th>\n",
       "      <td>Vermont</td>\n",
       "      <td>11,427</td>\n",
       "    </tr>\n",
       "    <tr>\n",
       "      <th>93</th>\n",
       "      <td>Virginia</td>\n",
       "      <td>113,952</td>\n",
       "    </tr>\n",
       "    <tr>\n",
       "      <th>94</th>\n",
       "      <td>Virgin Islands</td>\n",
       "      <td>2,836</td>\n",
       "    </tr>\n",
       "    <tr>\n",
       "      <th>95</th>\n",
       "      <td>Washington</td>\n",
       "      <td>145,015</td>\n",
       "    </tr>\n",
       "    <tr>\n",
       "      <th>96</th>\n",
       "      <td>West Virginia</td>\n",
       "      <td>35,412</td>\n",
       "    </tr>\n",
       "    <tr>\n",
       "      <th>97</th>\n",
       "      <td>Wisconsin</td>\n",
       "      <td>92,487</td>\n",
       "    </tr>\n",
       "    <tr>\n",
       "      <th>98</th>\n",
       "      <td>Wyoming</td>\n",
       "      <td>9,062</td>\n",
       "    </tr>\n",
       "    <tr>\n",
       "      <th>99</th>\n",
       "      <td>Dept. of Health</td>\n",
       "      <td>8,607</td>\n",
       "    </tr>\n",
       "    <tr>\n",
       "      <th>100</th>\n",
       "      <td>Northern Arapahoe</td>\n",
       "      <td>282</td>\n",
       "    </tr>\n",
       "    <tr>\n",
       "      <th>101</th>\n",
       "      <td>Shoshone Tribe</td>\n",
       "      <td>173</td>\n",
       "    </tr>\n",
       "    <tr>\n",
       "      <th>102</th>\n",
       "      <td>Northern Marianas</td>\n",
       "      <td>3,205</td>\n",
       "    </tr>\n",
       "  </tbody>\n",
       "</table>\n",
       "<p>103 rows × 2 columns</p>\n",
       "</div>"
      ],
      "text/plain": [
       "         State / Indian Tribe             FY 2018\n",
       "0                              Alabama    120,605\n",
       "1                               Alaska     17,092\n",
       "2                       American Samoa      5,235\n",
       "3                              Arizona    149,513\n",
       "4                      Dept. of Health    133,547\n",
       "5                        Navajo Nation      7,561\n",
       "6                 Inter-Tribal Council      8,406\n",
       "7                             Arkansas     73,607\n",
       "8                           California  1,009,492\n",
       "9                             Colorado     85,258\n",
       "10                     Dept. of Health     85,103\n",
       "11              Ute Mountain Ute Tribe        155\n",
       "12                         Connecticut     47,297\n",
       "13                            Delaware     16,797\n",
       "14                District of Columbia     12,466\n",
       "15                             Florida    450,624\n",
       "16                             Georgia    217,695\n",
       "17                                Guam      6,610\n",
       "18                              Hawaii     26,115\n",
       "19                               Idaho     33,717\n",
       "20                            Illinois    199,360\n",
       "21                             Indiana    143,730\n",
       "22                                Iowa     60,249\n",
       "23                              Kansas     50,681\n",
       "24                            Kentucky    101,743\n",
       "25                           Louisiana    112,362\n",
       "26                               Maine     18,320\n",
       "27             Dept. of Human Services     18,200\n",
       "28                      Pleasant Point         61\n",
       "29                     Indian Township         60\n",
       "..                                 ...        ...\n",
       "73               Muscogee Creek Nation      2,373\n",
       "74                     Cherokee Nation      6,594\n",
       "75           Citizen Potawatomi Nation      1,499\n",
       "76                Osage Tribal Council      2,939\n",
       "77                Otoe-Missouria Tribe        382\n",
       "78                Inter-Tribal Council        723\n",
       "79     Wichita, Caddo & Delaware (WCD)      3,362\n",
       "80                              Oregon     85,774\n",
       "81                        Pennsylvania    218,188\n",
       "82                         Puerto Rico    112,709\n",
       "83                        Rhode Island     18,950\n",
       "84                      South Carolina     92,153\n",
       "85                        South Dakota     17,667\n",
       "86                     Dept. of Health     15,760\n",
       "87                Cheyenne River Sioux        757\n",
       "88                       Rosebud Sioux      1,150\n",
       "89                           Tennessee    127,814\n",
       "90                               Texas    746,246\n",
       "91                                Utah     48,989\n",
       "92                             Vermont     11,427\n",
       "93                            Virginia    113,952\n",
       "94                      Virgin Islands      2,836\n",
       "95                          Washington    145,015\n",
       "96                       West Virginia     35,412\n",
       "97                           Wisconsin     92,487\n",
       "98                             Wyoming      9,062\n",
       "99                     Dept. of Health      8,607\n",
       "100                  Northern Arapahoe        282\n",
       "101                     Shoshone Tribe        173\n",
       "102                  Northern Marianas      3,205\n",
       "\n",
       "[103 rows x 2 columns]"
      ]
     },
     "execution_count": 26,
     "metadata": {},
     "output_type": "execute_result"
    }
   ],
   "source": [
    "WIC_States_and_Tribes #ADD THE STUFF  "
   ]
  },
  {
   "cell_type": "markdown",
   "metadata": {},
   "source": [
    "Now lets find the states with the highest *relative* number of people recieving assistance. To do this we have to divide the number of people enrolled in WIC for every state by the state's population. In the cell below we will add the total population counts for every state to the table."
   ]
  },
  {
   "cell_type": "code",
   "execution_count": 27,
   "metadata": {
    "collapsed": true
   },
   "outputs": [],
   "source": [
    "#https://factfinder.census.gov/faces/tableservices/jsf/pages/productview.xhtml?pid=PEP_2018_PEPANNRES&prodType=table"
   ]
  },
  {
   "cell_type": "code",
   "execution_count": 28,
   "metadata": {
    "collapsed": true
   },
   "outputs": [],
   "source": [
    "\n",
    "# make percent column\n",
    "# find state with greatest percent enrolled"
   ]
  },
  {
   "cell_type": "code",
   "execution_count": null,
   "metadata": {
    "collapsed": true
   },
   "outputs": [],
   "source": []
  }
 ],
 "metadata": {
  "kernelspec": {
   "display_name": "Python 3",
   "language": "python",
   "name": "python3"
  },
  "language_info": {
   "codemirror_mode": {
    "name": "ipython",
    "version": 3
   },
   "file_extension": ".py",
   "mimetype": "text/x-python",
   "name": "python",
   "nbconvert_exporter": "python",
   "pygments_lexer": "ipython3",
   "version": "3.6.8"
  }
 },
 "nbformat": 4,
 "nbformat_minor": 2
}
