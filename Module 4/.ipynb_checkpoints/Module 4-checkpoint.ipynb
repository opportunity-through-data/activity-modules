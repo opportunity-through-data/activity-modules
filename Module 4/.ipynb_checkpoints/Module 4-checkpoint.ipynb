{
 "cells": [
  {
   "cell_type": "markdown",
   "metadata": {},
   "source": [
    "Looking for a dataset for this activity!\n",
    "\n",
    "Potential Ideas:\n",
    "- WICS data\n",
    "- SNAP data\n",
    "- transit data"
   ]
  },
  {
   "cell_type": "markdown",
   "metadata": {},
   "source": [
    "# Activity 4: Sampling!"
   ]
  },
  {
   "cell_type": "markdown",
   "metadata": {},
   "source": [
    "Topics covered:\n",
    "* Logical operators \n",
    "* Conditional statements (if / else)\n",
    "* Loops (for loops)\n",
    "* Analysis "
   ]
  },
  {
   "cell_type": "markdown",
   "metadata": {},
   "source": [
    "## Overview"
   ]
  },
  {
   "cell_type": "markdown",
   "metadata": {},
   "source": [
    "We can load in the data we decide on here!"
   ]
  },
  {
   "cell_type": "code",
   "execution_count": 1,
   "metadata": {
    "collapsed": true
   },
   "outputs": [],
   "source": [
    "#from otd_util import *\n",
    "#import json\n",
    "\n",
    "#with open('data.json') as json_data:\n",
    "#    data = json.load(json_data)\n",
    "\n",
    "import pandas as pd"
   ]
  },
  {
   "cell_type": "markdown",
   "metadata": {},
   "source": [
    "## Problem 1: Logical Operators"
   ]
  },
  {
   "cell_type": "markdown",
   "metadata": {},
   "source": [
    "Common logical operators we will use in the course are `==`, `!=`, `>`, `>=`, `<`, `<=`. We can use these to compare individual numbers or strings! This activity will deal with WIC (Women, Infants, and Children) data. Let's consider the data on a smaller scale. Say we are looking at women in the table, who make less than $20,000 a year. We can analyze how many dependents these women have. The first woman we find in the dataset has 4 dependents. "
   ]
  },
  {
   "cell_type": "code",
   "execution_count": 16,
   "metadata": {},
   "outputs": [
    {
     "data": {
      "text/plain": [
       "3"
      ]
     },
     "execution_count": 16,
     "metadata": {},
     "output_type": "execute_result"
    }
   ],
   "source": [
    "first_woman_dependents = 3\n",
    "first_woman_dependents"
   ]
  },
  {
   "cell_type": "markdown",
   "metadata": {},
   "source": [
    "For women with less than $21,330 annual income, having 3 dependents means they are below the Federal poverty guidelines in California. If we wanted to check the number of `first_woman_dependents` against the guideline we could write an inequality."
   ]
  },
  {
   "cell_type": "code",
   "execution_count": 20,
   "metadata": {},
   "outputs": [
    {
     "data": {
      "text/plain": [
       "True"
      ]
     },
     "execution_count": 20,
     "metadata": {},
     "output_type": "execute_result"
    }
   ],
   "source": [
    "first_woman_dependents >= 3"
   ]
  },
  {
   "cell_type": "markdown",
   "metadata": {},
   "source": [
    "Make another variable named `second_woman_dependents`, where the second woman has 1 dependents and makes the same amount of money as the first woman. Write an inequality to check whether she would meet the Federal poverty guidelines."
   ]
  },
  {
   "cell_type": "code",
   "execution_count": 24,
   "metadata": {},
   "outputs": [
    {
     "data": {
      "text/plain": [
       "1"
      ]
     },
     "execution_count": 24,
     "metadata": {},
     "output_type": "execute_result"
    }
   ],
   "source": [
    "... # PROMPT\n",
    "second_woman_dependents = 1 # SOLUTION\n",
    "second_woman_dependents"
   ]
  },
  {
   "cell_type": "code",
   "execution_count": 23,
   "metadata": {},
   "outputs": [
    {
     "data": {
      "text/plain": [
       "False"
      ]
     },
     "execution_count": 23,
     "metadata": {},
     "output_type": "execute_result"
    }
   ],
   "source": [
    "... # PROMPT\n",
    "second_woman_dependents >= 3 # SOLUTION"
   ]
  },
  {
   "cell_type": "markdown",
   "metadata": {},
   "source": [
    "What if we had a list of how many family members 10 different people had? Could we use the same operators? Try it out below using the list called `dependents`."
   ]
  },
  {
   "cell_type": "code",
   "execution_count": 28,
   "metadata": {},
   "outputs": [
    {
     "data": {
      "text/plain": [
       "[1, 3, 1, 5, 6, 2, 1, 2, 3, 4]"
      ]
     },
     "execution_count": 28,
     "metadata": {},
     "output_type": "execute_result"
    }
   ],
   "source": [
    "dependents = [1, 3, 1, 5, 6, 2, 1, 2, 3, 4] \n",
    "dependents"
   ]
  },
  {
   "cell_type": "code",
   "execution_count": 30,
   "metadata": {},
   "outputs": [
    {
     "ename": "TypeError",
     "evalue": "'>=' not supported between instances of 'list' and 'int'",
     "output_type": "error",
     "traceback": [
      "\u001b[0;31m---------------------------------------------------------------------------\u001b[0m",
      "\u001b[0;31mTypeError\u001b[0m                                 Traceback (most recent call last)",
      "\u001b[0;32m<ipython-input-30-b41dd79e345b>\u001b[0m in \u001b[0;36m<module>\u001b[0;34m()\u001b[0m\n\u001b[0;32m----> 1\u001b[0;31m \u001b[0mdependents\u001b[0m \u001b[0;34m>=\u001b[0m \u001b[0;36m3\u001b[0m \u001b[0;31m#SOLUTION\u001b[0m\u001b[0;34m\u001b[0m\u001b[0;34m\u001b[0m\u001b[0m\n\u001b[0m\u001b[1;32m      2\u001b[0m \u001b[0;34m\u001b[0m\u001b[0m\n\u001b[1;32m      3\u001b[0m \u001b[0;31m## THIS WILL ERROR!!!\u001b[0m\u001b[0;34m\u001b[0m\u001b[0;34m\u001b[0m\u001b[0;34m\u001b[0m\u001b[0m\n",
      "\u001b[0;31mTypeError\u001b[0m: '>=' not supported between instances of 'list' and 'int'"
     ]
    }
   ],
   "source": [
    "dependents >= 3 #SOLUTION\n",
    "\n",
    "## THIS WILL ERROR!!! "
   ]
  },
  {
   "cell_type": "markdown",
   "metadata": {},
   "source": [
    "We cannot check whether the elements inside the list meet the condition of being greater than or equal to 3. What happens if we wanted to check which of the women in the list had 3 children? What if we tried the statement below? What does the result mean?"
   ]
  },
  {
   "cell_type": "code",
   "execution_count": 31,
   "metadata": {},
   "outputs": [
    {
     "data": {
      "text/plain": [
       "False"
      ]
     },
     "execution_count": 31,
     "metadata": {},
     "output_type": "execute_result"
    }
   ],
   "source": [
    "dependents == 3"
   ]
  },
  {
   "cell_type": "markdown",
   "metadata": {},
   "source": [
    "**What happened above was that rather than check the elements in the list, Python checked if a list is the same as a number, which is False. This is something to keep in mind for future comparisons!**"
   ]
  },
  {
   "cell_type": "markdown",
   "metadata": {},
   "source": [
    "Another place you may use logical operators is on strings. Consider the case where we have a dictionary of dependent count paired with the names of women who have that number of dependents. "
   ]
  },
  {
   "cell_type": "code",
   "execution_count": 39,
   "metadata": {},
   "outputs": [
    {
     "data": {
      "text/plain": [
       "{'1': ['Jessica', 'Natasha A.'],\n",
       " '2': ['Whitney', 'Natasha B.'],\n",
       " '3': ['Danielle', 'Valerie'],\n",
       " '4': ['Chelsea', 'Karen'],\n",
       " '5+': ['Robin', 'Marissa']}"
      ]
     },
     "execution_count": 39,
     "metadata": {},
     "output_type": "execute_result"
    }
   ],
   "source": [
    "dependents_to_women = {'1':['Jessica', 'Natasha A.'], '2': ['Whitney', 'Natasha B.'], '3': ['Danielle', 'Valerie'], '4':['Chelsea', 'Karen'], '5+':['Robin', 'Marissa']}\n",
    "dependents_to_women"
   ]
  },
  {
   "cell_type": "markdown",
   "metadata": {},
   "source": [
    "By looking at the dictionary we see that there are two women with the same first name. Let's compare their names with the operators. First, make a variable called `one_dep` which contains all the values from the dictionary that match the key '1'. And make another variable called `two_dep` which contains all the values for the key '2'."
   ]
  },
  {
   "cell_type": "code",
   "execution_count": 42,
   "metadata": {},
   "outputs": [
    {
     "data": {
      "text/plain": [
       "['Jessica', 'Natasha A.']"
      ]
     },
     "execution_count": 42,
     "metadata": {},
     "output_type": "execute_result"
    }
   ],
   "source": [
    "... #PROMPT\n",
    "one_dep = dependents_to_women['1'] #SOLUTION\n",
    "one_dep"
   ]
  },
  {
   "cell_type": "code",
   "execution_count": 43,
   "metadata": {},
   "outputs": [
    {
     "data": {
      "text/plain": [
       "['Whitney', 'Natasha B.']"
      ]
     },
     "execution_count": 43,
     "metadata": {},
     "output_type": "execute_result"
    }
   ],
   "source": [
    "... #PROMPT\n",
    "two_dep = dependents_to_women['2'] #SOLUTION\n",
    "two_dep"
   ]
  },
  {
   "cell_type": "markdown",
   "metadata": {},
   "source": [
    "Using these variables compare the lists below. What is the result we expect to get? Double check that this matches your logic."
   ]
  },
  {
   "cell_type": "code",
   "execution_count": 38,
   "metadata": {},
   "outputs": [
    {
     "data": {
      "text/plain": [
       "False"
      ]
     },
     "execution_count": 38,
     "metadata": {},
     "output_type": "execute_result"
    }
   ],
   "source": [
    "one_dep == two_dep"
   ]
  },
  {
   "cell_type": "markdown",
   "metadata": {},
   "source": [
    "The result is false, because it is comparing whether the two lists contain the same values. However, the first woman in both of the lists is different, so the two lists are not equal. In the next cell, make two comparisons between the second element in each of the lists. You can use any operator you want, but get one to say `True` and another to say `False`. **Note: you must use the variables you created above.**"
   ]
  },
  {
   "cell_type": "code",
   "execution_count": 49,
   "metadata": {},
   "outputs": [
    {
     "data": {
      "text/plain": [
       "False"
      ]
     },
     "execution_count": 49,
     "metadata": {},
     "output_type": "execute_result"
    }
   ],
   "source": [
    "... #PROMPT\n",
    "# POSSIBLE SOLUTION\n",
    "one_dep[1] == two_dep[1]"
   ]
  },
  {
   "cell_type": "code",
   "execution_count": 48,
   "metadata": {},
   "outputs": [
    {
     "data": {
      "text/plain": [
       "True"
      ]
     },
     "execution_count": 48,
     "metadata": {},
     "output_type": "execute_result"
    }
   ],
   "source": [
    "... # PROMPT\n",
    "# POSSIBLE SOLUTION\n",
    "one_dep[1] <= two_dep[1]"
   ]
  },
  {
   "cell_type": "markdown",
   "metadata": {},
   "source": [
    "## Problem 2: Conditional Statements"
   ]
  },
  {
   "cell_type": "markdown",
   "metadata": {
    "collapsed": true
   },
   "source": [
    "We can use conditionals to further impose restrictions on what parts of our code are executed or only allow some actions to be taken when certain conditions are met! Let's review the syntax we learnt earlier. Recall that we use the **if** statement to specify what our condition should be. When this condition evaluates to true, the program will execute the block of code under that if statement. You can also choose to specify an **else** statement and provide alternate instructions for what you want the program to do if the condition evaluates to false. "
   ]
  },
  {
   "cell_type": "code",
   "execution_count": 1,
   "metadata": {
    "collapsed": true
   },
   "outputs": [],
   "source": [
    "#if (condition):\n",
    "#    code to execute\n",
    "# else:\n",
    "#    alternate code to execute"
   ]
  },
  {
   "cell_type": "markdown",
   "metadata": {},
   "source": [
    "Now, suppose we want to compare how many participants there were in the WIC program in Alabama in December 2018 vs. November 2018, and check whether this number increased or decreased."
   ]
  },
  {
   "cell_type": "code",
   "execution_count": 3,
   "metadata": {},
   "outputs": [
    {
     "name": "stdout",
     "output_type": "stream",
     "text": [
      "Decrease in program participants!\n"
     ]
    }
   ],
   "source": [
    "alabama_december_2018 = 115036\n",
    "alabama_november_2018 = 117518\n",
    "\n",
    "#SOLUTION\n",
    "if (alabama_december_2018 < alabama_november_2018):\n",
    "    print(\"Decrease in program participants!\")\n",
    "else:\n",
    "    print(\"Increase in program participants!\")"
   ]
  },
  {
   "cell_type": "markdown",
   "metadata": {},
   "source": [
    "We can also have multiple conditions that we can check for using **if** and **elif** statements! If the condition specified in the if(condition1...) statement is false, the program moves down to the elif(condition2...) statement and checks it. We can choose to have as many elif statements as needed. "
   ]
  },
  {
   "cell_type": "code",
   "execution_count": 4,
   "metadata": {
    "collapsed": true
   },
   "outputs": [],
   "source": [
    "#if (condition 1):\n",
    "#    code to execute for condition 1\n",
    "#elif (condiiton 2):\n",
    "#    code to execute for condition 2\n",
    "#elif (condition 3):\n",
    "#    ....\n",
    "# elif:\n",
    "#    alternate code to execute if none of the conditions are met"
   ]
  },
  {
   "cell_type": "markdown",
   "metadata": {},
   "source": [
    "Now suppose we want to check which state among California, Georgia, and Illinois had the largest **magnitude** of change from December 2017 to December 2018. Below, we've entered the numbers for you. Try calculating the change in number of program participants and check which state has the largest absolute change! Note that you can combine conditions using **and** if you want two or more conditions to **all** be satisfied, or **or** if **at least one** should be satisfied."
   ]
  },
  {
   "cell_type": "code",
   "execution_count": 6,
   "metadata": {},
   "outputs": [
    {
     "name": "stdout",
     "output_type": "stream",
     "text": [
      "California had the most change.\n"
     ]
    }
   ],
   "source": [
    "california_dec_2017 = 993706\n",
    "california_dec_2018 = 926600\n",
    "\n",
    "georgia_dec_2017 = 219881\n",
    "georgia_dec_2018 = 199837\n",
    "\n",
    "illinois_dec_2017 = 199365\n",
    "illinois_dec_2018 = 182419\n",
    "\n",
    "### SOLUTION ###\n",
    "california_change = abs(california_dec_2018 - california_dec_2017)\n",
    "georgia_change = abs(georgia_dec_2018 - georgia_dec_2017)\n",
    "illinois_change = abs(illinois_dec_2018 - illinois_dec_2017)\n",
    "\n",
    "if (california_change > georgia_change and california_change > illinois_change):\n",
    "    print(\"California had the most change.\")\n",
    "elif (georgia_change > california_change and georgia_change > illinois_change):\n",
    "    print(\"Georgia had the most change.\")\n",
    "else:\n",
    "    # Note that this automatically means if (illinois_change > california_change and illinois_change > georgia_change)\n",
    "    # Can you reason why?\n",
    "    print(\"Illinois had the most change.\")"
   ]
  },
  {
   "cell_type": "markdown",
   "metadata": {},
   "source": [
    "You can also choose to **nest** if-else statements. You can use this in a situation when you want different parts of the code under a particular if statement to be executed under different conditions. Can we rewrite our program from the previous part using nested if-else statements?"
   ]
  },
  {
   "cell_type": "code",
   "execution_count": 7,
   "metadata": {},
   "outputs": [
    {
     "name": "stdout",
     "output_type": "stream",
     "text": [
      "California had the most change.\n"
     ]
    }
   ],
   "source": [
    "### SOLUTION ###\n",
    "if (california_change > georgia_change):\n",
    "    if (california_change > illinois_change):\n",
    "        print(\"California had the most change.\")\n",
    "    else:\n",
    "        print(\"Illinois had the most change.\")\n",
    "else:\n",
    "    if (georgia_change > illinois_change):\n",
    "        print(\"Georgia had the most change.\")\n",
    "    else:\n",
    "        print(\"Illinois had the most change.\")"
   ]
  },
  {
   "cell_type": "markdown",
   "metadata": {},
   "source": [
    "## Problem 3: Loops"
   ]
  },
  {
   "cell_type": "markdown",
   "metadata": {},
   "source": [
    "Loops can help us perform the same set of actions on multiple pieces of data! We will use loops to filter data and remove pieces we don't want or modify data to make is easier for us to use. "
   ]
  },
  {
   "cell_type": "code",
   "execution_count": 39,
   "metadata": {},
   "outputs": [
    {
     "data": {
      "text/html": [
       "<div>\n",
       "<style>\n",
       "    .dataframe thead tr:only-child th {\n",
       "        text-align: right;\n",
       "    }\n",
       "\n",
       "    .dataframe thead th {\n",
       "        text-align: left;\n",
       "    }\n",
       "\n",
       "    .dataframe tbody tr th {\n",
       "        vertical-align: top;\n",
       "    }\n",
       "</style>\n",
       "<table border=\"1\" class=\"dataframe\">\n",
       "  <thead>\n",
       "    <tr style=\"text-align: right;\">\n",
       "      <th></th>\n",
       "      <th>State / Indian Tribe</th>\n",
       "      <th>FY 2018</th>\n",
       "    </tr>\n",
       "  </thead>\n",
       "  <tbody>\n",
       "    <tr>\n",
       "      <th>0</th>\n",
       "      <td>Alabama</td>\n",
       "      <td>120,605</td>\n",
       "    </tr>\n",
       "    <tr>\n",
       "      <th>1</th>\n",
       "      <td>Alaska</td>\n",
       "      <td>17,092</td>\n",
       "    </tr>\n",
       "    <tr>\n",
       "      <th>2</th>\n",
       "      <td>American Samoa</td>\n",
       "      <td>5,235</td>\n",
       "    </tr>\n",
       "    <tr>\n",
       "      <th>3</th>\n",
       "      <td>Arizona</td>\n",
       "      <td>149,513</td>\n",
       "    </tr>\n",
       "    <tr>\n",
       "      <th>4</th>\n",
       "      <td>Dept. of Health</td>\n",
       "      <td>133,547</td>\n",
       "    </tr>\n",
       "  </tbody>\n",
       "</table>\n",
       "</div>"
      ],
      "text/plain": [
       "  State / Indian Tribe           FY 2018\n",
       "0                       Alabama  120,605\n",
       "1                        Alaska   17,092\n",
       "2                American Samoa    5,235\n",
       "3                       Arizona  149,513\n",
       "4               Dept. of Health  133,547"
      ]
     },
     "execution_count": 39,
     "metadata": {},
     "output_type": "execute_result"
    }
   ],
   "source": [
    "#downloaded from https://catalog.data.gov/dataset/women-infants-and-children-wic-participating-and-cost-data\n",
    "WIC_States_and_Tribes = pd.read_csv('WIC_Participation_edited.csv', usecols = [0,5])\n",
    "#Index into table to get a list\n",
    "WIC_States_and_Tribes.head()"
   ]
  },
  {
   "cell_type": "code",
   "execution_count": 50,
   "metadata": {
    "collapsed": true
   },
   "outputs": [],
   "source": [
    "# EXPLAIN NEXT CELL BREAK DOWN FROM TABLE TO COLUMN TO ITEM AND WHAT TYPE FUNCTION DOES\n",
    "# EXPLAIN THAT IT IS GOOD DATA PRACTICE TO CHECK DATA TYPE BEFORE STARTING ANALYSIS"
   ]
  },
  {
   "cell_type": "code",
   "execution_count": 48,
   "metadata": {},
   "outputs": [
    {
     "data": {
      "text/plain": [
       "str"
      ]
     },
     "execution_count": 48,
     "metadata": {},
     "output_type": "execute_result"
    }
   ],
   "source": [
    "type(WIC_States_and_Tribes[\"FY 2018\"][0])"
   ]
  },
  {
   "cell_type": "code",
   "execution_count": 51,
   "metadata": {
    "collapsed": true
   },
   "outputs": [],
   "source": [
    "# WE NOTICED THEY ARE NOT NUMBERS AND WILL CHANGE IT BELOW"
   ]
  },
  {
   "cell_type": "code",
   "execution_count": 66,
   "metadata": {},
   "outputs": [
    {
     "data": {
      "text/plain": [
       "0    120,605\n",
       "1     17,092\n",
       "2      5,235\n",
       "3    149,513\n",
       "4    133,547\n",
       "Name: FY 2018, dtype: object"
      ]
     },
     "execution_count": 66,
     "metadata": {},
     "output_type": "execute_result"
    }
   ],
   "source": [
    "str_to_num = WIC_States_and_Tribes[\"FY 2018\"]\n",
    "# for i in...\n",
    "str_to_num.head()"
   ]
  },
  {
   "cell_type": "markdown",
   "metadata": {},
   "source": [
    "This table shows us the number of people enrolled in WIC by state and by Native American Tribe. Since the state counts include the Tribe counts, lets perform a function to remove all the Tribe counts in the table. "
   ]
  },
  {
   "cell_type": "markdown",
   "metadata": {},
   "source": [
    "How do we tell Python which rows are Tribe counts and which are State counts? Notice that the tribe counts have a space at the beginning of the names. For example, the one of the first Tribe entries is ' Navajo Nation'. We need to constuct a filter that goes through every entry in the data table and removes ones that start with a space. We can do this using a loop. "
   ]
  },
  {
   "cell_type": "code",
   "execution_count": 63,
   "metadata": {},
   "outputs": [],
   "source": [
    "state_names = []\n",
    "corresponding_numbers = []\n",
    "\n",
    "index_value = 0\n",
    "\n",
    "for i in WIC_States_and_Tribes[\"State / Indian Tribe         \"]: \n",
    "    \n",
    "    \n",
    "    if i[0] != ' ': #this indexes a string to get the first charecter\n",
    "        state_names.append(i)\n",
    "        corresponding_numbers.append(str_to_num[index_value])\n",
    "        \n",
    "    index_value += 1"
   ]
  },
  {
   "cell_type": "markdown",
   "metadata": {},
   "source": [
    "## Problem 4: Analysis"
   ]
  },
  {
   "cell_type": "markdown",
   "metadata": {
    "collapsed": true
   },
   "source": [
    "# 1. filter out top 10 states with largest enrollment and make bar chart\n",
    "\n",
    "# 2. relative enrollment by state population\n"
   ]
  },
  {
   "cell_type": "markdown",
   "metadata": {},
   "source": [
    "Now we have all the states with their counts of people enrolled. Lets find the states with more than X number of people in WIC."
   ]
  },
  {
   "cell_type": "code",
   "execution_count": 8,
   "metadata": {
    "collapsed": true
   },
   "outputs": [],
   "source": [
    "WIC_States_and_Tribes #ADD THE STUFF  "
   ]
  },
  {
   "cell_type": "markdown",
   "metadata": {},
   "source": [
    "Now lets find the states with the highest *relative* number of people recieving assistance. To do this we have to divide the number of people enrolled in WIC for every state by the state's population. In the cell below we will add the total population counts for every state to the table."
   ]
  },
  {
   "cell_type": "code",
   "execution_count": 6,
   "metadata": {
    "collapsed": true
   },
   "outputs": [],
   "source": [
    "#https://factfinder.census.gov/faces/tableservices/jsf/pages/productview.xhtml?pid=PEP_2018_PEPANNRES&prodType=table"
   ]
  },
  {
   "cell_type": "code",
   "execution_count": null,
   "metadata": {
    "collapsed": true
   },
   "outputs": [],
   "source": [
    "\n",
    "# make percent column\n",
    "# find state with greatest percent enrolled"
   ]
  },
  {
   "cell_type": "code",
   "execution_count": null,
   "metadata": {
    "collapsed": true
   },
   "outputs": [],
   "source": []
  }
 ],
 "metadata": {
  "kernelspec": {
   "display_name": "Python 3",
   "language": "python",
   "name": "python3"
  },
  "language_info": {
   "codemirror_mode": {
    "name": "ipython",
    "version": 3
   },
   "file_extension": ".py",
   "mimetype": "text/x-python",
   "name": "python",
   "nbconvert_exporter": "python",
   "pygments_lexer": "ipython3",
   "version": "3.6.8"
  }
 },
 "nbformat": 4,
 "nbformat_minor": 2
}
