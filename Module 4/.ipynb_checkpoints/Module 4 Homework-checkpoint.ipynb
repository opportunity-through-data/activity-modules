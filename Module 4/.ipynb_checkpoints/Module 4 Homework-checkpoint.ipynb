{
 "cells": [
  {
   "cell_type": "markdown",
   "metadata": {},
   "source": [
    "# Module 4 Homework"
   ]
  },
  {
   "cell_type": "markdown",
   "metadata": {},
   "source": [
    "Hello! Like previously, this assignment will not be collected or graded, but it is just meant to give you extra practice on the material in Module 4. \n",
    "\n",
    "For reference, here is a link to Module 4 in the textbook: https://otd.gitbook.io/book/module-4/programming-logic"
   ]
  },
  {
   "cell_type": "markdown",
   "metadata": {},
   "source": [
    "### Question 1: Logical Operators"
   ]
  },
  {
   "cell_type": "markdown",
   "metadata": {},
   "source": [
    "Let's practice using logical operators (AND, OR, and NOT)!"
   ]
  },
  {
   "cell_type": "markdown",
   "metadata": {},
   "source": [
    "Suppose we are making sandwhiches for a very picky crowd. For each question below, suggest which operator would satisfy the person's request!\n",
    "\n",
    "a) Sam wants a sandwhich that has BOTH ham and cheese -> `sam_sando = HAM ______ CHEESE` \n",
    "\n",
    "b) Elle doesn't care what is on her sandwhich, as long as there is no mustard -> `elle_sando = _______ MUSTARD`\n",
    "\n",
    "c) Logan wants a sandwhich with tuna or turkey, but not both -> `logan_sando = TUNA ______ TURKEY`"
   ]
  },
  {
   "cell_type": "code",
   "execution_count": null,
   "metadata": {},
   "outputs": [],
   "source": [
    "a = ..."
   ]
  },
  {
   "cell_type": "code",
   "execution_count": null,
   "metadata": {},
   "outputs": [],
   "source": [
    "b = ..."
   ]
  },
  {
   "cell_type": "code",
   "execution_count": null,
   "metadata": {},
   "outputs": [],
   "source": [
    "c = ..."
   ]
  },
  {
   "cell_type": "markdown",
   "metadata": {},
   "source": [
    "### Question 2: Conditonals"
   ]
  },
  {
   "cell_type": "markdown",
   "metadata": {},
   "source": [
    "This question will combine knowledge of logical and artithmetic operators and conditionals. \n",
    "\n",
    "Suppose we have the following code:"
   ]
  },
  {
   "cell_type": "code",
   "execution_count": 36,
   "metadata": {},
   "outputs": [
    {
     "name": "stdout",
     "output_type": "stream",
     "text": [
      "Gen Z!\n"
     ]
    }
   ],
   "source": [
    "birth_year = ...\n",
    "\n",
    "if birth_year >= 1946 and birth_year <=1980:\n",
    "    if birth_year <= 1964:\n",
    "        print(\"OK Boomer!!!\")\n",
    "    else:\n",
    "        print(\"Gen X\")\n",
    "    \n",
    "elif birth_year > 1980 and birth_year <= 1996:\n",
    "    print(\"Millenial\")\n",
    "    \n",
    "elif birth_year > 1996 and birth_year <= 2009:\n",
    "    print(\"Gen Z!\")\n",
    "    \n",
    "else:\n",
    "    print(\"Gen Alpha\")"
   ]
  },
  {
   "cell_type": "markdown",
   "metadata": {},
   "source": [
    "For each of the following birth years, what would be printed?\n",
    "\n",
    "    a) 1988\n",
    "    b) 2015\n",
    "    c) 1946\n",
    "    d) 1980\n",
    "    e) 2001\n",
    "\n",
    "*To check your answers, set birth_year equal to the year you are considering and run the cell above!*"
   ]
  },
  {
   "cell_type": "markdown",
   "metadata": {},
   "source": [
    "### Question 3: For loops"
   ]
  },
  {
   "cell_type": "markdown",
   "metadata": {},
   "source": [
    "Suppose we have the following dictionary. Remember from Module 2 that dictionaries contain key: value pairs. In the dictionary below, the keys (\"Succulent\", \"Fiddle Leaf\", \"Snake Plant\", etc.) are names of plants. The values associated with each key is the current height of the plant. For example, the dictionary indicates that succulent currently is two inches tall.   \n",
    "\n",
    "Run the cell below so you can use the list in later problems."
   ]
  },
  {
   "cell_type": "code",
   "execution_count": 39,
   "metadata": {},
   "outputs": [],
   "source": [
    "plant_heights = {\"Succulent\": 2, \"Fiddle Leaf\": 40, \"Snake Plant\": 32, \"Cactus\": 4, \n",
    "                 \"Pothos\": 13, \"Spider Plant\": 9, \"Monstera\": 53, \"Yucca\": 49, \n",
    "                 \"Peperomia\": 3, \"Calathea\": 11, \"Orchid\": 14}"
   ]
  },
  {
   "cell_type": "markdown",
   "metadata": {},
   "source": [
    "Now, say we measured each plant's height and found that every plant has each grown 2 inches! Fill in the for loop below to update the height of each plant in our dictionary to reflect the new growth.     \n",
    "\n",
    "*Recall from Module 2 that you can use dictionary_name[key] to access the value at the specified key*"
   ]
  },
  {
   "cell_type": "code",
   "execution_count": 40,
   "metadata": {},
   "outputs": [],
   "source": [
    "for x in ___________:\n",
    "    # Add 2 to plant_heights[x]\n",
    "    plant_heights[x] = ____________\n",
    "    "
   ]
  },
  {
   "cell_type": "markdown",
   "metadata": {},
   "source": [
    "Run the cell below to see the updated plant_heights dictionary!"
   ]
  },
  {
   "cell_type": "code",
   "execution_count": 41,
   "metadata": {
    "scrolled": true
   },
   "outputs": [
    {
     "name": "stdout",
     "output_type": "stream",
     "text": [
      "{'Succulent': 4, 'Fiddle Leaf': 42, 'Snake Plant': 34, 'Cactus': 6, 'Pothos': 15, 'Spider Plant': 11, 'Monstera': 55, 'Yucca': 51, 'Peperomia': 5, 'Calathea': 13, 'Orchid': 16}\n"
     ]
    }
   ],
   "source": [
    "print(plant_heights)"
   ]
  },
  {
   "cell_type": "markdown",
   "metadata": {},
   "source": [
    "### Question 4: Bringing it All Together!"
   ]
  },
  {
   "cell_type": "markdown",
   "metadata": {},
   "source": [
    "The goal of this question is to combine all of the knowledge learned in this Module!\n",
    "\n",
    "Recall our plant_heights dictionary from question 1. Now, we want to figure out how many small, medium, and large plants we have.\n",
    "\n",
    "For this question, a plant is...\n",
    "\n",
    "    - small if its height is less or equal to 8 inches\n",
    "    - medium if its height is less than or equal to 20 inches\n",
    "    - large if its height is greater than 20 inches\n",
    "    \n",
    "We will use a for loop to iterate through the plant_heights dictionary. Inside the for loop, we can use conditionals and arithmetic operators to check whether the plant is small, medium, or large (depending on its height).\n",
    "\n",
    "The check for the small plant is done for you as an example."
   ]
  },
  {
   "cell_type": "code",
   "execution_count": 37,
   "metadata": {},
   "outputs": [
    {
     "ename": "NameError",
     "evalue": "name '___________' is not defined",
     "output_type": "error",
     "traceback": [
      "\u001b[0;31m---------------------------------------------------------------------------\u001b[0m",
      "\u001b[0;31mNameError\u001b[0m                                 Traceback (most recent call last)",
      "\u001b[0;32m<ipython-input-37-7021615fd320>\u001b[0m in \u001b[0;36m<module>\u001b[0;34m\u001b[0m\n\u001b[1;32m      7\u001b[0m \u001b[0mnum_large_plants\u001b[0m \u001b[0;34m=\u001b[0m \u001b[0;36m0\u001b[0m\u001b[0;34m\u001b[0m\u001b[0;34m\u001b[0m\u001b[0m\n\u001b[1;32m      8\u001b[0m \u001b[0;34m\u001b[0m\u001b[0m\n\u001b[0;32m----> 9\u001b[0;31m \u001b[0;32mfor\u001b[0m \u001b[0mx\u001b[0m \u001b[0;32min\u001b[0m \u001b[0m___________\u001b[0m\u001b[0;34m:\u001b[0m\u001b[0;34m\u001b[0m\u001b[0;34m\u001b[0m\u001b[0m\n\u001b[0m\u001b[1;32m     10\u001b[0m \u001b[0;34m\u001b[0m\u001b[0m\n\u001b[1;32m     11\u001b[0m     \u001b[0;32mif\u001b[0m \u001b[0mplant_heights\u001b[0m\u001b[0;34m[\u001b[0m\u001b[0mx\u001b[0m\u001b[0;34m]\u001b[0m \u001b[0;34m<=\u001b[0m \u001b[0;36m8\u001b[0m\u001b[0;34m:\u001b[0m\u001b[0;34m\u001b[0m\u001b[0;34m\u001b[0m\u001b[0m\n",
      "\u001b[0;31mNameError\u001b[0m: name '___________' is not defined"
     ]
    }
   ],
   "source": [
    "plant_heights = {\"Succulent\": 2, \"Fiddle Leaf\": 40, \"Snake Plant\": 32, \"Cactus\": 4, \n",
    "                 \"Pothos\": 13, \"Spider Plant\": 9, \"Monstera\": 53, \"Yucca\": 49, \"Peperomia\": 3,\n",
    "                 \"Calathea\": 11, \"Orchid\": 14}\n",
    "\n",
    "num_small_plants = 0\n",
    "num_med_plants = 0\n",
    "num_large_plants = 0\n",
    "\n",
    "for x in ___________:\n",
    "    \n",
    "    if plant_heights[x] <= 8:\n",
    "        num_small_plants = num_small_plants + 1\n",
    "    \n",
    "    elif ___________________:\n",
    "        ________________ = _________________\n",
    "        \n",
    "    # Hint for this part, if the plant is not small or medium, then what is it?\n",
    "    else:\n",
    "        ________________ = _________________\n",
    "        "
   ]
  },
  {
   "cell_type": "markdown",
   "metadata": {},
   "source": [
    "Run the cell below to print out the number of small, medium, and large plants we have in our collection!"
   ]
  },
  {
   "cell_type": "code",
   "execution_count": 28,
   "metadata": {},
   "outputs": [
    {
     "name": "stdout",
     "output_type": "stream",
     "text": [
      "Number of small plants: \n",
      "0\n",
      "\n",
      "\n",
      "Number of medium plants: \n",
      "0\n",
      "\n",
      "\n",
      "Number of large plants: \n",
      "0\n"
     ]
    }
   ],
   "source": [
    "print(\"Number of small plants: \")\n",
    "print(num_small_plants)\n",
    "print(\"\\n\")\n",
    "\n",
    "print(\"Number of medium plants: \")\n",
    "print(num_med_plants)\n",
    "print(\"\\n\")\n",
    "\n",
    "print(\"Number of large plants: \")\n",
    "print(num_large_plants)"
   ]
  },
  {
   "cell_type": "code",
   "execution_count": null,
   "metadata": {},
   "outputs": [],
   "source": []
  }
 ],
 "metadata": {
  "kernelspec": {
   "display_name": "Python 3",
   "language": "python",
   "name": "python3"
  },
  "language_info": {
   "codemirror_mode": {
    "name": "ipython",
    "version": 3
   },
   "file_extension": ".py",
   "mimetype": "text/x-python",
   "name": "python",
   "nbconvert_exporter": "python",
   "pygments_lexer": "ipython3",
   "version": "3.8.2"
  }
 },
 "nbformat": 4,
 "nbformat_minor": 4
}
