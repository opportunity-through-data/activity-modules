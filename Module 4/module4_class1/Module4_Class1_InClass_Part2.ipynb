{
 "cells": [
  {
   "cell_type": "markdown",
   "metadata": {},
   "source": [
    "# Activity 4: Sampling (Part 1: Logical Operators)"
   ]
  },
  {
   "cell_type": "markdown",
   "metadata": {},
   "source": [
    "## Problem 1: Logical Operators"
   ]
  },
  {
   "cell_type": "markdown",
   "metadata": {},
   "source": [
    "Common logical operators we will use in the course are `==`, `!=`, `>`, `>=`, `<`, `<=`. We can use these to compare individual numbers or strings! This module's activities will deal with WIC (Women, Infants, and Children) data. Let's consider the data on a smaller scale. Say we are looking at women in the table, who make less than $20,000 a year. We can analyze how many dependents these women have. The first woman we find in the dataset has 4 dependents. "
   ]
  },
  {
   "cell_type": "code",
   "execution_count": null,
   "metadata": {},
   "outputs": [],
   "source": [
    "first_woman_dependents = 4\n",
    "first_woman_dependents"
   ]
  },
  {
   "cell_type": "markdown",
   "metadata": {},
   "source": [
    "For women with less than $21,330 annual income, having 3 dependents means they are below the Federal poverty guidelines in California. If we wanted to check the number of `first_woman_dependents` against the guideline we could write an inequality."
   ]
  },
  {
   "cell_type": "code",
   "execution_count": null,
   "metadata": {},
   "outputs": [],
   "source": [
    "first_woman_dependents >= 3"
   ]
  },
  {
   "cell_type": "markdown",
   "metadata": {},
   "source": [
    "Make another variable named `second_woman_dependents`, where the second woman has 1 dependents and makes the same amount of money as the first woman. Write an inequality to check whether she would meet the Federal poverty guidelines."
   ]
  },
  {
   "cell_type": "code",
   "execution_count": null,
   "metadata": {},
   "outputs": [],
   "source": [
    "... # PROMPT\n",
    "second_woman_dependents"
   ]
  },
  {
   "cell_type": "code",
   "execution_count": null,
   "metadata": {},
   "outputs": [],
   "source": [
    "... # PROMPT"
   ]
  },
  {
   "cell_type": "markdown",
   "metadata": {},
   "source": [
    "What if we had a list of how many family members 10 different people had? Could we use the same operators? Try it out below using the list called `dependents`."
   ]
  },
  {
   "cell_type": "code",
   "execution_count": null,
   "metadata": {},
   "outputs": [],
   "source": [
    "dependents = [1, 3, 1, 5, 6, 2, 1, 2, 3, 4] \n",
    "dependents"
   ]
  },
  {
   "cell_type": "code",
   "execution_count": null,
   "metadata": {},
   "outputs": [],
   "source": [
    "dependents >= 3"
   ]
  },
  {
   "cell_type": "markdown",
   "metadata": {},
   "source": [
    "We cannot check whether the elements inside the list meet the condition of being greater than or equal to 3. What happens if we wanted to check which of the women in the list had 3 children? What if we tried the statement below? What does the result mean?"
   ]
  },
  {
   "cell_type": "code",
   "execution_count": null,
   "metadata": {},
   "outputs": [],
   "source": [
    "dependents == 3"
   ]
  },
  {
   "cell_type": "markdown",
   "metadata": {},
   "source": [
    "**What happened above was that rather than check the elements in the list, Python checked if a list is the same as a number, which is False. This is something to keep in mind for future comparisons!**"
   ]
  },
  {
   "cell_type": "markdown",
   "metadata": {},
   "source": [
    "Another place you may use logical operators is on strings. Consider the case where we have a dictionary of dependent count paired with the names of women who have that number of dependents. "
   ]
  },
  {
   "cell_type": "code",
   "execution_count": null,
   "metadata": {},
   "outputs": [],
   "source": [
    "dependents_to_women = {'1':['Jessica', 'Natasha A.'], '2': ['Whitney', 'Natasha B.'], '3': ['Danielle', 'Valerie'], '4':['Chelsea', 'Karen'], '5+':['Robin', 'Marissa']}\n",
    "dependents_to_women"
   ]
  },
  {
   "cell_type": "markdown",
   "metadata": {},
   "source": [
    "By looking at the dictionary we see that there are two women with the same first name. Let's compare their names with the operators. First, make a variable called `one_dep` which contains all the values from the dictionary that match the key '1'. And make another variable called `two_dep` which contains all the values for the key '2'."
   ]
  },
  {
   "cell_type": "code",
   "execution_count": null,
   "metadata": {},
   "outputs": [],
   "source": [
    "... #PROMPT\n",
    "one_dep"
   ]
  },
  {
   "cell_type": "code",
   "execution_count": null,
   "metadata": {},
   "outputs": [],
   "source": [
    "... #PROMPT\n",
    "two_dep"
   ]
  },
  {
   "cell_type": "markdown",
   "metadata": {},
   "source": [
    "Using these variables compare the lists below. What is the result we expect to get? Double check that this matches your logic."
   ]
  },
  {
   "cell_type": "code",
   "execution_count": null,
   "metadata": {},
   "outputs": [],
   "source": [
    "one_dep == two_dep"
   ]
  },
  {
   "cell_type": "markdown",
   "metadata": {},
   "source": [
    "The result is false, because it is comparing whether the two lists contain the same values. However, the first woman in both of the lists is different, so the two lists are not equal. In the next cell, make two comparisons between the second element in each of the lists. You can use any operator you want, but get one to say `True` and another to say `False`. **Note: you must use the variables you created above.**"
   ]
  },
  {
   "cell_type": "code",
   "execution_count": null,
   "metadata": {},
   "outputs": [],
   "source": [
    "... #PROMPT"
   ]
  },
  {
   "cell_type": "code",
   "execution_count": null,
   "metadata": {},
   "outputs": [],
   "source": [
    "... # PROMPT"
   ]
  },
  {
   "cell_type": "code",
   "execution_count": null,
   "metadata": {},
   "outputs": [],
   "source": []
  }
 ],
 "metadata": {
  "kernelspec": {
   "display_name": "Python 3",
   "language": "python",
   "name": "python3"
  },
  "language_info": {
   "codemirror_mode": {
    "name": "ipython",
    "version": 3
   },
   "file_extension": ".py",
   "mimetype": "text/x-python",
   "name": "python",
   "nbconvert_exporter": "python",
   "pygments_lexer": "ipython3",
   "version": "3.8.2"
  }
 },
 "nbformat": 4,
 "nbformat_minor": 2
}
