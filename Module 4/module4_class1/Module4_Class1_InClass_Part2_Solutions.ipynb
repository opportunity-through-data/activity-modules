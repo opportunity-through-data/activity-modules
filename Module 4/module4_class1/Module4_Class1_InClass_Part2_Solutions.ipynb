{
 "cells": [
  {
   "cell_type": "markdown",
   "metadata": {},
   "source": [
    "# Activity 4: Sampling (Part 1: Logical Operators)"
   ]
  },
  {
   "cell_type": "markdown",
   "metadata": {},
   "source": [
    "## Problem 1: Logical Operators"
   ]
  },
  {
   "cell_type": "markdown",
   "metadata": {},
   "source": [
    "Common logical operators we will use in the course are `==`, `!=`, `>`, `>=`, `<`, `<=`. We can use these to compare individual numbers or strings! This module's activities will deal with WIC (Women, Infants, and Children) data. Let's consider the data on a smaller scale. Say we are looking at women in the table, who make less than $20,000 a year. We can analyze how many dependents these women have. The first woman we find in the dataset has 4 dependents. "
   ]
  },
  {
   "cell_type": "code",
   "execution_count": 1,
   "metadata": {},
   "outputs": [
    {
     "data": {
      "text/plain": [
       "4"
      ]
     },
     "execution_count": 1,
     "metadata": {},
     "output_type": "execute_result"
    }
   ],
   "source": [
    "first_woman_dependents = 4\n",
    "first_woman_dependents"
   ]
  },
  {
   "cell_type": "markdown",
   "metadata": {},
   "source": [
    "For women with less than $21,330 annual income, having 3 dependents means they are below the Federal poverty guidelines in California. If we wanted to check the number of `first_woman_dependents` against the guideline we could write an inequality."
   ]
  },
  {
   "cell_type": "code",
   "execution_count": 2,
   "metadata": {},
   "outputs": [
    {
     "data": {
      "text/plain": [
       "True"
      ]
     },
     "execution_count": 2,
     "metadata": {},
     "output_type": "execute_result"
    }
   ],
   "source": [
    "first_woman_dependents >= 3"
   ]
  },
  {
   "cell_type": "markdown",
   "metadata": {},
   "source": [
    "Make another variable named `second_woman_dependents`, where the second woman has 1 dependents and makes the same amount of money as the first woman. Write an inequality to check whether she would meet the Federal poverty guidelines."
   ]
  },
  {
   "cell_type": "code",
   "execution_count": 4,
   "metadata": {},
   "outputs": [
    {
     "data": {
      "text/plain": [
       "1"
      ]
     },
     "execution_count": 4,
     "metadata": {},
     "output_type": "execute_result"
    }
   ],
   "source": [
    "... # PROMPT\n",
    "second_woman_dependents = 1 # SOLUTION\n",
    "second_woman_dependents"
   ]
  },
  {
   "cell_type": "code",
   "execution_count": 5,
   "metadata": {},
   "outputs": [
    {
     "data": {
      "text/plain": [
       "False"
      ]
     },
     "execution_count": 5,
     "metadata": {},
     "output_type": "execute_result"
    }
   ],
   "source": [
    "... # PROMPT\n",
    "second_woman_dependents >= 3 # SOLUTION"
   ]
  },
  {
   "cell_type": "markdown",
   "metadata": {},
   "source": [
    "What if we had a list of how many family members 10 different people had? Could we use the same operators? Try it out below using the list called `dependents`."
   ]
  },
  {
   "cell_type": "code",
   "execution_count": 6,
   "metadata": {},
   "outputs": [
    {
     "data": {
      "text/plain": [
       "[1, 3, 1, 5, 6, 2, 1, 2, 3, 4]"
      ]
     },
     "execution_count": 6,
     "metadata": {},
     "output_type": "execute_result"
    }
   ],
   "source": [
    "dependents = [1, 3, 1, 5, 6, 2, 1, 2, 3, 4] \n",
    "dependents"
   ]
  },
  {
   "cell_type": "code",
   "execution_count": 7,
   "metadata": {},
   "outputs": [
    {
     "ename": "TypeError",
     "evalue": "'>=' not supported between instances of 'list' and 'int'",
     "output_type": "error",
     "traceback": [
      "\u001b[0;31m---------------------------------------------------------------------------\u001b[0m",
      "\u001b[0;31mTypeError\u001b[0m                                 Traceback (most recent call last)",
      "\u001b[0;32m<ipython-input-7-b41dd79e345b>\u001b[0m in \u001b[0;36m<module>\u001b[0;34m()\u001b[0m\n\u001b[0;32m----> 1\u001b[0;31m \u001b[0mdependents\u001b[0m \u001b[0;34m>=\u001b[0m \u001b[0;36m3\u001b[0m \u001b[0;31m#SOLUTION\u001b[0m\u001b[0;34m\u001b[0m\u001b[0;34m\u001b[0m\u001b[0m\n\u001b[0m\u001b[1;32m      2\u001b[0m \u001b[0;34m\u001b[0m\u001b[0m\n\u001b[1;32m      3\u001b[0m \u001b[0;31m## THIS WILL ERROR!!!\u001b[0m\u001b[0;34m\u001b[0m\u001b[0;34m\u001b[0m\u001b[0;34m\u001b[0m\u001b[0m\n",
      "\u001b[0;31mTypeError\u001b[0m: '>=' not supported between instances of 'list' and 'int'"
     ]
    }
   ],
   "source": [
    "dependents >= 3 #SOLUTION\n",
    "\n",
    "## THIS WILL ERROR!!! "
   ]
  },
  {
   "cell_type": "markdown",
   "metadata": {},
   "source": [
    "We cannot check whether the elements inside the list meet the condition of being greater than or equal to 3. What happens if we wanted to check which of the women in the list had 3 children? What if we tried the statement below? What does the result mean?"
   ]
  },
  {
   "cell_type": "code",
   "execution_count": 8,
   "metadata": {},
   "outputs": [
    {
     "data": {
      "text/plain": [
       "False"
      ]
     },
     "execution_count": 8,
     "metadata": {},
     "output_type": "execute_result"
    }
   ],
   "source": [
    "dependents == 3"
   ]
  },
  {
   "cell_type": "markdown",
   "metadata": {},
   "source": [
    "**What happened above was that rather than check the elements in the list, Python checked if a list is the same as a number, which is False. This is something to keep in mind for future comparisons!**"
   ]
  },
  {
   "cell_type": "markdown",
   "metadata": {},
   "source": [
    "Another place you may use logical operators is on strings. Consider the case where we have a dictionary of dependent count paired with the names of women who have that number of dependents. "
   ]
  },
  {
   "cell_type": "code",
   "execution_count": 9,
   "metadata": {},
   "outputs": [
    {
     "data": {
      "text/plain": [
       "{'1': ['Jessica', 'Natasha A.'],\n",
       " '2': ['Whitney', 'Natasha B.'],\n",
       " '3': ['Danielle', 'Valerie'],\n",
       " '4': ['Chelsea', 'Karen'],\n",
       " '5+': ['Robin', 'Marissa']}"
      ]
     },
     "execution_count": 9,
     "metadata": {},
     "output_type": "execute_result"
    }
   ],
   "source": [
    "dependents_to_women = {'1':['Jessica', 'Natasha A.'], '2': ['Whitney', 'Natasha B.'], '3': ['Danielle', 'Valerie'], '4':['Chelsea', 'Karen'], '5+':['Robin', 'Marissa']}\n",
    "dependents_to_women"
   ]
  },
  {
   "cell_type": "markdown",
   "metadata": {},
   "source": [
    "By looking at the dictionary we see that there are two women with the same first name. Let's compare their names with the operators. First, make a variable called `one_dep` which contains all the values from the dictionary that match the key '1'. And make another variable called `two_dep` which contains all the values for the key '2'."
   ]
  },
  {
   "cell_type": "code",
   "execution_count": 10,
   "metadata": {},
   "outputs": [
    {
     "data": {
      "text/plain": [
       "['Jessica', 'Natasha A.']"
      ]
     },
     "execution_count": 10,
     "metadata": {},
     "output_type": "execute_result"
    }
   ],
   "source": [
    "... #PROMPT\n",
    "one_dep = dependents_to_women['1'] #SOLUTION\n",
    "one_dep"
   ]
  },
  {
   "cell_type": "code",
   "execution_count": 11,
   "metadata": {},
   "outputs": [
    {
     "data": {
      "text/plain": [
       "['Whitney', 'Natasha B.']"
      ]
     },
     "execution_count": 11,
     "metadata": {},
     "output_type": "execute_result"
    }
   ],
   "source": [
    "... #PROMPT\n",
    "two_dep = dependents_to_women['2'] #SOLUTION\n",
    "two_dep"
   ]
  },
  {
   "cell_type": "markdown",
   "metadata": {},
   "source": [
    "Using these variables compare the lists below. What is the result we expect to get? Double check that this matches your logic."
   ]
  },
  {
   "cell_type": "code",
   "execution_count": 12,
   "metadata": {},
   "outputs": [
    {
     "data": {
      "text/plain": [
       "False"
      ]
     },
     "execution_count": 12,
     "metadata": {},
     "output_type": "execute_result"
    }
   ],
   "source": [
    "one_dep == two_dep"
   ]
  },
  {
   "cell_type": "markdown",
   "metadata": {},
   "source": [
    "The result is false, because it is comparing whether the two lists contain the same values. However, the first woman in both of the lists is different, so the two lists are not equal. In the next cell, make two comparisons between the second element in each of the lists. You can use any operator you want, but get one to say `True` and another to say `False`. **Note: you must use the variables you created above.**"
   ]
  },
  {
   "cell_type": "code",
   "execution_count": 13,
   "metadata": {},
   "outputs": [
    {
     "data": {
      "text/plain": [
       "False"
      ]
     },
     "execution_count": 13,
     "metadata": {},
     "output_type": "execute_result"
    }
   ],
   "source": [
    "... #PROMPT\n",
    "# POSSIBLE SOLUTION\n",
    "one_dep[1] == two_dep[1]"
   ]
  },
  {
   "cell_type": "code",
   "execution_count": 14,
   "metadata": {},
   "outputs": [
    {
     "data": {
      "text/plain": [
       "True"
      ]
     },
     "execution_count": 14,
     "metadata": {},
     "output_type": "execute_result"
    }
   ],
   "source": [
    "... # PROMPT\n",
    "# POSSIBLE SOLUTION\n",
    "one_dep[1] <= two_dep[1]"
   ]
  },
  {
   "cell_type": "code",
   "execution_count": null,
   "metadata": {
    "collapsed": true
   },
   "outputs": [],
   "source": []
  }
 ],
 "metadata": {
  "kernelspec": {
   "display_name": "Python 3",
   "language": "python",
   "name": "python3"
  },
  "language_info": {
   "codemirror_mode": {
    "name": "ipython",
    "version": 3
   },
   "file_extension": ".py",
   "mimetype": "text/x-python",
   "name": "python",
   "nbconvert_exporter": "python",
   "pygments_lexer": "ipython3",
   "version": "3.8.2"
  }
 },
 "nbformat": 4,
 "nbformat_minor": 2
}
