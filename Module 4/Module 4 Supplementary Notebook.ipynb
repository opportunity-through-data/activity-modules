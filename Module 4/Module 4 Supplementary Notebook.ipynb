{
 "cells": [
  {
   "cell_type": "markdown",
   "metadata": {},
   "source": [
    "# Opportunity Through Data: Module Four"
   ]
  },
  {
   "cell_type": "markdown",
   "metadata": {},
   "source": [
    "## Lesson One: Iteration"
   ]
  },
  {
   "cell_type": "markdown",
   "metadata": {},
   "source": [
    "Here are two ways of doing the same thing in the Python language."
   ]
  },
  {
   "cell_type": "code",
   "execution_count": 1,
   "metadata": {},
   "outputs": [
    {
     "name": "stdout",
     "output_type": "stream",
     "text": [
      "Hello!\n",
      "Hello!\n",
      "Hello!\n",
      "Hello!\n",
      "Hello!\n"
     ]
    }
   ],
   "source": [
    "#this one does not use a for loop\n",
    "print(\"Hello!\")\n",
    "print(\"Hello!\")\n",
    "print(\"Hello!\")\n",
    "print(\"Hello!\")\n",
    "print(\"Hello!\")"
   ]
  },
  {
   "cell_type": "code",
   "execution_count": 3,
   "metadata": {},
   "outputs": [
    {
     "name": "stdout",
     "output_type": "stream",
     "text": [
      "Hello!\n",
      "Hello!\n",
      "Hello!\n",
      "Hello!\n",
      "Hello!\n"
     ]
    }
   ],
   "source": [
    "# this one does use a for loop - see how much shorter it is?\n",
    "for i in range(5):\n",
    "    print(\"Hello!\")"
   ]
  },
  {
   "cell_type": "markdown",
   "metadata": {},
   "source": [
    "Which one seems more efficient to you? When using a for loop in Python, your code not only looks much nicer but is much more efficient for the programmer."
   ]
  },
  {
   "cell_type": "code",
   "execution_count": 4,
   "metadata": {},
   "outputs": [
    {
     "name": "stdout",
     "output_type": "stream",
     "text": [
      "Hi, my name is: Sarah\n",
      "Hi, my name is: Bob\n",
      "Hi, my name is: Jen\n",
      "Hi, my name is: Steven\n",
      "Hi, my name is: Mark\n",
      "Hi, my name is: Rose\n"
     ]
    }
   ],
   "source": [
    "# for loops can help you avoid repeating code - here is an example\n",
    "students = ['Sarah', 'Bob', 'Jen', 'Steven', 'Mark', 'Rose']\n",
    "for student in students:\n",
    "    print('Hi, my name is: ' + student)"
   ]
  },
  {
   "cell_type": "markdown",
   "metadata": {},
   "source": [
    "We are also able to iterate through a range of numbers."
   ]
  },
  {
   "cell_type": "code",
   "execution_count": 4,
   "metadata": {},
   "outputs": [
    {
     "name": "stdout",
     "output_type": "stream",
     "text": [
      "10\n",
      "11\n",
      "12\n",
      "13\n",
      "14\n",
      "15\n",
      "16\n",
      "17\n",
      "18\n",
      "19\n"
     ]
    }
   ],
   "source": [
    "# shows that range(a, b) goes from a to b-1\n",
    "for j in range(10,20):\n",
    "    print(j)"
   ]
  },
  {
   "cell_type": "code",
   "execution_count": 6,
   "metadata": {},
   "outputs": [
    {
     "data": {
      "text/plain": [
       "25"
      ]
     },
     "execution_count": 6,
     "metadata": {},
     "output_type": "execute_result"
    }
   ],
   "source": [
    "# one application of for loops\n",
    "numbers = [5,2,7,1,4,6]\n",
    "sum = 0\n",
    "for k in numbers:\n",
    "    sum = sum + k\n",
    "    \n",
    "sum"
   ]
  },
  {
   "cell_type": "markdown",
   "metadata": {},
   "source": [
    "## Lesson Two: Operators"
   ]
  },
  {
   "cell_type": "markdown",
   "metadata": {},
   "source": [
    "Logical operators can be likened to their English equivalents. `AND` means both, `OR` means either."
   ]
  },
  {
   "cell_type": "code",
   "execution_count": 7,
   "metadata": {},
   "outputs": [
    {
     "name": "stdout",
     "output_type": "stream",
     "text": [
      "False\n",
      "True\n",
      "False\n"
     ]
    }
   ],
   "source": [
    "# a few examples of logical operators\n",
    "\n",
    "tacos = True\n",
    "burritos = False\n",
    "\n",
    "print(tacos and burritos)\n",
    "print(tacos or burritos)\n",
    "print(not tacos)"
   ]
  },
  {
   "cell_type": "code",
   "execution_count": 8,
   "metadata": {},
   "outputs": [
    {
     "name": "stdout",
     "output_type": "stream",
     "text": [
      "True\n",
      "True\n",
      "False\n"
     ]
    }
   ],
   "source": [
    "# a few more abstract ones with more depth\n",
    "\n",
    "print(True and (True or False))\n",
    "print(True or True or False or not True)\n",
    "print(False or (not True or False))"
   ]
  },
  {
   "cell_type": "code",
   "execution_count": 9,
   "metadata": {},
   "outputs": [
    {
     "name": "stdout",
     "output_type": "stream",
     "text": [
      "True\n",
      "True\n",
      "True\n"
     ]
    }
   ],
   "source": [
    "# demonstrating that the or statement is inclusive\n",
    "\n",
    "print(True or False)\n",
    "print(False or True)\n",
    "print(True or True)"
   ]
  },
  {
   "cell_type": "markdown",
   "metadata": {},
   "source": [
    "Arithmetic Operators can be used to compare equivalency of values among other things."
   ]
  },
  {
   "cell_type": "code",
   "execution_count": 10,
   "metadata": {},
   "outputs": [
    {
     "name": "stdout",
     "output_type": "stream",
     "text": [
      "True\n",
      "False\n",
      "True\n",
      "True\n",
      "True\n"
     ]
    }
   ],
   "source": [
    "# now some arithmetic operators\n",
    "x = 6\n",
    "y = -3\n",
    "z = -3\n",
    "\n",
    "print(x > y)\n",
    "print(x == y)\n",
    "print(x != y)\n",
    "print(y == z)\n",
    "print(y >= z)"
   ]
  },
  {
   "cell_type": "markdown",
   "metadata": {},
   "source": [
    "## Lesson Three: Conditional Statements"
   ]
  },
  {
   "cell_type": "markdown",
   "metadata": {},
   "source": [
    "If statements are a common form of conditional statements in the Python language that allow the programmer to control the flow of their program."
   ]
  },
  {
   "cell_type": "code",
   "execution_count": 7,
   "metadata": {},
   "outputs": [
    {
     "name": "stdout",
     "output_type": "stream",
     "text": [
      "x is 7!\n"
     ]
    }
   ],
   "source": [
    "# first if statement example\n",
    "\n",
    "x = 7\n",
    "\n",
    "if x == 7:\n",
    "    print('x is 7!')"
   ]
  },
  {
   "cell_type": "code",
   "execution_count": 8,
   "metadata": {},
   "outputs": [
    {
     "name": "stdout",
     "output_type": "stream",
     "text": [
      "x is 7!\n"
     ]
    }
   ],
   "source": [
    "# introducing the else statement\n",
    "\n",
    "if x == 7:\n",
    "    print('x is 7!')\n",
    "else:\n",
    "    print('x is not 7!')"
   ]
  },
  {
   "cell_type": "code",
   "execution_count": 13,
   "metadata": {},
   "outputs": [
    {
     "name": "stdout",
     "output_type": "stream",
     "text": [
      "A\n"
     ]
    }
   ],
   "source": [
    "# introducing the elif - also note that once one statement executes the code ends\n",
    "\n",
    "score = 93\n",
    "\n",
    "if score >= 90:\n",
    "    grade = 'A'\n",
    "elif score >= 80:\n",
    "    grade = 'B'\n",
    "elif score >= 70:\n",
    "    grade = 'C'\n",
    "elif score >= 60:\n",
    "    grade = 'D'\n",
    "else:\n",
    "    grade = 'F'\n",
    "    \n",
    "print(grade)"
   ]
  },
  {
   "cell_type": "markdown",
   "metadata": {},
   "source": [
    "## A Final Example"
   ]
  },
  {
   "cell_type": "markdown",
   "metadata": {},
   "source": [
    "All three of the above topics fit well together when applied to a more realistic situation such as a dice roll. Let's use the techniques that we just learned about programming logic to complete a final, cumulative example."
   ]
  },
  {
   "cell_type": "code",
   "execution_count": 16,
   "metadata": {},
   "outputs": [],
   "source": [
    "# setting up a random function for later\n",
    "\n",
    "from random import *\n",
    "\n",
    "def dice_roll():\n",
    "    return randint(1,6)"
   ]
  },
  {
   "cell_type": "code",
   "execution_count": 17,
   "metadata": {},
   "outputs": [
    {
     "name": "stdout",
     "output_type": "stream",
     "text": [
      "0.162\n"
     ]
    }
   ],
   "source": [
    "# final example \n",
    "# students don't need to know how the randomness works, just abstract it to a 6 sided die\n",
    "# we are going to count the fraction of ones in this roll\n",
    "\n",
    "count = 0\n",
    "for i in range(10000):\n",
    "    roll = dice_roll()\n",
    "    if roll == 1:\n",
    "        count = count + 1\n",
    "\n",
    "print(count / 10000) #the proportion of ones\n"
   ]
  },
  {
   "cell_type": "markdown",
   "metadata": {},
   "source": [
    "Repurpose the following code (...) in order to achieve the desired result."
   ]
  },
  {
   "cell_type": "code",
   "execution_count": 18,
   "metadata": {},
   "outputs": [
    {
     "name": "stdout",
     "output_type": "stream",
     "text": [
      "0.5008\n",
      "0.343\n"
     ]
    }
   ],
   "source": [
    "# let students try these exercises on their own\n",
    "\n",
    "# 1. repurpose the above code so that it counts the fraction of even numbers\n",
    "\n",
    "count = 0\n",
    "for i in range(10000):\n",
    "    roll = dice_roll()\n",
    "    if (...) == 0:\n",
    "        count = ...\n",
    "\n",
    "print(count / 10000) #the proportion of ones\n",
    "\n",
    "# 2. repurpose the above code so that it counts the fraction of ones and sixes\n",
    "\n",
    "count = 0\n",
    "for i in range(10000):\n",
    "    roll = dice_roll()\n",
    "    if ( ... or ... ):\n",
    "        count = ...\n",
    "\n",
    "print(count / 10000) #the proportion of ones"
   ]
  },
  {
   "cell_type": "markdown",
   "metadata": {},
   "source": [
    "## You've now complete Module 4 of Opportunity Through Data's Course!"
   ]
  },
  {
   "cell_type": "code",
   "execution_count": null,
   "metadata": {},
   "outputs": [],
   "source": []
  }
 ],
 "metadata": {
  "kernelspec": {
   "display_name": "Python 3",
   "language": "python",
   "name": "python3"
  },
  "language_info": {
   "codemirror_mode": {
    "name": "ipython",
    "version": 3
   },
   "file_extension": ".py",
   "mimetype": "text/x-python",
   "name": "python",
   "nbconvert_exporter": "python",
   "pygments_lexer": "ipython3",
   "version": "3.7.4"
  }
 },
 "nbformat": 4,
 "nbformat_minor": 2
}
