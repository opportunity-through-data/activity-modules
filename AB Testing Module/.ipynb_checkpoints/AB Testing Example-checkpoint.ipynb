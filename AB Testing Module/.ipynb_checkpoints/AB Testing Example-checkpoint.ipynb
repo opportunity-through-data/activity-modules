{
 "cells": [
  {
   "cell_type": "code",
   "execution_count": 1,
   "id": "commercial-drill",
   "metadata": {},
   "outputs": [],
   "source": [
    "%matplotlib inline\n",
    "\n",
    "from datascience import *\n",
    "import numpy as np\n",
    "import matplotlib\n",
    "import matplotlib.pyplot as plt"
   ]
  },
  {
   "cell_type": "code",
   "execution_count": 34,
   "id": "married-newman",
   "metadata": {},
   "outputs": [],
   "source": [
    "cc = Table.read_table('cookie_cats.csv')\n",
    "cookie_cats = cc.select('version', 'sum_gamerounds')"
   ]
  },
  {
   "cell_type": "code",
   "execution_count": 35,
   "id": "emotional-problem",
   "metadata": {},
   "outputs": [
    {
     "data": {
      "text/html": [
       "<table border=\"1\" class=\"dataframe\">\n",
       "    <thead>\n",
       "        <tr>\n",
       "            <th>version</th> <th>sum_gamerounds</th>\n",
       "        </tr>\n",
       "    </thead>\n",
       "    <tbody>\n",
       "        <tr>\n",
       "            <td>gate_30</td> <td>3             </td>\n",
       "        </tr>\n",
       "        <tr>\n",
       "            <td>gate_30</td> <td>38            </td>\n",
       "        </tr>\n",
       "        <tr>\n",
       "            <td>gate_40</td> <td>165           </td>\n",
       "        </tr>\n",
       "        <tr>\n",
       "            <td>gate_40</td> <td>1             </td>\n",
       "        </tr>\n",
       "        <tr>\n",
       "            <td>gate_40</td> <td>179           </td>\n",
       "        </tr>\n",
       "        <tr>\n",
       "            <td>gate_40</td> <td>187           </td>\n",
       "        </tr>\n",
       "        <tr>\n",
       "            <td>gate_30</td> <td>0             </td>\n",
       "        </tr>\n",
       "        <tr>\n",
       "            <td>gate_40</td> <td>2             </td>\n",
       "        </tr>\n",
       "        <tr>\n",
       "            <td>gate_40</td> <td>108           </td>\n",
       "        </tr>\n",
       "        <tr>\n",
       "            <td>gate_40</td> <td>153           </td>\n",
       "        </tr>\n",
       "    </tbody>\n",
       "</table>\n",
       "<p>... (90179 rows omitted)</p>"
      ],
      "text/plain": [
       "version | sum_gamerounds\n",
       "gate_30 | 3\n",
       "gate_30 | 38\n",
       "gate_40 | 165\n",
       "gate_40 | 1\n",
       "gate_40 | 179\n",
       "gate_40 | 187\n",
       "gate_30 | 0\n",
       "gate_40 | 2\n",
       "gate_40 | 108\n",
       "gate_40 | 153\n",
       "... (90179 rows omitted)"
      ]
     },
     "execution_count": 35,
     "metadata": {},
     "output_type": "execute_result"
    }
   ],
   "source": [
    "cookie_cats"
   ]
  },
  {
   "cell_type": "code",
   "execution_count": 36,
   "id": "light-engineering",
   "metadata": {},
   "outputs": [
    {
     "data": {
      "text/html": [
       "<table border=\"1\" class=\"dataframe\">\n",
       "    <thead>\n",
       "        <tr>\n",
       "            <th>version</th> <th>sum_gamerounds average</th>\n",
       "        </tr>\n",
       "    </thead>\n",
       "    <tbody>\n",
       "        <tr>\n",
       "            <td>gate_30</td> <td>52.4563               </td>\n",
       "        </tr>\n",
       "        <tr>\n",
       "            <td>gate_40</td> <td>51.2988               </td>\n",
       "        </tr>\n",
       "    </tbody>\n",
       "</table>"
      ],
      "text/plain": [
       "version | sum_gamerounds average\n",
       "gate_30 | 52.4563\n",
       "gate_40 | 51.2988"
      ]
     },
     "execution_count": 36,
     "metadata": {},
     "output_type": "execute_result"
    }
   ],
   "source": [
    "cookie_cats.group('version', np.average)"
   ]
  },
  {
   "cell_type": "code",
   "execution_count": 41,
   "id": "built-shoot",
   "metadata": {},
   "outputs": [],
   "source": []
  },
  {
   "cell_type": "code",
   "execution_count": null,
   "id": "forward-mouse",
   "metadata": {},
   "outputs": [],
   "source": []
  }
 ],
 "metadata": {
  "kernelspec": {
   "display_name": "Python 3",
   "language": "python",
   "name": "python3"
  },
  "language_info": {
   "codemirror_mode": {
    "name": "ipython",
    "version": 3
   },
   "file_extension": ".py",
   "mimetype": "text/x-python",
   "name": "python",
   "nbconvert_exporter": "python",
   "pygments_lexer": "ipython3",
   "version": "3.8.5"
  }
 },
 "nbformat": 4,
 "nbformat_minor": 5
}
