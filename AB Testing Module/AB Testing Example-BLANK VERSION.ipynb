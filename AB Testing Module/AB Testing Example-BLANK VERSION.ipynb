{
 "cells": [
  {
   "cell_type": "markdown",
   "id": "worth-triumph",
   "metadata": {},
   "source": [
    "# A/B Testing Example\n",
    "\n",
    "We will now run through the steps in A/B testing through an example. Consider the following scenario: Cal, a student at UC Berkeley, is signing up for classes and gets to decide between taking his Data Science class in the morning or in the afternoon. He has heard from some students that students in the afternoon class get better grades on their finals. Cal wants to determine whether there is truly a difference between the distributions of students in the morning classes and the afternoon classes, or whether this difference he observed was due to the people he talked to (random chance)."
   ]
  },
  {
   "cell_type": "code",
   "execution_count": 14,
   "id": "commercial-drill",
   "metadata": {},
   "outputs": [],
   "source": [
    "%matplotlib inline\n",
    "\n",
    "from datascience import *\n",
    "import numpy as np\n",
    "import matplotlib\n",
    "import matplotlib.pyplot as plt"
   ]
  },
  {
   "cell_type": "markdown",
   "id": "opened-allowance",
   "metadata": {},
   "source": [
    "### Data:\n",
    "Cal has randomly asked students in the morning class and the afternoon class about their grade on the final. He collected this data in a table called classes. "
   ]
  },
  {
   "cell_type": "code",
   "execution_count": 2,
   "id": "married-newman",
   "metadata": {},
   "outputs": [
    {
     "data": {
      "text/html": [
       "<table border=\"1\" class=\"dataframe\">\n",
       "    <thead>\n",
       "        <tr>\n",
       "            <th>Time</th> <th>Score</th>\n",
       "        </tr>\n",
       "    </thead>\n",
       "    <tbody>\n",
       "        <tr>\n",
       "            <td>am  </td> <td>77.9 </td>\n",
       "        </tr>\n",
       "        <tr>\n",
       "            <td>am  </td> <td>71.8 </td>\n",
       "        </tr>\n",
       "        <tr>\n",
       "            <td>am  </td> <td>71.6 </td>\n",
       "        </tr>\n",
       "        <tr>\n",
       "            <td>am  </td> <td>74.2 </td>\n",
       "        </tr>\n",
       "        <tr>\n",
       "            <td>am  </td> <td>73.9 </td>\n",
       "        </tr>\n",
       "        <tr>\n",
       "            <td>am  </td> <td>76.2 </td>\n",
       "        </tr>\n",
       "        <tr>\n",
       "            <td>am  </td> <td>76.2 </td>\n",
       "        </tr>\n",
       "        <tr>\n",
       "            <td>am  </td> <td>73.5 </td>\n",
       "        </tr>\n",
       "        <tr>\n",
       "            <td>am  </td> <td>70.7 </td>\n",
       "        </tr>\n",
       "        <tr>\n",
       "            <td>am  </td> <td>69.5 </td>\n",
       "        </tr>\n",
       "    </tbody>\n",
       "</table>\n",
       "<p>... (990 rows omitted)</p>"
      ],
      "text/plain": [
       "Time | Score\n",
       "am   | 77.9\n",
       "am   | 71.8\n",
       "am   | 71.6\n",
       "am   | 74.2\n",
       "am   | 73.9\n",
       "am   | 76.2\n",
       "am   | 76.2\n",
       "am   | 73.5\n",
       "am   | 70.7\n",
       "am   | 69.5\n",
       "... (990 rows omitted)"
      ]
     },
     "execution_count": 2,
     "metadata": {},
     "output_type": "execute_result"
    }
   ],
   "source": [
    "classes = Table.read_table('classesdata.csv')\n",
    "classes"
   ]
  },
  {
   "cell_type": "code",
   "execution_count": 3,
   "id": "meaning-scott",
   "metadata": {},
   "outputs": [
    {
     "data": {
      "text/html": [
       "<table border=\"1\" class=\"dataframe\">\n",
       "    <thead>\n",
       "        <tr>\n",
       "            <th>Time</th> <th>Score average</th>\n",
       "        </tr>\n",
       "    </thead>\n",
       "    <tbody>\n",
       "        <tr>\n",
       "            <td>am  </td> <td>74.745       </td>\n",
       "        </tr>\n",
       "        <tr>\n",
       "            <td>pm  </td> <td>75.056       </td>\n",
       "        </tr>\n",
       "    </tbody>\n",
       "</table>"
      ],
      "text/plain": [
       "Time | Score average\n",
       "am   | 74.745\n",
       "pm   | 75.056"
      ]
     },
     "execution_count": 3,
     "metadata": {},
     "output_type": "execute_result"
    }
   ],
   "source": [
    "classes.group('Time', np.average)"
   ]
  },
  {
   "cell_type": "code",
   "execution_count": 19,
   "id": "careful-fiction",
   "metadata": {},
   "outputs": [
    {
     "data": {
      "image/png": "[encoded data removed]",
      "text/plain": [
       "<Figure size 432x288 with 1 Axes>"
      ]
     },
     "metadata": {
      "needs_background": "light"
     },
     "output_type": "display_data"
    }
   ],
   "source": [
    "classes.hist('Score', group='Time')"
   ]
  },
  {
   "cell_type": "markdown",
   "id": "innovative-venture",
   "metadata": {},
   "source": [
    "## 1. Formulate hypotheses."
   ]
  },
  {
   "cell_type": "markdown",
   "id": "initial-nomination",
   "metadata": {},
   "source": [
    "Null hypothesis:\n",
    "\n",
    "Alternative hypothesis:"
   ]
  },
  {
   "cell_type": "markdown",
   "id": "adaptive-central",
   "metadata": {},
   "source": [
    "## 2. Define test statistic."
   ]
  },
  {
   "cell_type": "markdown",
   "id": "british-understanding",
   "metadata": {},
   "source": [
    "Test statistic = avg afternoon grade - avg morning grade"
   ]
  },
  {
   "cell_type": "markdown",
   "id": "clear-facility",
   "metadata": {},
   "source": [
    "## 3. Calculate observed value of the test statistic."
   ]
  },
  {
   "cell_type": "code",
   "execution_count": 5,
   "id": "spanish-orbit",
   "metadata": {},
   "outputs": [
    {
     "data": {
      "text/html": [
       "<table border=\"1\" class=\"dataframe\">\n",
       "    <thead>\n",
       "        <tr>\n",
       "            <th>Time</th> <th>Score average</th>\n",
       "        </tr>\n",
       "    </thead>\n",
       "    <tbody>\n",
       "        <tr>\n",
       "            <td>am  </td> <td>74.745       </td>\n",
       "        </tr>\n",
       "        <tr>\n",
       "            <td>pm  </td> <td>75.056       </td>\n",
       "        </tr>\n",
       "    </tbody>\n",
       "</table>"
      ],
      "text/plain": [
       "Time | Score average\n",
       "am   | 74.745\n",
       "pm   | 75.056"
      ]
     },
     "execution_count": 5,
     "metadata": {},
     "output_type": "execute_result"
    }
   ],
   "source": [
    "means_table = ...\n",
    "means_table"
   ]
  },
  {
   "cell_type": "code",
   "execution_count": 6,
   "id": "undefined-xerox",
   "metadata": {},
   "outputs": [
    {
     "data": {
      "text/plain": [
       "0.31099999999999284"
      ]
     },
     "execution_count": 6,
     "metadata": {},
     "output_type": "execute_result"
    }
   ],
   "source": [
    "observed_stat = ...\n",
    "observed_stat"
   ]
  },
  {
   "cell_type": "markdown",
   "id": "electrical-wages",
   "metadata": {},
   "source": [
    "## 4. Simulate test statistic under the null hypothesis."
   ]
  },
  {
   "cell_type": "code",
   "execution_count": 7,
   "id": "limited-chester",
   "metadata": {},
   "outputs": [
    {
     "data": {
      "text/html": [
       "<table border=\"1\" class=\"dataframe\">\n",
       "    <thead>\n",
       "        <tr>\n",
       "            <th>Time</th> <th>Score</th> <th>Shuffled Label</th>\n",
       "        </tr>\n",
       "    </thead>\n",
       "    <tbody>\n",
       "        <tr>\n",
       "            <td>am  </td> <td>77.9 </td> <td>pm            </td>\n",
       "        </tr>\n",
       "        <tr>\n",
       "            <td>am  </td> <td>71.8 </td> <td>am            </td>\n",
       "        </tr>\n",
       "        <tr>\n",
       "            <td>am  </td> <td>71.6 </td> <td>pm            </td>\n",
       "        </tr>\n",
       "        <tr>\n",
       "            <td>am  </td> <td>74.2 </td> <td>pm            </td>\n",
       "        </tr>\n",
       "        <tr>\n",
       "            <td>am  </td> <td>73.9 </td> <td>am            </td>\n",
       "        </tr>\n",
       "        <tr>\n",
       "            <td>am  </td> <td>76.2 </td> <td>am            </td>\n",
       "        </tr>\n",
       "        <tr>\n",
       "            <td>am  </td> <td>76.2 </td> <td>am            </td>\n",
       "        </tr>\n",
       "        <tr>\n",
       "            <td>am  </td> <td>73.5 </td> <td>pm            </td>\n",
       "        </tr>\n",
       "        <tr>\n",
       "            <td>am  </td> <td>70.7 </td> <td>pm            </td>\n",
       "        </tr>\n",
       "        <tr>\n",
       "            <td>am  </td> <td>69.5 </td> <td>am            </td>\n",
       "        </tr>\n",
       "    </tbody>\n",
       "</table>\n",
       "<p>... (990 rows omitted)</p>"
      ],
      "text/plain": [
       "Time | Score | Shuffled Label\n",
       "am   | 77.9  | pm\n",
       "am   | 71.8  | am\n",
       "am   | 71.6  | pm\n",
       "am   | 74.2  | pm\n",
       "am   | 73.9  | am\n",
       "am   | 76.2  | am\n",
       "am   | 76.2  | am\n",
       "am   | 73.5  | pm\n",
       "am   | 70.7  | pm\n",
       "am   | 69.5  | am\n",
       "... (990 rows omitted)"
      ]
     },
     "execution_count": 7,
     "metadata": {},
     "output_type": "execute_result"
    }
   ],
   "source": [
    "## Shuffle the labels\n",
    "\n",
    "shuffled = ...\n",
    "tbl_w_shuffled = ...\n",
    "tbl_w_shuffled"
   ]
  },
  {
   "cell_type": "code",
   "execution_count": 8,
   "id": "standing-sydney",
   "metadata": {},
   "outputs": [
    {
     "data": {
      "text/html": [
       "<table border=\"1\" class=\"dataframe\">\n",
       "    <thead>\n",
       "        <tr>\n",
       "            <th>Shuffled Label</th> <th>Score average</th>\n",
       "        </tr>\n",
       "    </thead>\n",
       "    <tbody>\n",
       "        <tr>\n",
       "            <td>am            </td> <td>74.776       </td>\n",
       "        </tr>\n",
       "        <tr>\n",
       "            <td>pm            </td> <td>75.025       </td>\n",
       "        </tr>\n",
       "    </tbody>\n",
       "</table>"
      ],
      "text/plain": [
       "Shuffled Label | Score average\n",
       "am             | 74.776\n",
       "pm             | 75.025"
      ]
     },
     "execution_count": 8,
     "metadata": {},
     "output_type": "execute_result"
    }
   ],
   "source": [
    "## Calculate the test statistic with these shuffled labels\n",
    "shuffled_tbl = ...\n",
    "shuffled_group_means = ...\n",
    "shuffled_group_means"
   ]
  },
  {
   "cell_type": "code",
   "execution_count": 9,
   "id": "assumed-maria",
   "metadata": {},
   "outputs": [],
   "source": [
    "## Create a function to do this process many times\n",
    "\n",
    "def calculate_test_stat(tbl, label, group_label):\n",
    "    ...\n",
    "    return ..."
   ]
  },
  {
   "cell_type": "code",
   "execution_count": 10,
   "id": "devoted-accountability",
   "metadata": {},
   "outputs": [
    {
     "data": {
      "text/plain": [
       "-0.22819999999998686"
      ]
     },
     "execution_count": 10,
     "metadata": {},
     "output_type": "execute_result"
    }
   ],
   "source": [
    "calculate_test_stat(classes, 'Score', 'Time')"
   ]
  },
  {
   "cell_type": "code",
   "execution_count": 11,
   "id": "equivalent-million",
   "metadata": {},
   "outputs": [
    {
     "data": {
      "text/plain": [
       "array([-0.145 ,  0.0138,  0.045 , ...,  0.0094, -0.1382, -0.0666])"
      ]
     },
     "execution_count": 11,
     "metadata": {},
     "output_type": "execute_result"
    }
   ],
   "source": [
    "## How can we do this process many times and store the simulated test stat each time?\n",
    "## This will help us to understand the variance of the test statistic\n",
    "\n",
    "diffs = ...\n",
    "\n",
    "...\n",
    "\n",
    "\n",
    "diffs"
   ]
  },
  {
   "cell_type": "markdown",
   "id": "foreign-decimal",
   "metadata": {},
   "source": [
    "## 5. Make a conclusion."
   ]
  },
  {
   "cell_type": "code",
   "execution_count": 15,
   "id": "contemporary-multimedia",
   "metadata": {},
   "outputs": [
    {
     "data": {
      "image/png": "[encoded data removed]",
      "text/plain": [
       "<Figure size 432x288 with 1 Axes>"
      ]
     },
     "metadata": {
      "needs_background": "light"
     },
     "output_type": "display_data"
    }
   ],
   "source": [
    "## Plot the distribution of the simulated test statistics.\n",
    "\n",
    "Table().with_column('Difference Between Group Means', diffs).hist()\n",
    "plt.title('Prediction Under the Null Hypothesis');"
   ]
  },
  {
   "cell_type": "code",
   "execution_count": 20,
   "id": "agreed-bobby",
   "metadata": {},
   "outputs": [
    {
     "data": {
      "text/plain": [
       "0.0554"
      ]
     },
     "execution_count": 20,
     "metadata": {},
     "output_type": "execute_result"
    }
   ],
   "source": [
    "## Calculate the p-value\n",
    "\n",
    "p_val = ...\n",
    "p_val"
   ]
  },
  {
   "cell_type": "code",
   "execution_count": null,
   "id": "light-interstate",
   "metadata": {},
   "outputs": [],
   "source": []
  }
 ],
 "metadata": {
  "kernelspec": {
   "display_name": "Python 3",
   "language": "python",
   "name": "python3"
  },
  "language_info": {
   "codemirror_mode": {
    "name": "ipython",
    "version": 3
   },
   "file_extension": ".py",
   "mimetype": "text/x-python",
   "name": "python",
   "nbconvert_exporter": "python",
   "pygments_lexer": "ipython3",
   "version": "3.8.5"
  }
 },
 "nbformat": 4,
 "nbformat_minor": 5
}
