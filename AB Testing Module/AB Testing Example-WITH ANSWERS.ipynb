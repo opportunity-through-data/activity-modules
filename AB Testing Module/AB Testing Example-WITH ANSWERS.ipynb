{
 "cells": [
  {
   "cell_type": "markdown",
   "id": "worth-triumph",
   "metadata": {},
   "source": [
    "# A/B Testing Example\n",
    "\n",
    "We will now run through the steps in A/B testing through an example. Consider the following scenario: Cal, a student at UC Berkeley, is signing up for classes and gets to decide between taking his Data Science class in the morning or in the afternoon. He has heard from some students that students in the afternoon class get better grades on their finals. Cal wants to determine whether there is truly a difference between the distributions of students in the morning classes and the afternoon classes, or whether this difference he observed was due to the people he talked to (random chance)."
   ]
  },
  {
   "cell_type": "code",
   "execution_count": 38,
   "id": "commercial-drill",
   "metadata": {},
   "outputs": [],
   "source": [
    "%matplotlib inline\n",
    "\n",
    "from datascience import *\n",
    "import numpy as np\n",
    "import matplotlib\n",
    "import matplotlib.pyplot as plt"
   ]
  },
  {
   "cell_type": "markdown",
   "id": "opened-allowance",
   "metadata": {},
   "source": [
    "### Data:\n",
    "Cal has randomly asked students in the morning class and the afternoon class about their grade on the final. He collected this data in a table called classes. "
   ]
  },
  {
   "cell_type": "code",
   "execution_count": 39,
   "id": "married-newman",
   "metadata": {},
   "outputs": [
    {
     "data": {
      "text/html": [
       "<table border=\"1\" class=\"dataframe\">\n",
       "    <thead>\n",
       "        <tr>\n",
       "            <th>Time</th> <th>Score</th>\n",
       "        </tr>\n",
       "    </thead>\n",
       "    <tbody>\n",
       "        <tr>\n",
       "            <td>am  </td> <td>73.9 </td>\n",
       "        </tr>\n",
       "        <tr>\n",
       "            <td>am  </td> <td>75.9 </td>\n",
       "        </tr>\n",
       "        <tr>\n",
       "            <td>am  </td> <td>79.8 </td>\n",
       "        </tr>\n",
       "        <tr>\n",
       "            <td>am  </td> <td>76.5 </td>\n",
       "        </tr>\n",
       "        <tr>\n",
       "            <td>am  </td> <td>76.4 </td>\n",
       "        </tr>\n",
       "        <tr>\n",
       "            <td>am  </td> <td>82   </td>\n",
       "        </tr>\n",
       "        <tr>\n",
       "            <td>am  </td> <td>74.5 </td>\n",
       "        </tr>\n",
       "        <tr>\n",
       "            <td>am  </td> <td>81.3 </td>\n",
       "        </tr>\n",
       "        <tr>\n",
       "            <td>am  </td> <td>77.1 </td>\n",
       "        </tr>\n",
       "        <tr>\n",
       "            <td>am  </td> <td>82.3 </td>\n",
       "        </tr>\n",
       "    </tbody>\n",
       "</table>\n",
       "<p>... (990 rows omitted)</p>"
      ],
      "text/plain": [
       "Time | Score\n",
       "am   | 73.9\n",
       "am   | 75.9\n",
       "am   | 79.8\n",
       "am   | 76.5\n",
       "am   | 76.4\n",
       "am   | 82\n",
       "am   | 74.5\n",
       "am   | 81.3\n",
       "am   | 77.1\n",
       "am   | 82.3\n",
       "... (990 rows omitted)"
      ]
     },
     "execution_count": 39,
     "metadata": {},
     "output_type": "execute_result"
    }
   ],
   "source": [
    "classes = Table.read_table('grades.csv')\n",
    "classes"
   ]
  },
  {
   "cell_type": "code",
   "execution_count": 40,
   "id": "meaning-scott",
   "metadata": {},
   "outputs": [
    {
     "data": {
      "text/html": [
       "<table border=\"1\" class=\"dataframe\">\n",
       "    <thead>\n",
       "        <tr>\n",
       "            <th>Time</th> <th>Score average</th>\n",
       "        </tr>\n",
       "    </thead>\n",
       "    <tbody>\n",
       "        <tr>\n",
       "            <td>am  </td> <td>77.9286      </td>\n",
       "        </tr>\n",
       "        <tr>\n",
       "            <td>pm  </td> <td>75.0176      </td>\n",
       "        </tr>\n",
       "    </tbody>\n",
       "</table>"
      ],
      "text/plain": [
       "Time | Score average\n",
       "am   | 77.9286\n",
       "pm   | 75.0176"
      ]
     },
     "execution_count": 40,
     "metadata": {},
     "output_type": "execute_result"
    }
   ],
   "source": [
    "classes.group('Time', np.average)"
   ]
  },
  {
   "cell_type": "code",
   "execution_count": 41,
   "id": "careful-fiction",
   "metadata": {},
   "outputs": [
    {
     "data": {
      "image/png": "[encoded data removed]",
      "text/plain": [
       "<Figure size 432x288 with 1 Axes>"
      ]
     },
     "metadata": {
      "needs_background": "light"
     },
     "output_type": "display_data"
    }
   ],
   "source": [
    "classes.hist('Score', group='Time')"
   ]
  },
  {
   "cell_type": "markdown",
   "id": "innovative-venture",
   "metadata": {},
   "source": [
    "## 1. Formulate hypotheses."
   ]
  },
  {
   "cell_type": "markdown",
   "id": "initial-nomination",
   "metadata": {},
   "source": [
    "Null hypothesis:\n",
    "\n",
    "Alternative hypothesis:"
   ]
  },
  {
   "cell_type": "markdown",
   "id": "adaptive-central",
   "metadata": {},
   "source": [
    "## 2. Define test statistic."
   ]
  },
  {
   "cell_type": "markdown",
   "id": "british-understanding",
   "metadata": {},
   "source": [
    "Test statistic = avg morning grade - avg afternoon grade"
   ]
  },
  {
   "cell_type": "markdown",
   "id": "clear-facility",
   "metadata": {},
   "source": [
    "## 3. Calculate observed value of the test statistic."
   ]
  },
  {
   "cell_type": "code",
   "execution_count": 42,
   "id": "spanish-orbit",
   "metadata": {},
   "outputs": [
    {
     "data": {
      "text/html": [
       "<table border=\"1\" class=\"dataframe\">\n",
       "    <thead>\n",
       "        <tr>\n",
       "            <th>Time</th> <th>Score average</th>\n",
       "        </tr>\n",
       "    </thead>\n",
       "    <tbody>\n",
       "        <tr>\n",
       "            <td>am  </td> <td>77.9286      </td>\n",
       "        </tr>\n",
       "        <tr>\n",
       "            <td>pm  </td> <td>75.0176      </td>\n",
       "        </tr>\n",
       "    </tbody>\n",
       "</table>"
      ],
      "text/plain": [
       "Time | Score average\n",
       "am   | 77.9286\n",
       "pm   | 75.0176"
      ]
     },
     "execution_count": 42,
     "metadata": {},
     "output_type": "execute_result"
    }
   ],
   "source": [
    "means_table = classes.group('Time', np.average)\n",
    "means_table"
   ]
  },
  {
   "cell_type": "code",
   "execution_count": 43,
   "id": "undefined-xerox",
   "metadata": {},
   "outputs": [
    {
     "data": {
      "text/plain": [
       "2.9110000000000014"
      ]
     },
     "execution_count": 43,
     "metadata": {},
     "output_type": "execute_result"
    }
   ],
   "source": [
    "observed_stat = means_table.column('Score average')[0] - means_table.column('Score average')[1]\n",
    "observed_stat"
   ]
  },
  {
   "cell_type": "markdown",
   "id": "electrical-wages",
   "metadata": {},
   "source": [
    "## 4. Simulate test statistic under the null hypothesis."
   ]
  },
  {
   "cell_type": "code",
   "execution_count": 44,
   "id": "limited-chester",
   "metadata": {},
   "outputs": [
    {
     "data": {
      "text/html": [
       "<table border=\"1\" class=\"dataframe\">\n",
       "    <thead>\n",
       "        <tr>\n",
       "            <th>Time</th> <th>Score</th> <th>Shuffled Label</th>\n",
       "        </tr>\n",
       "    </thead>\n",
       "    <tbody>\n",
       "        <tr>\n",
       "            <td>am  </td> <td>73.9 </td> <td>am            </td>\n",
       "        </tr>\n",
       "        <tr>\n",
       "            <td>am  </td> <td>75.9 </td> <td>am            </td>\n",
       "        </tr>\n",
       "        <tr>\n",
       "            <td>am  </td> <td>79.8 </td> <td>am            </td>\n",
       "        </tr>\n",
       "        <tr>\n",
       "            <td>am  </td> <td>76.5 </td> <td>pm            </td>\n",
       "        </tr>\n",
       "        <tr>\n",
       "            <td>am  </td> <td>76.4 </td> <td>am            </td>\n",
       "        </tr>\n",
       "        <tr>\n",
       "            <td>am  </td> <td>82   </td> <td>pm            </td>\n",
       "        </tr>\n",
       "        <tr>\n",
       "            <td>am  </td> <td>74.5 </td> <td>am            </td>\n",
       "        </tr>\n",
       "        <tr>\n",
       "            <td>am  </td> <td>81.3 </td> <td>pm            </td>\n",
       "        </tr>\n",
       "        <tr>\n",
       "            <td>am  </td> <td>77.1 </td> <td>pm            </td>\n",
       "        </tr>\n",
       "        <tr>\n",
       "            <td>am  </td> <td>82.3 </td> <td>pm            </td>\n",
       "        </tr>\n",
       "    </tbody>\n",
       "</table>\n",
       "<p>... (990 rows omitted)</p>"
      ],
      "text/plain": [
       "Time | Score | Shuffled Label\n",
       "am   | 73.9  | am\n",
       "am   | 75.9  | am\n",
       "am   | 79.8  | am\n",
       "am   | 76.5  | pm\n",
       "am   | 76.4  | am\n",
       "am   | 82    | pm\n",
       "am   | 74.5  | am\n",
       "am   | 81.3  | pm\n",
       "am   | 77.1  | pm\n",
       "am   | 82.3  | pm\n",
       "... (990 rows omitted)"
      ]
     },
     "execution_count": 44,
     "metadata": {},
     "output_type": "execute_result"
    }
   ],
   "source": [
    "## Shuffle the labels\n",
    "\n",
    "shuffled = classes.sample(with_replacement = False).column(0)\n",
    "tbl_w_shuffled = classes.with_column('Shuffled Label', shuffled)\n",
    "tbl_w_shuffled"
   ]
  },
  {
   "cell_type": "code",
   "execution_count": 45,
   "id": "standing-sydney",
   "metadata": {},
   "outputs": [
    {
     "data": {
      "text/html": [
       "<table border=\"1\" class=\"dataframe\">\n",
       "    <thead>\n",
       "        <tr>\n",
       "            <th>Shuffled Label</th> <th>Score average</th>\n",
       "        </tr>\n",
       "    </thead>\n",
       "    <tbody>\n",
       "        <tr>\n",
       "            <td>am            </td> <td>76.4098      </td>\n",
       "        </tr>\n",
       "        <tr>\n",
       "            <td>pm            </td> <td>76.5364      </td>\n",
       "        </tr>\n",
       "    </tbody>\n",
       "</table>"
      ],
      "text/plain": [
       "Shuffled Label | Score average\n",
       "am             | 76.4098\n",
       "pm             | 76.5364"
      ]
     },
     "execution_count": 45,
     "metadata": {},
     "output_type": "execute_result"
    }
   ],
   "source": [
    "## Calculate the test statistic with these shuffled labels\n",
    "shuffled_tbl = tbl_w_shuffled.drop('Time')\n",
    "shuffled_group_means = shuffled_tbl.group('Shuffled Label', np.average)\n",
    "shuffled_group_means"
   ]
  },
  {
   "cell_type": "code",
   "execution_count": 46,
   "id": "assumed-maria",
   "metadata": {},
   "outputs": [],
   "source": [
    "## Create a function to do this process many times\n",
    "\n",
    "def calculate_test_stat(tbl, label, group_label):\n",
    "    shuffled = tbl.sample(with_replacement = False).column(group_label)\n",
    "    tbl_w_shuffled = tbl.select(label).with_column('Shuffled Label', shuffled)\n",
    "    means_table = tbl_w_shuffled.group('Shuffled Label', np.average)\n",
    "    diff = means_table.column('Score average')[0] - means_table.column('Score average')[1]\n",
    "    return diff"
   ]
  },
  {
   "cell_type": "code",
   "execution_count": 47,
   "id": "devoted-accountability",
   "metadata": {},
   "outputs": [
    {
     "data": {
      "text/plain": [
       "0.4602000000000004"
      ]
     },
     "execution_count": 47,
     "metadata": {},
     "output_type": "execute_result"
    }
   ],
   "source": [
    "calculate_test_stat(classes, 'Score', 'Time')"
   ]
  },
  {
   "cell_type": "code",
   "execution_count": 48,
   "id": "equivalent-million",
   "metadata": {},
   "outputs": [
    {
     "data": {
      "text/plain": [
       "array([-0.1898,  0.1346, -0.1758, ...,  0.2078, -0.5314, -0.1566])"
      ]
     },
     "execution_count": 48,
     "metadata": {},
     "output_type": "execute_result"
    }
   ],
   "source": [
    "## How can we do this process many times and store the simulated test stat each time?\n",
    "## This will help us to understand the variance of the test statistic\n",
    "\n",
    "diffs = make_array()\n",
    "\n",
    "repetitions = 5000 \n",
    "for i in np.arange(repetitions):\n",
    "    new_diff = calculate_test_stat(classes, 'Score', 'Time')\n",
    "    diffs = np.append(diffs, new_diff)                               \n",
    "\n",
    "diffs"
   ]
  },
  {
   "cell_type": "markdown",
   "id": "foreign-decimal",
   "metadata": {},
   "source": [
    "## 5. Make a conclusion."
   ]
  },
  {
   "cell_type": "code",
   "execution_count": 49,
   "id": "contemporary-multimedia",
   "metadata": {},
   "outputs": [
    {
     "data": {
      "image/png": "[encoded data removed]",
      "text/plain": [
       "<Figure size 432x288 with 1 Axes>"
      ]
     },
     "metadata": {
      "needs_background": "light"
     },
     "output_type": "display_data"
    }
   ],
   "source": [
    "## Plot the distribution of the simulated test statistics.\n",
    "\n",
    "Table().with_column('Difference Between Group Means', diffs).hist()\n",
    "plt.title('Prediction Under the Null Hypothesis');"
   ]
  },
  {
   "cell_type": "code",
   "execution_count": 37,
   "id": "agreed-bobby",
   "metadata": {},
   "outputs": [
    {
     "data": {
      "text/plain": [
       "0.0"
      ]
     },
     "execution_count": 37,
     "metadata": {},
     "output_type": "execute_result"
    }
   ],
   "source": [
    "## Calculate the p-value\n",
    "\n",
    "p_val = np.count_nonzero(diffs >= observed_stat) / repetitions\n",
    "p_val"
   ]
  },
  {
   "cell_type": "code",
   "execution_count": null,
   "id": "light-interstate",
   "metadata": {},
   "outputs": [],
   "source": []
  }
 ],
 "metadata": {
  "kernelspec": {
   "display_name": "Python 3",
   "language": "python",
   "name": "python3"
  },
  "language_info": {
   "codemirror_mode": {
    "name": "ipython",
    "version": 3
   },
   "file_extension": ".py",
   "mimetype": "text/x-python",
   "name": "python",
   "nbconvert_exporter": "python",
   "pygments_lexer": "ipython3",
   "version": "3.8.5"
  }
 },
 "nbformat": 4,
 "nbformat_minor": 5
}
