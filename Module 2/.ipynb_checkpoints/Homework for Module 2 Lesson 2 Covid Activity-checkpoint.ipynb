{
 "cells": [
  {
   "cell_type": "markdown",
   "metadata": {},
   "source": [
    "For this Homework Assignment we'll walk through how we can use real life information in Dictionaries! How can we apply skills to help show what's going on? How can dictiories and lists display information in a way for us to use it in future code or to see things differently?\n",
    "\n",
    "You will use this link to access information about COVID you will use for this assignment: \n",
    "https://www.latimes.com/projects/california-coronavirus-cases-tracking-outbreak/alameda-county/\n",
    "\n",
    "This link shows multiple sets of data by county, city, etc. Pick a set of data: You can even pick a different city if you'd like."
   ]
  },
  {
   "cell_type": "code",
   "execution_count": 14,
   "metadata": {},
   "outputs": [],
   "source": [
    "## Define a dictionary with at least 5 pairs of data\n",
    "## Ie. City : Cases and then you pick 5 different cities with their corressponding cases #.\n",
    "\n"
   ]
  },
  {
   "cell_type": "markdown",
   "metadata": {},
   "source": [
    "You will next print a table with your COVID information.\n",
    "\n",
    "Define categorical lists from your dictionary.\n",
    "\n",
    "ie. Cities = list(listname.keys())"
   ]
  },
  {
   "cell_type": "code",
   "execution_count": 15,
   "metadata": {},
   "outputs": [],
   "source": [
    "## ^^ do this for both .keys() and .values()\n"
   ]
  },
  {
   "cell_type": "markdown",
   "metadata": {},
   "source": [
    "Use the coding template below and replace the Values in your table with the defined list from above.\n",
    "\n",
    "Replace \"!! .keys name !!\" and \"!! .values name !!\" with the correct name."
   ]
  },
  {
   "cell_type": "code",
   "execution_count": 16,
   "metadata": {},
   "outputs": [
    {
     "ename": "SyntaxError",
     "evalue": "invalid syntax (<ipython-input-16-30056b95798a>, line 3)",
     "output_type": "error",
     "traceback": [
      "\u001b[1;36m  File \u001b[1;32m\"<ipython-input-16-30056b95798a>\"\u001b[1;36m, line \u001b[1;32m3\u001b[0m\n\u001b[1;33m    table = tabulate(!!.keys name!! , !! .values name !!, tablefmt='orgtbl')\u001b[0m\n\u001b[1;37m                     ^\u001b[0m\n\u001b[1;31mSyntaxError\u001b[0m\u001b[1;31m:\u001b[0m invalid syntax\n"
     ]
    }
   ],
   "source": [
    "from tabulate import tabulate\n",
    "\n",
    "table = tabulate(!!.keys name!! , !! .values name !!, tablefmt='orgtbl')\n",
    "\n",
    "print(table)"
   ]
  },
  {
   "cell_type": "markdown",
   "metadata": {},
   "source": [
    "Check out some of these links to see other cool Data visulizations all created through code:\n",
    "https://www.concerthotels.com/100-years-of-rock/\n",
    "http://internet-map.net/\n",
    "https://podio.com/site/creative-routines\n",
    "https://earth.nullschool.net/#current/wind/surface/level/orthographic=-92.46,5.25,366\n",
    "https://www.informationisbeautiful.net/visualizations/worlds-biggest-data-breaches-hacks/\n"
   ]
  },
  {
   "cell_type": "code",
   "execution_count": null,
   "metadata": {},
   "outputs": [],
   "source": [
    "## Pick one and write something interesting that you liked about it or thought was interesting!\n",
    "## *Write here*"
   ]
  },
  {
   "cell_type": "markdown",
   "metadata": {},
   "source": [
    "Print and save to PDF. Turn in!"
   ]
  }
 ],
 "metadata": {
  "kernelspec": {
   "display_name": "Python 3",
   "language": "python",
   "name": "python3"
  },
  "language_info": {
   "codemirror_mode": {
    "name": "ipython",
    "version": 3
   },
   "file_extension": ".py",
   "mimetype": "text/x-python",
   "name": "python",
   "nbconvert_exporter": "python",
   "pygments_lexer": "ipython3",
   "version": "3.8.2"
  }
 },
 "nbformat": 4,
 "nbformat_minor": 4
}
