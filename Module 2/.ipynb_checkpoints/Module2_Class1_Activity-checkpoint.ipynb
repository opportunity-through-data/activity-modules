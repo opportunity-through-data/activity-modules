{
 "cells": [
  {
   "cell_type": "markdown",
   "metadata": {},
   "source": [
    "# Module 2: Assignment 1"
   ]
  },
  {
   "cell_type": "markdown",
   "metadata": {},
   "source": [
    "Hello! Welcome to the assignment for the first class of Module 2! Like last time, this assignment is not going to be collected or graded, but is just meant to help you get some extra practice on the material covered in the previous class. However, feel free to let us know if you have any questions!\n",
    "\n",
    "After you finish Module 2 Class 1, you should know everything you need to complete this assignment."
   ]
  },
  {
   "cell_type": "markdown",
   "metadata": {},
   "source": [
    "### Question 1: Accessing List Items"
   ]
  },
  {
   "cell_type": "markdown",
   "metadata": {},
   "source": [
    "Suppose we have the following list. Run this cell so you can use it in the later problems."
   ]
  },
  {
   "cell_type": "code",
   "execution_count": null,
   "metadata": {},
   "outputs": [],
   "source": [
    "marvel_movies = [\"Thor\", \"Captain Marvel\", \"Iron Man\", \"Ant Man\", \"Doctor Strange\"]"
   ]
  },
  {
   "cell_type": "markdown",
   "metadata": {},
   "source": [
    "What would each of the following return?\n",
    "\n",
    "a) `marvel_movies[0]`\n",
    "\n",
    "b) `len(marvel_movies)`\n",
    "\n",
    "c) `marvel_movies[5]` (hint: how does the length of our list compare to the last item index?)"
   ]
  },
  {
   "cell_type": "code",
   "execution_count": null,
   "metadata": {},
   "outputs": [],
   "source": [
    "a = ..."
   ]
  },
  {
   "cell_type": "code",
   "execution_count": null,
   "metadata": {},
   "outputs": [],
   "source": [
    "b = ..."
   ]
  },
  {
   "cell_type": "code",
   "execution_count": null,
   "metadata": {},
   "outputs": [],
   "source": [
    "c = ..."
   ]
  },
  {
   "cell_type": "markdown",
   "metadata": {},
   "source": [
    "### Question 2: Modifying and Updating Lists"
   ]
  },
  {
   "cell_type": "markdown",
   "metadata": {},
   "source": [
    "Let's take our original movies list and change it a bit to add some more movies. Create a `more_marvel_movies` list with the following movie names: \n",
    "    - Captain America: The First Avenger\n",
    "    - Guardians of the Galaxy\n",
    "    - Black Panther\n",
    "    - Suicide Squad"
   ]
  },
  {
   "cell_type": "code",
   "execution_count": null,
   "metadata": {},
   "outputs": [],
   "source": [
    "more_marvel_movies = ..."
   ]
  },
  {
   "cell_type": "markdown",
   "metadata": {},
   "source": [
    "Now, let's create a new list of Marvel movies that contains both the items in our original list (`marvel_movies`) and in newer list (`more_marvel_movies`)."
   ]
  },
  {
   "cell_type": "code",
   "execution_count": null,
   "metadata": {},
   "outputs": [],
   "source": [
    "many_marvel_movies = ..."
   ]
  },
  {
   "cell_type": "markdown",
   "metadata": {},
   "source": [
    "If you are familiar with these movies, you'll notice a problem. Not only was Suicide Squad horrible, but it's not a Marvel movie. Update your list to remove the Suicide Squad item from many_marvel_movies."
   ]
  },
  {
   "cell_type": "code",
   "execution_count": null,
   "metadata": {},
   "outputs": [],
   "source": [
    "# please insert your code here!"
   ]
  },
  {
   "cell_type": "markdown",
   "metadata": {},
   "source": [
    "### Question 3: \"In's\" and List Slicing"
   ]
  },
  {
   "cell_type": "markdown",
   "metadata": {},
   "source": [
    "Now that we know how to access single items and change our lists, let's see how we can make more conclusions from this data. Rotten Tomatoes ranks their top ten marvel movies in the following order. Make sure you run this cell!"
   ]
  },
  {
   "cell_type": "code",
   "execution_count": null,
   "metadata": {},
   "outputs": [],
   "source": [
    "best_marvel = [\"Black Panther\", \"Agengers: Endgame\", \"Iron Man\", \"Thor: Ragnarok\", \"Spider-Man: Homecoming\",\n",
    "               \"Marvel's the Avengers\", \"Captain America: Civil War\", \"Guardians of the Galaxy\",\n",
    "               \"Spider Man: Far From Home\", \"Captain America: The Winter Soldier\"]"
   ]
  },
  {
   "cell_type": "markdown",
   "metadata": {},
   "source": [
    "Suppose we want to check if Ant Man is in the best_marvel lists. Write the code that checks to see this. (Hint: This should return a boolean value!)"
   ]
  },
  {
   "cell_type": "code",
   "execution_count": null,
   "metadata": {},
   "outputs": [],
   "source": [
    "# insert code here"
   ]
  },
  {
   "cell_type": "markdown",
   "metadata": {},
   "source": [
    "Now suppose we want to find the top five movies from the best_marvel list without indexing each item directly (i.e. `best_marvel[0]`, `best_marvel[1]`, etc). Write the code that slices the `best_marvel` list to return the top five Marvel movies."
   ]
  },
  {
   "cell_type": "code",
   "execution_count": null,
   "metadata": {},
   "outputs": [],
   "source": [
    "# insert code here"
   ]
  }
 ],
 "metadata": {
  "kernelspec": {
   "display_name": "Python 3",
   "language": "python",
   "name": "python3"
  },
  "language_info": {
   "codemirror_mode": {
    "name": "ipython",
    "version": 3
   },
   "file_extension": ".py",
   "mimetype": "text/x-python",
   "name": "python",
   "nbconvert_exporter": "python",
   "pygments_lexer": "ipython3",
   "version": "3.8.2"
  }
 },
 "nbformat": 4,
 "nbformat_minor": 4
}
