{
 "cells": [
  {
   "cell_type": "markdown",
   "metadata": {},
   "source": [
    "Categories of data that we want to collect from students:\n",
    "* Age\n",
    "* Birth month\n",
    "* Hair color\n",
    "* Height\n",
    "* Favorite color\n",
    "* Favorite class\n",
    "* Favorite fast food restaurant"
   ]
  },
  {
   "cell_type": "markdown",
   "metadata": {},
   "source": [
    "# Activity 2: Data!"
   ]
  },
  {
   "cell_type": "markdown",
   "metadata": {},
   "source": [
    "Topics covered:\n",
    "* Lists\n",
    "* Dictionaries\n",
    "* Tables\n",
    "* Functions / data manipulation\n",
    "* Visualization through prewritten plotting functions\n",
    "* Importance of + basic overview of probability through data!"
   ]
  },
  {
   "cell_type": "markdown",
   "metadata": {},
   "source": [
    "## Overview"
   ]
  },
  {
   "cell_type": "markdown",
   "metadata": {},
   "source": [
    "What we're going to be doing in the activity; also make sure to add conceptual overviews as we test a new concept."
   ]
  },
  {
   "cell_type": "code",
   "execution_count": 1,
   "metadata": {
    "collapsed": true
   },
   "outputs": [],
   "source": [
    "from otd_util import *\n",
    "import json\n",
    "\n",
    "with open('data.json') as json_data:\n",
    "    data = json.load(json_data)"
   ]
  },
  {
   "cell_type": "markdown",
   "metadata": {},
   "source": [
    "## Problem 1: Lists \n",
    "(Overview: indexing,  accessing + changing, slicing, storing different data types in one list, adding things to lists, deleting items, `in`)"
   ]
  },
  {
   "cell_type": "markdown",
   "metadata": {},
   "source": [
    "Let's look at the data we have about birth months to practice with lists. The data is a list of integers that range from 1 to 12 which corresponds to the 12 months in a year. "
   ]
  },
  {
   "cell_type": "code",
   "execution_count": 41,
   "metadata": {},
   "outputs": [
    {
     "name": "stdout",
     "output_type": "stream",
     "text": [
      "[1, 12, 2, 2, 3, 7, 9, 10, 1, 11, 4, 8, 6, 5, 12, 4, 9, 7, 3, 10, 1, 8, 5, 6, 11, 10, 7, 3, 9, 4]\n"
     ]
    }
   ],
   "source": [
    "# pre-data so that they can practice adding to a list\n",
    "birth_months = [1, 12, 2, 2, 3, 7, 9, 10, 1, 11, 4, 8, 6, 5, 12, 4, 9, 7, 3, 10, 1, 8, 5, 6, 11, 10, 7, 3, 9, 4]        \n",
    "print(birth_months)"
   ]
  },
  {
   "cell_type": "markdown",
   "metadata": {},
   "source": [
    "Let's check how many birth months are in the list. Replace ... with a function!"
   ]
  },
  {
   "cell_type": "code",
   "execution_count": 42,
   "metadata": {},
   "outputs": [
    {
     "data": {
      "text/plain": [
       "30"
      ]
     },
     "execution_count": 42,
     "metadata": {},
     "output_type": "execute_result"
    }
   ],
   "source": [
    "...(birth_months)"
   ]
  },
  {
   "cell_type": "markdown",
   "metadata": {},
   "source": [
    "#### Indexing"
   ]
  },
  {
   "cell_type": "markdown",
   "metadata": {},
   "source": [
    "Now that we know how many elements there are in the list. Let's look at three different elements from the entire list. Let's get the first, sixth, and tenth elements from `birth_months`."
   ]
  },
  {
   "cell_type": "code",
   "execution_count": 43,
   "metadata": {},
   "outputs": [
    {
     "data": {
      "text/plain": [
       "1"
      ]
     },
     "execution_count": 43,
     "metadata": {},
     "output_type": "execute_result"
    }
   ],
   "source": [
    "first_element = ...   # PROMPT\n",
    "first_element         "
   ]
  },
  {
   "cell_type": "code",
   "execution_count": 44,
   "metadata": {},
   "outputs": [
    {
     "data": {
      "text/plain": [
       "7"
      ]
     },
     "execution_count": 44,
     "metadata": {},
     "output_type": "execute_result"
    }
   ],
   "source": [
    "sixth_element = ...   # PROMPT\n",
    "sixth_element\n"
   ]
  },
  {
   "cell_type": "code",
   "execution_count": 45,
   "metadata": {},
   "outputs": [
    {
     "data": {
      "text/plain": [
       "11"
      ]
     },
     "execution_count": 45,
     "metadata": {},
     "output_type": "execute_result"
    }
   ],
   "source": [
    "tenth_element = ...   # PROMPT\n",
    "tenth_element"
   ]
  },
  {
   "cell_type": "markdown",
   "metadata": {},
   "source": [
    "#### List Slicing"
   ]
  },
  {
   "cell_type": "markdown",
   "metadata": {},
   "source": [
    "Rather than looking at all 30 birth months, let's look at the first 15 elements and second 15 elements separately. Create two new lists. Create `first_half` which should contain the first 15 elements and `second_half` should contain the last 15 elements. (The last line is to double check the number of elements in your new lists!)"
   ]
  },
  {
   "cell_type": "code",
   "execution_count": 46,
   "metadata": {},
   "outputs": [
    {
     "data": {
      "text/plain": [
       "15"
      ]
     },
     "execution_count": 46,
     "metadata": {},
     "output_type": "execute_result"
    }
   ],
   "source": [
    "first_half = ...   # PROMPT\n",
    "len(first_half)"
   ]
  },
  {
   "cell_type": "code",
   "execution_count": 47,
   "metadata": {},
   "outputs": [
    {
     "data": {
      "text/plain": [
       "15"
      ]
     },
     "execution_count": 47,
     "metadata": {},
     "output_type": "execute_result"
    }
   ],
   "source": [
    "second_half = ...   # PROMPT\n",
    "len(second_half)"
   ]
  },
  {
   "cell_type": "markdown",
   "metadata": {},
   "source": [
    "#### Changing Elements"
   ]
  },
  {
   "cell_type": "markdown",
   "metadata": {},
   "source": [
    "Let's say someone mistyped their birth month and we want to change their number in the list. We can change the value of an element if we know the index. Say the first person was actually born in November (11) rather than January (1), we can change that by using brackets."
   ]
  },
  {
   "cell_type": "code",
   "execution_count": 48,
   "metadata": {},
   "outputs": [
    {
     "name": "stdout",
     "output_type": "stream",
     "text": [
      "[1, 12, 2, 2, 3, 7, 9, 10, 1, 11, 4, 8, 6, 5, 12, 4, 9, 7, 3, 10, 1, 8, 5, 6, 11, 10, 7, 3, 9, 4]\n"
     ]
    }
   ],
   "source": [
    "print(birth_months)"
   ]
  },
  {
   "cell_type": "code",
   "execution_count": 49,
   "metadata": {},
   "outputs": [
    {
     "name": "stdout",
     "output_type": "stream",
     "text": [
      "[11, 12, 2, 2, 3, 7, 9, 10, 1, 11, 4, 8, 6, 5, 12, 4, 9, 7, 3, 10, 1, 8, 5, 6, 11, 10, 7, 3, 9, 4]\n"
     ]
    }
   ],
   "source": [
    "birth_months[0] = 11\n",
    "print(birth_months)"
   ]
  },
  {
   "cell_type": "markdown",
   "metadata": {},
   "source": [
    "#### Adding Elements"
   ]
  },
  {
   "cell_type": "markdown",
   "metadata": {},
   "source": [
    "Let's add your birth month to the list. To add a new value to the list, we will use the `.append` method. Use the variable `my_month` when you append! Check that you added your birth month by looking at the length of the list."
   ]
  },
  {
   "cell_type": "code",
   "execution_count": 50,
   "metadata": {
    "collapsed": true
   },
   "outputs": [],
   "source": [
    "my_month = ... # PROMPT\n",
    "my_month"
   ]
  },
  {
   "cell_type": "code",
   "execution_count": 51,
   "metadata": {},
   "outputs": [
    {
     "name": "stdout",
     "output_type": "stream",
     "text": [
      "[11, 12, 2, 2, 3, 7, 9, 10, 1, 11, 4, 8, 6, 5, 12, 4, 9, 7, 3, 10, 1, 8, 5, 6, 11, 10, 7, 3, 9, 4, 11]\n"
     ]
    }
   ],
   "source": [
    "...    # PROMPT\n",
    "print(birth_months)"
   ]
  },
  {
   "cell_type": "code",
   "execution_count": 52,
   "metadata": {},
   "outputs": [
    {
     "data": {
      "text/plain": [
       "31"
      ]
     },
     "execution_count": 52,
     "metadata": {},
     "output_type": "execute_result"
    }
   ],
   "source": [
    "len(birth_months)"
   ]
  },
  {
   "cell_type": "markdown",
   "metadata": {},
   "source": [
    "Two of your friends add their birth months to the list! However, they did not know you wanted the month as a integer, and they added the month as a string."
   ]
  },
  {
   "cell_type": "code",
   "execution_count": 53,
   "metadata": {},
   "outputs": [
    {
     "name": "stdout",
     "output_type": "stream",
     "text": [
      "[11, 12, 2, 2, 3, 7, 9, 10, 1, 11, 4, 8, 6, 5, 12, 4, 9, 7, 3, 10, 1, 8, 5, 6, 11, 10, 7, 3, 9, 4, 11, 'September', 'February']\n"
     ]
    }
   ],
   "source": [
    "birth_months.extend([\"September\", \"February\"])\n",
    "print(birth_months)"
   ]
  },
  {
   "cell_type": "markdown",
   "metadata": {},
   "source": [
    "Let's change their answers so that the list only contains integers! HINT: If you are confused to start, then first figure out the index of these two elements."
   ]
  },
  {
   "cell_type": "code",
   "execution_count": 54,
   "metadata": {
    "collapsed": true
   },
   "outputs": [],
   "source": [
    "# Change 'September' to 9\n",
    " ...     # PROMPT \n",
    "print(birth_months)"
   ]
  },
  {
   "cell_type": "code",
   "execution_count": 56,
   "metadata": {
    "collapsed": true
   },
   "outputs": [],
   "source": [
    "# Change 'February' to 2\n",
    "...     # PROMPT \n",
    "print(birth_months)"
   ]
  },
  {
   "cell_type": "markdown",
   "metadata": {},
   "source": [
    "#### Deleting Elements"
   ]
  },
  {
   "cell_type": "markdown",
   "metadata": {},
   "source": [
    "What if instead of changing each string individually we wanted to change them at the same time? We could delete the strings, and add the two integers we want to the list. Let's try this method instead! Here is the list as it was after your friends added to it. "
   ]
  },
  {
   "cell_type": "code",
   "execution_count": 58,
   "metadata": {},
   "outputs": [
    {
     "name": "stdout",
     "output_type": "stream",
     "text": [
      "[1, 12, 2, 2, 3, 7, 9, 10, 1, 11, 4, 8, 6, 5, 12, 4, 9, 7, 3, 10, 1, 8, 5, 6, 11, 10, 7, 3, 9, 4, 11, 'September', 'February']\n"
     ]
    }
   ],
   "source": [
    "birth_months = [1, 12, 2, 2, 3, 7, 9, 10, 1, 11, 4, 8, 6, 5, 12, 4, 9, 7, 3, 10, 1, 8, 5, 6, 11, 10, 7, 3, 9, 4, my_month, \"September\", \"February\"]        \n",
    "print(birth_months)"
   ]
  },
  {
   "cell_type": "code",
   "execution_count": 59,
   "metadata": {},
   "outputs": [
    {
     "name": "stdout",
     "output_type": "stream",
     "text": [
      "[1, 12, 2, 2, 3, 7, 9, 10, 1, 11, 4, 8, 6, 5, 12, 4, 9, 7, 3, 10, 1, 8, 5, 6, 11, 10, 7, 3, 9, 4, 11]\n"
     ]
    }
   ],
   "source": [
    "# Delete the two strings in this cell.\n",
    "...     # PROMPT\n",
    "\n",
    "print(birth_months)"
   ]
  },
  {
   "cell_type": "code",
   "execution_count": 60,
   "metadata": {},
   "outputs": [
    {
     "name": "stdout",
     "output_type": "stream",
     "text": [
      "[1, 12, 2, 2, 3, 7, 9, 10, 1, 11, 4, 8, 6, 5, 12, 4, 9, 7, 3, 10, 1, 8, 5, 6, 11, 10, 7, 3, 9, 4, 11, 9, 2]\n"
     ]
    }
   ],
   "source": [
    "# Add the two integer versions of the months in this cell.\n",
    "...    # PROMPT\n",
    "\n",
    "print(birth_months)"
   ]
  },
  {
   "cell_type": "markdown",
   "metadata": {},
   "source": [
    "Congratulations! The list should contain only numbers again! Let's check out what is and what is not inside the list with the method `in`! Using `in` we can learn whether a value is inside the list. `in` returns `True` or `False`."
   ]
  },
  {
   "cell_type": "code",
   "execution_count": 61,
   "metadata": {},
   "outputs": [
    {
     "data": {
      "text/plain": [
       "False"
      ]
     },
     "execution_count": 61,
     "metadata": {},
     "output_type": "execute_result"
    }
   ],
   "source": [
    "'September' in birth_months "
   ]
  },
  {
   "cell_type": "code",
   "execution_count": 62,
   "metadata": {},
   "outputs": [
    {
     "data": {
      "text/plain": [
       "True"
      ]
     },
     "execution_count": 62,
     "metadata": {},
     "output_type": "execute_result"
    }
   ],
   "source": [
    "1 in birth_months"
   ]
  },
  {
   "cell_type": "code",
   "execution_count": 63,
   "metadata": {},
   "outputs": [
    {
     "data": {
      "text/plain": [
       "False"
      ]
     },
     "execution_count": 63,
     "metadata": {},
     "output_type": "execute_result"
    }
   ],
   "source": [
    "0 in birth_months"
   ]
  },
  {
   "cell_type": "code",
   "execution_count": 64,
   "metadata": {},
   "outputs": [
    {
     "data": {
      "text/plain": [
       "True"
      ]
     },
     "execution_count": 64,
     "metadata": {},
     "output_type": "execute_result"
    }
   ],
   "source": [
    "# Check that your birth month appears at least once in the list\n",
    "...   # PROMPT"
   ]
  },
  {
   "cell_type": "markdown",
   "metadata": {},
   "source": [
    "## Problem 2: Dictionaries"
   ]
  },
  {
   "cell_type": "markdown",
   "metadata": {},
   "source": [
    "keys/values (+ unique keys!), indexing, differences/similarities between a dictionary and a list, adding things to dictionaries, deleting things from dictionaries, lengths, .keys(), .values(), `in`, use cases"
   ]
  },
  {
   "cell_type": "markdown",
   "metadata": {},
   "source": [
    "#### Indexing"
   ]
  },
  {
   "cell_type": "markdown",
   "metadata": {},
   "source": [
    "Now that we are more familiar with lists, let's try a new data type that can hold more complicated information. We will use dictionaries to hold information in pairs. In the cell below, there is a dictionary that has the names of 8 different people paired with their ages. The **keys** are the names and the **values** are the ages."
   ]
  },
  {
   "cell_type": "code",
   "execution_count": 44,
   "metadata": {},
   "outputs": [
    {
     "data": {
      "text/plain": [
       "{'Bob': 45,\n",
       " 'Delilah': 40,\n",
       " 'Diana': 29,\n",
       " 'Edwin': 21,\n",
       " 'Eric': 61,\n",
       " 'Juan': 35,\n",
       " 'Linda': 32,\n",
       " 'Sarah': 48}"
      ]
     },
     "execution_count": 44,
     "metadata": {},
     "output_type": "execute_result"
    }
   ],
   "source": [
    "worker_ages = {\"Bob\": 45, \"Delilah\": 40,\"Sarah\": 48, \"Edwin\": 21, \"Diana\": 29, \"Juan\": 35, \"Linda\": 32, \"Eric\": 61}\n",
    "worker_ages"
   ]
  },
  {
   "cell_type": "markdown",
   "metadata": {},
   "source": [
    "Let's double check the number of people in the dictionary. We can get the size of a dictionary by using `len()` just like you would to find the length of a list."
   ]
  },
  {
   "cell_type": "code",
   "execution_count": 77,
   "metadata": {},
   "outputs": [
    {
     "data": {
      "text/plain": [
       "Ellipsis"
      ]
     },
     "execution_count": 77,
     "metadata": {},
     "output_type": "execute_result"
    }
   ],
   "source": [
    "...   # PROMPT"
   ]
  },
  {
   "cell_type": "markdown",
   "metadata": {},
   "source": [
    "Although you can check the size of a dictionary the same way as you would a list, you need a different method to access the values in a dictionary. Let's try it as you would for a list:"
   ]
  },
  {
   "cell_type": "code",
   "execution_count": 3,
   "metadata": {},
   "outputs": [
    {
     "ename": "KeyError",
     "evalue": "0",
     "output_type": "error",
     "traceback": [
      "\u001b[0;31m---------------------------------------------------------------------------\u001b[0m",
      "\u001b[0;31mKeyError\u001b[0m                                  Traceback (most recent call last)",
      "\u001b[0;32m<ipython-input-3-af671aa4556a>\u001b[0m in \u001b[0;36m<module>\u001b[0;34m()\u001b[0m\n\u001b[0;32m----> 1\u001b[0;31m \u001b[0mworker_ages\u001b[0m\u001b[0;34m[\u001b[0m\u001b[0;36m0\u001b[0m\u001b[0;34m]\u001b[0m\u001b[0;34m\u001b[0m\u001b[0;34m\u001b[0m\u001b[0m\n\u001b[0m",
      "\u001b[0;31mKeyError\u001b[0m: 0"
     ]
    }
   ],
   "source": [
    "worker_ages[0]"
   ]
  },
  {
   "cell_type": "markdown",
   "metadata": {},
   "source": [
    "Oh no! It did not work. For dictionaries, we must use one of the **keys** to access the corresponding **values**. Let's try this out by looking at the keys first."
   ]
  },
  {
   "cell_type": "code",
   "execution_count": 40,
   "metadata": {},
   "outputs": [
    {
     "data": {
      "text/plain": [
       "dict_keys(['Bob', 'Delilah', 'Sarah', 'Edwin', 'Diana', 'Juan', 'Linda', 'Eric'])"
      ]
     },
     "execution_count": 40,
     "metadata": {},
     "output_type": "execute_result"
    }
   ],
   "source": [
    "keys_names = ...\n",
    "keys_names"
   ]
  },
  {
   "cell_type": "markdown",
   "metadata": {},
   "source": [
    "`keys_names` looks like a list. Let's try to get the first item."
   ]
  },
  {
   "cell_type": "code",
   "execution_count": 18,
   "metadata": {},
   "outputs": [
    {
     "ename": "TypeError",
     "evalue": "'dict_keys' object does not support indexing",
     "output_type": "error",
     "traceback": [
      "\u001b[0;31m---------------------------------------------------------------------------\u001b[0m",
      "\u001b[0;31mTypeError\u001b[0m                                 Traceback (most recent call last)",
      "\u001b[0;32m<ipython-input-18-6d8dd2183b4c>\u001b[0m in \u001b[0;36m<module>\u001b[0;34m()\u001b[0m\n\u001b[1;32m      1\u001b[0m \u001b[0;34m...\u001b[0m\u001b[0;34m\u001b[0m\u001b[0;34m\u001b[0m\u001b[0m\n\u001b[0;32m----> 2\u001b[0;31m \u001b[0mkeys_names\u001b[0m\u001b[0;34m[\u001b[0m\u001b[0;36m0\u001b[0m\u001b[0;34m]\u001b[0m \u001b[0;31m#SOLUTION WILL ERROR\u001b[0m\u001b[0;34m\u001b[0m\u001b[0;34m\u001b[0m\u001b[0m\n\u001b[0m",
      "\u001b[0;31mTypeError\u001b[0m: 'dict_keys' object does not support indexing"
     ]
    }
   ],
   "source": [
    "... #Prompt"
   ]
  },
  {
   "cell_type": "markdown",
   "metadata": {},
   "source": [
    "Although it looks like a list `keys_names` is different from a list. Check the data type by using the `type()` function."
   ]
  },
  {
   "cell_type": "code",
   "execution_count": 20,
   "metadata": {},
   "outputs": [
    {
     "data": {
      "text/plain": [
       "dict_keys"
      ]
     },
     "execution_count": 20,
     "metadata": {},
     "output_type": "execute_result"
    }
   ],
   "source": [
    "... #Prompt"
   ]
  },
  {
   "cell_type": "markdown",
   "metadata": {},
   "source": [
    "`dict_keys` is a different object from a list, but we can convert it into a list by doing the following command: `list(<dict_keys>)`"
   ]
  },
  {
   "cell_type": "code",
   "execution_count": 41,
   "metadata": {},
   "outputs": [
    {
     "data": {
      "text/plain": [
       "['Bob', 'Delilah', 'Sarah', 'Edwin', 'Diana', 'Juan', 'Linda', 'Eric']"
      ]
     },
     "execution_count": 41,
     "metadata": {},
     "output_type": "execute_result"
    }
   ],
   "source": [
    "list_key_names = list(keys_names)\n",
    "list_key_names"
   ]
  },
  {
   "cell_type": "markdown",
   "metadata": {},
   "source": [
    "Now that we have a list of key values, access the first element in the list."
   ]
  },
  {
   "cell_type": "code",
   "execution_count": 25,
   "metadata": {},
   "outputs": [
    {
     "data": {
      "text/plain": [
       "'Bob'"
      ]
     },
     "execution_count": 25,
     "metadata": {},
     "output_type": "execute_result"
    }
   ],
   "source": [
    "first_elem = ...\n",
    "first_elem"
   ]
  },
  {
   "cell_type": "markdown",
   "metadata": {},
   "source": [
    "We can use this to access the value in the dictionary. Use first_elem to get the age that corresponds to 'Bob'."
   ]
  },
  {
   "cell_type": "code",
   "execution_count": 27,
   "metadata": {},
   "outputs": [
    {
     "data": {
      "text/plain": [
       "45"
      ]
     },
     "execution_count": 27,
     "metadata": {},
     "output_type": "execute_result"
    }
   ],
   "source": [
    "..."
   ]
  },
  {
   "cell_type": "markdown",
   "metadata": {},
   "source": [
    "#### Creating dictionary"
   ]
  },
  {
   "cell_type": "markdown",
   "metadata": {},
   "source": [
    "Let's reorganize the data in `worker_ages`. Let's make a dictionary that has groups of years as the keys and the values are a list of all the names of people who correspond to that age group. The groups should be '20-29', '30-39', '40-49', '50-59', '60-69'. **If no one is in that age group, set it equal to an empty list.** Here is `worker_ages` for reference."
   ]
  },
  {
   "cell_type": "code",
   "execution_count": 45,
   "metadata": {},
   "outputs": [
    {
     "data": {
      "text/plain": [
       "{'Bob': 45,\n",
       " 'Delilah': 40,\n",
       " 'Diana': 29,\n",
       " 'Edwin': 21,\n",
       " 'Eric': 61,\n",
       " 'Juan': 35,\n",
       " 'Linda': 32,\n",
       " 'Sarah': 48}"
      ]
     },
     "execution_count": 45,
     "metadata": {},
     "output_type": "execute_result"
    }
   ],
   "source": [
    "worker_ages"
   ]
  },
  {
   "cell_type": "code",
   "execution_count": 56,
   "metadata": {},
   "outputs": [
    {
     "data": {
      "text/plain": [
       "{'20-29': ['Edwin', 'Diana'],\n",
       " '30-39': ['Linda', 'Juan'],\n",
       " '40-49': ['Delilah', 'Bob', 'Sarah'],\n",
       " '50-59': [],\n",
       " '60-69': ['Eric']}"
      ]
     },
     "execution_count": 56,
     "metadata": {},
     "output_type": "execute_result"
    }
   ],
   "source": [
    "new_wk_ages = ...\n",
    "new_wk_ages"
   ]
  },
  {
   "cell_type": "markdown",
   "metadata": {},
   "source": [
    "Create the variable `twenties` as a **list** of all the people in `new_wk_ages` who are between the ages of 20 and 29."
   ]
  },
  {
   "cell_type": "code",
   "execution_count": 57,
   "metadata": {},
   "outputs": [
    {
     "data": {
      "text/plain": [
       "['Edwin', 'Diana']"
      ]
     },
     "execution_count": 57,
     "metadata": {},
     "output_type": "execute_result"
    }
   ],
   "source": [
    "twenties = ...\n",
    "twenties"
   ]
  },
  {
   "cell_type": "markdown",
   "metadata": {},
   "source": [
    "#### Adding Elements"
   ]
  },
  {
   "cell_type": "markdown",
   "metadata": {},
   "source": [
    "There is a new worker we want to add to the dictionary. Her names is Faith and she is 25 years old. Add her to the `new_wk_ages` dictionary. (Try to use `twenties` in your solution!)"
   ]
  },
  {
   "cell_type": "code",
   "execution_count": 58,
   "metadata": {
    "collapsed": true
   },
   "outputs": [],
   "source": [
    "..."
   ]
  },
  {
   "cell_type": "markdown",
   "metadata": {},
   "source": [
    "Double check that new_wk_ages is updated by running the cell below."
   ]
  },
  {
   "cell_type": "code",
   "execution_count": 59,
   "metadata": {},
   "outputs": [
    {
     "data": {
      "text/plain": [
       "{'20-29': ['Edwin', 'Diana', 'Faith'],\n",
       " '30-39': ['Linda', 'Juan'],\n",
       " '40-49': ['Delilah', 'Bob', 'Sarah'],\n",
       " '50-59': [],\n",
       " '60-69': ['Eric']}"
      ]
     },
     "execution_count": 59,
     "metadata": {},
     "output_type": "execute_result"
    }
   ],
   "source": [
    "new_wk_ages"
   ]
  },
  {
   "cell_type": "markdown",
   "metadata": {},
   "source": [
    "There is another new employee named Sam, and he is 19 years old. Add him to the `new_wk_ages` dictionary. (Note: the company can only higher people 18 and older, so Sam falls into the age group '18-19'."
   ]
  },
  {
   "cell_type": "code",
   "execution_count": 64,
   "metadata": {
    "collapsed": true
   },
   "outputs": [],
   "source": [
    "..."
   ]
  },
  {
   "cell_type": "code",
   "execution_count": 65,
   "metadata": {},
   "outputs": [
    {
     "data": {
      "text/plain": [
       "{'18-19': ['Sam'],\n",
       " '20-29': ['Edwin', 'Diana', 'Faith'],\n",
       " '30-39': ['Linda', 'Juan'],\n",
       " '40-49': ['Delilah', 'Bob', 'Sarah'],\n",
       " '50-59': [],\n",
       " '60-69': ['Eric']}"
      ]
     },
     "execution_count": 65,
     "metadata": {},
     "output_type": "execute_result"
    }
   ],
   "source": [
    "new_wk_ages"
   ]
  },
  {
   "cell_type": "markdown",
   "metadata": {},
   "source": [
    "#### Updating Dictionary"
   ]
  },
  {
   "cell_type": "markdown",
   "metadata": {},
   "source": [
    "Eric is retiring, so we want to remove him from the list of workers. We can do this by updating the key '60-69'. Remove him from the `new_wk_ages` dictionary."
   ]
  },
  {
   "cell_type": "code",
   "execution_count": 73,
   "metadata": {
    "collapsed": true
   },
   "outputs": [],
   "source": [
    "... #Prompt"
   ]
  },
  {
   "cell_type": "code",
   "execution_count": 74,
   "metadata": {},
   "outputs": [
    {
     "data": {
      "text/plain": [
       "{'18-19': ['Sam'],\n",
       " '20-29': ['Edwin', 'Diana', 'Faith'],\n",
       " '30-39': ['Linda', 'Juan'],\n",
       " '40-49': ['Delilah', 'Bob', 'Sarah'],\n",
       " '50-59': [],\n",
       " '60-69': []}"
      ]
     },
     "execution_count": 74,
     "metadata": {},
     "output_type": "execute_result"
    }
   ],
   "source": [
    "new_wk_ages"
   ]
  },
  {
   "cell_type": "markdown",
   "metadata": {},
   "source": [
    "#### Deleting Elements\n"
   ]
  },
  {
   "cell_type": "markdown",
   "metadata": {},
   "source": [
    "Looking at the dictionary we have two keys that correspond to empty lists. Rather than keeping empty lists, let's delete pairs in the dictionary if they have empty lists. Delete the key '60-69', then the key '50-59'."
   ]
  },
  {
   "cell_type": "code",
   "execution_count": 75,
   "metadata": {},
   "outputs": [
    {
     "data": {
      "text/plain": [
       "{'18-19': ['Sam'],\n",
       " '20-29': ['Edwin', 'Diana', 'Faith'],\n",
       " '30-39': ['Linda', 'Juan'],\n",
       " '40-49': ['Delilah', 'Bob', 'Sarah'],\n",
       " '50-59': []}"
      ]
     },
     "execution_count": 75,
     "metadata": {},
     "output_type": "execute_result"
    }
   ],
   "source": [
    "... #Prompt"
   ]
  },
  {
   "cell_type": "code",
   "execution_count": 76,
   "metadata": {},
   "outputs": [
    {
     "data": {
      "text/plain": [
       "{'18-19': ['Sam'],\n",
       " '20-29': ['Edwin', 'Diana', 'Faith'],\n",
       " '30-39': ['Linda', 'Juan'],\n",
       " '40-49': ['Delilah', 'Bob', 'Sarah']}"
      ]
     },
     "execution_count": 76,
     "metadata": {},
     "output_type": "execute_result"
    }
   ],
   "source": [
    "... #Prompt"
   ]
  },
  {
   "cell_type": "markdown",
   "metadata": {},
   "source": [
    "#### Checking `in` and `not in`"
   ]
  },
  {
   "cell_type": "markdown",
   "metadata": {},
   "source": [
    "Let's double check whether '60-69' is **in** the keys of `new_wk_ages`. Use `in` on the dictionary."
   ]
  },
  {
   "cell_type": "code",
   "execution_count": 79,
   "metadata": {},
   "outputs": [
    {
     "data": {
      "text/plain": [
       "False"
      ]
     },
     "execution_count": 79,
     "metadata": {},
     "output_type": "execute_result"
    }
   ],
   "source": [
    "... #Prompt"
   ]
  },
  {
   "cell_type": "markdown",
   "metadata": {},
   "source": [
    "We can also check whether '50-59' is **not in** the keys of `new_wk_ages`. Use `not in` on the dictionary."
   ]
  },
  {
   "cell_type": "code",
   "execution_count": 80,
   "metadata": {},
   "outputs": [
    {
     "data": {
      "text/plain": [
       "True"
      ]
     },
     "execution_count": 80,
     "metadata": {},
     "output_type": "execute_result"
    }
   ],
   "source": [
    "... #Prompt"
   ]
  },
  {
   "cell_type": "markdown",
   "metadata": {},
   "source": [
    "## Problem 3: Tables"
   ]
  },
  {
   "cell_type": "markdown",
   "metadata": {},
   "source": [
    "logical basis of using tables, representation, dictionaries as tables, rows having indices, adding to a table"
   ]
  },
  {
   "cell_type": "markdown",
   "metadata": {},
   "source": [
    "Sometimes, it's helpful to organize data differently! One way to do this is a **table**. With tables, you can organize things in **rows** and **columns**. Rows denote a single piece of data, while columns denote specific characteristics. For example, we collected some data from you! It's stored in `data`. Run the following cell to see what that data might look like:"
   ]
  },
  {
   "cell_type": "code",
   "execution_count": 66,
   "metadata": {},
   "outputs": [
    {
     "name": "stdout",
     "output_type": "stream",
     "text": [
      "   Age Birth Month Hair Color  Height Favorite Color Favorite Class  \\\n",
      "0   13    November      black      60           blue        English   \n",
      "1   15     January      brown      67           teal           Math   \n",
      "2   14    February     blonde      59         purple           Math   \n",
      "3   15        July      black      65          green        History   \n",
      "4   14    November      black      58           pink        Physics   \n",
      "5   16       April      brown      63            red        English   \n",
      "6   13         May        red      60          black           Math   \n",
      "\n",
      "  Favorite Fast Food  \n",
      "0           In-N-Out  \n",
      "1          Taco Bell  \n",
      "2         McDonald's  \n",
      "3         McDonald's  \n",
      "4           In-N-Out  \n",
      "5           In-N-Out  \n",
      "6             Subway  \n"
     ]
    }
   ],
   "source": [
    "visualize_table(data)"
   ]
  },
  {
   "cell_type": "markdown",
   "metadata": {},
   "source": [
    "But what, exactly, is `data`? How are we creating this table?\n",
    "\n",
    "One way to create a table is using lists and dictionaries!\n",
    "\n",
    "For example, we can think of each column as a list of data. The position of an item in the list denotes what row it belongs to: if an item is at the 0th index, it is in row 0!\n",
    "\n",
    "For example, the list of favorite colors from the table above would look like `[blue, teal, purple, green, pink, red, black]`.\n",
    "\n",
    "Then we can say that each table is a *collection of columns*. We can put these columns together by putting them in a dictionary where each key is a column name and each value is the list that represents that column.\n",
    "\n",
    "Let's take a look at what the table we visualized above looks like in its normal form:"
   ]
  },
  {
   "cell_type": "code",
   "execution_count": 67,
   "metadata": {},
   "outputs": [
    {
     "data": {
      "text/plain": [
       "{'Age': [13, 15, 14, 15, 14, 16, 13],\n",
       " 'Birth Month': ['November',\n",
       "  'January',\n",
       "  'February',\n",
       "  'July',\n",
       "  'November',\n",
       "  'April',\n",
       "  'May'],\n",
       " 'Hair Color': ['black', 'brown', 'blonde', 'black', 'black', 'brown', 'red'],\n",
       " 'Height': [60, 67, 59, 65, 58, 63, 60],\n",
       " 'Favorite Color': ['blue', 'teal', 'purple', 'green', 'pink', 'red', 'black'],\n",
       " 'Favorite Class': ['English',\n",
       "  'Math',\n",
       "  'Math',\n",
       "  'History',\n",
       "  'Physics',\n",
       "  'English',\n",
       "  'Math'],\n",
       " 'Favorite Fast Food': ['In-N-Out',\n",
       "  'Taco Bell',\n",
       "  \"McDonald's\",\n",
       "  \"McDonald's\",\n",
       "  'In-N-Out',\n",
       "  'In-N-Out',\n",
       "  'Subway']}"
      ]
     },
     "execution_count": 67,
     "metadata": {},
     "output_type": "execute_result"
    }
   ],
   "source": [
    "data"
   ]
  },
  {
   "cell_type": "markdown",
   "metadata": {},
   "source": [
    "To get a column out of this table, we can do what we do with any dictionary: key by column name!\n",
    "\n",
    "For example, to get the favorite color, we can do `data['Favorite Color']` (note: `Favorite Color` is a string, so we need to put quotes around it when we're indexing by it!).\n",
    "\n",
    "How can you get the list of favorite fast foods out of `data`? Set `fast_foods` equal to the list corresponding to the favorite fast foods."
   ]
  },
  {
   "cell_type": "code",
   "execution_count": 68,
   "metadata": {
    "collapsed": true
   },
   "outputs": [],
   "source": [
    "fast_foods = ...\n",
    "fast_foods"
   ]
  },
  {
   "cell_type": "markdown",
   "metadata": {},
   "source": [
    "What if you wanted to get the restaurant `Subway` out of the `fast_foods`?"
   ]
  },
  {
   "cell_type": "code",
   "execution_count": 69,
   "metadata": {
    "collapsed": true
   },
   "outputs": [],
   "source": [
    "subway = ...\n",
    "subway"
   ]
  },
  {
   "cell_type": "markdown",
   "metadata": {},
   "source": [
    "Now, try writing one line of code to get the string `History` out of this table!"
   ]
  },
  {
   "cell_type": "code",
   "execution_count": 70,
   "metadata": {
    "collapsed": true
   },
   "outputs": [],
   "source": [
    "history = ...\n",
    "history"
   ]
  },
  {
   "cell_type": "markdown",
   "metadata": {},
   "source": [
    "## Problem 4: Data Manipulation"
   ]
  },
  {
   "cell_type": "markdown",
   "metadata": {},
   "source": [
    "`.map`, writing functions to add rows / delete rows from tables, changing a specific value, `.index` \n",
    "\n",
    "```\n",
    "table = {'Name': ['Sally', 'Amanda', 'Peony'], 'Age': [13, 14, 15]}\n",
    "names = table['Name']\n",
    "amanda = names.index('Amanda')\n",
    "table['Age'][amanda] = 15\n",
    "```\n",
    "\n",
    "or just teach for loops because map is hard - Ankitha\n",
    "\n",
    "\n",
    "finding average of ages"
   ]
  },
  {
   "cell_type": "markdown",
   "metadata": {},
   "source": [
    "We have a table full of data we collected from you! We've loaded it into this file as `data`. Let's see how it looks:"
   ]
  },
  {
   "cell_type": "code",
   "execution_count": 71,
   "metadata": {},
   "outputs": [
    {
     "name": "stdout",
     "output_type": "stream",
     "text": [
      "   Age Birth Month Hair Color  Height Favorite Color Favorite Class  \\\n",
      "0   13    November      black      60           blue        English   \n",
      "1   15     January      brown      67           teal           Math   \n",
      "2   14    February     blonde      59         purple           Math   \n",
      "3   15        July      black      65          green        History   \n",
      "4   14    November      black      58           pink        Physics   \n",
      "5   16       April      brown      63            red        English   \n",
      "6   13         May        red      60          black           Math   \n",
      "\n",
      "  Favorite Fast Food  \n",
      "0           In-N-Out  \n",
      "1          Taco Bell  \n",
      "2         McDonald's  \n",
      "3         McDonald's  \n",
      "4           In-N-Out  \n",
      "5           In-N-Out  \n",
      "6             Subway  \n"
     ]
    }
   ],
   "source": [
    "visualize_table(data)"
   ]
  },
  {
   "cell_type": "markdown",
   "metadata": {},
   "source": [
    "What if we wanted to find the average age in this table? How would we do that?\n",
    "\n",
    "First, let's isolate the ages:"
   ]
  },
  {
   "cell_type": "code",
   "execution_count": 72,
   "metadata": {},
   "outputs": [
    {
     "data": {
      "text/plain": [
       "[13, 15, 14, 15, 14, 16, 13]"
      ]
     },
     "execution_count": 72,
     "metadata": {},
     "output_type": "execute_result"
    }
   ],
   "source": [
    "ages = data['Age']\n",
    "ages"
   ]
  },
  {
   "cell_type": "markdown",
   "metadata": {},
   "source": [
    "Now that we have the ages, how can we take the average? Remember, the average is just the `sum` of a set of numbers over the number of elements! We have some handy list functions that will give us these values: `sum` and `len`. Let's try using them:"
   ]
  },
  {
   "cell_type": "code",
   "execution_count": 73,
   "metadata": {
    "collapsed": true
   },
   "outputs": [],
   "source": [
    "average_age = ... # Your code here\n",
    "average_age"
   ]
  },
  {
   "cell_type": "markdown",
   "metadata": {},
   "source": [
    "Now, what if we wanted to find the value of a specific cell in a table? For example, let's take the following table of names and ages:"
   ]
  },
  {
   "cell_type": "code",
   "execution_count": 74,
   "metadata": {},
   "outputs": [
    {
     "name": "stdout",
     "output_type": "stream",
     "text": [
      "     Name  Age\n",
      "0   Sally   13\n",
      "1  Amanda   14\n",
      "2   Peony   15\n"
     ]
    }
   ],
   "source": [
    "table = {'Name': ['Sally', 'Amanda', 'Peony'], 'Age': [13, 14, 15]}\n",
    "visualize_table(table)"
   ]
  },
  {
   "cell_type": "markdown",
   "metadata": {},
   "source": [
    "What if we wanted to find Amanda's age? We can use the `index` function, which will find the index of the first element that matches a value. Or, more simply, if we give `index` the word 'Amanda' and a list, it will tell you the position Amanda is in! This is also Amanda's row, which we can then use on the `Age` column.\n",
    "\n",
    "To see this in action, look at this piece of code:"
   ]
  },
  {
   "cell_type": "code",
   "execution_count": 75,
   "metadata": {},
   "outputs": [
    {
     "data": {
      "text/plain": [
       "14"
      ]
     },
     "execution_count": 75,
     "metadata": {},
     "output_type": "execute_result"
    }
   ],
   "source": [
    "names = table['Name']\n",
    "amanda = names.index('Amanda')\n",
    "table['Age'][amanda]"
   ]
  },
  {
   "cell_type": "markdown",
   "metadata": {},
   "source": [
    "Now, try it yourself! Set `food` to the fast food restaurant that the person whose favorite color is teal likes to go to."
   ]
  },
  {
   "cell_type": "code",
   "execution_count": 76,
   "metadata": {
    "collapsed": true
   },
   "outputs": [],
   "source": [
    "# Your code here!\n",
    "...\n",
    "food = ... "
   ]
  },
  {
   "cell_type": "markdown",
   "metadata": {},
   "source": [
    "You're all done! This was indeed a pretty long notebook, so congratulate yourself!"
   ]
  },
  {
   "cell_type": "code",
   "execution_count": null,
   "metadata": {},
   "outputs": [],
   "source": []
  }
 ],
 "metadata": {
  "kernelspec": {
   "display_name": "Python 3",
   "language": "python",
   "name": "python3"
  },
  "language_info": {
   "codemirror_mode": {
    "name": "ipython",
    "version": 3
   },
   "file_extension": ".py",
   "mimetype": "text/x-python",
   "name": "python",
   "nbconvert_exporter": "python",
   "pygments_lexer": "ipython3",
   "version": "3.7.4"
  }
 },
 "nbformat": 4,
 "nbformat_minor": 2
}
