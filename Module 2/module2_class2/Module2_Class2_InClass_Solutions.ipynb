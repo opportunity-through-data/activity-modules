{
 "cells": [
  {
   "cell_type": "markdown",
   "metadata": {},
   "source": [
    "## Activity 2: Dictionaries"
   ]
  },
  {
   "cell_type": "markdown",
   "metadata": {},
   "source": [
    "In this module, we'll be taking a look at keys/values (+ unique keys!), indexing, differences/similarities between a dictionary and a list, adding things to dictionaries, deleting things from dictionaries, lengths, .keys(), .values(), `in`, use cases"
   ]
  },
  {
   "cell_type": "markdown",
   "metadata": {},
   "source": [
    "#### Indexing"
   ]
  },
  {
   "cell_type": "markdown",
   "metadata": {},
   "source": [
    "Now that we are more familiar with lists, let's try a new data type that can hold more complicated information. We will use dictionaries to hold information in pairs. In the cell below, there is a dictionary that has the names of 8 different people paired with their ages. The **keys** are the names and the **values** are the ages."
   ]
  },
  {
   "cell_type": "code",
   "execution_count": 44,
   "metadata": {},
   "outputs": [
    {
     "data": {
      "text/plain": [
       "{'Bob': 45,\n",
       " 'Delilah': 40,\n",
       " 'Diana': 29,\n",
       " 'Edwin': 21,\n",
       " 'Eric': 61,\n",
       " 'Juan': 35,\n",
       " 'Linda': 32,\n",
       " 'Sarah': 48}"
      ]
     },
     "execution_count": 44,
     "metadata": {},
     "output_type": "execute_result"
    }
   ],
   "source": [
    "worker_ages = {\"Bob\": 45, \"Delilah\": 40,\"Sarah\": 48, \"Edwin\": 21, \"Diana\": 29, \"Juan\": 35, \"Linda\": 32, \"Eric\": 61}\n",
    "worker_ages"
   ]
  },
  {
   "cell_type": "markdown",
   "metadata": {},
   "source": [
    "Let's double check the number of people in the dictionary. We can get the size of a dictionary by using `len()` just like you would to find the length of a list."
   ]
  },
  {
   "cell_type": "code",
   "execution_count": 77,
   "metadata": {},
   "outputs": [
    {
     "data": {
      "text/plain": [
       "Ellipsis"
      ]
     },
     "execution_count": 77,
     "metadata": {},
     "output_type": "execute_result"
    }
   ],
   "source": [
    "...   # PROMPT\n",
    "# len(worker_ages) #SOLUTION "
   ]
  },
  {
   "cell_type": "markdown",
   "metadata": {},
   "source": [
    "Although you can check the size of a dictionary the same way as you would a list, you need a different method to access the values in a dictionary. Let's try it as you would for a list:"
   ]
  },
  {
   "cell_type": "code",
   "execution_count": 3,
   "metadata": {},
   "outputs": [
    {
     "ename": "KeyError",
     "evalue": "0",
     "output_type": "error",
     "traceback": [
      "\u001b[0;31m---------------------------------------------------------------------------\u001b[0m",
      "\u001b[0;31mKeyError\u001b[0m                                  Traceback (most recent call last)",
      "\u001b[0;32m<ipython-input-3-af671aa4556a>\u001b[0m in \u001b[0;36m<module>\u001b[0;34m()\u001b[0m\n\u001b[0;32m----> 1\u001b[0;31m \u001b[0mworker_ages\u001b[0m\u001b[0;34m[\u001b[0m\u001b[0;36m0\u001b[0m\u001b[0;34m]\u001b[0m\u001b[0;34m\u001b[0m\u001b[0;34m\u001b[0m\u001b[0m\n\u001b[0m",
      "\u001b[0;31mKeyError\u001b[0m: 0"
     ]
    }
   ],
   "source": [
    "worker_ages[0]"
   ]
  },
  {
   "cell_type": "markdown",
   "metadata": {},
   "source": [
    "Oh no! It did not work. For dictionaries, we must use one of the **keys** to access the corresponding **values**. Let's try this out by looking at the keys first."
   ]
  },
  {
   "cell_type": "code",
   "execution_count": 40,
   "metadata": {},
   "outputs": [
    {
     "data": {
      "text/plain": [
       "dict_keys(['Bob', 'Delilah', 'Sarah', 'Edwin', 'Diana', 'Juan', 'Linda', 'Eric'])"
      ]
     },
     "execution_count": 40,
     "metadata": {},
     "output_type": "execute_result"
    }
   ],
   "source": [
    "keys_names = ...\n",
    "keys_names\n",
    "\n",
    "keys_names = worker_ages.keys() #SOLUTION\n",
    "keys_names"
   ]
  },
  {
   "cell_type": "markdown",
   "metadata": {},
   "source": [
    "`keys_names` looks like a list. Let's try to get the first item."
   ]
  },
  {
   "cell_type": "code",
   "execution_count": 18,
   "metadata": {},
   "outputs": [
    {
     "ename": "TypeError",
     "evalue": "'dict_keys' object does not support indexing",
     "output_type": "error",
     "traceback": [
      "\u001b[0;31m---------------------------------------------------------------------------\u001b[0m",
      "\u001b[0;31mTypeError\u001b[0m                                 Traceback (most recent call last)",
      "\u001b[0;32m<ipython-input-18-6d8dd2183b4c>\u001b[0m in \u001b[0;36m<module>\u001b[0;34m()\u001b[0m\n\u001b[1;32m      1\u001b[0m \u001b[0;34m...\u001b[0m\u001b[0;34m\u001b[0m\u001b[0;34m\u001b[0m\u001b[0m\n\u001b[0;32m----> 2\u001b[0;31m \u001b[0mkeys_names\u001b[0m\u001b[0;34m[\u001b[0m\u001b[0;36m0\u001b[0m\u001b[0;34m]\u001b[0m \u001b[0;31m#SOLUTION WILL ERROR\u001b[0m\u001b[0;34m\u001b[0m\u001b[0;34m\u001b[0m\u001b[0m\n\u001b[0m",
      "\u001b[0;31mTypeError\u001b[0m: 'dict_keys' object does not support indexing"
     ]
    }
   ],
   "source": [
    "...\n",
    "keys_names[0] #SOLUTION         ***WILL ERROR***"
   ]
  },
  {
   "cell_type": "markdown",
   "metadata": {},
   "source": [
    "Although it looks like a list `keys_names` is different from a list. Check the data type by using the `type()` function."
   ]
  },
  {
   "cell_type": "code",
   "execution_count": 20,
   "metadata": {},
   "outputs": [
    {
     "data": {
      "text/plain": [
       "dict_keys"
      ]
     },
     "execution_count": 20,
     "metadata": {},
     "output_type": "execute_result"
    }
   ],
   "source": [
    "...\n",
    "type(keys_names) #SOLUTION"
   ]
  },
  {
   "cell_type": "markdown",
   "metadata": {},
   "source": [
    "`dict_keys` is a different object from a list, but we can convert it into a list by doing the following command: `list(<dict_keys>)`"
   ]
  },
  {
   "cell_type": "code",
   "execution_count": 41,
   "metadata": {},
   "outputs": [
    {
     "data": {
      "text/plain": [
       "['Bob', 'Delilah', 'Sarah', 'Edwin', 'Diana', 'Juan', 'Linda', 'Eric']"
      ]
     },
     "execution_count": 41,
     "metadata": {},
     "output_type": "execute_result"
    }
   ],
   "source": [
    "list_key_names = list(keys_names)\n",
    "list_key_names"
   ]
  },
  {
   "cell_type": "markdown",
   "metadata": {},
   "source": [
    "Now that we have a list of key values, access the first element in the list."
   ]
  },
  {
   "cell_type": "code",
   "execution_count": 25,
   "metadata": {},
   "outputs": [
    {
     "data": {
      "text/plain": [
       "'Bob'"
      ]
     },
     "execution_count": 25,
     "metadata": {},
     "output_type": "execute_result"
    }
   ],
   "source": [
    "first_elem = ...\n",
    "first_elem\n",
    "\n",
    "first_elem = list_key_names[0] # SOLUTION\n",
    "first_elem"
   ]
  },
  {
   "cell_type": "markdown",
   "metadata": {},
   "source": [
    "We can use this to access the value in the dictionary. Use first_elem to get the age that corresponds to 'Bob'."
   ]
  },
  {
   "cell_type": "code",
   "execution_count": 27,
   "metadata": {},
   "outputs": [
    {
     "data": {
      "text/plain": [
       "45"
      ]
     },
     "execution_count": 27,
     "metadata": {},
     "output_type": "execute_result"
    }
   ],
   "source": [
    "...\n",
    "worker_ages[first_elem] # SOLUTION"
   ]
  },
  {
   "cell_type": "markdown",
   "metadata": {},
   "source": [
    "#### Creating dictionary"
   ]
  },
  {
   "cell_type": "markdown",
   "metadata": {},
   "source": [
    "Let's reorganize the data in `worker_ages`. Let's make a dictionary that has groups of years as the keys and the values are a list of all the names of people who correspond to that age group. The groups should be '20-29', '30-39', '40-49', '50-59', '60-69'. **If no one is in that age group, set it equal to an empty list.** Here is `worker_ages` for reference."
   ]
  },
  {
   "cell_type": "code",
   "execution_count": 45,
   "metadata": {},
   "outputs": [
    {
     "data": {
      "text/plain": [
       "{'Bob': 45,\n",
       " 'Delilah': 40,\n",
       " 'Diana': 29,\n",
       " 'Edwin': 21,\n",
       " 'Eric': 61,\n",
       " 'Juan': 35,\n",
       " 'Linda': 32,\n",
       " 'Sarah': 48}"
      ]
     },
     "execution_count": 45,
     "metadata": {},
     "output_type": "execute_result"
    }
   ],
   "source": [
    "worker_ages"
   ]
  },
  {
   "cell_type": "code",
   "execution_count": 56,
   "metadata": {},
   "outputs": [
    {
     "data": {
      "text/plain": [
       "{'20-29': ['Edwin', 'Diana'],\n",
       " '30-39': ['Linda', 'Juan'],\n",
       " '40-49': ['Delilah', 'Bob', 'Sarah'],\n",
       " '50-59': [],\n",
       " '60-69': ['Eric']}"
      ]
     },
     "execution_count": 56,
     "metadata": {},
     "output_type": "execute_result"
    }
   ],
   "source": [
    "new_wk_ages = ...\n",
    "new_wk_ages\n",
    "\n",
    "new_wk_ages = {'20-29': ['Edwin', 'Diana'], '30-39':['Linda', 'Juan'], '40-49':['Delilah', 'Bob', 'Sarah'], '50-59':[], '60-69':['Eric']} #SOLUTION\n",
    "new_wk_ages #SOLUTION\n"
   ]
  },
  {
   "cell_type": "markdown",
   "metadata": {},
   "source": [
    "Create the variable `twenties` as a **list** of all the people in `new_wk_ages` who are between the ages of 20 and 29."
   ]
  },
  {
   "cell_type": "code",
   "execution_count": 57,
   "metadata": {},
   "outputs": [
    {
     "data": {
      "text/plain": [
       "['Edwin', 'Diana']"
      ]
     },
     "execution_count": 57,
     "metadata": {},
     "output_type": "execute_result"
    }
   ],
   "source": [
    "twenties = ...\n",
    "twenties\n",
    "\n",
    "twenties = new_wk_ages['20-29']\n",
    "twenties"
   ]
  },
  {
   "cell_type": "markdown",
   "metadata": {},
   "source": [
    "#### Adding Elements"
   ]
  },
  {
   "cell_type": "markdown",
   "metadata": {},
   "source": [
    "There is a new worker we want to add to the dictionary. Her names is Faith and she is 25 years old. Add her to the `new_wk_ages` dictionary. (Try to use `twenties` in your solution!)"
   ]
  },
  {
   "cell_type": "code",
   "execution_count": 58,
   "metadata": {
    "collapsed": true
   },
   "outputs": [],
   "source": [
    "...\n",
    "\n",
    "# SOLUTION with twenties\n",
    "new_wk_ages['20-29'] = twenties + [\"Faith\"]\n",
    "\n",
    "# SOLUTION without twenties\n",
    "# new_wk_ages['20-29'] = ['Edwin', 'Diana', 'Faith']"
   ]
  },
  {
   "cell_type": "markdown",
   "metadata": {},
   "source": [
    "Double check that new_wk_ages is updated by running the cell below."
   ]
  },
  {
   "cell_type": "code",
   "execution_count": 59,
   "metadata": {},
   "outputs": [
    {
     "data": {
      "text/plain": [
       "{'20-29': ['Edwin', 'Diana', 'Faith'],\n",
       " '30-39': ['Linda', 'Juan'],\n",
       " '40-49': ['Delilah', 'Bob', 'Sarah'],\n",
       " '50-59': [],\n",
       " '60-69': ['Eric']}"
      ]
     },
     "execution_count": 59,
     "metadata": {},
     "output_type": "execute_result"
    }
   ],
   "source": [
    "new_wk_ages"
   ]
  },
  {
   "cell_type": "markdown",
   "metadata": {},
   "source": [
    "There is another new employee named Sam, and he is 19 years old. Add him to the `new_wk_ages` dictionary. (Note: the company can only higher people 18 and older, so Sam falls into the age group '18-19'."
   ]
  },
  {
   "cell_type": "code",
   "execution_count": 64,
   "metadata": {
    "collapsed": true
   },
   "outputs": [],
   "source": [
    "...\n",
    "new_wk_ages['18-19'] = ['Sam'] # SOLUTION"
   ]
  },
  {
   "cell_type": "code",
   "execution_count": 65,
   "metadata": {},
   "outputs": [
    {
     "data": {
      "text/plain": [
       "{'18-19': ['Sam'],\n",
       " '20-29': ['Edwin', 'Diana', 'Faith'],\n",
       " '30-39': ['Linda', 'Juan'],\n",
       " '40-49': ['Delilah', 'Bob', 'Sarah'],\n",
       " '50-59': [],\n",
       " '60-69': ['Eric']}"
      ]
     },
     "execution_count": 65,
     "metadata": {},
     "output_type": "execute_result"
    }
   ],
   "source": [
    "new_wk_ages"
   ]
  },
  {
   "cell_type": "markdown",
   "metadata": {},
   "source": [
    "#### Updating Dictionary"
   ]
  },
  {
   "cell_type": "markdown",
   "metadata": {},
   "source": [
    "Eric is retiring, so we want to remove him from the list of workers. We can do this by updating the key '60-69'. Remove him from the `new_wk_ages` dictionary."
   ]
  },
  {
   "cell_type": "code",
   "execution_count": 73,
   "metadata": {
    "collapsed": true
   },
   "outputs": [],
   "source": [
    "...\n",
    "new_wk_ages['60-69'] = [] #SOLUTION"
   ]
  },
  {
   "cell_type": "code",
   "execution_count": 74,
   "metadata": {},
   "outputs": [
    {
     "data": {
      "text/plain": [
       "{'18-19': ['Sam'],\n",
       " '20-29': ['Edwin', 'Diana', 'Faith'],\n",
       " '30-39': ['Linda', 'Juan'],\n",
       " '40-49': ['Delilah', 'Bob', 'Sarah'],\n",
       " '50-59': [],\n",
       " '60-69': []}"
      ]
     },
     "execution_count": 74,
     "metadata": {},
     "output_type": "execute_result"
    }
   ],
   "source": [
    "new_wk_ages"
   ]
  },
  {
   "cell_type": "markdown",
   "metadata": {},
   "source": [
    "#### Deleting Elements\n"
   ]
  },
  {
   "cell_type": "markdown",
   "metadata": {},
   "source": [
    "Looking at the dictionary we have two keys that correspond to empty lists. Rather than keeping empty lists, let's delete pairs in the dictionary if they have empty lists. Delete the key '60-69', then the key '50-59'."
   ]
  },
  {
   "cell_type": "code",
   "execution_count": 75,
   "metadata": {},
   "outputs": [
    {
     "data": {
      "text/plain": [
       "{'18-19': ['Sam'],\n",
       " '20-29': ['Edwin', 'Diana', 'Faith'],\n",
       " '30-39': ['Linda', 'Juan'],\n",
       " '40-49': ['Delilah', 'Bob', 'Sarah'],\n",
       " '50-59': []}"
      ]
     },
     "execution_count": 75,
     "metadata": {},
     "output_type": "execute_result"
    }
   ],
   "source": [
    "...\n",
    "del new_wk_ages['60-69'] # SOLUTION\n",
    "new_wk_ages # SOLUTION"
   ]
  },
  {
   "cell_type": "code",
   "execution_count": 76,
   "metadata": {},
   "outputs": [
    {
     "data": {
      "text/plain": [
       "{'18-19': ['Sam'],\n",
       " '20-29': ['Edwin', 'Diana', 'Faith'],\n",
       " '30-39': ['Linda', 'Juan'],\n",
       " '40-49': ['Delilah', 'Bob', 'Sarah']}"
      ]
     },
     "execution_count": 76,
     "metadata": {},
     "output_type": "execute_result"
    }
   ],
   "source": [
    "...\n",
    "del new_wk_ages['50-59'] # SOLUTION\n",
    "new_wk_ages # SOLUTION"
   ]
  },
  {
   "cell_type": "markdown",
   "metadata": {},
   "source": [
    "#### Checking `in` and `not in`"
   ]
  },
  {
   "cell_type": "markdown",
   "metadata": {},
   "source": [
    "Let's double check whether '60-69' is **in** the keys of `new_wk_ages`. Use `in` on the dictionary."
   ]
  },
  {
   "cell_type": "code",
   "execution_count": 79,
   "metadata": {},
   "outputs": [
    {
     "data": {
      "text/plain": [
       "False"
      ]
     },
     "execution_count": 79,
     "metadata": {},
     "output_type": "execute_result"
    }
   ],
   "source": [
    "... \n",
    "'60-69'in new_wk_ages # SOLUTION"
   ]
  },
  {
   "cell_type": "markdown",
   "metadata": {},
   "source": [
    "We can also check whether '50-59' is **not in** the keys of `new_wk_ages`. Use `not in` on the dictionary."
   ]
  },
  {
   "cell_type": "code",
   "execution_count": 80,
   "metadata": {},
   "outputs": [
    {
     "data": {
      "text/plain": [
       "True"
      ]
     },
     "execution_count": 80,
     "metadata": {},
     "output_type": "execute_result"
    }
   ],
   "source": [
    "...\n",
    "'50-59' not in new_wk_ages"
   ]
  },
  {
   "cell_type": "code",
   "execution_count": null,
   "metadata": {},
   "outputs": [],
   "source": [
    "## Problem 2: ## Problem 2: Dictionaries\n",
    "\n",
    "keys/values (+ unique keys!), indexing, differences/similarities between a dictionary and a list, adding things to dictionaries, deleting things from dictionaries, lengths, .keys(), .values(), `in`, use cases\n",
    "\n",
    "#### Indexing\n",
    "\n",
    "Now that we are more familiar with lists, let's try a new data type that can hold more complicated information. We will use dictionaries to hold information in pairs. In the cell below, there is a dictionary that has the names of 8 different people paired with their ages. The **keys** are the names and the **values** are the ages.\n",
    "\n",
    "worker_ages = {\"Bob\": 45, \"Delilah\": 40,\"Sarah\": 48, \"Edwin\": 21, \"Diana\": 29, \"Juan\": 35, \"Linda\": 32, \"Eric\": 61}\n",
    "worker_ages\n",
    "\n",
    "Let's double check the number of people in the dictionary. We can get the size of a dictionary by using `len()` just like you would to find the length of a list.\n",
    "\n",
    "...   # PROMPT\n",
    "# len(worker_ages) #SOLUTION \n",
    "\n",
    "Although you can check the size of a dictionary the same way as you would a list, you need a different method to access the values in a dictionary. Let's try it as you would for a list:\n",
    "\n",
    "worker_ages[0]\n",
    "\n",
    "Oh no! It did not work. For dictionaries, we must use one of the **keys** to access the corresponding **values**. Let's try this out by looking at the keys first.\n",
    "\n",
    "keys_names = ...\n",
    "keys_names\n",
    "\n",
    "keys_names = worker_ages.keys() #SOLUTION\n",
    "keys_names\n",
    "\n",
    "`keys_names` looks like a list. Let's try to get the first item.\n",
    "\n",
    "...\n",
    "keys_names[0] #SOLUTION         ***WILL ERROR***\n",
    "\n",
    "Although it looks like a list `keys_names` is different from a list. Check the data type by using the `type()` function.\n",
    "\n",
    "...\n",
    "type(keys_names) #SOLUTION\n",
    "\n",
    "`dict_keys` is a different object from a list, but we can convert it into a list by doing the following command: `list(<dict_keys>)`\n",
    "\n",
    "list_key_names = list(keys_names)\n",
    "list_key_names\n",
    "\n",
    "Now that we have a list of key values, access the first element in the list.\n",
    "\n",
    "first_elem = ...\n",
    "first_elem\n",
    "\n",
    "first_elem = list_key_names[0] # SOLUTION\n",
    "first_elem\n",
    "\n",
    "We can use this to access the value in the dictionary. Use first_elem to get the age that corresponds to 'Bob'.\n",
    "\n",
    "...\n",
    "worker_ages[first_elem] # SOLUTION\n",
    "\n",
    "#### Creating dictionary\n",
    "\n",
    "Let's reorganize the data in `worker_ages`. Let's make a dictionary that has groups of years as the keys and the values are a list of all the names of people who correspond to that age group. The groups should be '20-29', '30-39', '40-49', '50-59', '60-69'. **If no one is in that age group, set it equal to an empty list.** Here is `worker_ages` for reference.\n",
    "\n",
    "worker_ages\n",
    "\n",
    "new_wk_ages = ...\n",
    "new_wk_ages\n",
    "\n",
    "new_wk_ages = {'20-29': ['Edwin', 'Diana'], '30-39':['Linda', 'Juan'], '40-49':['Delilah', 'Bob', 'Sarah'], '50-59':[], '60-69':['Eric']} #SOLUTION\n",
    "new_wk_ages #SOLUTION\n",
    "\n",
    "\n",
    "Create the variable `twenties` as a **list** of all the people in `new_wk_ages` who are between the ages of 20 and 29.\n",
    "\n",
    "twenties = ...\n",
    "twenties\n",
    "\n",
    "twenties = new_wk_ages['20-29']\n",
    "twenties\n",
    "\n",
    "#### Adding Elements\n",
    "\n",
    "There is a new worker we want to add to the dictionary. Her names is Faith and she is 25 years old. Add her to the `new_wk_ages` dictionary. (Try to use `twenties` in your solution!)\n",
    "\n",
    "...\n",
    "\n",
    "# SOLUTION with twenties\n",
    "new_wk_ages['20-29'] = twenties + [\"Faith\"]\n",
    "\n",
    "# SOLUTION without twenties\n",
    "# new_wk_ages['20-29'] = ['Edwin', 'Diana', 'Faith']\n",
    "\n",
    "Double check that new_wk_ages is updated by running the cell below.\n",
    "\n",
    "new_wk_ages\n",
    "\n",
    "There is another new employee named Sam, and he is 19 years old. Add him to the `new_wk_ages` dictionary. (Note: the company can only higher people 18 and older, so Sam falls into the age group '18-19'.\n",
    "\n",
    "...\n",
    "new_wk_ages['18-19'] = ['Sam'] # SOLUTION\n",
    "\n",
    "new_wk_ages\n",
    "\n",
    "#### Updating Dictionary\n",
    "\n",
    "Eric is retiring, so we want to remove him from the list of workers. We can do this by updating the key '60-69'. Remove him from the `new_wk_ages` dictionary.\n",
    "\n",
    "...\n",
    "new_wk_ages['60-69'] = [] #SOLUTION\n",
    "\n",
    "new_wk_ages\n",
    "\n",
    "#### Deleting Elements\n",
    "\n",
    "\n",
    "Looking at the dictionary we have two keys that correspond to empty lists. Rather than keeping empty lists, let's delete pairs in the dictionary if they have empty lists. Delete the key '60-69', then the key '50-59'.\n",
    "\n",
    "...\n",
    "del new_wk_ages['60-69'] # SOLUTION\n",
    "new_wk_ages # SOLUTION\n",
    "\n",
    "...\n",
    "del new_wk_ages['50-59'] # SOLUTION\n",
    "new_wk_ages # SOLUTION\n",
    "\n",
    "#### Checking `in` and `not in`\n",
    "\n",
    "Let's double check whether '60-69' is **in** the keys of `new_wk_ages`. Use `in` on the dictionary.\n",
    "\n",
    "... \n",
    "'60-69'in new_wk_ages # SOLUTION\n",
    "\n",
    "We can also check whether '50-59' is **not in** the keys of `new_wk_ages`. Use `not in` on the dictionary.\n",
    "\n",
    "...\n",
    "'50-59' not in new_wk_agesDictionaries"
   ]
  }
 ],
 "metadata": {
  "kernelspec": {
   "display_name": "Python 3",
   "language": "python",
   "name": "python3"
  },
  "language_info": {
   "codemirror_mode": {
    "name": "ipython",
    "version": 3
   },
   "file_extension": ".py",
   "mimetype": "text/x-python",
   "name": "python",
   "nbconvert_exporter": "python",
   "pygments_lexer": "ipython3",
   "version": "3.8.3"
  }
 },
 "nbformat": 4,
 "nbformat_minor": 4
}
