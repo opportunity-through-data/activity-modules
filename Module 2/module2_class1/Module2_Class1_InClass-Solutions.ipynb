{
 "cells": [
  {
   "cell_type": "markdown",
   "metadata": {},
   "source": [
    "# Activity 2: Lists\n",
    "In this module, we'll be taking a look at lists and how to use them!"
   ]
  },
  {
   "cell_type": "markdown",
   "metadata": {},
   "source": [
    "## Problem 1: Lists "
   ]
  },
  {
   "cell_type": "markdown",
   "metadata": {},
   "source": [
    "Let's look at the data we have about birth months to practice with lists. The data is a list of integers that range from 1 to 12 which corresponds to the 12 months in a year. "
   ]
  },
  {
   "cell_type": "code",
   "execution_count": 2,
   "metadata": {},
   "outputs": [
    {
     "name": "stdout",
     "output_type": "stream",
     "text": [
      "[1, 12, 2, 2, 3, 7, 9, 10, 1, 11, 4, 8, 6, 5, 12, 4, 9, 7, 3, 10, 1, 8, 5, 6, 11, 10, 7, 3, 9, 4]\n"
     ]
    }
   ],
   "source": [
    "birth_months = [1, 12, 2, 2, 3, 7, 9, 10, 1, 11, 4, 8, 6, 5, 12, 4, 9, 7, 3, 10, 1, 8, 5, 6, 11, 10, 7, 3, 9, 4]        \n",
    "print(birth_months)"
   ]
  },
  {
   "cell_type": "markdown",
   "metadata": {},
   "source": [
    "Let's check how many birth months are in the list."
   ]
  },
  {
   "cell_type": "code",
   "execution_count": 42,
   "metadata": {},
   "outputs": [
    {
     "data": {
      "text/plain": [
       "30"
      ]
     },
     "execution_count": 42,
     "metadata": {},
     "output_type": "execute_result"
    }
   ],
   "source": [
    "# ...(birth_months) #PROMPT\n",
    "len(birth_months) # SOLUTION"
   ]
  },
  {
   "cell_type": "markdown",
   "metadata": {},
   "source": [
    "#### Indexing"
   ]
  },
  {
   "cell_type": "markdown",
   "metadata": {},
   "source": [
    "Now that we know how many elements there are in the list. Let's look at three different elements from the entire list. Let's get the first, sixth, and tenth elements from `birth_months`."
   ]
  },
  {
   "cell_type": "code",
   "execution_count": 43,
   "metadata": {},
   "outputs": [
    {
     "data": {
      "text/plain": [
       "1"
      ]
     },
     "execution_count": 43,
     "metadata": {},
     "output_type": "execute_result"
    }
   ],
   "source": [
    "# first_element = ...   # PROMPT\n",
    "# first_element         # PROMPT\n",
    "\n",
    "first_element = birth_months[0] # SOLUTION\n",
    "first_element"
   ]
  },
  {
   "cell_type": "code",
   "execution_count": 44,
   "metadata": {},
   "outputs": [
    {
     "data": {
      "text/plain": [
       "7"
      ]
     },
     "execution_count": 44,
     "metadata": {},
     "output_type": "execute_result"
    }
   ],
   "source": [
    "# sixth_element = ...   # PROMPT\n",
    "# sixth_element         # PROMPT\n",
    "\n",
    "sixth_element = birth_months[5] # SOLUTION\n",
    "sixth_element"
   ]
  },
  {
   "cell_type": "code",
   "execution_count": 45,
   "metadata": {},
   "outputs": [
    {
     "data": {
      "text/plain": [
       "11"
      ]
     },
     "execution_count": 45,
     "metadata": {},
     "output_type": "execute_result"
    }
   ],
   "source": [
    "# tenth_element = ...   # PROMPT\n",
    "# tenth_element         # PROMPT\n",
    "\n",
    "tenth_element = birth_months[9] # SOLUTION\n",
    "tenth_element"
   ]
  },
  {
   "cell_type": "markdown",
   "metadata": {},
   "source": [
    "#### List Slicing"
   ]
  },
  {
   "cell_type": "markdown",
   "metadata": {},
   "source": [
    "Rather than looking at all 30 birth months, let's look at the first 15 elements and second 15 elements separately. Create two new lists. Create `first_half` which should contain the first 15 elements and `second_half` should contain the last 15 elements. (The last line is to double check the number of elements in your new lists!)\n",
    "\n",
    "Hint: use list slicing!"
   ]
  },
  {
   "cell_type": "code",
   "execution_count": 46,
   "metadata": {},
   "outputs": [
    {
     "data": {
      "text/plain": [
       "15"
      ]
     },
     "execution_count": 46,
     "metadata": {},
     "output_type": "execute_result"
    }
   ],
   "source": [
    "# first_half = ...   # PROMPT\n",
    "# len(first_half)    # PROMPT\n",
    "\n",
    "first_half = birth_months[:15]\n",
    "len(first_half)"
   ]
  },
  {
   "cell_type": "code",
   "execution_count": 47,
   "metadata": {},
   "outputs": [
    {
     "data": {
      "text/plain": [
       "15"
      ]
     },
     "execution_count": 47,
     "metadata": {},
     "output_type": "execute_result"
    }
   ],
   "source": [
    "# second_half = ...   # PROMPT\n",
    "# len(second_half)    # PROMPT\n",
    "\n",
    "second_half = birth_months[15:]\n",
    "len(second_half)"
   ]
  },
  {
   "cell_type": "markdown",
   "metadata": {},
   "source": [
    "#### Changing Elements"
   ]
  },
  {
   "cell_type": "markdown",
   "metadata": {},
   "source": [
    "Let's say someone mistyped their birth month and we want to change their number in the list. We can change the value of an element if we know the index. Say the first person was actually born in November (11) rather than January (1), we can change that by using brackets."
   ]
  },
  {
   "cell_type": "code",
   "execution_count": 48,
   "metadata": {},
   "outputs": [
    {
     "name": "stdout",
     "output_type": "stream",
     "text": [
      "[1, 12, 2, 2, 3, 7, 9, 10, 1, 11, 4, 8, 6, 5, 12, 4, 9, 7, 3, 10, 1, 8, 5, 6, 11, 10, 7, 3, 9, 4]\n"
     ]
    }
   ],
   "source": [
    "print(birth_months)"
   ]
  },
  {
   "cell_type": "code",
   "execution_count": 49,
   "metadata": {},
   "outputs": [
    {
     "name": "stdout",
     "output_type": "stream",
     "text": [
      "[11, 12, 2, 2, 3, 7, 9, 10, 1, 11, 4, 8, 6, 5, 12, 4, 9, 7, 3, 10, 1, 8, 5, 6, 11, 10, 7, 3, 9, 4]\n"
     ]
    }
   ],
   "source": [
    "birth_months[0] = 11\n",
    "print(birth_months)"
   ]
  },
  {
   "cell_type": "markdown",
   "metadata": {},
   "source": [
    "#### Adding Elements"
   ]
  },
  {
   "cell_type": "markdown",
   "metadata": {},
   "source": [
    "Let's add your birth month to the list. To add a new value to the list, we will use the `.append` method. Use the variable `my_month` when you append! Check that you added your birth month by looking at the length of the list."
   ]
  },
  {
   "cell_type": "code",
   "execution_count": 50,
   "metadata": {
    "collapsed": true
   },
   "outputs": [],
   "source": [
    "# my_month = ... # PROMPT\n",
    "my_month = 11 # EXAMPLE SOLUTION"
   ]
  },
  {
   "cell_type": "code",
   "execution_count": 51,
   "metadata": {},
   "outputs": [
    {
     "name": "stdout",
     "output_type": "stream",
     "text": [
      "[11, 12, 2, 2, 3, 7, 9, 10, 1, 11, 4, 8, 6, 5, 12, 4, 9, 7, 3, 10, 1, 8, 5, 6, 11, 10, 7, 3, 9, 4, 11]\n"
     ]
    }
   ],
   "source": [
    "# ...    # PROMPT\n",
    "birth_months.append(my_month) # SOLUTION\n",
    "print(birth_months)"
   ]
  },
  {
   "cell_type": "code",
   "execution_count": 52,
   "metadata": {},
   "outputs": [
    {
     "data": {
      "text/plain": [
       "31"
      ]
     },
     "execution_count": 52,
     "metadata": {},
     "output_type": "execute_result"
    }
   ],
   "source": [
    "len(birth_months)"
   ]
  },
  {
   "cell_type": "markdown",
   "metadata": {},
   "source": [
    "Two of your friends add their birth months to the list! However, they did not know you wanted the month as a integer, and they added the month as a string."
   ]
  },
  {
   "cell_type": "code",
   "execution_count": 53,
   "metadata": {},
   "outputs": [
    {
     "name": "stdout",
     "output_type": "stream",
     "text": [
      "[11, 12, 2, 2, 3, 7, 9, 10, 1, 11, 4, 8, 6, 5, 12, 4, 9, 7, 3, 10, 1, 8, 5, 6, 11, 10, 7, 3, 9, 4, 11, 'September', 'February']\n"
     ]
    }
   ],
   "source": [
    "birth_months.extend([\"September\", \"February\"])\n",
    "print(birth_months)"
   ]
  },
  {
   "cell_type": "markdown",
   "metadata": {},
   "source": [
    "Let's change their answers so that the list only contains integers! HINT: If you are confused to start, then first figure out the index of these two elements."
   ]
  },
  {
   "cell_type": "code",
   "execution_count": 54,
   "metadata": {
    "collapsed": true
   },
   "outputs": [],
   "source": [
    "# Change 'September' to 9\n",
    "# ...     # PROMPT \n",
    "# print(birth_months)"
   ]
  },
  {
   "cell_type": "code",
   "execution_count": 55,
   "metadata": {},
   "outputs": [
    {
     "name": "stdout",
     "output_type": "stream",
     "text": [
      "[11, 12, 2, 2, 3, 7, 9, 10, 1, 11, 4, 8, 6, 5, 12, 4, 9, 7, 3, 10, 1, 8, 5, 6, 11, 10, 7, 3, 9, 4, 11, 9, 'February']\n"
     ]
    }
   ],
   "source": [
    "# Change 'September' to 9\n",
    "birth_months[31] = 9  # SOLUTION\n",
    "print(birth_months)"
   ]
  },
  {
   "cell_type": "code",
   "execution_count": 56,
   "metadata": {
    "collapsed": true
   },
   "outputs": [],
   "source": [
    "# Change 'February' to 2\n",
    "# ...     # PROMPT \n",
    "# print(birth_months)"
   ]
  },
  {
   "cell_type": "code",
   "execution_count": 57,
   "metadata": {},
   "outputs": [
    {
     "name": "stdout",
     "output_type": "stream",
     "text": [
      "[11, 12, 2, 2, 3, 7, 9, 10, 1, 11, 4, 8, 6, 5, 12, 4, 9, 7, 3, 10, 1, 8, 5, 6, 11, 10, 7, 3, 9, 4, 11, 9, 2]\n"
     ]
    }
   ],
   "source": [
    "# Change 'February' to 2\n",
    "birth_months[32] = 2 #\n",
    "print(birth_months)"
   ]
  },
  {
   "cell_type": "markdown",
   "metadata": {},
   "source": [
    "#### Deleting Elements"
   ]
  },
  {
   "cell_type": "markdown",
   "metadata": {},
   "source": [
    "What if instead of changing each string individually we wanted to change them at the same time? We could delete the strings, and add the two integers we want to the list. Let's try this method instead! Here is the list as it was after your friends added to it. "
   ]
  },
  {
   "cell_type": "code",
   "execution_count": 58,
   "metadata": {},
   "outputs": [
    {
     "name": "stdout",
     "output_type": "stream",
     "text": [
      "[1, 12, 2, 2, 3, 7, 9, 10, 1, 11, 4, 8, 6, 5, 12, 4, 9, 7, 3, 10, 1, 8, 5, 6, 11, 10, 7, 3, 9, 4, 11, 'September', 'February']\n"
     ]
    }
   ],
   "source": [
    "birth_months = [1, 12, 2, 2, 3, 7, 9, 10, 1, 11, 4, 8, 6, 5, 12, 4, 9, 7, 3, 10, 1, 8, 5, 6, 11, 10, 7, 3, 9, 4, my_month, \"September\", \"February\"]        \n",
    "print(birth_months)"
   ]
  },
  {
   "cell_type": "code",
   "execution_count": 59,
   "metadata": {},
   "outputs": [
    {
     "name": "stdout",
     "output_type": "stream",
     "text": [
      "[1, 12, 2, 2, 3, 7, 9, 10, 1, 11, 4, 8, 6, 5, 12, 4, 9, 7, 3, 10, 1, 8, 5, 6, 11, 10, 7, 3, 9, 4, 11]\n"
     ]
    }
   ],
   "source": [
    "# Delete the two strings in this cell.\n",
    "# ...     # PROMPT\n",
    "\n",
    "del birth_months[31:] # SOLUTION\n",
    "print(birth_months)"
   ]
  },
  {
   "cell_type": "code",
   "execution_count": 60,
   "metadata": {},
   "outputs": [
    {
     "name": "stdout",
     "output_type": "stream",
     "text": [
      "[1, 12, 2, 2, 3, 7, 9, 10, 1, 11, 4, 8, 6, 5, 12, 4, 9, 7, 3, 10, 1, 8, 5, 6, 11, 10, 7, 3, 9, 4, 11, 9, 2]\n"
     ]
    }
   ],
   "source": [
    "# Add the two integer versions of the months in this cell.\n",
    "# ...    # PROMPT\n",
    "birth_months.extend([9,2]) # SOLUTION\n",
    "print(birth_months)"
   ]
  },
  {
   "cell_type": "markdown",
   "metadata": {},
   "source": [
    "Congratulations! The list should contain only numbers again! Let's check out what is and what is not inside the list with the method `in`! Using `in` we can learn whether a value is inside the list. `in` returns `True` or `False`."
   ]
  },
  {
   "cell_type": "code",
   "execution_count": 61,
   "metadata": {},
   "outputs": [
    {
     "data": {
      "text/plain": [
       "False"
      ]
     },
     "execution_count": 61,
     "metadata": {},
     "output_type": "execute_result"
    }
   ],
   "source": [
    "'September' in birth_months "
   ]
  },
  {
   "cell_type": "code",
   "execution_count": 62,
   "metadata": {},
   "outputs": [
    {
     "data": {
      "text/plain": [
       "True"
      ]
     },
     "execution_count": 62,
     "metadata": {},
     "output_type": "execute_result"
    }
   ],
   "source": [
    "1 in birth_months"
   ]
  },
  {
   "cell_type": "code",
   "execution_count": 63,
   "metadata": {},
   "outputs": [
    {
     "data": {
      "text/plain": [
       "False"
      ]
     },
     "execution_count": 63,
     "metadata": {},
     "output_type": "execute_result"
    }
   ],
   "source": [
    "0 in birth_months"
   ]
  },
  {
   "cell_type": "code",
   "execution_count": 64,
   "metadata": {},
   "outputs": [
    {
     "data": {
      "text/plain": [
       "True"
      ]
     },
     "execution_count": 64,
     "metadata": {},
     "output_type": "execute_result"
    }
   ],
   "source": [
    "# Check that your birth month appears at least once in the list\n",
    "# ...   # PROMPT\n",
    "my_month in birth_months # SOLUTION"
   ]
  },
  {
   "cell_type": "code",
   "execution_count": null,
   "metadata": {},
   "outputs": [],
   "source": []
  }
 ],
 "metadata": {
  "kernelspec": {
   "display_name": "Python 3",
   "language": "python",
   "name": "python3"
  },
  "language_info": {
   "codemirror_mode": {
    "name": "ipython",
    "version": 3
   },
   "file_extension": ".py",
   "mimetype": "text/x-python",
   "name": "python",
   "nbconvert_exporter": "python",
   "pygments_lexer": "ipython3",
   "version": "3.8.2"
  }
 },
 "nbformat": 4,
 "nbformat_minor": 4
}
