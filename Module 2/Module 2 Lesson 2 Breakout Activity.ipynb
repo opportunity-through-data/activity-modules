{
 "cells": [
  {
   "cell_type": "markdown",
   "metadata": {},
   "source": [
    "Using the information in your group document, implement and perform actions on a dictionary.\n",
    "\n",
    "1. Each group member picks a different Favorite Category from the group document\n",
    "Ie. Person #1 picks the favorite movie category, and person #2 picks the favorite subject in school\n"
   ]
  },
  {
   "cell_type": "code",
   "execution_count": 38,
   "metadata": {},
   "outputs": [],
   "source": [
    "## Access one person's favorite category\n",
    "\n"
   ]
  },
  {
   "cell_type": "code",
   "execution_count": 37,
   "metadata": {},
   "outputs": [],
   "source": [
    "## Define a dictionary here attaching each name to a favorite item\n",
    "\n"
   ]
  },
  {
   "cell_type": "markdown",
   "metadata": {},
   "source": [
    "Next, Access the values for one of your group members below.\n",
    "\n",
    "Ie. I was to see what favorite movie \" \" has! See what value is associated with \" \" and ACCESS it."
   ]
  },
  {
   "cell_type": "markdown",
   "metadata": {},
   "source": [
    "Next, Add new information from the information about Sasha! Add your favorite category only.\n",
    "\n",
    "Ie. if you were doing food, you would add Tacos to your dictionary only\n",
    "\n",
    "Sasha, The Avenger’s Endgame, Math, Tacos, One Direction"
   ]
  },
  {
   "cell_type": "code",
   "execution_count": 39,
   "metadata": {},
   "outputs": [],
   "source": [
    "## Add Sasha's information to your Dictionary \n",
    "\n"
   ]
  },
  {
   "cell_type": "markdown",
   "metadata": {},
   "source": [
    "Check if you can access Sasha's information in the Dictionary!"
   ]
  },
  {
   "cell_type": "code",
   "execution_count": 40,
   "metadata": {},
   "outputs": [],
   "source": [
    "## ACCESS Sasha's information\n",
    "\n"
   ]
  },
  {
   "cell_type": "markdown",
   "metadata": {},
   "source": [
    "Delete Sasha's information from your list!"
   ]
  },
  {
   "cell_type": "code",
   "execution_count": 41,
   "metadata": {},
   "outputs": [],
   "source": [
    "## Delete Sasha's information so your final list has only your group members!\n",
    "\n"
   ]
  },
  {
   "cell_type": "markdown",
   "metadata": {},
   "source": [
    "Next check the length of the list by using the length function!"
   ]
  },
  {
   "cell_type": "code",
   "execution_count": 42,
   "metadata": {},
   "outputs": [],
   "source": [
    "## Check Length of the list, should return a value that's equal to the amount of people in your group!"
   ]
  },
  {
   "cell_type": "markdown",
   "metadata": {},
   "source": [
    "Create a list of all the names and \"Favorite items\" in the Dictionary!"
   ]
  },
  {
   "cell_type": "code",
   "execution_count": 43,
   "metadata": {},
   "outputs": [],
   "source": [
    "## Return List of all names\n",
    "## Ie. It would return, Sasha, Kyle, Nick, Anna\n",
    "\n"
   ]
  },
  {
   "cell_type": "code",
   "execution_count": 44,
   "metadata": {},
   "outputs": [],
   "source": [
    "## Return list of all favorites in your dictionary!\n",
    "## Ie. If my category was food it would return: Tacos, Burgers, Chow Mein, Chicken Kebabs\n",
    "\n"
   ]
  },
  {
   "cell_type": "markdown",
   "metadata": {},
   "source": [
    "Print to PDF and Send to Teachers!"
   ]
  }
 ],
 "metadata": {
  "kernelspec": {
   "display_name": "Python 3",
   "language": "python",
   "name": "python3"
  },
  "language_info": {
   "codemirror_mode": {
    "name": "ipython",
    "version": 3
   },
   "file_extension": ".py",
   "mimetype": "text/x-python",
   "name": "python",
   "nbconvert_exporter": "python",
   "pygments_lexer": "ipython3",
   "version": "3.8.2"
  }
 },
 "nbformat": 4,
 "nbformat_minor": 4
}
