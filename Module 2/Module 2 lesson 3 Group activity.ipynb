{
 "cells": [
  {
   "cell_type": "markdown",
   "metadata": {},
   "source": [
    "Last Class, we did a group activity with Dictionaries! Today we will do the same activity but with a Table!\n",
    "\n",
    "Begin by defining you table:\n",
    "Include: Names and All the Favorites categories"
   ]
  },
  {
   "cell_type": "code",
   "execution_count": 1,
   "metadata": {},
   "outputs": [],
   "source": [
    "## Define your table below. Do not include your information in the tabel\n",
    "\n"
   ]
  },
  {
   "cell_type": "markdown",
   "metadata": {},
   "source": [
    "Add both your information and Sasha's!\n",
    "\n",
    "Sasha, The Avenger’s Endgame, Math, Tacos, One Direction"
   ]
  },
  {
   "cell_type": "code",
   "execution_count": 2,
   "metadata": {},
   "outputs": [],
   "source": [
    "## Add new values to your table! Make sure to keep them in the right order.\n",
    "## Add Sasha's before yours\n",
    "\n"
   ]
  },
  {
   "cell_type": "markdown",
   "metadata": {},
   "source": [
    "Access a list of all the Categories to make sure all the information is there and in order!"
   ]
  },
  {
   "cell_type": "code",
   "execution_count": 3,
   "metadata": {},
   "outputs": [],
   "source": [
    "#Create list of aLL the categories\n",
    "\n"
   ]
  },
  {
   "cell_type": "markdown",
   "metadata": {},
   "source": [
    "Next you are going to delete Sasha's information. It should be the second to last index!"
   ]
  },
  {
   "cell_type": "code",
   "execution_count": 4,
   "metadata": {},
   "outputs": [],
   "source": [
    "## Delete Sasha's information"
   ]
  },
  {
   "cell_type": "markdown",
   "metadata": {},
   "source": [
    "We are going to create a table for your final information using the same technique as the homework.\n",
    "\n",
    "This one is a little more complicated! Run the table and adjust the current table by inserting the values you want!\n",
    "\n",
    "Play around with this to see how you can get different Table arrangements, you can insert manually, or use lists from the Table! "
   ]
  },
  {
   "cell_type": "code",
   "execution_count": 6,
   "metadata": {},
   "outputs": [
    {
     "name": "stdout",
     "output_type": "stream",
     "text": [
      "| Name   |   Age | University   |\n",
      "|--------+-------+--------------|\n",
      "| Hassan |    21 | LUMS         |\n",
      "| Ali    |    22 | FAST         |\n",
      "| Ahmed  |    23 | UET          |\n"
     ]
    }
   ],
   "source": [
    "from tabulate import tabulate\n",
    "\n",
    "l = [[\"Hassan\", 21, \"LUMS\"], [\"Ali\", 22, \"FAST\"], [\"Ahmed\", 23, \"UET\"]]\n",
    "table = tabulate(l, headers=['Name', 'Age', 'University'], tablefmt='orgtbl')\n",
    "\n",
    "print(table)"
   ]
  },
  {
   "cell_type": "markdown",
   "metadata": {},
   "source": [
    "Print as PDF!"
   ]
  }
 ],
 "metadata": {
  "kernelspec": {
   "display_name": "Python 3",
   "language": "python",
   "name": "python3"
  },
  "language_info": {
   "codemirror_mode": {
    "name": "ipython",
    "version": 3
   },
   "file_extension": ".py",
   "mimetype": "text/x-python",
   "name": "python",
   "nbconvert_exporter": "python",
   "pygments_lexer": "ipython3",
   "version": "3.8.2"
  }
 },
 "nbformat": 4,
 "nbformat_minor": 4
}
