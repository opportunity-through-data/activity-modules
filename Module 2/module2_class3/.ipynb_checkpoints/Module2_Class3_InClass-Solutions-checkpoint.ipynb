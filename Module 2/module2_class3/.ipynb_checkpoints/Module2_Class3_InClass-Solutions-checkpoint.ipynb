{
 "cells": [
  {
   "cell_type": "code",
   "execution_count": 5,
   "metadata": {},
   "outputs": [],
   "source": [
    "# Note: you don't need to know what this cell does! We're simply providing you with some functions you can use to look at tables.\n",
    "from otd_util import *\n",
    "import json\n",
    "\n",
    "with open('data.json') as json_data:\n",
    "    data = json.load(json_data)"
   ]
  },
  {
   "cell_type": "markdown",
   "metadata": {},
   "source": [
    "## Problem 1: Tables"
   ]
  },
  {
   "cell_type": "markdown",
   "metadata": {},
   "source": [
    "Sometimes, it's helpful to organize data differently! One way to do this is a **table**. With tables, you can organize things in **rows** and **columns**. Rows denote a single piece of data, while columns denote specific characteristics. For example, let's say we collected some data from a class of students! It's stored in `data`. Run the following cell to see what that data might look like:"
   ]
  },
  {
   "cell_type": "code",
   "execution_count": 6,
   "metadata": {},
   "outputs": [
    {
     "name": "stdout",
     "output_type": "stream",
     "text": [
      "   Age Birth Month Hair Color  Height Favorite Color Favorite Class  \\\n",
      "0   13    November      black      60           blue        English   \n",
      "1   15     January      brown      67           teal           Math   \n",
      "2   14    February     blonde      59         purple           Math   \n",
      "3   15        July      black      65          green        History   \n",
      "4   14    November      black      58           pink        Physics   \n",
      "5   16       April      brown      63            red        English   \n",
      "6   13         May        red      60          black           Math   \n",
      "\n",
      "  Favorite Fast Food  \n",
      "0           In-N-Out  \n",
      "1          Taco Bell  \n",
      "2         McDonald's  \n",
      "3         McDonald's  \n",
      "4           In-N-Out  \n",
      "5           In-N-Out  \n",
      "6             Subway  \n"
     ]
    }
   ],
   "source": [
    "visualize_table(data)"
   ]
  },
  {
   "cell_type": "markdown",
   "metadata": {},
   "source": [
    "But what, exactly, is `data`? How are we creating this table?\n",
    "\n",
    "One way to create a table is using lists and dictionaries!\n",
    "\n",
    "For example, we can think of each column as a list of data. The position of an item in the list denotes what row it belongs to: if an item is at the 0th index, it is in row 0!\n",
    "\n",
    "For example, the list of favorite colors from the table above would look like `[blue, teal, purple, green, pink, red, black]`.\n",
    "\n",
    "Then we can say that each table is a *collection of columns*. We can put these columns together by putting them in a dictionary where each key is a column name and each value is the list that represents that column.\n",
    "\n",
    "Let's take a look at what the table we visualized above looks like in its normal form:"
   ]
  },
  {
   "cell_type": "code",
   "execution_count": 7,
   "metadata": {},
   "outputs": [
    {
     "data": {
      "text/plain": [
       "{'Age': [13, 15, 14, 15, 14, 16, 13],\n",
       " 'Birth Month': ['November',\n",
       "  'January',\n",
       "  'February',\n",
       "  'July',\n",
       "  'November',\n",
       "  'April',\n",
       "  'May'],\n",
       " 'Hair Color': ['black', 'brown', 'blonde', 'black', 'black', 'brown', 'red'],\n",
       " 'Height': [60, 67, 59, 65, 58, 63, 60],\n",
       " 'Favorite Color': ['blue', 'teal', 'purple', 'green', 'pink', 'red', 'black'],\n",
       " 'Favorite Class': ['English',\n",
       "  'Math',\n",
       "  'Math',\n",
       "  'History',\n",
       "  'Physics',\n",
       "  'English',\n",
       "  'Math'],\n",
       " 'Favorite Fast Food': ['In-N-Out',\n",
       "  'Taco Bell',\n",
       "  \"McDonald's\",\n",
       "  \"McDonald's\",\n",
       "  'In-N-Out',\n",
       "  'In-N-Out',\n",
       "  'Subway']}"
      ]
     },
     "execution_count": 7,
     "metadata": {},
     "output_type": "execute_result"
    }
   ],
   "source": [
    "data"
   ]
  },
  {
   "cell_type": "markdown",
   "metadata": {},
   "source": [
    "To get a column out of this table, we can do what we do with any dictionary: key by column name!\n",
    "\n",
    "For example, to get the favorite color, we can do `data['Favorite Color']` (note: `Favorite Color` is a string, so we need to put quotes around it when we're indexing by it!).\n",
    "\n",
    "How can you get the list of favorite fast foods out of `data`? Set `fast_foods` equal to the list corresponding to the favorite fast foods."
   ]
  },
  {
   "cell_type": "code",
   "execution_count": 68,
   "metadata": {
    "collapsed": true
   },
   "outputs": [],
   "source": [
    "fast_foods = ...\n",
    "# fast_foods = data['Favorite Fast Food']"
   ]
  },
  {
   "cell_type": "markdown",
   "metadata": {},
   "source": [
    "What if you wanted to get the restaurant `Subway` out of the `fast_foods`?"
   ]
  },
  {
   "cell_type": "code",
   "execution_count": 69,
   "metadata": {
    "collapsed": true
   },
   "outputs": [],
   "source": [
    "subway = ...\n",
    "# subway = fast_foods[6]"
   ]
  },
  {
   "cell_type": "markdown",
   "metadata": {},
   "source": [
    "Now, try writing one line of code to get the string `History` out of this table!"
   ]
  },
  {
   "cell_type": "code",
   "execution_count": 70,
   "metadata": {
    "collapsed": true
   },
   "outputs": [],
   "source": [
    "history = ...\n",
    "# history = data['Favorite Class'][3]"
   ]
  },
  {
   "cell_type": "markdown",
   "metadata": {},
   "source": [
    "## Problem 2: Data Manipulation"
   ]
  },
  {
   "cell_type": "markdown",
   "metadata": {},
   "source": [
    "What if we wanted to find the average age in this table? How would we do that?\n",
    "\n",
    "First, let's isolate the ages:"
   ]
  },
  {
   "cell_type": "code",
   "execution_count": 72,
   "metadata": {},
   "outputs": [
    {
     "data": {
      "text/plain": [
       "[13, 15, 14, 15, 14, 16, 13]"
      ]
     },
     "execution_count": 72,
     "metadata": {},
     "output_type": "execute_result"
    }
   ],
   "source": [
    "ages = data['Age']\n",
    "ages"
   ]
  },
  {
   "cell_type": "markdown",
   "metadata": {},
   "source": [
    "Now that we have the ages, how can we take the average? Remember, the average is just the `sum` of a set of numbers over the number of elements! We have some handy list functions that will give us these values: `sum` and `len`. Let's try using them:"
   ]
  },
  {
   "cell_type": "code",
   "execution_count": 73,
   "metadata": {
    "collapsed": true
   },
   "outputs": [],
   "source": [
    "average_age = ... # Your code here\n",
    "# average_age = sum(ages)/len(ages)"
   ]
  },
  {
   "cell_type": "markdown",
   "metadata": {},
   "source": [
    "Now, what if we wanted to find the value of a specific cell in a table? For example, let's take the following table of names and ages:"
   ]
  },
  {
   "cell_type": "code",
   "execution_count": 74,
   "metadata": {},
   "outputs": [
    {
     "name": "stdout",
     "output_type": "stream",
     "text": [
      "     Name  Age\n",
      "0   Sally   13\n",
      "1  Amanda   14\n",
      "2   Peony   15\n"
     ]
    }
   ],
   "source": [
    "table = {'Name': ['Sally', 'Amanda', 'Peony'], 'Age': [13, 14, 15]}\n",
    "visualize_table(table)"
   ]
  },
  {
   "cell_type": "markdown",
   "metadata": {},
   "source": [
    "What if we wanted to find Amanda's age? We can use the `index` function, which will find the index of the first element that matches a value. Or, more simply, if we give `index` the word 'Amanda' and a list, it will tell you the position Amanda is in! This is also Amanda's row, which we can then use on the `Age` column.\n",
    "\n",
    "To see this in action, look at this piece of code:"
   ]
  },
  {
   "cell_type": "code",
   "execution_count": 75,
   "metadata": {},
   "outputs": [
    {
     "data": {
      "text/plain": [
       "14"
      ]
     },
     "execution_count": 75,
     "metadata": {},
     "output_type": "execute_result"
    }
   ],
   "source": [
    "names = table['Name']\n",
    "amanda = names.index('Amanda')\n",
    "table['Age'][amanda]"
   ]
  },
  {
   "cell_type": "markdown",
   "metadata": {},
   "source": [
    "Now, try it yourself! Set `food` to the fast food restaurant that the person whose favorite color is teal likes to go to."
   ]
  },
  {
   "cell_type": "code",
   "execution_count": 76,
   "metadata": {
    "collapsed": true
   },
   "outputs": [],
   "source": [
    "# Your code here!\n",
    "# colors = data['Favorite Color']\n",
    "# row = colors.index('teal')\n",
    "# food = data['Favorite Fast Food'][row]\n",
    "food = ... # should be 'Taco Bell'"
   ]
  },
  {
   "cell_type": "markdown",
   "metadata": {},
   "source": [
    "## Problem 3: Visualization"
   ]
  },
  {
   "cell_type": "markdown",
   "metadata": {},
   "source": [
    "Let's try visualizing some of the data we've collected using some of the graphs we learned about last module!\n",
    "\n",
    "You have access to four functions:\n",
    "\n",
    "* `scatter` takes in three arguments; the first should always be a table, and the other two should be the names of columns you want to compare as `x` and `y`. It then produces a scatter plot of them.\n",
    "* `line` takes in three arguments; the first should always be a table, and the other two should be the names of columns you want to compare as `x` and `y`. It then produces a line plot of them.\n",
    "* `bar` takes in three arguments; the first should always be a table, and the other two should be the names of columns you want to compare as `x` and `y`. It then produces a bar chart of them.\n",
    "* `histogram` takes in three arguments; the first should always be a table, and the other two should be the name of the column you would like to produce a histogram of and (optionally) the number of bins you would like to use, and produces a histogram of that column's values.\n"
   ]
  },
  {
   "cell_type": "markdown",
   "metadata": {},
   "source": [
    "Run the following cell to see what a histogram of fast foods might look like!"
   ]
  },
  {
   "cell_type": "code",
   "execution_count": 11,
   "metadata": {},
   "outputs": [
    {
     "data": {
      "image/png": "[encoded data removed]",
      "text/plain": [
       "<Figure size 432x288 with 1 Axes>"
      ]
     },
     "metadata": {
      "needs_background": "light"
     },
     "output_type": "display_data"
    }
   ],
   "source": [
    "histogram(data, 'Favorite Fast Food')"
   ]
  },
  {
   "cell_type": "markdown",
   "metadata": {},
   "source": [
    "Let's take a look at the correlation between age and height:"
   ]
  },
  {
   "cell_type": "code",
   "execution_count": 10,
   "metadata": {},
   "outputs": [
    {
     "data": {
      "image/png": "[encoded data removed]",
      "text/plain": [
       "<Figure size 432x288 with 1 Axes>"
      ]
     },
     "metadata": {
      "needs_background": "light"
     },
     "output_type": "display_data"
    }
   ],
   "source": [
    "scatter(data, 'Age', 'Height')"
   ]
  },
  {
   "cell_type": "markdown",
   "metadata": {},
   "source": [
    "## Problem 4: Analyze It!\n",
    "\n",
    "Now, try making some of your own graphs in the cells below!\n"
   ]
  },
  {
   "cell_type": "markdown",
   "metadata": {
    "collapsed": true
   },
   "source": []
  }
 ],
 "metadata": {
  "kernelspec": {
   "display_name": "Python 3",
   "language": "python",
   "name": "python3"
  },
  "language_info": {
   "codemirror_mode": {
    "name": "ipython",
    "version": 3
   },
   "file_extension": ".py",
   "mimetype": "text/x-python",
   "name": "python",
   "nbconvert_exporter": "python",
   "pygments_lexer": "ipython3",
   "version": "3.8.2"
  }
 },
 "nbformat": 4,
 "nbformat_minor": 4
}
