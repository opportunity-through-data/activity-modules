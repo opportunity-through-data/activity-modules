{
 "cells": [
  {
   "cell_type": "code",
   "execution_count": 1,
   "metadata": {},
   "outputs": [],
   "source": [
    "# Note: you don't need to know what this cell does! We're simply providing you with some functions you can use to look at tables.\n",
    "import json\n",
    "import pandas as pd\n",
    "import numpy as np\n",
    "import matplotlib.pyplot as plt\n",
    "\n",
    "def visualize_table(d):\n",
    "    df = pd.DataFrame(d)\n",
    "    print(df)\n",
    "\n",
    "def scatter(d, x, y):\n",
    "    df = pd.DataFrame(d)\n",
    "    plt.scatter(d[x], d[y])\n",
    "    plt.title(x + ' vs. ' + y)\n",
    "    plt.xlabel(x)\n",
    "    plt.ylabel(y)\n",
    "    plt.show()\n",
    "\n",
    "def line(d, x, y):\n",
    "    df = pd.DataFrame(d)\n",
    "    plt.plot(d[x], d[y])\n",
    "    plt.title(x + ' vs. ' + y)\n",
    "    plt.xlabel(x)\n",
    "    plt.ylabel(y)\n",
    "    plt.show()\n",
    "\n",
    "def bar(d, x, y):\n",
    "    df = pd.DataFrame(d)\n",
    "    plt.bar(d[x], d[y])\n",
    "    plt.title(x + ' vs. ' + y)\n",
    "    plt.xlabel(x)\n",
    "    plt.ylabel(y)\n",
    "    plt.show()\n",
    "\n",
    "def histogram(d, label, bins=None):\n",
    "    assert not bins or type(bins) == int, \"If bins is provided, it should be an integer.\"\n",
    "    df = pd.DataFrame(d)\n",
    "    plt.hist(d[label])\n",
    "    plt.xlabel(label)\n",
    "    plt.ylabel(\"Frequency\")\n",
    "    plt.show()"
   ]
  },
  {
   "cell_type": "markdown",
   "metadata": {},
   "source": [
    "# Group Activity"
   ]
  },
  {
   "cell_type": "markdown",
   "metadata": {},
   "source": [
    "Today, we're going to create a table!\n",
    "\n",
    "Begin by defining a table; include the following columns: \"Names\", \"Movie\", \"Subject\", \"Food\", \"Musician\". Don't add any information yet, though!"
   ]
  },
  {
   "cell_type": "code",
   "execution_count": null,
   "metadata": {},
   "outputs": [],
   "source": [
    "# Define your table below. Do not include your information in the table\n",
    "table = {\n",
    "    ... # Your code here!\n",
    "}\n"
   ]
  },
  {
   "cell_type": "markdown",
   "metadata": {},
   "source": [
    "Add both your information and Sasha's! Sasha's is below.\n",
    "\n",
    "`Sasha, 19, The Avenger’s Endgame, Math, Tacos, One Direction, 10`"
   ]
  },
  {
   "cell_type": "code",
   "execution_count": null,
   "metadata": {},
   "outputs": [],
   "source": [
    "# Add new values to your table! Make sure to keep them in the right order.\n",
    "# Add Sasha's before yours\n",
    "table['Names'] = ...\n",
    "table['Ages'] = ...\n",
    "table['Movie'] = ...\n",
    "table['Subject'] = ...\n",
    "... # Fill in the code for the other columns as well!"
   ]
  },
  {
   "cell_type": "markdown",
   "metadata": {},
   "source": [
    "Access a list of all the categories to make sure all the information is there and in order!"
   ]
  },
  {
   "cell_type": "code",
   "execution_count": null,
   "metadata": {},
   "outputs": [],
   "source": [
    "# Create list of all the categories\n",
    "categories = ..."
   ]
  },
  {
   "cell_type": "markdown",
   "metadata": {},
   "source": [
    "Next you are going to delete Sasha's information. It should be the second to last index!"
   ]
  },
  {
   "cell_type": "code",
   "execution_count": null,
   "metadata": {},
   "outputs": [],
   "source": [
    "# Delete Sasha's information from the table\n",
    "..."
   ]
  },
  {
   "cell_type": "markdown",
   "metadata": {},
   "source": [
    "Now, let's take a look at the table!"
   ]
  },
  {
   "cell_type": "code",
   "execution_count": null,
   "metadata": {},
   "outputs": [],
   "source": [
    "visualize_table(table)"
   ]
  },
  {
   "cell_type": "markdown",
   "metadata": {},
   "source": [
    "Let's try graphing some categories to see if we find any patterns in the data!\n",
    "\n",
    "You have access to four functions:\n",
    "\n",
    "* `scatter` takes in three arguments; the first should always be a table, and the other two should be the names of columns you want to compare as `x` and `y`. It then produces a scatter plot of them.\n",
    "* `line` takes in three arguments; the first should always be a table, and the other two should be the names of columns you want to compare as `x` and `y`. It then produces a line plot of them.\n",
    "* `bar` takes in three arguments; the first should always be a table, and the other two should be the names of columns you want to compare as `x` and `y`. It then produces a bar chart of them.\n",
    "* `histogram` takes in three arguments; the first should always be a table, and the other two should be the name of the column you would like to produce a histogram of and (optionally) the number of bins you would like to use, and produces a histogram of that column's values.\n"
   ]
  },
  {
   "cell_type": "code",
   "execution_count": null,
   "metadata": {},
   "outputs": [],
   "source": [
    "histogram(table, 'Subject')"
   ]
  },
  {
   "cell_type": "code",
   "execution_count": null,
   "metadata": {},
   "outputs": [],
   "source": [
    "scatter(table, 'Age', 'Shoe Size')"
   ]
  },
  {
   "cell_type": "markdown",
   "metadata": {},
   "source": [
    "Now, try making your own graphs!"
   ]
  },
  {
   "cell_type": "code",
   "execution_count": null,
   "metadata": {},
   "outputs": [],
   "source": []
  }
 ],
 "metadata": {
  "kernelspec": {
   "display_name": "Python 3",
   "language": "python",
   "name": "python3"
  },
  "language_info": {
   "codemirror_mode": {
    "name": "ipython",
    "version": 3
   },
   "file_extension": ".py",
   "mimetype": "text/x-python",
   "name": "python",
   "nbconvert_exporter": "python",
   "pygments_lexer": "ipython3",
   "version": "3.7.4"
  }
 },
 "nbformat": 4,
 "nbformat_minor": 4
}
