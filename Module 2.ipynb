{
 "cells": [
  {
   "cell_type": "markdown",
   "metadata": {},
   "source": [
    "Categories of data that we want to collect from students:\n",
    "* Age\n",
    "* Birth month\n",
    "* Hair color\n",
    "* Height\n",
    "* Favorite color\n",
    "* Favorite class\n",
    "* Favorite fast food restaurant"
   ]
  },
  {
   "cell_type": "markdown",
   "metadata": {},
   "source": [
    "# Activity 2: Data!"
   ]
  },
  {
   "cell_type": "markdown",
   "metadata": {},
   "source": [
    "Topics covered:\n",
    "* Lists\n",
    "* Dictionaries\n",
    "* Tables\n",
    "* Functions / data manipulation\n",
    "* Visualization through prewritten plotting functions\n",
    "* Importance of + basic overview of probability through data!"
   ]
  },
  {
   "cell_type": "markdown",
   "metadata": {},
   "source": [
    "## Overview"
   ]
  },
  {
   "cell_type": "markdown",
   "metadata": {},
   "source": [
    "What we're going to be doing in the activity; also make sure to add conceptual overviews as we test a new concept."
   ]
  },
  {
   "cell_type": "markdown",
   "metadata": {},
   "source": [
    "## Problem 1: Lists"
   ]
  },
  {
   "cell_type": "markdown",
   "metadata": {},
   "source": [
    "indexing, storing different data types in one list, accessing + changing, slicing, adding things to lists, lengths, deleting items, `in`"
   ]
  },
  {
   "cell_type": "markdown",
   "metadata": {},
   "source": [
    "## Problem 2: Dictionaries"
   ]
  },
  {
   "cell_type": "markdown",
   "metadata": {},
   "source": [
    "keys/values (+ unique keys!), indexing, differences/similarities between a dictionary and a list, adding things to dictionaries, deleting things from dictionaries, lengths, .keys(), .values(), `in`, use cases"
   ]
  },
  {
   "cell_type": "markdown",
   "metadata": {},
   "source": [
    "## Problem 3: Tables"
   ]
  },
  {
   "cell_type": "markdown",
   "metadata": {},
   "source": [
    "logical basis of using tables, representation, dictionaries as tables, rows having indices, adding to a table"
   ]
  },
  {
   "cell_type": "markdown",
   "metadata": {},
   "source": [
    "## Problem 4: Data Manipulation"
   ]
  },
  {
   "cell_type": "markdown",
   "metadata": {},
   "source": [
    "`.map`, writing functions to add rows / delete rows from tables, changing a specific value, `.index` \n",
    "\n",
    "```\n",
    "table = {'Name': ['Sally', 'Amanda', 'Peony'], 'Age': [13, 14, 15]}\n",
    "names = table['Name']\n",
    "amanda = names.index('Amanda')\n",
    "table['Age'][amanda] = 15\n",
    "```\n",
    "\n",
    "or just teach for loops because map is hard - Ankitha\n",
    "\n",
    "\n",
    "finding average of ages"
   ]
  },
  {
   "cell_type": "markdown",
   "metadata": {},
   "source": [
    "## Problem 5: Visualization"
   ]
  },
  {
   "cell_type": "markdown",
   "metadata": {},
   "source": [
    "we'll write our own helper package with abstractions"
   ]
  },
  {
   "cell_type": "markdown",
   "metadata": {},
   "source": [
    "## Problem 6: Probability"
   ]
  },
  {
   "cell_type": "markdown",
   "metadata": {},
   "source": [
    "have them calculate the probability of specific characteristics by indexing into the table + getting lists"
   ]
  },
  {
   "cell_type": "code",
   "execution_count": null,
   "metadata": {
    "collapsed": true
   },
   "outputs": [],
   "source": []
  }
 ],
 "metadata": {
  "kernelspec": {
   "display_name": "Python 3",
   "language": "python",
   "name": "python3"
  },
  "language_info": {
   "codemirror_mode": {
    "name": "ipython",
    "version": 3
   },
   "file_extension": ".py",
   "mimetype": "text/x-python",
   "name": "python",
   "nbconvert_exporter": "python",
   "pygments_lexer": "ipython3",
   "version": "3.6.8"
  }
 },
 "nbformat": 4,
 "nbformat_minor": 2
}
