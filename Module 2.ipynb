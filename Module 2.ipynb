{
 "cells": [
  {
   "cell_type": "markdown",
   "metadata": {},
   "source": [
    "Categories of data that we want to collect from students:\n",
    "* Age\n",
    "* Birth month\n",
    "* Hair color\n",
    "* Height\n",
    "* Favorite color\n",
    "* Favorite class\n",
    "* Favorite fast food restaurant"
   ]
  },
  {
   "cell_type": "markdown",
   "metadata": {},
   "source": [
    "# Activity 2: Data!"
   ]
  },
  {
   "cell_type": "markdown",
   "metadata": {},
   "source": [
    "Topics covered:\n",
    "* Lists\n",
    "* Dictionaries\n",
    "* Tables\n",
    "* Functions / data manipulation\n",
    "* Visualization through prewritten plotting functions\n",
    "* Importance of + basic overview of probability through data!"
   ]
  },
  {
   "cell_type": "markdown",
   "metadata": {},
   "source": [
    "## Overview"
   ]
  },
  {
   "cell_type": "markdown",
   "metadata": {},
   "source": [
    "What we're going to be doing in the activity; also make sure to add conceptual overviews as we test a new concept."
   ]
  },
  {
   "cell_type": "code",
   "execution_count": 32,
   "metadata": {},
   "outputs": [],
   "source": [
    "from otd_util import *\n",
    "import json\n",
    "\n",
    "with open('data.json') as json_data:\n",
    "    data = json.load(json_data)"
   ]
  },
  {
   "cell_type": "markdown",
   "metadata": {},
   "source": [
    "## Problem 1: Lists \n",
    "(indexing,  accessing + changing, slicing, storing different data types in one list, adding things to lists, deleting items, `in`)"
   ]
  },
  {
   "cell_type": "markdown",
   "metadata": {},
   "source": [
    "Let's look at the data we have about birth months to practice with lists. The data is a list of integers that range from 1 to 12 which corresponds to the 12 months in a year. "
   ]
  },
  {
   "cell_type": "code",
   "execution_count": 33,
   "metadata": {},
   "outputs": [
    {
     "name": "stdout",
     "output_type": "stream",
     "text": [
      "[1, 12, 2, 2, 3, 7, 9, 10, 1, 11, 4, 8, 6, 5, 12, 4, 9, 7, 3, 10, 1, 8, 5, 6, 11, 10, 7, 3, 9, 4]\n"
     ]
    }
   ],
   "source": [
    "# pre-data so that they can practice adding to a list\n",
    "birth_months = [1, 12, 2, 2, 3, 7, 9, 10, 1, 11, 4, 8, 6, 5, 12, 4, 9, 7, 3, 10, 1, 8, 5, 6, 11, 10, 7, 3, 9, 4]        \n",
    "print(birth_months)"
   ]
  },
  {
   "cell_type": "markdown",
   "metadata": {},
   "source": [
    "Let's check how many birth months are in the list."
   ]
  },
  {
   "cell_type": "code",
   "execution_count": 34,
   "metadata": {},
   "outputs": [
    {
     "data": {
      "text/plain": [
       "30"
      ]
     },
     "execution_count": 34,
     "metadata": {},
     "output_type": "execute_result"
    }
   ],
   "source": [
    "# ...(birth_months) #PROMPT\n",
    "len(birth_months) # SOLUTION"
   ]
  },
  {
   "cell_type": "markdown",
   "metadata": {},
   "source": [
    "#### Indexing"
   ]
  },
  {
   "cell_type": "markdown",
   "metadata": {},
   "source": [
    "Now that we know how many elements there are in the list. Let's look at three different elements from the entire list. Let's get the first, sixth, and tenth elements from `birth_months`."
   ]
  },
  {
   "cell_type": "code",
   "execution_count": 35,
   "metadata": {},
   "outputs": [
    {
     "data": {
      "text/plain": [
       "1"
      ]
     },
     "execution_count": 35,
     "metadata": {},
     "output_type": "execute_result"
    }
   ],
   "source": [
    "# first_element = ...   # PROMPT\n",
    "# first_element         # PROMPT\n",
    "\n",
    "first_element = birth_months[0] # SOLUTION\n",
    "first_element"
   ]
  },
  {
   "cell_type": "code",
   "execution_count": 36,
   "metadata": {},
   "outputs": [
    {
     "data": {
      "text/plain": [
       "7"
      ]
     },
     "execution_count": 36,
     "metadata": {},
     "output_type": "execute_result"
    }
   ],
   "source": [
    "# sixth_element = ...   # PROMPT\n",
    "# sixth_element         # PROMPT\n",
    "\n",
    "sixth_element = birth_months[5] # SOLUTION\n",
    "sixth_element"
   ]
  },
  {
   "cell_type": "code",
   "execution_count": 37,
   "metadata": {},
   "outputs": [
    {
     "data": {
      "text/plain": [
       "11"
      ]
     },
     "execution_count": 37,
     "metadata": {},
     "output_type": "execute_result"
    }
   ],
   "source": [
    "# tenth_element = ...   # PROMPT\n",
    "# tenth_element         # PROMPT\n",
    "\n",
    "tenth_element = birth_months[9] # SOLUTION\n",
    "tenth_element"
   ]
  },
  {
   "cell_type": "markdown",
   "metadata": {},
   "source": [
    "#### List Slicing"
   ]
  },
  {
   "cell_type": "markdown",
   "metadata": {},
   "source": [
    "Rather than looking at all 30 birth months, let's look at the first 15 elements and second 15 elements separately. Create two new lists. Create `first_half` which should contain the first 15 elements and `second_half` should contain the last 15 elements. (The last line is to double check the number of elements in your new lists!)"
   ]
  },
  {
   "cell_type": "code",
   "execution_count": 38,
   "metadata": {},
   "outputs": [
    {
     "data": {
      "text/plain": [
       "15"
      ]
     },
     "execution_count": 38,
     "metadata": {},
     "output_type": "execute_result"
    }
   ],
   "source": [
    "# first_half = ...   # PROMPT\n",
    "# len(first_half)    # PROMPT\n",
    "\n",
    "first_half = birth_months[:15]\n",
    "len(first_half)"
   ]
  },
  {
   "cell_type": "code",
   "execution_count": 39,
   "metadata": {},
   "outputs": [
    {
     "data": {
      "text/plain": [
       "15"
      ]
     },
     "execution_count": 39,
     "metadata": {},
     "output_type": "execute_result"
    }
   ],
   "source": [
    "# second_half = ...   # PROMPT\n",
    "# len(second_half)    # PROMPT\n",
    "\n",
    "second_half = birth_months[15:]\n",
    "len(second_half)"
   ]
  },
  {
   "cell_type": "markdown",
   "metadata": {},
   "source": [
    "#### Changing Elements (NOT IN TEXTBOOK)"
   ]
  },
  {
   "cell_type": "markdown",
   "metadata": {},
   "source": [
    "Let's say someone mistyped their birth month and we want to change their number in the list. We can change the value of an element if we know the index. Say the first person was actually born in November (11) rather than January (1), we can change that by using brackets."
   ]
  },
  {
   "cell_type": "code",
   "execution_count": 40,
   "metadata": {},
   "outputs": [
    {
     "name": "stdout",
     "output_type": "stream",
     "text": [
      "[1, 12, 2, 2, 3, 7, 9, 10, 1, 11, 4, 8, 6, 5, 12, 4, 9, 7, 3, 10, 1, 8, 5, 6, 11, 10, 7, 3, 9, 4]\n"
     ]
    }
   ],
   "source": [
    "print(birth_months)"
   ]
  },
  {
   "cell_type": "code",
   "execution_count": 41,
   "metadata": {},
   "outputs": [
    {
     "name": "stdout",
     "output_type": "stream",
     "text": [
      "[11, 12, 2, 2, 3, 7, 9, 10, 1, 11, 4, 8, 6, 5, 12, 4, 9, 7, 3, 10, 1, 8, 5, 6, 11, 10, 7, 3, 9, 4]\n"
     ]
    }
   ],
   "source": [
    "birth_months[0] = 11\n",
    "print(birth_months)"
   ]
  },
  {
   "cell_type": "markdown",
   "metadata": {},
   "source": [
    "#### Adding Elements"
   ]
  },
  {
   "cell_type": "markdown",
   "metadata": {},
   "source": [
    "Let's add your birth month to the list. To add a new value to the list, we will use the `.append` method. Use the variable `my_month` when you append! Check that you added your birth month by looking at the length of the list."
   ]
  },
  {
   "cell_type": "code",
   "execution_count": 42,
   "metadata": {},
   "outputs": [],
   "source": [
    "# my_month = ... # PROMPT\n",
    "my_month = 11 # EXAMPLE SOLUTION"
   ]
  },
  {
   "cell_type": "code",
   "execution_count": 43,
   "metadata": {},
   "outputs": [
    {
     "name": "stdout",
     "output_type": "stream",
     "text": [
      "[11, 12, 2, 2, 3, 7, 9, 10, 1, 11, 4, 8, 6, 5, 12, 4, 9, 7, 3, 10, 1, 8, 5, 6, 11, 10, 7, 3, 9, 4, 11]\n"
     ]
    }
   ],
   "source": [
    "# ...    # PROMPT\n",
    "birth_months.append(my_month) # SOLUTION\n",
    "print(birth_months)"
   ]
  },
  {
   "cell_type": "code",
   "execution_count": 44,
   "metadata": {},
   "outputs": [
    {
     "data": {
      "text/plain": [
       "31"
      ]
     },
     "execution_count": 44,
     "metadata": {},
     "output_type": "execute_result"
    }
   ],
   "source": [
    "len(birth_months)"
   ]
  },
  {
   "cell_type": "markdown",
   "metadata": {},
   "source": [
    "Two of your friends add their birth months to the list! However, they did not know you wanted the month as a integer, and they added the month as a string."
   ]
  },
  {
   "cell_type": "code",
   "execution_count": 45,
   "metadata": {},
   "outputs": [
    {
     "name": "stdout",
     "output_type": "stream",
     "text": [
      "[11, 12, 2, 2, 3, 7, 9, 10, 1, 11, 4, 8, 6, 5, 12, 4, 9, 7, 3, 10, 1, 8, 5, 6, 11, 10, 7, 3, 9, 4, 11, 'September', 'February']\n"
     ]
    }
   ],
   "source": [
    "birth_months.extend([\"September\", \"February\"])\n",
    "print(birth_months)"
   ]
  },
  {
   "cell_type": "markdown",
   "metadata": {},
   "source": [
    "Let's change their answers so that the list only contains integers! HINT: If you are confused to start, then first figure out the index of these two elements."
   ]
  },
  {
   "cell_type": "code",
   "execution_count": 46,
   "metadata": {},
   "outputs": [],
   "source": [
    "# Change 'September' to 9\n",
    "# ...     # PROMPT \n",
    "# print(birth_months)"
   ]
  },
  {
   "cell_type": "code",
   "execution_count": 47,
   "metadata": {},
   "outputs": [
    {
     "name": "stdout",
     "output_type": "stream",
     "text": [
      "[11, 12, 2, 2, 3, 7, 9, 10, 1, 11, 4, 8, 6, 5, 12, 4, 9, 7, 3, 10, 1, 8, 5, 6, 11, 10, 7, 3, 9, 4, 11, 9, 'February']\n"
     ]
    }
   ],
   "source": [
    "# Change 'September' to 9\n",
    "birth_months[31] = 9  # SOLUTION\n",
    "print(birth_months)"
   ]
  },
  {
   "cell_type": "code",
   "execution_count": 48,
   "metadata": {},
   "outputs": [],
   "source": [
    "# Change 'February' to 2\n",
    "# ...     # PROMPT \n",
    "# print(birth_months)"
   ]
  },
  {
   "cell_type": "code",
   "execution_count": 49,
   "metadata": {},
   "outputs": [
    {
     "name": "stdout",
     "output_type": "stream",
     "text": [
      "[11, 12, 2, 2, 3, 7, 9, 10, 1, 11, 4, 8, 6, 5, 12, 4, 9, 7, 3, 10, 1, 8, 5, 6, 11, 10, 7, 3, 9, 4, 11, 9, 2]\n"
     ]
    }
   ],
   "source": [
    "# Change 'February' to 2\n",
    "birth_months[32] = 2 #\n",
    "print(birth_months)"
   ]
  },
  {
   "cell_type": "markdown",
   "metadata": {},
   "source": [
    "#### Deleting Elements"
   ]
  },
  {
   "cell_type": "markdown",
   "metadata": {},
   "source": [
    "What if instead of changing each string individually we wanted to change them at the same time? We could delete the strings, and add the two integers we want to the list. Let's try this method instead! Here is the list as it was after your friends added to it. "
   ]
  },
  {
   "cell_type": "code",
   "execution_count": 50,
   "metadata": {},
   "outputs": [
    {
     "name": "stdout",
     "output_type": "stream",
     "text": [
      "[1, 12, 2, 2, 3, 7, 9, 10, 1, 11, 4, 8, 6, 5, 12, 4, 9, 7, 3, 10, 1, 8, 5, 6, 11, 10, 7, 3, 9, 4, 11, 'September', 'February']\n"
     ]
    }
   ],
   "source": [
    "birth_months = [1, 12, 2, 2, 3, 7, 9, 10, 1, 11, 4, 8, 6, 5, 12, 4, 9, 7, 3, 10, 1, 8, 5, 6, 11, 10, 7, 3, 9, 4, my_month, \"September\", \"February\"]        \n",
    "print(birth_months)"
   ]
  },
  {
   "cell_type": "code",
   "execution_count": 51,
   "metadata": {},
   "outputs": [
    {
     "name": "stdout",
     "output_type": "stream",
     "text": [
      "[1, 12, 2, 2, 3, 7, 9, 10, 1, 11, 4, 8, 6, 5, 12, 4, 9, 7, 3, 10, 1, 8, 5, 6, 11, 10, 7, 3, 9, 4, 11]\n"
     ]
    }
   ],
   "source": [
    "# Delete the two strings in this cell.\n",
    "# ...     # PROMPT\n",
    "\n",
    "del birth_months[31:] # SOLUTION\n",
    "print(birth_months) # NOT IN TEXTBOOK "
   ]
  },
  {
   "cell_type": "code",
   "execution_count": 52,
   "metadata": {},
   "outputs": [
    {
     "name": "stdout",
     "output_type": "stream",
     "text": [
      "[1, 12, 2, 2, 3, 7, 9, 10, 1, 11, 4, 8, 6, 5, 12, 4, 9, 7, 3, 10, 1, 8, 5, 6, 11, 10, 7, 3, 9, 4, 11, 9, 2]\n"
     ]
    }
   ],
   "source": [
    "# Add the two integer versions of the months in this cell.\n",
    "# ...    # PROMPT\n",
    "birth_months.extend([9,2]) # SOLUTION\n",
    "print(birth_months)"
   ]
  },
  {
   "cell_type": "markdown",
   "metadata": {},
   "source": [
    "Congratulations! The list should contain only numbers again! Let's check out what is and what is not inside the list with the method `in`! Using `in` we can learn whether a value is inside the list. `in` returns `True` or `False`. # NOT IN TEXTBOOK"
   ]
  },
  {
   "cell_type": "code",
   "execution_count": 53,
   "metadata": {},
   "outputs": [
    {
     "data": {
      "text/plain": [
       "False"
      ]
     },
     "execution_count": 53,
     "metadata": {},
     "output_type": "execute_result"
    }
   ],
   "source": [
    "'September' in birth_months "
   ]
  },
  {
   "cell_type": "code",
   "execution_count": 54,
   "metadata": {},
   "outputs": [
    {
     "data": {
      "text/plain": [
       "True"
      ]
     },
     "execution_count": 54,
     "metadata": {},
     "output_type": "execute_result"
    }
   ],
   "source": [
    "1 in birth_months"
   ]
  },
  {
   "cell_type": "code",
   "execution_count": 55,
   "metadata": {},
   "outputs": [
    {
     "data": {
      "text/plain": [
       "False"
      ]
     },
     "execution_count": 55,
     "metadata": {},
     "output_type": "execute_result"
    }
   ],
   "source": [
    "0 in birth_months"
   ]
  },
  {
   "cell_type": "code",
   "execution_count": 56,
   "metadata": {},
   "outputs": [
    {
     "data": {
      "text/plain": [
       "True"
      ]
     },
     "execution_count": 56,
     "metadata": {},
     "output_type": "execute_result"
    }
   ],
   "source": [
    "# Check that your birth month appears at least once in the list\n",
    "# ...   # PROMPT\n",
    "my_month in birth_months # SOLUTION"
   ]
  },
  {
   "cell_type": "markdown",
   "metadata": {},
   "source": [
    "## Problem 2: Dictionaries"
   ]
  },
  {
   "cell_type": "markdown",
   "metadata": {},
   "source": [
    "keys/values (+ unique keys!), indexing, differences/similarities between a dictionary and a list, adding things to dictionaries, deleting things from dictionaries, lengths, .keys(), .values(), `in`, use cases"
   ]
  },
  {
   "cell_type": "markdown",
   "metadata": {},
   "source": [
    "## Problem 3: Tables"
   ]
  },
  {
   "cell_type": "markdown",
   "metadata": {},
   "source": [
    "logical basis of using tables, representation, dictionaries as tables, rows having indices, adding to a table"
   ]
  },
  {
   "cell_type": "markdown",
   "metadata": {},
   "source": [
    "## Problem 4: Data Manipulation"
   ]
  },
  {
   "cell_type": "markdown",
   "metadata": {},
   "source": [
    "`.map`, writing functions to add rows / delete rows from tables, changing a specific value, `.index` \n",
    "\n",
    "```\n",
    "table = {'Name': ['Sally', 'Amanda', 'Peony'], 'Age': [13, 14, 15]}\n",
    "names = table['Name']\n",
    "amanda = names.index('Amanda')\n",
    "table['Age'][amanda] = 15\n",
    "```\n",
    "\n",
    "or just teach for loops because map is hard - Ankitha\n",
    "\n",
    "\n",
    "finding average of ages"
   ]
  },
  {
   "cell_type": "markdown",
   "metadata": {},
   "source": [
    "We have a table full of data we collected from you! We've loaded it into this file as `data`. Let's see how it looks:"
   ]
  },
  {
   "cell_type": "code",
   "execution_count": 57,
   "metadata": {},
   "outputs": [
    {
     "name": "stdout",
     "output_type": "stream",
     "text": [
      "   Age Birth Month Hair Color  Height Favorite Color Favorite Class  \\\n",
      "0   13    November      black      60           blue        English   \n",
      "1   15     January      brown      67           teal           Math   \n",
      "2   14    February     blonde      59         purple           Math   \n",
      "3   15        July      black      65          green        History   \n",
      "4   14    November      black      58           pink        Physics   \n",
      "5   16       April      brown      63            red        English   \n",
      "6   13         May        red      60          black           Math   \n",
      "\n",
      "  Favorite Fast Food  \n",
      "0           In-N-Out  \n",
      "1          Taco Bell  \n",
      "2         McDonald's  \n",
      "3         McDonald's  \n",
      "4           In-N-Out  \n",
      "5           In-N-Out  \n",
      "6             Subway  \n"
     ]
    }
   ],
   "source": [
    "visualize_table(data)"
   ]
  },
  {
   "cell_type": "markdown",
   "metadata": {},
   "source": [
    "What if we wanted to find the average age in this table? How would we do that?\n",
    "\n",
    "First, let's isolate the ages:"
   ]
  },
  {
   "cell_type": "code",
   "execution_count": 58,
   "metadata": {},
   "outputs": [
    {
     "data": {
      "text/plain": [
       "[13, 15, 14, 15, 14, 16, 13]"
      ]
     },
     "execution_count": 58,
     "metadata": {},
     "output_type": "execute_result"
    }
   ],
   "source": [
    "ages = data['Age']\n",
    "ages"
   ]
  },
  {
   "cell_type": "markdown",
   "metadata": {},
   "source": [
    "Now that we have the ages, how can we take the average? Remember, the average is just the `sum` of a set of numbers over the number of elements! We have some handy list functions that will give us these values: `sum` and `len`. Let's try using them:"
   ]
  },
  {
   "cell_type": "code",
   "execution_count": 59,
   "metadata": {},
   "outputs": [],
   "source": [
    "average_age = ... # Your code here\n",
    "# average_age = sum(ages)/len(ages)"
   ]
  },
  {
   "cell_type": "markdown",
   "metadata": {},
   "source": [
    "Now, what if we wanted to find the value of a specific cell in a table? For example, let's take the following table of names and ages:"
   ]
  },
  {
   "cell_type": "code",
   "execution_count": 60,
   "metadata": {},
   "outputs": [
    {
     "name": "stdout",
     "output_type": "stream",
     "text": [
      "     Name  Age\n",
      "0   Sally   13\n",
      "1  Amanda   14\n",
      "2   Peony   15\n"
     ]
    }
   ],
   "source": [
    "table = {'Name': ['Sally', 'Amanda', 'Peony'], 'Age': [13, 14, 15]}\n",
    "visualize_table(table)"
   ]
  },
  {
   "cell_type": "markdown",
   "metadata": {},
   "source": [
    "What if we wanted to find Amanda's age? We can use the `index` function, which will find the index of the first element that matches a value. Or, more simply, if we give `index` the word 'Amanda' and a list, it will tell you the position Amanda is in! This is also Amanda's row, which we can then use on the `Age` column.\n",
    "\n",
    "To see this in action, look at this piece of code:"
   ]
  },
  {
   "cell_type": "code",
   "execution_count": 61,
   "metadata": {},
   "outputs": [
    {
     "data": {
      "text/plain": [
       "14"
      ]
     },
     "execution_count": 61,
     "metadata": {},
     "output_type": "execute_result"
    }
   ],
   "source": [
    "names = table['Name']\n",
    "amanda = names.index('Amanda')\n",
    "table['Age'][amanda]"
   ]
  },
  {
   "cell_type": "markdown",
   "metadata": {},
   "source": [
    "Now, try it yourself! Set `food` to the fast food restaurant that the person whose favorite color is teal likes to go to."
   ]
  },
  {
   "cell_type": "code",
   "execution_count": 62,
   "metadata": {},
   "outputs": [],
   "source": [
    "# Your code here!\n",
    "# colors = data['Favorite Color']\n",
    "# row = colors.index('teal')\n",
    "# food = data['Favorite Fast Food'][row]\n",
    "food = ... # should be 'Taco Bell'"
   ]
  },
  {
   "cell_type": "markdown",
   "metadata": {},
   "source": [
    "## Problem 5: Visualization"
   ]
  },
  {
   "cell_type": "markdown",
   "metadata": {},
   "source": [
    "we'll write our own helper package with abstractions"
   ]
  },
  {
   "cell_type": "markdown",
   "metadata": {},
   "source": [
    "## Problem 6: Analyze It!"
   ]
  },
  {
   "cell_type": "markdown",
   "metadata": {},
   "source": [
    "have them calculate the probability of specific characteristics by indexing into the table + getting lists"
   ]
  },
  {
   "cell_type": "code",
   "execution_count": null,
   "metadata": {},
   "outputs": [],
   "source": []
  }
 ],
 "metadata": {
  "kernelspec": {
   "display_name": "Python 3",
   "language": "python",
   "name": "python3"
  },
  "language_info": {
   "codemirror_mode": {
    "name": "ipython",
    "version": 3
   },
   "file_extension": ".py",
   "mimetype": "text/x-python",
   "name": "python",
   "nbconvert_exporter": "python",
   "pygments_lexer": "ipython3",
   "version": "3.6.5"
  }
 },
 "nbformat": 4,
 "nbformat_minor": 2
}
