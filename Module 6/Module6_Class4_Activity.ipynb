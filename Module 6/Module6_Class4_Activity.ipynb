{
 "cells": [
  {
   "cell_type": "markdown",
   "metadata": {},
   "source": [
    "# Module 6 Class 4: Data Visualization and Matplotlib"
   ]
  },
  {
   "cell_type": "markdown",
   "metadata": {},
   "source": [
    "In this activity, you will work directly with the Python visualization library called `matplotlib`. At first, you will be working with NBA Player Data and Salaries. Try to uncover some trends about the data that aren't totally obvious upon first glance!\n",
    "\n",
    "**Pro Tip:** The Opportunity Through Data online [textbook](https://otd.gitbook.io/book/module-6/data-visualization/matplotlib) and `matplotlib` [documenation](https://matplotlib.org/api/_as_gen/matplotlib.pyplot.html#module-matplotlib.pyplot) may be incredibly helpful."
   ]
  },
  {
   "cell_type": "code",
   "execution_count": null,
   "metadata": {},
   "outputs": [],
   "source": [
    "import pandas as pd\n",
    "import matplotlib.pyplot as plt\n",
    "# Note about this line of code: We're telling matplotlib how to make our graphs look!\n",
    "plt.style.use('ggplot')"
   ]
  },
  {
   "cell_type": "markdown",
   "metadata": {},
   "source": [
    "Today you will be working with NBA salary data from the 2017-2018 season. Feel free to explore the data in any way that helps you become more comfortable with it! I suggest using Pandas' `shape` and `info` method. Simply run the following cell to load the DataFrame."
   ]
  },
  {
   "cell_type": "code",
   "execution_count": null,
   "metadata": {
    "scrolled": true
   },
   "outputs": [],
   "source": [
    "nba = pd.read_csv(\"nba_salaries.csv\", index_col=0)\n",
    "nba"
   ]
  },
  {
   "cell_type": "code",
   "execution_count": null,
   "metadata": {},
   "outputs": [],
   "source": [
    "# Explore the data here!"
   ]
  },
  {
   "cell_type": "code",
   "execution_count": null,
   "metadata": {},
   "outputs": [],
   "source": [
    "# Explore the data here!"
   ]
  },
  {
   "cell_type": "code",
   "execution_count": null,
   "metadata": {},
   "outputs": [],
   "source": [
    "# Explore the data here!"
   ]
  },
  {
   "cell_type": "code",
   "execution_count": null,
   "metadata": {},
   "outputs": [],
   "source": [
    "# Explore the data here!"
   ]
  },
  {
   "cell_type": "code",
   "execution_count": null,
   "metadata": {},
   "outputs": [],
   "source": [
    "# Explore the data here! (Feel free to insert new cells if you need more!)"
   ]
  },
  {
   "cell_type": "markdown",
   "metadata": {},
   "source": [
    "## Scatter Plots"
   ]
  },
  {
   "cell_type": "markdown",
   "metadata": {},
   "source": [
    "### **Question One:** \n",
    "Create a scatter plot using `matplotlib` that plots the `Salary` of all the players in the DataFrame with their respective `Draft Pick`. Is there a clear pattern?\n",
    "\n",
    "1. Plot the figure below according to the above specifications.\n",
    "2. Label the axes appropriately using methods learned in class from `matplotlib`.\n",
    "3. Give the plot a meaningful title."
   ]
  },
  {
   "cell_type": "code",
   "execution_count": null,
   "metadata": {},
   "outputs": [],
   "source": [
    "plt.figure(figsize=(10,5))\n",
    "plt.scatter(...) \n",
    "plt.xlabel(...)\n",
    "plt.ylabel(...)\n",
    "plt.title(...)\n",
    "plt.show()"
   ]
  },
  {
   "cell_type": "markdown",
   "metadata": {},
   "source": [
    "## Bar Charts"
   ]
  },
  {
   "cell_type": "markdown",
   "metadata": {},
   "source": [
    "### **Question Two:** \n",
    "Create a bar chart that displays the average salary for each position `Pos` in the DataFrame. To figure out what you need to plot, you may need to use Pandas functions we have learned earlier this module! Which position has the highest average salary?\n",
    "\n",
    "1. Create the bar chart according to the specifications\n",
    "2. Add meaningful labels for axes and a relevant title\n",
    "\n",
    "For an added challenge, try to create a bar chart where the bars are in **decreasing order** with respect to their heights. Use an additional Pandas method `.sort_values(by=\"Column Name\")` to achieve this result."
   ]
  },
  {
   "cell_type": "code",
   "execution_count": null,
   "metadata": {},
   "outputs": [],
   "source": [
    "plt.figure(figsize=(10,5))\n",
    "# You'll need to fill in each function call for your bar chart here!\n",
    "...\n",
    "...\n",
    "...\n",
    "...\n",
    "...\n",
    "plt.show()"
   ]
  },
  {
   "cell_type": "markdown",
   "metadata": {},
   "source": [
    "### **Question Three:** \n",
    "Create a *horizontal* bar chart that shows the salaries of the **ten highest paid NBA players** using `matplotlib`'s `barh` method. The bars should be sorted in *increasing order*, with the highest paid player on the bottom. As always, add the appropriate labels!\n",
    "\n",
    "1. Create a new DataFrame with the top ten highest paid NBA players called `top_10`.\n",
    "2. Plot the horizontal bar chart as described above."
   ]
  },
  {
   "cell_type": "code",
   "execution_count": null,
   "metadata": {},
   "outputs": [],
   "source": [
    "plt.figure(figsize=(10,5))\n",
    "...\n",
    "...\n",
    "...\n",
    "...\n",
    "...\n",
    "plt.show()"
   ]
  },
  {
   "cell_type": "markdown",
   "metadata": {},
   "source": [
    "## Histograms"
   ]
  },
  {
   "cell_type": "markdown",
   "metadata": {},
   "source": [
    "### **Question Four:**\n",
    "Create a histogram that shows the distribution of `Games Played` for the entire data set with appropriate labels. What can you observe from the trends?\n",
    "\n",
    "**NOTE:** The y-label of the histogram can be difficult to come up with -- it is not as clear as it has been for other visualizations within this activity. Think hard about what both the **height** and **area** of the plot represent. "
   ]
  },
  {
   "cell_type": "code",
   "execution_count": null,
   "metadata": {},
   "outputs": [],
   "source": [
    "plt.figure(figsize=(10,5))\n",
    "...\n",
    "...\n",
    "...\n",
    "...\n",
    "plt.show()"
   ]
  },
  {
   "cell_type": "markdown",
   "metadata": {},
   "source": [
    "### **Question Five:** \n",
    "Create two new Pandas DataFrames called `centers` and `point_guards` that contain only the information of their respective position. Recall that all the **centers** within the original data set will have `Pos` as \"C\" and all the **point guards** will have `Pos` as \"PG. \n",
    "\n",
    "We will use these two new DataFrames in order to compare the distribution of salaries between each position."
   ]
  },
  {
   "cell_type": "code",
   "execution_count": null,
   "metadata": {},
   "outputs": [],
   "source": [
    "centers = ...\n",
    "centers"
   ]
  },
  {
   "cell_type": "code",
   "execution_count": null,
   "metadata": {},
   "outputs": [],
   "source": [
    "point_guards = ...\n",
    "point_guards"
   ]
  },
  {
   "cell_type": "markdown",
   "metadata": {},
   "source": [
    "Now, using your newly created DataFrames `centers` and `point_guards`, plot the two distributions of their respective salaries using a histogram. Look at the `matplotlib` documentation to find out how to change the **alpha** of the histogram (transparency), and change it to have `alpha=0.5`."
   ]
  },
  {
   "cell_type": "code",
   "execution_count": null,
   "metadata": {},
   "outputs": [],
   "source": [
    "plt.figure(figsize=(10,5))\n",
    "...\n",
    "...\n",
    "...\n",
    "...\n",
    "...\n",
    "plt.show()"
   ]
  },
  {
   "cell_type": "markdown",
   "metadata": {},
   "source": [
    "If you created the histogram above correctly, you will notice that the `point_guards` distribution skews further out to the right! Our visualization allowed us to see this easier than we could have by simply looking at the raw data or at a DataFrame.\n",
    "\n",
    "### **Question Six:** \n",
    "Using this information and the `point_guards` DataFrame, return a list of all the point guards that have a salary greater than or equal to 25 Million Dollars. Do you recognize any of them?"
   ]
  },
  {
   "cell_type": "code",
   "execution_count": null,
   "metadata": {},
   "outputs": [],
   "source": [
    "over_25_million = ...\n",
    "over_25_million"
   ]
  },
  {
   "cell_type": "markdown",
   "metadata": {},
   "source": [
    "**Interestingly enough,** we see that there are five point guards that make over 25 million, while there is only one center that earns a salary in that range, despite centers having the highest average salary."
   ]
  },
  {
   "cell_type": "markdown",
   "metadata": {},
   "source": [
    "You have now completed **Module 6!** One more left to go...."
   ]
  },
  {
   "cell_type": "code",
   "execution_count": null,
   "metadata": {},
   "outputs": [],
   "source": []
  }
 ],
 "metadata": {
  "kernelspec": {
   "display_name": "Python 3",
   "language": "python",
   "name": "python3"
  },
  "language_info": {
   "codemirror_mode": {
    "name": "ipython",
    "version": 3
   },
   "file_extension": ".py",
   "mimetype": "text/x-python",
   "name": "python",
   "nbconvert_exporter": "python",
   "pygments_lexer": "ipython3",
   "version": "3.7.4"
  }
 },
 "nbformat": 4,
 "nbformat_minor": 2
}
