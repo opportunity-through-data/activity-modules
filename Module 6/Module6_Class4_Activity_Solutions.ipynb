{
 "cells": [
  {
   "cell_type": "markdown",
   "metadata": {},
   "source": [
    "# Module 6 Class 4: Data Visualization and Matplotlib"
   ]
  },
  {
   "cell_type": "markdown",
   "metadata": {},
   "source": [
    "In this activity, you will work directly with the Python visualization library called `matplotlib`. At first, you will be working with NBA Player Data and Salaries. Try to uncover some trends about the data that aren't totally obvious upon first glance!\n",
    "\n",
    "**Pro Tip:** The Opportunity Through Data online [textbook](https://otd.gitbook.io/book/module-6/data-visualization/matplotlib) and `matplotlib` [documenation](https://matplotlib.org/api/_as_gen/matplotlib.pyplot.html#module-matplotlib.pyplot) may be incredibly helpful."
   ]
  },
  {
   "cell_type": "code",
   "execution_count": 1,
   "metadata": {},
   "outputs": [],
   "source": [
    "import pandas as pd\n",
    "import matplotlib.pyplot as plt\n",
    "plt.style.use('ggplot')\n",
    "%matplotlib inline"
   ]
  },
  {
   "cell_type": "code",
   "execution_count": 2,
   "metadata": {},
   "outputs": [
    {
     "data": {
      "text/html": [
       "<div>\n",
       "<style scoped>\n",
       "    .dataframe tbody tr th:only-of-type {\n",
       "        vertical-align: middle;\n",
       "    }\n",
       "\n",
       "    .dataframe tbody tr th {\n",
       "        vertical-align: top;\n",
       "    }\n",
       "\n",
       "    .dataframe thead th {\n",
       "        text-align: right;\n",
       "    }\n",
       "</style>\n",
       "<table border=\"1\" class=\"dataframe\">\n",
       "  <thead>\n",
       "    <tr style=\"text-align: right;\">\n",
       "      <th></th>\n",
       "      <th>Player</th>\n",
       "      <th>Draft Pick</th>\n",
       "      <th>Salary</th>\n",
       "      <th>Pos</th>\n",
       "      <th>Age</th>\n",
       "      <th>Team</th>\n",
       "      <th>Games Played</th>\n",
       "    </tr>\n",
       "  </thead>\n",
       "  <tbody>\n",
       "    <tr>\n",
       "      <th>0</th>\n",
       "      <td>Zhou Qi</td>\n",
       "      <td>43</td>\n",
       "      <td>815615</td>\n",
       "      <td>C</td>\n",
       "      <td>22</td>\n",
       "      <td>HOU</td>\n",
       "      <td>16</td>\n",
       "    </tr>\n",
       "    <tr>\n",
       "      <th>1</th>\n",
       "      <td>Zaza Pachulia</td>\n",
       "      <td>42</td>\n",
       "      <td>3477600</td>\n",
       "      <td>C</td>\n",
       "      <td>33</td>\n",
       "      <td>GSW</td>\n",
       "      <td>66</td>\n",
       "    </tr>\n",
       "    <tr>\n",
       "      <th>2</th>\n",
       "      <td>Zach Randolph</td>\n",
       "      <td>19</td>\n",
       "      <td>12307692</td>\n",
       "      <td>PF</td>\n",
       "      <td>36</td>\n",
       "      <td>SAC</td>\n",
       "      <td>59</td>\n",
       "    </tr>\n",
       "    <tr>\n",
       "      <th>3</th>\n",
       "      <td>Zach LaVine</td>\n",
       "      <td>13</td>\n",
       "      <td>3202217</td>\n",
       "      <td>SG</td>\n",
       "      <td>22</td>\n",
       "      <td>CHI</td>\n",
       "      <td>24</td>\n",
       "    </tr>\n",
       "    <tr>\n",
       "      <th>4</th>\n",
       "      <td>Zach Collins</td>\n",
       "      <td>10</td>\n",
       "      <td>3057240</td>\n",
       "      <td>C</td>\n",
       "      <td>20</td>\n",
       "      <td>POR</td>\n",
       "      <td>62</td>\n",
       "    </tr>\n",
       "    <tr>\n",
       "      <th>...</th>\n",
       "      <td>...</td>\n",
       "      <td>...</td>\n",
       "      <td>...</td>\n",
       "      <td>...</td>\n",
       "      <td>...</td>\n",
       "      <td>...</td>\n",
       "      <td>...</td>\n",
       "    </tr>\n",
       "    <tr>\n",
       "      <th>644</th>\n",
       "      <td>Al Jefferson</td>\n",
       "      <td>15</td>\n",
       "      <td>9769821</td>\n",
       "      <td>C</td>\n",
       "      <td>33</td>\n",
       "      <td>IND</td>\n",
       "      <td>34</td>\n",
       "    </tr>\n",
       "    <tr>\n",
       "      <th>645</th>\n",
       "      <td>Al Horford</td>\n",
       "      <td>3</td>\n",
       "      <td>27734405</td>\n",
       "      <td>C</td>\n",
       "      <td>31</td>\n",
       "      <td>BOS</td>\n",
       "      <td>70</td>\n",
       "    </tr>\n",
       "    <tr>\n",
       "      <th>647</th>\n",
       "      <td>Abdel Nader</td>\n",
       "      <td>58</td>\n",
       "      <td>1167333</td>\n",
       "      <td>SF</td>\n",
       "      <td>24</td>\n",
       "      <td>BOS</td>\n",
       "      <td>44</td>\n",
       "    </tr>\n",
       "    <tr>\n",
       "      <th>649</th>\n",
       "      <td>Aaron Gordon</td>\n",
       "      <td>4</td>\n",
       "      <td>5504420</td>\n",
       "      <td>PF</td>\n",
       "      <td>22</td>\n",
       "      <td>ORL</td>\n",
       "      <td>55</td>\n",
       "    </tr>\n",
       "    <tr>\n",
       "      <th>650</th>\n",
       "      <td>Aaron Brooks</td>\n",
       "      <td>26</td>\n",
       "      <td>2116955</td>\n",
       "      <td>PG</td>\n",
       "      <td>33</td>\n",
       "      <td>MIN</td>\n",
       "      <td>31</td>\n",
       "    </tr>\n",
       "  </tbody>\n",
       "</table>\n",
       "<p>386 rows × 7 columns</p>\n",
       "</div>"
      ],
      "text/plain": [
       "            Player  Draft Pick    Salary Pos  Age Team  Games Played\n",
       "0          Zhou Qi          43    815615   C   22  HOU            16\n",
       "1    Zaza Pachulia          42   3477600   C   33  GSW            66\n",
       "2    Zach Randolph          19  12307692  PF   36  SAC            59\n",
       "3      Zach LaVine          13   3202217  SG   22  CHI            24\n",
       "4     Zach Collins          10   3057240   C   20  POR            62\n",
       "..             ...         ...       ...  ..  ...  ...           ...\n",
       "644   Al Jefferson          15   9769821   C   33  IND            34\n",
       "645     Al Horford           3  27734405   C   31  BOS            70\n",
       "647    Abdel Nader          58   1167333  SF   24  BOS            44\n",
       "649   Aaron Gordon           4   5504420  PF   22  ORL            55\n",
       "650   Aaron Brooks          26   2116955  PG   33  MIN            31\n",
       "\n",
       "[386 rows x 7 columns]"
      ]
     },
     "execution_count": 2,
     "metadata": {},
     "output_type": "execute_result"
    }
   ],
   "source": [
    "nba = pd.read_csv(\"nba_salaries.csv\", index_col=0)\n",
    "nba"
   ]
  },
  {
   "cell_type": "markdown",
   "metadata": {},
   "source": [
    "## Scatter Plots"
   ]
  },
  {
   "cell_type": "markdown",
   "metadata": {},
   "source": [
    "**Question One:** Create a scatter plot using `matplotlib` that plots the `Salary` of all the players in the DataFrame with their respective `Draft Pick`. Is there a clear pattern?\n",
    "\n",
    "1. Plot the figure below according to the above specifications.\n",
    "2. Label the axes appropriately using methods learned in class from `matplotlib`.\n",
    "3. Give the plot a meaningful title."
   ]
  },
  {
   "cell_type": "code",
   "execution_count": 3,
   "metadata": {},
   "outputs": [
    {
     "data": {
      "image/png": "[encoded data removed]",
      "text/plain": [
       "<Figure size 720x360 with 1 Axes>"
      ]
     },
     "metadata": {
      "needs_background": "light"
     },
     "output_type": "display_data"
    }
   ],
   "source": [
    "plt.figure(figsize=(10,5))\n",
    "plt.scatter(nba['Draft Pick'], nba['Salary']);\n",
    "plt.xlabel('Draft Pick')\n",
    "plt.ylabel('Salary (in Millions)')\n",
    "plt.title('Salary vs. Draft Pick in NBA')\n",
    "plt.show()"
   ]
  },
  {
   "cell_type": "markdown",
   "metadata": {},
   "source": [
    "## Bar Charts"
   ]
  },
  {
   "cell_type": "markdown",
   "metadata": {},
   "source": [
    "**Question Two:** Create a bar chart that displays the average salary for each position `Pos` in the DataFrame. Use functions we have learned earlier this module! Which position has the highest average salary?\n",
    "\n",
    "1. Create the bar chart according to the specifications\n",
    "2. Add meaningful labels for axes and a relevant title\n",
    "\n",
    "For an added challenge, try to create a bar chart where the bars are in **decreasing order** with respect to their heights. Use an additional Pandas method `.sort_values(by=\"Column Name\")` to achieve this result."
   ]
  },
  {
   "cell_type": "code",
   "execution_count": 35,
   "metadata": {},
   "outputs": [
    {
     "data": {
      "image/png": "[encoded data removed]",
      "text/plain": [
       "<Figure size 720x360 with 1 Axes>"
      ]
     },
     "metadata": {
      "needs_background": "light"
     },
     "output_type": "display_data"
    }
   ],
   "source": [
    "plt.figure(figsize=(10,5))\n",
    "grouped_by_pos = nba.groupby(\"Pos\").mean()\n",
    "plt.bar(grouped_by_pos.index, grouped_by_pos['Salary'])\n",
    "plt.xlabel('Position')\n",
    "plt.ylabel('Average Salary (in Millions)')\n",
    "plt.title('Average Salary per Position in NBA')\n",
    "plt.show()"
   ]
  },
  {
   "cell_type": "code",
   "execution_count": 36,
   "metadata": {},
   "outputs": [
    {
     "data": {
      "image/png": "[encoded data removed]",
      "text/plain": [
       "<Figure size 720x360 with 1 Axes>"
      ]
     },
     "metadata": {
      "needs_background": "light"
     },
     "output_type": "display_data"
    }
   ],
   "source": [
    "## Sorted by position\n",
    "\n",
    "plt.figure(figsize=(10,5))\n",
    "grouped_by_pos = nba.groupby(\"Pos\").mean().sort_values(by='Salary', ascending=False)\n",
    "plt.bar(grouped_by_pos.index, grouped_by_pos['Salary'])\n",
    "plt.xlabel('Position')\n",
    "plt.ylabel('Average Salary (in Millions)')\n",
    "plt.title('Average Salary per Position in NBA')\n",
    "plt.show()"
   ]
  },
  {
   "cell_type": "markdown",
   "metadata": {},
   "source": [
    "**Question Three:** Create a *horizontal* bar chart that shows the salaries of the **ten highest paid NBA players** using `matplotlib`'s `barh` method. The bars should be sorted in *increasing order*, with the highest paid player on the bottom. As always, add the appropriate labels!"
   ]
  },
  {
   "cell_type": "code",
   "execution_count": 37,
   "metadata": {},
   "outputs": [
    {
     "data": {
      "image/png": "[encoded data removed]",
      "text/plain": [
       "<Figure size 720x360 with 1 Axes>"
      ]
     },
     "metadata": {
      "needs_background": "light"
     },
     "output_type": "display_data"
    }
   ],
   "source": [
    "plt.figure(figsize=(10,5))\n",
    "top_10 = nba.sort_values(by=\"Salary\", ascending=False).iloc[:10, :]\n",
    "plt.barh(top_10['Player'], top_10['Salary'])\n",
    "plt.xlabel('Average Salary (in Millions)')\n",
    "plt.ylabel('Player Name')\n",
    "plt.title('Highest Paid NBA Players')\n",
    "plt.show()"
   ]
  },
  {
   "cell_type": "markdown",
   "metadata": {},
   "source": [
    "## Histograms"
   ]
  },
  {
   "cell_type": "markdown",
   "metadata": {},
   "source": [
    "**Question Four:** Create a histogram that shows the distribution of `Games Played` for the entire data set with appropriate labels. What can you observe from the trends?\n",
    "\n",
    "**NOTE:** The y-label of the histogram can be difficult to come up with -- it is not as clear as it has been for other visualizations within this activity. Think hard about what both the **height** and **area** of the plot represent. "
   ]
  },
  {
   "cell_type": "code",
   "execution_count": 43,
   "metadata": {},
   "outputs": [
    {
     "data": {
      "image/png": "[encoded data removed]",
      "text/plain": [
       "<Figure size 720x360 with 1 Axes>"
      ]
     },
     "metadata": {
      "needs_background": "light"
     },
     "output_type": "display_data"
    }
   ],
   "source": [
    "plt.figure(figsize=(10,5))\n",
    "plt.hist(nba['Games Played'])\n",
    "plt.xlabel('Games Played')\n",
    "plt.ylabel('% Per Game Played')\n",
    "plt.title('Distribution of Games Played by NBA Players')\n",
    "plt.show()"
   ]
  },
  {
   "cell_type": "markdown",
   "metadata": {},
   "source": [
    "**Question Five:** Create two new Pandas DataFrames called `centers` and `point_guards` that contain only the information of their respective position. Recall that all the **centers** within the original data set will have `Pos` as \"C\" and all the **point guards** will have `Pos` as \"PG. \n",
    "\n",
    "We will use these two new DataFrames in order to compare the distribution of salaries between each position."
   ]
  },
  {
   "cell_type": "code",
   "execution_count": 3,
   "metadata": {},
   "outputs": [
    {
     "data": {
      "text/html": [
       "<div>\n",
       "<style scoped>\n",
       "    .dataframe tbody tr th:only-of-type {\n",
       "        vertical-align: middle;\n",
       "    }\n",
       "\n",
       "    .dataframe tbody tr th {\n",
       "        vertical-align: top;\n",
       "    }\n",
       "\n",
       "    .dataframe thead th {\n",
       "        text-align: right;\n",
       "    }\n",
       "</style>\n",
       "<table border=\"1\" class=\"dataframe\">\n",
       "  <thead>\n",
       "    <tr style=\"text-align: right;\">\n",
       "      <th></th>\n",
       "      <th>Player</th>\n",
       "      <th>Draft Pick</th>\n",
       "      <th>Salary</th>\n",
       "      <th>Pos</th>\n",
       "      <th>Age</th>\n",
       "      <th>Team</th>\n",
       "      <th>Games Played</th>\n",
       "    </tr>\n",
       "  </thead>\n",
       "  <tbody>\n",
       "    <tr>\n",
       "      <td>0</td>\n",
       "      <td>Zhou Qi</td>\n",
       "      <td>43</td>\n",
       "      <td>815615</td>\n",
       "      <td>C</td>\n",
       "      <td>22</td>\n",
       "      <td>HOU</td>\n",
       "      <td>16</td>\n",
       "    </tr>\n",
       "    <tr>\n",
       "      <td>1</td>\n",
       "      <td>Zaza Pachulia</td>\n",
       "      <td>42</td>\n",
       "      <td>3477600</td>\n",
       "      <td>C</td>\n",
       "      <td>33</td>\n",
       "      <td>GSW</td>\n",
       "      <td>66</td>\n",
       "    </tr>\n",
       "    <tr>\n",
       "      <td>4</td>\n",
       "      <td>Zach Collins</td>\n",
       "      <td>10</td>\n",
       "      <td>3057240</td>\n",
       "      <td>C</td>\n",
       "      <td>20</td>\n",
       "      <td>POR</td>\n",
       "      <td>62</td>\n",
       "    </tr>\n",
       "    <tr>\n",
       "      <td>10</td>\n",
       "      <td>Willy Hernangomez</td>\n",
       "      <td>35</td>\n",
       "      <td>1435750</td>\n",
       "      <td>C</td>\n",
       "      <td>23</td>\n",
       "      <td>TOT</td>\n",
       "      <td>45</td>\n",
       "    </tr>\n",
       "    <tr>\n",
       "      <td>16</td>\n",
       "      <td>Willie Cauley-Stein</td>\n",
       "      <td>6</td>\n",
       "      <td>3704160</td>\n",
       "      <td>C</td>\n",
       "      <td>24</td>\n",
       "      <td>SAC</td>\n",
       "      <td>70</td>\n",
       "    </tr>\n",
       "  </tbody>\n",
       "</table>\n",
       "</div>"
      ],
      "text/plain": [
       "                 Player  Draft Pick   Salary Pos  Age Team  Games Played\n",
       "0               Zhou Qi          43   815615   C   22  HOU            16\n",
       "1         Zaza Pachulia          42  3477600   C   33  GSW            66\n",
       "4          Zach Collins          10  3057240   C   20  POR            62\n",
       "10    Willy Hernangomez          35  1435750   C   23  TOT            45\n",
       "16  Willie Cauley-Stein           6  3704160   C   24  SAC            70"
      ]
     },
     "execution_count": 3,
     "metadata": {},
     "output_type": "execute_result"
    }
   ],
   "source": [
    "centers = nba[nba['Pos'] == 'C']\n",
    "centers.head()"
   ]
  },
  {
   "cell_type": "code",
   "execution_count": 4,
   "metadata": {},
   "outputs": [
    {
     "data": {
      "text/html": [
       "<div>\n",
       "<style scoped>\n",
       "    .dataframe tbody tr th:only-of-type {\n",
       "        vertical-align: middle;\n",
       "    }\n",
       "\n",
       "    .dataframe tbody tr th {\n",
       "        vertical-align: top;\n",
       "    }\n",
       "\n",
       "    .dataframe thead th {\n",
       "        text-align: right;\n",
       "    }\n",
       "</style>\n",
       "<table border=\"1\" class=\"dataframe\">\n",
       "  <thead>\n",
       "    <tr style=\"text-align: right;\">\n",
       "      <th></th>\n",
       "      <th>Player</th>\n",
       "      <th>Draft Pick</th>\n",
       "      <th>Salary</th>\n",
       "      <th>Pos</th>\n",
       "      <th>Age</th>\n",
       "      <th>Team</th>\n",
       "      <th>Games Played</th>\n",
       "    </tr>\n",
       "  </thead>\n",
       "  <tbody>\n",
       "    <tr>\n",
       "      <td>23</td>\n",
       "      <td>Wade Baldwin</td>\n",
       "      <td>17</td>\n",
       "      <td>1874400</td>\n",
       "      <td>PG</td>\n",
       "      <td>21</td>\n",
       "      <td>POR</td>\n",
       "      <td>4</td>\n",
       "    </tr>\n",
       "    <tr>\n",
       "      <td>29</td>\n",
       "      <td>Tyus Jones</td>\n",
       "      <td>24</td>\n",
       "      <td>1471382</td>\n",
       "      <td>PG</td>\n",
       "      <td>21</td>\n",
       "      <td>MIN</td>\n",
       "      <td>78</td>\n",
       "    </tr>\n",
       "    <tr>\n",
       "      <td>32</td>\n",
       "      <td>Tyreke Evans</td>\n",
       "      <td>4</td>\n",
       "      <td>3290000</td>\n",
       "      <td>PG</td>\n",
       "      <td>28</td>\n",
       "      <td>MEM</td>\n",
       "      <td>52</td>\n",
       "    </tr>\n",
       "    <tr>\n",
       "      <td>36</td>\n",
       "      <td>Tyler Ulis</td>\n",
       "      <td>34</td>\n",
       "      <td>1312611</td>\n",
       "      <td>PG</td>\n",
       "      <td>22</td>\n",
       "      <td>PHO</td>\n",
       "      <td>68</td>\n",
       "    </tr>\n",
       "    <tr>\n",
       "      <td>39</td>\n",
       "      <td>Tyler Ennis</td>\n",
       "      <td>18</td>\n",
       "      <td>1524305</td>\n",
       "      <td>PG</td>\n",
       "      <td>23</td>\n",
       "      <td>LAL</td>\n",
       "      <td>50</td>\n",
       "    </tr>\n",
       "  </tbody>\n",
       "</table>\n",
       "</div>"
      ],
      "text/plain": [
       "          Player  Draft Pick   Salary Pos  Age Team  Games Played\n",
       "23  Wade Baldwin          17  1874400  PG   21  POR             4\n",
       "29    Tyus Jones          24  1471382  PG   21  MIN            78\n",
       "32  Tyreke Evans           4  3290000  PG   28  MEM            52\n",
       "36    Tyler Ulis          34  1312611  PG   22  PHO            68\n",
       "39   Tyler Ennis          18  1524305  PG   23  LAL            50"
      ]
     },
     "execution_count": 4,
     "metadata": {},
     "output_type": "execute_result"
    }
   ],
   "source": [
    "point_guards = nba[nba['Pos'] == 'PG']\n",
    "point_guards.head()"
   ]
  },
  {
   "cell_type": "markdown",
   "metadata": {},
   "source": [
    "Now, using your newly created DataFrames `centers` and `point_guards`, plot the two distributions of their respective salaries using a histogram."
   ]
  },
  {
   "cell_type": "code",
   "execution_count": 64,
   "metadata": {},
   "outputs": [
    {
     "data": {
      "image/png": "[encoded data removed]",
      "text/plain": [
       "<Figure size 720x360 with 1 Axes>"
      ]
     },
     "metadata": {
      "needs_background": "light"
     },
     "output_type": "display_data"
    }
   ],
   "source": [
    "plt.figure(figsize=(10,5))\n",
    "plt.hist(centers['Salary'], alpha=0.5)\n",
    "plt.hist(point_guards['Salary'], alpha=0.5)\n",
    "plt.xlabel('Salary')\n",
    "plt.ylabel('% Per Salary')\n",
    "plt.title('Distribution of Salary between Centers, Point Guards')\n",
    "plt.show()"
   ]
  },
  {
   "cell_type": "markdown",
   "metadata": {},
   "source": [
    "If you created the histogram above correctly, you will notice that the `point_guards` distribution skews further out to the right! Our visualization allowed us to see this easier than we could have by simply looking at the raw data or at a DataFrame.\n",
    "\n",
    "**Question Six:** Using this information and the `point_guards` DataFrame, return a list of all the point guards that have a salary greater than or equal to 25 Million Dollars. Do you recognize any of them?"
   ]
  },
  {
   "cell_type": "code",
   "execution_count": 10,
   "metadata": {},
   "outputs": [
    {
     "data": {
      "text/plain": [
       "['Stephen Curry',\n",
       " 'Russell Westbrook',\n",
       " 'Mike Conley',\n",
       " 'Kyle Lowry',\n",
       " 'Damian Lillard']"
      ]
     },
     "execution_count": 10,
     "metadata": {},
     "output_type": "execute_result"
    }
   ],
   "source": [
    "big_money = point_guards[point_guards['Salary'] >= 2.5e7]\n",
    "over_25_million = list(big_money['Player'])\n",
    "over_25_million"
   ]
  },
  {
   "cell_type": "markdown",
   "metadata": {},
   "source": [
    "**Interestingly enough,** we see that there are five point guards that make over 25 million, while there is only one center that earns a salary in that range, despite centers having the highest average salary."
   ]
  },
  {
   "cell_type": "code",
   "execution_count": null,
   "metadata": {},
   "outputs": [],
   "source": []
  }
 ],
 "metadata": {
  "kernelspec": {
   "display_name": "Python 3",
   "language": "python",
   "name": "python3"
  },
  "language_info": {
   "codemirror_mode": {
    "name": "ipython",
    "version": 3
   },
   "file_extension": ".py",
   "mimetype": "text/x-python",
   "name": "python",
   "nbconvert_exporter": "python",
   "pygments_lexer": "ipython3",
   "version": "3.8.2"
  }
 },
 "nbformat": 4,
 "nbformat_minor": 2
}
