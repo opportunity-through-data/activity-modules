{
 "cells": [
  {
   "cell_type": "markdown",
   "metadata": {},
   "source": [
    "# Module 6.2 Activity: GroupBy and Join"
   ]
  },
  {
   "cell_type": "markdown",
   "metadata": {},
   "source": [
    "Now that we have had more exposure to the types of operations we can do with DataFrames, let's dive right in! This notebook primarily focuses on DataFrames and how to interact with them using `groupby` and `merge`.\n",
    "\n",
    "We're going to be working with data on TV shows today! We'll be looking at TV shows that are on various streaming services and checking on their ratings. Specifically, we'll be looking at two datasets that we got from here[https://www.kaggle.com/ruchi798/tv-shows-on-netflix-prime-video-hulu-and-disney]: one with TV show ratings, and one with the streaming services they're on!"
   ]
  },
  {
   "cell_type": "code",
   "execution_count": null,
   "metadata": {},
   "outputs": [],
   "source": [
    "import pandas as pd\n",
    "\n",
    "tv_show_ratings = pd.read_csv('tv_show_ratings.csv')\n",
    "tv_show_streaming = pd.read_csv('tv_show_streaming.csv')"
   ]
  },
  {
   "cell_type": "markdown",
   "metadata": {},
   "source": [
    "Let's warm up with a review of the material we covered last class. First, let's take a look at our datasets:"
   ]
  },
  {
   "cell_type": "code",
   "execution_count": null,
   "metadata": {},
   "outputs": [],
   "source": [
    "tv_show_ratings.head()"
   ]
  },
  {
   "cell_type": "code",
   "execution_count": null,
   "metadata": {},
   "outputs": [],
   "source": [
    "tv_show_streaming.head()"
   ]
  },
  {
   "cell_type": "markdown",
   "metadata": {},
   "source": [
    "### Question 1:\n",
    "We can start by trying to find the average rating of TV shows in the 16+ age group. Let's first filter out our 16+ age group from our ratings table:"
   ]
  },
  {
   "cell_type": "code",
   "execution_count": null,
   "metadata": {},
   "outputs": [],
   "source": [
    "tv_show_ratings_16 = ... "
   ]
  },
  {
   "cell_type": "markdown",
   "metadata": {},
   "source": [
    "We can now take the average of our IMDb ratings and Rotten Tomatoes ratings for our filtered DataFrame!"
   ]
  },
  {
   "cell_type": "code",
   "execution_count": null,
   "metadata": {},
   "outputs": [],
   "source": [
    "average_imdb_rating = ...\n",
    "average_rotten_tomatoes_rating = ...\n",
    "\n",
    "print('Average IMDb Rating of 16+ Shows:', average_imdb_rating)\n",
    "print('Average Rotten Tomatoes Rating of 16+ Shows:', average_rotten_tomatoes_rating)"
   ]
  },
  {
   "cell_type": "markdown",
   "metadata": {},
   "source": [
    "We could repeat this process for every age group manually, but that might be difficult...\n",
    "\n",
    "However, we can use GroupBy to make this process easier! As you may recall from the slides, a GroupBy expression consists of two parts: the **groupby call**, which takes in one or more columns to form groups from, and a **aggregation function**, which calculates some value for each group. \n",
    "\n",
    "For example, if we wanted to get the average rating for each age group, we could do the following:"
   ]
  },
  {
   "cell_type": "code",
   "execution_count": null,
   "metadata": {},
   "outputs": [],
   "source": [
    "tv_show_ratings.groupby('Age').mean()"
   ]
  },
  {
   "cell_type": "markdown",
   "metadata": {},
   "source": [
    "Note that we don't actually need the `Year` column's average for each age group! This one line of code allowed us to calculate the average rating for each group... You might notice that one group has a much higher rating than the others!\n",
    "\n",
    "### Question 2:\n",
    "Now, try using `groupby` to get the average rating for each year:"
   ]
  },
  {
   "cell_type": "code",
   "execution_count": null,
   "metadata": {},
   "outputs": [],
   "source": [
    "tv_show_ratings.groupby(...)._____() # Fill in the dots and the underscore!"
   ]
  },
  {
   "cell_type": "markdown",
   "metadata": {},
   "source": [
    "We can use `groupby` to do things other than calculating the mean! For a full list of aggregation functions, you can go here: https://pandas.pydata.org/pandas-docs/stable/reference/groupby.html\n",
    "\n",
    "\n",
    "### Question 3:\n",
    "Try finding the **max rating for each age group** and the **number of tv shows from each year** using `groupby`!"
   ]
  },
  {
   "cell_type": "code",
   "execution_count": null,
   "metadata": {},
   "outputs": [],
   "source": [
    "... # Your code here; find the max rating for each age group!"
   ]
  },
  {
   "cell_type": "code",
   "execution_count": null,
   "metadata": {},
   "outputs": [],
   "source": [
    "... # Your code here; find the number of TV shows from each year!"
   ]
  },
  {
   "cell_type": "markdown",
   "metadata": {},
   "source": [
    "We have another dataset that might be interesting to us, and that's our streaming services data, contained in `tv_show_streaming`! For each TV show and streaming service, it contains a `1` if the TV show is on the streaming service and a `0` if it isn't.\n",
    "\n",
    "We might be able to find some interesting information about the years of TV shows and the average ratings per streaming service if we were able to combine the two datasets...\n",
    "\n",
    "And there is a way for us to do that, using the `merge` and `join` functions! Joining allows you to merge two datasets based on whether a column is equal.\n",
    "\n",
    "First, let's go through a quick example about how we might join two datasets of candy."
   ]
  },
  {
   "cell_type": "code",
   "execution_count": null,
   "metadata": {},
   "outputs": [],
   "source": [
    "candy = pd.DataFrame({\n",
    "    'Candy': [\"Sour Patch Kids\", \"Skittles\", \"Snickers\", \"Candy Corn\", \"Starburst\", \"M&M’s\"], \n",
    "    'Quantity': [14, 18, 22, 32, 6, 43],\n",
    "    'Price': [\"Expensive\", \"Cheap\", \"Cheap\", \"Expensive\", \"Expensive\", \"Cheap\"]\n",
    "})\n",
    "\n",
    "candy_rankings = pd.DataFrame({\n",
    "    'Candy': [\"Sour Patch Kids\", \"Skittles\", \"Snickers\", \"Candy Corn\", \"Starburst\", \"M&M’s\"],\n",
    "    'Ranking': [3, 4, 2, 1, 6, 5]\n",
    "})"
   ]
  },
  {
   "cell_type": "code",
   "execution_count": null,
   "metadata": {},
   "outputs": [],
   "source": [
    "candy.head()"
   ]
  },
  {
   "cell_type": "code",
   "execution_count": null,
   "metadata": {},
   "outputs": [],
   "source": [
    "candy_rankings.head()"
   ]
  },
  {
   "cell_type": "markdown",
   "metadata": {},
   "source": [
    "It might be helpful for us to have the ranking column in the same table as the quantity and the price! To do that, we can use the `merge` function in Pandas to join two tables on a column. We set the `on` keyword to the name of the column we are merging on. If you want to merge on a column that has a different name in each table, you can use the `left_on` and `right_on` arguments instead!"
   ]
  },
  {
   "cell_type": "code",
   "execution_count": null,
   "metadata": {},
   "outputs": [],
   "source": [
    "candy.merge(candy_rankings, on='Candy')"
   ]
  },
  {
   "cell_type": "markdown",
   "metadata": {},
   "source": [
    "We can also do this through the `join` function, although the `join` function requires the column in the table you are merging with to be an index."
   ]
  },
  {
   "cell_type": "code",
   "execution_count": null,
   "metadata": {},
   "outputs": [],
   "source": [
    "candy.join(candy_rankings.set_index('Candy'), on='Candy')"
   ]
  },
  {
   "cell_type": "markdown",
   "metadata": {},
   "source": [
    "### Question 4:\n",
    "Let's get back to our rating data! Write code that uses the `merge` method to combine our `tv_show_ratings` and `tv_show_streaming` tables:"
   ]
  },
  {
   "cell_type": "code",
   "execution_count": null,
   "metadata": {},
   "outputs": [],
   "source": [
    "tv_shows = ________.merge(..., on=...)"
   ]
  },
  {
   "cell_type": "code",
   "execution_count": null,
   "metadata": {},
   "outputs": [],
   "source": [
    "tv_shows.head()"
   ]
  },
  {
   "cell_type": "markdown",
   "metadata": {},
   "source": [
    "### Question 5:\n",
    "Now that we have merged data, we can do more analysis! Find the average rating of TV shows that are on Netflix and find the average rating of TV shows that are not on Netflix:"
   ]
  },
  {
   "cell_type": "code",
   "execution_count": null,
   "metadata": {},
   "outputs": [],
   "source": [
    "... # Your code here: find the average rating of TV shows that are on Netflix! (Hint: use groupby)"
   ]
  },
  {
   "cell_type": "markdown",
   "metadata": {},
   "source": [
    "### Question 6:\n",
    "Let's take a look at Disney+. First, filter your data by only including TV shows that are present on Disney+:"
   ]
  },
  {
   "cell_type": "code",
   "execution_count": null,
   "metadata": {},
   "outputs": [],
   "source": [
    "disney = ..."
   ]
  },
  {
   "cell_type": "markdown",
   "metadata": {},
   "source": [
    "Now, find the number of TV shows in each age group category on Disney+! What do you notice about these numbers?"
   ]
  },
  {
   "cell_type": "code",
   "execution_count": null,
   "metadata": {},
   "outputs": [],
   "source": [
    "... # Your code here: again, it might be useful to use groupby here! You've done something similar above."
   ]
  },
  {
   "cell_type": "markdown",
   "metadata": {},
   "source": [
    "### Exploratory Analysis\n",
    "We've written some interesting code here! However, there's a lot more to explore. Using the tools you've learned so far -- `groupby`, `merge`, filtering, etc. -- try and look for some more patterns in the data in the remaining cells! Share your insights with your peers and with the class."
   ]
  },
  {
   "cell_type": "code",
   "execution_count": null,
   "metadata": {},
   "outputs": [],
   "source": []
  },
  {
   "cell_type": "code",
   "execution_count": null,
   "metadata": {},
   "outputs": [],
   "source": []
  },
  {
   "cell_type": "code",
   "execution_count": null,
   "metadata": {},
   "outputs": [],
   "source": []
  },
  {
   "cell_type": "code",
   "execution_count": null,
   "metadata": {},
   "outputs": [],
   "source": []
  }
 ],
 "metadata": {
  "kernelspec": {
   "display_name": "Python 3",
   "language": "python",
   "name": "python3"
  },
  "language_info": {
   "codemirror_mode": {
    "name": "ipython",
    "version": 3
   },
   "file_extension": ".py",
   "mimetype": "text/x-python",
   "name": "python",
   "nbconvert_exporter": "python",
   "pygments_lexer": "ipython3",
   "version": "3.8.2"
  }
 },
 "nbformat": 4,
 "nbformat_minor": 2
}
