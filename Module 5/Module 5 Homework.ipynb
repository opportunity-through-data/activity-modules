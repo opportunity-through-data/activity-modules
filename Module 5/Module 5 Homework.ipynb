{
 "cells": [
  {
   "cell_type": "markdown",
   "metadata": {},
   "source": [
    "# Module 5 Homework"
   ]
  },
  {
   "cell_type": "markdown",
   "metadata": {},
   "source": [
    "This assignment is meant to give you practice using the NumPy package!  \n",
    "\n",
    "For reference, here is a link to the Module 5 textbook chapter: https://otd.gitbook.io/book/module-5/numpy"
   ]
  },
  {
   "cell_type": "markdown",
   "metadata": {},
   "source": [
    "First things first, we need to import NumPy. Fill in the following cell to import NumPy using the abbreviation np."
   ]
  },
  {
   "cell_type": "code",
   "execution_count": 8,
   "metadata": {},
   "outputs": [
    {
     "ename": "ModuleNotFoundError",
     "evalue": "No module named 'numpy'",
     "output_type": "error",
     "traceback": [
      "\u001b[0;31m---------------------------------------------------------------------------\u001b[0m",
      "\u001b[0;31mModuleNotFoundError\u001b[0m                       Traceback (most recent call last)",
      "\u001b[0;32m<ipython-input-8-0aa0b027fcb6>\u001b[0m in \u001b[0;36m<module>\u001b[0;34m\u001b[0m\n\u001b[0;32m----> 1\u001b[0;31m \u001b[0;32mimport\u001b[0m \u001b[0mnumpy\u001b[0m \u001b[0;32mas\u001b[0m \u001b[0mnp\u001b[0m\u001b[0;34m\u001b[0m\u001b[0;34m\u001b[0m\u001b[0m\n\u001b[0m",
      "\u001b[0;31mModuleNotFoundError\u001b[0m: No module named 'numpy'"
     ]
    }
   ],
   "source": [
    "import __________ as _____"
   ]
  },
  {
   "cell_type": "markdown",
   "metadata": {},
   "source": [
    "### Question 1: Alice's Array"
   ]
  },
  {
   "cell_type": "markdown",
   "metadata": {},
   "source": [
    "Let's say Alice has a list, fridge, containing the items she currently has in her fridge. In the cell below, convert the list to an array."
   ]
  },
  {
   "cell_type": "code",
   "execution_count": 10,
   "metadata": {},
   "outputs": [
    {
     "name": "stdout",
     "output_type": "stream",
     "text": [
      "['celery', 'almond milk', 'eggs', 'rasberries', 'tomatoes', 'peanut butter', 'cheddar cheese', 'hummus', 'pickles']\n"
     ]
    }
   ],
   "source": [
    "fridge = [\"celery\", \"almond milk\", \"eggs\", \"rasberries\", \"tomatoes\", \"peanut butter\", \n",
    "          \"cheddar cheese\", \"hummus\", \"pickles\"]\n",
    "\n",
    "fridge_array = # YOUR CODE HERE\n",
    "\n",
    "print(fridge_array)"
   ]
  },
  {
   "cell_type": "markdown",
   "metadata": {},
   "source": [
    "Alice just went grocery shopping at Berkeley Bowl and purchased jelly, butter, and tofu! Help her update the fridge_array by using np.append() ONLY ONCE!\n",
    "\n",
    "Hint: Recall that the part that you add on using np.append() can be an array or a list, it does not have to be a single item."
   ]
  },
  {
   "cell_type": "code",
   "execution_count": null,
   "metadata": {},
   "outputs": [],
   "source": [
    "fridge_array = # YOUR CODE HERE\n",
    "\n",
    "print(fridge_array)"
   ]
  },
  {
   "cell_type": "markdown",
   "metadata": {},
   "source": [
    "Now, Alice just ran out of rasberries. Update fridge_array to reflect this!\n",
    "\n",
    "Remember, we can use np.delete() to delete an element at a particular index in an array. In this exercise, we will use a for loop to find the index of rasberries in the array, then we can call np.delete() on that index."
   ]
  },
  {
   "cell_type": "code",
   "execution_count": null,
   "metadata": {},
   "outputs": [],
   "source": [
    "current_index = 0\n",
    "\n",
    "# First use the for loop to find the index of \"rasberries\" in the array.\n",
    "for item in _________:\n",
    "    if item = _____________:\n",
    "        rasberries_index = current_index\n",
    "\n",
    "# Now that we know the index, we can delete rasberries from the array\n",
    "fridge_array = ________________\n",
    "\n",
    "print(fridge_array)"
   ]
  },
  {
   "cell_type": "markdown",
   "metadata": {},
   "source": [
    "### Question 2: Ned's Number Arrays"
   ]
  },
  {
   "cell_type": "markdown",
   "metadata": {},
   "source": [
    "Ned LOVES numbers and needs your help to make arrays that suit his number needs. Fill in the code below to make each of the following arrays:\n",
    "\n",
    "1. even_steven = An array of all the even numbers between 2 and 20 (inclusive)\n",
    "\n",
    "2. big_tens = An array of all the multiples of ten from 10 to 150 (inclusive)\n",
    "\n",
    "3. lucky_thirteen = An array of numbers 0 to 13 (inclusive)\n"
   ]
  },
  {
   "cell_type": "code",
   "execution_count": 13,
   "metadata": {},
   "outputs": [
    {
     "ename": "SyntaxError",
     "evalue": "invalid syntax (<ipython-input-13-0a090ee1e751>, line 1)",
     "output_type": "error",
     "traceback": [
      "\u001b[0;36m  File \u001b[0;32m\"<ipython-input-13-0a090ee1e751>\"\u001b[0;36m, line \u001b[0;32m1\u001b[0m\n\u001b[0;31m    even_steven = # YOUR CODE HERE\u001b[0m\n\u001b[0m                  ^\u001b[0m\n\u001b[0;31mSyntaxError\u001b[0m\u001b[0;31m:\u001b[0m invalid syntax\n"
     ]
    }
   ],
   "source": [
    "even_steven = # YOUR CODE HERE\n",
    "\n",
    "big_tens = # YOUR CODE HERE\n",
    "\n",
    "lucky_thirteen = # YOUR CODE HERE"
   ]
  },
  {
   "cell_type": "markdown",
   "metadata": {},
   "source": [
    "### Question 3: Freida's Free Throws"
   ]
  },
  {
   "cell_type": "markdown",
   "metadata": {},
   "source": [
    "Freida is a PE teacher and every year she holds a free throw competition in her class! This year she decided to store information about the number of free throws each participant made in an array called free_throws."
   ]
  },
  {
   "cell_type": "code",
   "execution_count": null,
   "metadata": {},
   "outputs": [],
   "source": [
    "# RUN THIS CELL\n",
    "free_throws = np.array([1, 5, 3, 0, 9, 14, 2, 8, 0, 7, 10, 6, 0, 2, 1])"
   ]
  },
  {
   "cell_type": "markdown",
   "metadata": {},
   "source": [
    "Let's use np.count_nonzero() to figure out a few things!\n",
    "\n",
    "1. num_zeros : The number of participants who made 0 free throws.\n",
    "2. above_five : The number of participants who made greater than 5 free throws.\n",
    "3. one_and_done : The number of participants who made exactly 1 free throw."
   ]
  },
  {
   "cell_type": "code",
   "execution_count": 15,
   "metadata": {},
   "outputs": [
    {
     "ename": "SyntaxError",
     "evalue": "invalid syntax (<ipython-input-15-dac7c4b878d0>, line 1)",
     "output_type": "error",
     "traceback": [
      "\u001b[0;36m  File \u001b[0;32m\"<ipython-input-15-dac7c4b878d0>\"\u001b[0;36m, line \u001b[0;32m1\u001b[0m\n\u001b[0;31m    num_zeros = # YOUR CODE HERE\u001b[0m\n\u001b[0m                ^\u001b[0m\n\u001b[0;31mSyntaxError\u001b[0m\u001b[0;31m:\u001b[0m invalid syntax\n"
     ]
    }
   ],
   "source": [
    "num_zeros = # YOUR CODE HERE\n",
    "above_five = # YOUR CODE HERE\n",
    "one_and_done = # YOUR CODE HERE"
   ]
  },
  {
   "cell_type": "markdown",
   "metadata": {},
   "source": [
    "Now, Freida is interested in creating a new array that reflects the proportion of free throws each student made. Assume that the students each took 15 free throw attempts. Fill in the code below to create a new array that contains this info!"
   ]
  },
  {
   "cell_type": "code",
   "execution_count": null,
   "metadata": {},
   "outputs": [],
   "source": [
    "percent_made = # YOUR CODE HERE"
   ]
  },
  {
   "cell_type": "markdown",
   "metadata": {},
   "source": [
    "Freida decides to give a prize to 3 random participants. Use the array called participants the find the 3 random participants who will win the prize."
   ]
  },
  {
   "cell_type": "code",
   "execution_count": null,
   "metadata": {},
   "outputs": [],
   "source": [
    "participants = np.array([\"Benny\", \"Johan\", \"Katie\", \"Haben\", \"Belle\", \"Juan\", \"Lei\", \"Pranati\",\n",
    "                        \"Nico\", \"Annapurna\", \"George\", \"Colette\", \"Amia\", \"Tara\", \"Sylvanna\"])\n",
    "\n",
    "# YOUR CODE HERE"
   ]
  }
 ],
 "metadata": {
  "kernelspec": {
   "display_name": "Python 3",
   "language": "python",
   "name": "python3"
  },
  "language_info": {
   "codemirror_mode": {
    "name": "ipython",
    "version": 3
   },
   "file_extension": ".py",
   "mimetype": "text/x-python",
   "name": "python",
   "nbconvert_exporter": "python",
   "pygments_lexer": "ipython3",
   "version": "3.8.1"
  }
 },
 "nbformat": 4,
 "nbformat_minor": 4
}
