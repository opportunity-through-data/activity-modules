{
 "cells": [
  {
   "cell_type": "markdown",
   "metadata": {},
   "source": [
    "# Module 5 Activity\n",
    "\n",
    "Let's start by importing some packages! We're going to import NumPy and the functions from a package that we wrote for the class, `otd_util` (you should recognize these functions from previous activities!)"
   ]
  },
  {
   "cell_type": "code",
   "execution_count": null,
   "metadata": {},
   "outputs": [],
   "source": [
    "import numpy as np\n",
    "from otd_util import *"
   ]
  },
  {
   "cell_type": "markdown",
   "metadata": {},
   "source": [
    "As we mentioned in the textbook, arrays are a data structure similar to lists. To create an array, you must input your data into a list, then you can convert it into an array by calling np.array(list). "
   ]
  },
  {
   "cell_type": "code",
   "execution_count": null,
   "metadata": {},
   "outputs": [],
   "source": [
    "example = np.array([1, 2, 3, 4])"
   ]
  },
  {
   "cell_type": "code",
   "execution_count": null,
   "metadata": {},
   "outputs": [],
   "source": [
    "example"
   ]
  },
  {
   "cell_type": "markdown",
   "metadata": {},
   "source": [
    "If you input only one data piece into the array function, then it does not have to be in a list."
   ]
  },
  {
   "cell_type": "code",
   "execution_count": null,
   "metadata": {},
   "outputs": [],
   "source": [
    "one_example = np.array(1)"
   ]
  },
  {
   "cell_type": "code",
   "execution_count": null,
   "metadata": {},
   "outputs": [],
   "source": [
    "one_example"
   ]
  },
  {
   "cell_type": "markdown",
   "metadata": {},
   "source": [
    "However, you can also make an array of numbers going up to (but not including the number) by calling `np.arange(number)`."
   ]
  },
  {
   "cell_type": "code",
   "execution_count": null,
   "metadata": {},
   "outputs": [],
   "source": [
    "example2 = np.arange(4)"
   ]
  },
  {
   "cell_type": "code",
   "execution_count": null,
   "metadata": {
    "scrolled": true
   },
   "outputs": [],
   "source": [
    "example2"
   ]
  },
  {
   "cell_type": "markdown",
   "metadata": {},
   "source": [
    "Try creating an array for yourself. In the cell, set myarray to an array that matches `array([0, 1, 2, 3, 4, 5])` using either of the methods described above."
   ]
  },
  {
   "cell_type": "code",
   "execution_count": null,
   "metadata": {},
   "outputs": [],
   "source": [
    "myarray = ..."
   ]
  },
  {
   "cell_type": "markdown",
   "metadata": {},
   "source": [
    "You can add an item to an existing array by using `np.append(existing_array, new_item)`. Run the cell below to see an example!"
   ]
  },
  {
   "cell_type": "code",
   "execution_count": null,
   "metadata": {},
   "outputs": [],
   "source": [
    "example2 = np.append(example2, 5)\n",
    "example2"
   ]
  },
  {
   "cell_type": "markdown",
   "metadata": {},
   "source": [
    "Try appending the number 8 to the end of `example2` using `np.append`."
   ]
  },
  {
   "cell_type": "code",
   "execution_count": null,
   "metadata": {},
   "outputs": [],
   "source": [
    "example2 = np.append(...,...)"
   ]
  },
  {
   "cell_type": "markdown",
   "metadata": {},
   "source": [
    "Using .item(index), we can access items from the array. Remember that we're using zero-indexing, which means we start counting at 0 instead of 1."
   ]
  },
  {
   "cell_type": "code",
   "execution_count": null,
   "metadata": {},
   "outputs": [],
   "source": [
    "accessed = np.array([3, \"r\", \"a\", 4, 8])\n",
    "accessed.item(0)"
   ]
  },
  {
   "cell_type": "markdown",
   "metadata": {},
   "source": [
    "How would you access the element \"r\" in the accessed array?"
   ]
  },
  {
   "cell_type": "code",
   "execution_count": null,
   "metadata": {
    "scrolled": true
   },
   "outputs": [],
   "source": [
    "element = accessed.item(...)\n",
    "element"
   ]
  },
  {
   "cell_type": "markdown",
   "metadata": {},
   "source": [
    "Using len(array), we can find the length of an array."
   ]
  },
  {
   "cell_type": "code",
   "execution_count": null,
   "metadata": {},
   "outputs": [],
   "source": [
    "len(accessed)"
   ]
  },
  {
   "cell_type": "markdown",
   "metadata": {},
   "source": [
    "You can also insert or delete items in an array using `np.insert(array_to_change, index_to_replace, values_being_added)` or `np.delete(array_to_change, index_to_remove)`. Run the cells below to see an example."
   ]
  },
  {
   "cell_type": "code",
   "execution_count": null,
   "metadata": {
    "scrolled": true
   },
   "outputs": [],
   "source": [
    "accessed_insert = np.insert(accessed, 3, 2)\n",
    "accessed_insert"
   ]
  },
  {
   "cell_type": "code",
   "execution_count": null,
   "metadata": {
    "scrolled": true
   },
   "outputs": [],
   "source": [
    "accessed_delete = np.delete(accessed, 3)\n",
    "accessed_delete"
   ]
  },
  {
   "cell_type": "markdown",
   "metadata": {},
   "source": [
    "Arrays are also convenient for math! You can multiply an array by a number, add two arrays, and multiply two arrays. "
   ]
  },
  {
   "cell_type": "code",
   "execution_count": null,
   "metadata": {
    "scrolled": true
   },
   "outputs": [],
   "source": [
    "added = np.arange(4) + np.arange(4)\n",
    "added"
   ]
  },
  {
   "cell_type": "code",
   "execution_count": null,
   "metadata": {
    "scrolled": true
   },
   "outputs": [],
   "source": [
    "scalar_mult = 5 * np.array([0,2,3,6])\n",
    "scalar_mult"
   ]
  },
  {
   "cell_type": "code",
   "execution_count": null,
   "metadata": {},
   "outputs": [],
   "source": [
    "multiply_arrays = np.arange(4) * np.array([3, 4, 5, 6])\n",
    "multiply_arrays"
   ]
  },
  {
   "cell_type": "markdown",
   "metadata": {},
   "source": [
    "Your turn! Set `my_added` to the sum of the arrays `multiply_arrays` and `added`."
   ]
  },
  {
   "cell_type": "code",
   "execution_count": null,
   "metadata": {},
   "outputs": [],
   "source": [
    "my_added = ..."
   ]
  },
  {
   "cell_type": "markdown",
   "metadata": {},
   "source": [
    "Now let's look at how we can apply NumPy functions to analyze data! Run the cell below to see the dataset of highly-rated movies from IMDB."
   ]
  },
  {
   "cell_type": "code",
   "execution_count": null,
   "metadata": {},
   "outputs": [],
   "source": [
    "movies = read_table(\"movies.csv\")"
   ]
  },
  {
   "cell_type": "code",
   "execution_count": null,
   "metadata": {},
   "outputs": [],
   "source": [
    "visualize_table(movies)"
   ]
  },
  {
   "cell_type": "markdown",
   "metadata": {},
   "source": [
    "We can find the mean and the standard deviation of an array using the functions `np.mean(array)` and `np.std(array)`. Using these functions, fill in the cells below to find the mean and standard deviation of the top movies in the 1990s."
   ]
  },
  {
   "cell_type": "code",
   "execution_count": null,
   "metadata": {},
   "outputs": [],
   "source": [
    "# Function for filtering a table based on a column value! \n",
    "# Try figuring out how it works!\n",
    "def filter_table(table, column, value):\n",
    "    num_rows = len(movies)\n",
    "    \n",
    "    # Initialize a new table with the same columns, but empty values\n",
    "    new_table = {}\n",
    "    for col in table:\n",
    "        new_table[col] = []\n",
    "        \n",
    "    # Go through each row in the table\n",
    "    for i in range(num_rows):\n",
    "        # Check if the column value for that row satisfies the condition\n",
    "        if table[column][i] == value:\n",
    "            # If it satisfies the condition, add the row to the new, filtered table\n",
    "            for col in table:\n",
    "                row_val = table[col][i]\n",
    "                new_table[col].append(row_val)\n",
    "    \n",
    "    return new_table\n",
    "            "
   ]
  },
  {
   "cell_type": "code",
   "execution_count": null,
   "metadata": {},
   "outputs": [],
   "source": [
    "only_1990s = filter_table(movies, 'Decade', 1990)\n",
    "only_1990s_ratings = np.array(only_1990s['Rating'])\n",
    "only_1990s_mean = ...\n",
    "only_1990s_mean"
   ]
  },
  {
   "cell_type": "code",
   "execution_count": null,
   "metadata": {},
   "outputs": [],
   "source": [
    "only_1990s_std = ...\n",
    "only_1990s_std"
   ]
  },
  {
   "cell_type": "markdown",
   "metadata": {},
   "source": [
    "We can use our calculated only_1990s_mean to compare the mean of ratings in 1990 to means of other decades. Let's create a table with these filtered values and visualize the means across decades! Run the cell below to see a visualization of means across different decades."
   ]
  },
  {
   "cell_type": "code",
   "execution_count": null,
   "metadata": {},
   "outputs": [],
   "source": [
    "decades = [1930, 1940, 1950, 1960, 1970, 1980, 1990, 2000, 2010]\n",
    "decade_table = {'Decade': [], 'Mean Rating': []}\n",
    "\n",
    "for decade in decades:\n",
    "    decade_mean = np.mean(np.array(filter_table(movies, 'Decade', decade)['Rating']))\n",
    "    decade_table['Decade'].append(decade)\n",
    "    decade_table['Mean Rating'].append(decade_mean)\n",
    "\n",
    "line(decade_table, 'Decade', 'Mean Rating')"
   ]
  },
  {
   "cell_type": "markdown",
   "metadata": {},
   "source": [
    "You can also use np.count_nonzero(array) to count the elements in an array. Instead of going through the sea of 8s in this table, let's use count_nonzero to find the number of ratings that are 9 or above!"
   ]
  },
  {
   "cell_type": "code",
   "execution_count": null,
   "metadata": {},
   "outputs": [],
   "source": [
    "number_over_9 = np.count_nonzero(... >= ...)\n",
    "number_over_9"
   ]
  }
 ],
 "metadata": {
  "kernelspec": {
   "display_name": "Python 3",
   "language": "python",
   "name": "python3"
  },
  "language_info": {
   "codemirror_mode": {
    "name": "ipython",
    "version": 3
   },
   "file_extension": ".py",
   "mimetype": "text/x-python",
   "name": "python",
   "nbconvert_exporter": "python",
   "pygments_lexer": "ipython3",
   "version": "3.8.2"
  }
 },
 "nbformat": 4,
 "nbformat_minor": 2
}
