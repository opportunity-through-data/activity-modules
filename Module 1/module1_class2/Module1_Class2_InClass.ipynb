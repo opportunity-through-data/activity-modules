{
 "cells": [
  {
   "cell_type": "markdown",
   "metadata": {},
   "source": [
    "# Module 1 In-Class Activity: Intro to Python & Jupyter Notebooks\n",
    "\n",
    "Welcome to Class 2! Today, we'll be going over an introduction to Jupyter Notebooks, programming, and Python. Below is a list of the topics we're covering.\n",
    "\n",
    "### Table of Contents\n",
    "1. [What is a Jupyter Notebook?](#1)\n",
    "2. [Navigating a Jupyter Notebook](#2)\n",
    "3. [Intro to Cell Types](#3)\n",
    "4. [Intro to Data Types](#4)\n",
    "5. [Intro to Variables](#5)\n",
    "6. [Print Statements](#6)\n",
    "7. [Intro to Functions](#7)\n",
    "\n",
    "Let's get started!"
   ]
  },
  {
   "cell_type": "markdown",
   "metadata": {},
   "source": [
    "## What is a Jupyter Notebook? <a id='1'></a>\n",
    "This interface is called a Jupyter Notebook. It's an interactive environment which can contain code cells, Markdown (text) cells, and can display the outputs of aforementioned code cells. We'll be using Jupyter Notebooks to write code and create visualizations."
   ]
  },
  {
   "cell_type": "markdown",
   "metadata": {},
   "source": [
    "## Navigating a Jupyter Notebook<a id='2'></a>\n",
    "\n",
    "**Running a Cell**\n",
    "\n",
    "You can run a cell by pressing `Shift + Enter`, or by clicking on the play/run button in the toolbar.\n",
    "\n",
    "**Inserting Cells**\n",
    "\n",
    "In order to insert a new cell, you can press the `+` button in the toolbar, or you can go to Insert, and choose whether to insert a cell above or below. Alternatively, you can pres `esc` + `A` to insert a cell above, or `esc` + `B` to insert a cell below.\n",
    "\n",
    "**Deleting Cells**\n",
    "\n",
    "To delete a cell, select anywhere in the cell and click the scissors icon in the toolbar. You can also press `esc` + `X` to delete a cell.\n",
    "\n",
    "**Formatting Cells**\n",
    "\n",
    "You can change between a code cell and a markdown cell by choosing from the dropdown in the toolbar, or pressing `esc` + `Y` for code, or `esc` + `M` for markdown."
   ]
  },
  {
   "cell_type": "markdown",
   "metadata": {},
   "source": [
    "## Intro to Cell Types <a id='3'></a>\n",
    "\n",
    "This is a Markdown cell. It contains text, and some formatting as well.\n",
    "\n",
    "Below, we have a code cell. It contains python code `print('hi')`, as well as a comment. The comment begins with a pound symbol `#`, and tells the computer to ignore the words that follow."
   ]
  },
  {
   "cell_type": "code",
   "execution_count": null,
   "metadata": {},
   "outputs": [],
   "source": [
    "# This is a code cell. It can contain code written in python\n",
    "print('hi')"
   ]
  },
  {
   "cell_type": "markdown",
   "metadata": {},
   "source": [
    "The output of a code cell is displayed directly beneath the cell. In the cell above, the output is the text `hi`."
   ]
  },
  {
   "cell_type": "markdown",
   "metadata": {},
   "source": [
    "## Intro to Data Types <a id='4'></a>\n",
    "\n",
    "There are various different types of data types in python and other coding languages. Some of the more common ones include the following:\n",
    "\n",
    "- String, commonly represented as `str` - text typically enclosed in single quotes `'` or double quotes `\"`\n",
    "- Integer, commonly represented as `int` - whole numbers, such as `1`, `-2`, `100`, or `5000`\n",
    "- Float - numbers that may include decimals, such as `3.14` or `-5823.1`\n",
    "- Boolean - commonly represented as `bool` - a truthy value - may be `True` or `False`\n",
    "\n",
    "Run the following cells to see examples of different data types."
   ]
  },
  {
   "cell_type": "code",
   "execution_count": null,
   "metadata": {},
   "outputs": [],
   "source": [
    "string = 'Hello'\n",
    "print(string)"
   ]
  },
  {
   "cell_type": "code",
   "execution_count": null,
   "metadata": {},
   "outputs": [],
   "source": [
    "integer = 0\n",
    "print(integer)"
   ]
  },
  {
   "cell_type": "code",
   "execution_count": null,
   "metadata": {},
   "outputs": [],
   "source": [
    "float_ = 3.14\n",
    "print(float_)"
   ]
  },
  {
   "cell_type": "code",
   "execution_count": null,
   "metadata": {},
   "outputs": [],
   "source": [
    "boolean = True\n",
    "print(boolean)"
   ]
  },
  {
   "cell_type": "markdown",
   "metadata": {},
   "source": [
    "Sometimes, you may have a value and not know what data type it is. This may happen when the variable is defined by someone else, or you are looking at a dataset from some datasource. In these cases, the `type()` command can be useful. This is known as a *function*, where we can pass an argument to see an output value. We'll discuss functions in more depth in a bit. \n",
    "\n",
    "You can pass in values to the `type()` command to see what data type a value is. See the examples below."
   ]
  },
  {
   "cell_type": "code",
   "execution_count": null,
   "metadata": {},
   "outputs": [],
   "source": [
    "type(1)"
   ]
  },
  {
   "cell_type": "code",
   "execution_count": null,
   "metadata": {},
   "outputs": [],
   "source": [
    "type(1.0)"
   ]
  },
  {
   "cell_type": "code",
   "execution_count": null,
   "metadata": {},
   "outputs": [],
   "source": [
    "type('1')"
   ]
  },
  {
   "cell_type": "code",
   "execution_count": null,
   "metadata": {},
   "outputs": [],
   "source": [
    "type(False)"
   ]
  },
  {
   "cell_type": "markdown",
   "metadata": {},
   "source": [
    "Sometimes, you have may have a number represented as a string, such as above with `'1'`. In this case, you may want to convert the string value to an integer. This is a common problem that you may run into with different datasets.\n",
    "\n",
    "Luckily for us, there is a simple way to convert the datatype of a value. This is called *casting*. We can wrap the value we want to cast with the keyword representing the datatype we want to convert to. We can use `int()`, `float()`, and `str()`. Keep in mind that this will only work provided that the value we are casting represents a value of the type we are casting to. For example, we can't cast the string `'hi'` to an integer, because it doesn't represent an integer.\n",
    "\n",
    "In the following cells, we walk through some examples."
   ]
  },
  {
   "cell_type": "code",
   "execution_count": null,
   "metadata": {},
   "outputs": [],
   "source": [
    "# string to integer - notice the absence of quotes in the output\n",
    "int('1')"
   ]
  },
  {
   "cell_type": "code",
   "execution_count": null,
   "metadata": {},
   "outputs": [],
   "source": [
    "# float to string - notice the quotes in the output\n",
    "str(1.0)"
   ]
  },
  {
   "cell_type": "markdown",
   "metadata": {},
   "source": [
    "## Intro to Variables <a id='5'></a>\n",
    "Oftentimes, we want to save a value in order to reference it later. We can do this by storing a value in a variable. We can give variables any type of name that we want, but for clarity, it's best to give them a name that makes sense. For our purposes, we'll use simple names like `x`, but in the real world, you may want to use ones like `num_dogs` or `count`.\n",
    "\n",
    "In order to create a variable, we can just assign a value to it. See the cell below for an example - we are creating a variable called `x`, and assigning it the value 10."
   ]
  },
  {
   "cell_type": "code",
   "execution_count": null,
   "metadata": {},
   "outputs": [],
   "source": [
    "x = 10"
   ]
  },
  {
   "cell_type": "markdown",
   "metadata": {},
   "source": [
    "Now, instead of typing 10, we can just type `x` and see the value 10!"
   ]
  },
  {
   "cell_type": "code",
   "execution_count": null,
   "metadata": {},
   "outputs": [],
   "source": [
    "x"
   ]
  },
  {
   "cell_type": "markdown",
   "metadata": {},
   "source": [
    "We can use our variable `x` just like we can use the number 10 - we can add to it, subtract from it, divide by it, etc."
   ]
  },
  {
   "cell_type": "code",
   "execution_count": null,
   "metadata": {},
   "outputs": [],
   "source": [
    "x - 5"
   ]
  },
  {
   "cell_type": "code",
   "execution_count": null,
   "metadata": {},
   "outputs": [],
   "source": [
    "x / 5"
   ]
  },
  {
   "cell_type": "markdown",
   "metadata": {},
   "source": [
    "Let's say that now we want to change our variable `x` to 20 instead. It's as simple as re-assigning our variable `x` to the value 20. Be aware that this is the case in Python, but other programming languages have different conventions and rules for re-assigning variables."
   ]
  },
  {
   "cell_type": "code",
   "execution_count": null,
   "metadata": {},
   "outputs": [],
   "source": [
    "x = 20"
   ]
  },
  {
   "cell_type": "code",
   "execution_count": null,
   "metadata": {},
   "outputs": [],
   "source": [
    "x"
   ]
  },
  {
   "cell_type": "markdown",
   "metadata": {},
   "source": [
    "Now, try creating a variable `y` that is equal to 35!"
   ]
  },
  {
   "cell_type": "code",
   "execution_count": null,
   "metadata": {},
   "outputs": [],
   "source": [
    "# YOUR CODE HERE"
   ]
  },
  {
   "cell_type": "code",
   "execution_count": null,
   "metadata": {},
   "outputs": [],
   "source": [
    "y"
   ]
  },
  {
   "cell_type": "markdown",
   "metadata": {},
   "source": [
    "## Print Statements <a id='6'></a>\n",
    "If you were paying attention in the first few code cells, we used a command called `print()`. Print statements allow us to display values that we have created. You may wonder why we need print statements when outputs of the cell are displayed. This is because in reality, only the last statement in the cell is displayed. For example, we can create another variable `y`, and have our cell output the value of `y` even though we have `x` in our cell as well."
   ]
  },
  {
   "cell_type": "code",
   "execution_count": null,
   "metadata": {},
   "outputs": [],
   "source": [
    "y = 5\n",
    "\n",
    "x\n",
    "\n",
    "y"
   ]
  },
  {
   "cell_type": "markdown",
   "metadata": {},
   "source": [
    "Notice that we still have our value of 20 stored in our variable `x`!"
   ]
  },
  {
   "cell_type": "code",
   "execution_count": null,
   "metadata": {},
   "outputs": [],
   "source": [
    "x"
   ]
  },
  {
   "cell_type": "markdown",
   "metadata": {},
   "source": [
    "Let's say that we wanted our cell to output both the value of `x` and the value of `y`. This is where print statements come in handy - simply place the value or variable that you want to print in between the parentheses, and it will be output from the cell."
   ]
  },
  {
   "cell_type": "code",
   "execution_count": null,
   "metadata": {},
   "outputs": [],
   "source": [
    "print(x)"
   ]
  },
  {
   "cell_type": "code",
   "execution_count": null,
   "metadata": {},
   "outputs": [],
   "source": [
    "print(y)"
   ]
  },
  {
   "cell_type": "code",
   "execution_count": null,
   "metadata": {},
   "outputs": [],
   "source": [
    "print(x)\n",
    "print(y)"
   ]
  },
  {
   "cell_type": "markdown",
   "metadata": {},
   "source": [
    "## Intro to Functions <a id='7'></a>\n",
    "So far, we have used the functions `type()` and `print()`, and these are what we call 'built-in functions'. As a programmer, you can create your own functions as well. The main parts of a function include the definition or `def` statement and the `return` statement. In the `def` statement, we give our function a name and specify the arguments. We've defined a simple function below, and we'll walk through each part of it."
   ]
  },
  {
   "cell_type": "code",
   "execution_count": null,
   "metadata": {},
   "outputs": [],
   "source": [
    "def fun(a):\n",
    "    return a"
   ]
  },
  {
   "cell_type": "markdown",
   "metadata": {},
   "source": [
    "This is a simple function - it is called `fun`, and takes in a single argument, `a`. In order to call our function, we simply type `fun` with whatever argument we want passed in. `a` is a placeholder for an argument that we provide - it can be anything, and whatever it is, the function will simply return that value. See below for example usage."
   ]
  },
  {
   "cell_type": "code",
   "execution_count": null,
   "metadata": {},
   "outputs": [],
   "source": [
    "fun(1)"
   ]
  },
  {
   "cell_type": "code",
   "execution_count": null,
   "metadata": {},
   "outputs": [],
   "source": [
    "fun(3.14)"
   ]
  },
  {
   "cell_type": "code",
   "execution_count": null,
   "metadata": {},
   "outputs": [],
   "source": [
    "fun(x)"
   ]
  },
  {
   "cell_type": "code",
   "execution_count": null,
   "metadata": {},
   "outputs": [],
   "source": [
    "fun('run')"
   ]
  },
  {
   "cell_type": "markdown",
   "metadata": {},
   "source": [
    "Your turn! In the cell below, try passing an argument to the `fun` function."
   ]
  },
  {
   "cell_type": "code",
   "execution_count": null,
   "metadata": {},
   "outputs": [],
   "source": [
    "# try your code here\n"
   ]
  },
  {
   "cell_type": "markdown",
   "metadata": {},
   "source": [
    "Functions can have 0, 1, or multiple arguments. Our `fun` funciton includes one, and below we'll show functions with 0 and 2 arguments."
   ]
  },
  {
   "cell_type": "code",
   "execution_count": null,
   "metadata": {},
   "outputs": [],
   "source": [
    "def no_args():\n",
    "    return 'Argh!'"
   ]
  },
  {
   "cell_type": "code",
   "execution_count": null,
   "metadata": {},
   "outputs": [],
   "source": [
    "no_args()"
   ]
  },
  {
   "cell_type": "code",
   "execution_count": null,
   "metadata": {},
   "outputs": [],
   "source": [
    "def add(a, b):\n",
    "    return a + b"
   ]
  },
  {
   "cell_type": "code",
   "execution_count": null,
   "metadata": {},
   "outputs": [],
   "source": [
    "add(1, 2)"
   ]
  },
  {
   "cell_type": "markdown",
   "metadata": {},
   "source": [
    "Now, try it on your own! See if you can write a function that returns your name. If you want a challenge, see if you can create a function that prints out `'Hello <name>'`. You can add strings together - but beware of spacing!"
   ]
  },
  {
   "cell_type": "code",
   "execution_count": null,
   "metadata": {},
   "outputs": [],
   "source": [
    "print('Hello ' + 'OTD!')"
   ]
  },
  {
   "cell_type": "markdown",
   "metadata": {},
   "source": [
    "Use the cell below to try to write your own functions!"
   ]
  },
  {
   "cell_type": "code",
   "execution_count": null,
   "metadata": {},
   "outputs": [],
   "source": [
    "# your code here\n"
   ]
  },
  {
   "cell_type": "code",
   "execution_count": null,
   "metadata": {},
   "outputs": [],
   "source": []
  }
 ],
 "metadata": {
  "kernelspec": {
   "display_name": "Python 3",
   "language": "python",
   "name": "python3"
  },
  "language_info": {
   "codemirror_mode": {
    "name": "ipython",
    "version": 3
   },
   "file_extension": ".py",
   "mimetype": "text/x-python",
   "name": "python",
   "nbconvert_exporter": "python",
   "pygments_lexer": "ipython3",
   "version": "3.8.2"
  }
 },
 "nbformat": 4,
 "nbformat_minor": 4
}
