{
 "cells": [
  {
   "cell_type": "markdown",
   "metadata": {},
   "source": [
    "# Module 1 In-Class Activity: Math Review & Graphs\n",
    "\n",
    "In this module, we'll cover using Python for basic math and give an introduction to graphs."
   ]
  },
  {
   "cell_type": "markdown",
   "metadata": {},
   "source": [
    "## Python for Math\n",
    "We can use python and Jupyter Notebooks like a calculator to perform simple math. These operations include simple addition, subtraction, multiplication, division, as well as modulo remainders `%`, floor division `//`, and exponentiation `**`. Below are some examples."
   ]
  },
  {
   "cell_type": "code",
   "execution_count": null,
   "metadata": {},
   "outputs": [],
   "source": [
    "1 + 2"
   ]
  },
  {
   "cell_type": "code",
   "execution_count": null,
   "metadata": {},
   "outputs": [],
   "source": [
    "2-1"
   ]
  },
  {
   "cell_type": "code",
   "execution_count": null,
   "metadata": {},
   "outputs": [],
   "source": [
    "100/10"
   ]
  },
  {
   "cell_type": "code",
   "execution_count": null,
   "metadata": {},
   "outputs": [],
   "source": [
    "3*4"
   ]
  },
  {
   "cell_type": "markdown",
   "metadata": {},
   "source": [
    "Modulo is an operation that returns the remainder when dividing one number by another, and it uses `%` as an operator."
   ]
  },
  {
   "cell_type": "code",
   "execution_count": null,
   "metadata": {},
   "outputs": [],
   "source": [
    "10%2"
   ]
  },
  {
   "cell_type": "code",
   "execution_count": null,
   "metadata": {},
   "outputs": [],
   "source": [
    "15%4"
   ]
  },
  {
   "cell_type": "markdown",
   "metadata": {},
   "source": [
    "Floor division is division that \"rounds down\" - it essentially chops off all the numbers to the right of the decimal point. It uses the `//` operator."
   ]
  },
  {
   "cell_type": "code",
   "execution_count": null,
   "metadata": {},
   "outputs": [],
   "source": [
    "12//3 "
   ]
  },
  {
   "cell_type": "code",
   "execution_count": null,
   "metadata": {},
   "outputs": [],
   "source": [
    "5//3"
   ]
  },
  {
   "cell_type": "code",
   "execution_count": null,
   "metadata": {},
   "outputs": [],
   "source": [
    "9//10"
   ]
  },
  {
   "cell_type": "markdown",
   "metadata": {},
   "source": [
    "Exponentiation uses the `**` operator, and is the equivalent of using `^`."
   ]
  },
  {
   "cell_type": "code",
   "execution_count": null,
   "metadata": {},
   "outputs": [],
   "source": [
    "2**3"
   ]
  },
  {
   "cell_type": "markdown",
   "metadata": {},
   "source": [
    "You can also use exponentiation to take the square root by using `**0.5`."
   ]
  },
  {
   "cell_type": "code",
   "execution_count": null,
   "metadata": {},
   "outputs": [],
   "source": [
    "4**0.5"
   ]
  },
  {
   "cell_type": "markdown",
   "metadata": {},
   "source": [
    "Other operators include comparison operators, such as greater than `>`, less than `<`, equal to `==`, greater than or equal to `>=`, and less than or equal to `<=`. These comparison operators return boolean values, which we discussed in the last activity."
   ]
  },
  {
   "cell_type": "code",
   "execution_count": null,
   "metadata": {},
   "outputs": [],
   "source": [
    "1 < 2 "
   ]
  },
  {
   "cell_type": "code",
   "execution_count": null,
   "metadata": {},
   "outputs": [],
   "source": [
    "1 == 1"
   ]
  },
  {
   "cell_type": "code",
   "execution_count": null,
   "metadata": {},
   "outputs": [],
   "source": [
    "4 <= 3"
   ]
  },
  {
   "cell_type": "markdown",
   "metadata": {},
   "source": [
    "## Intro to Graphs\n",
    "\n",
    "Graphing helps us understand and summarize data, and there are different types of graphs for different types of data. For example, we can use a line graph to show how values may change over time, or a bar graph to show categories and counts, or a scatterplot to show the relationship between different variables.\n",
    "\n",
    "We'll be taking a look at some data about popular cereals and finding relationships between them.\n",
    "\n",
    "You have access to four functions:\n",
    "\n",
    "* `scatter` takes in three arguments; the first should always be `cereal_data`, and the other two should be the names of the `x` and `y` attributes you want to compare, and produces a scatter plot of them.\n",
    "* `line` takes in three arguments; the first should always be `cereal_data`, and the other two should be the names of the `x` and `y` attributes you want to compare, and produces a line plot of them.\n",
    "* `bar` takes in three arguments; the first should always be `cereal_data`, and the other two should be the names of the `x` and `y` attributes you want to compare, and produces a bar chart of them.\n",
    "* `histogram` takes in three arguments; the first should always be `cereal_data`, and the other two should be the name of the attribute you would like to produce a histogram of and (optionally) the number of bins you would like to use, and produces a histogram of that attribute.\n",
    "\n",
    "**You don't need to know how this code works yet, but you'll be learning how it works and how to create your own visualizations by the end of the course!**"
   ]
  },
  {
   "cell_type": "code",
   "execution_count": null,
   "metadata": {},
   "outputs": [],
   "source": [
    "'''\n",
    "You do not need to understand the code in this cell! You will learn how it works by the end of the course.\n",
    "'''\n",
    "import pandas as pd\n",
    "from otd_util import *\n",
    "cereal_data = pd.read_csv('simplifiedCereal.csv', index_col=0)"
   ]
  },
  {
   "cell_type": "code",
   "execution_count": null,
   "metadata": {},
   "outputs": [],
   "source": [
    "# Displaying the available data.\n",
    "cereal_data"
   ]
  },
  {
   "cell_type": "markdown",
   "metadata": {},
   "source": [
    "Below is a histogram of calories in these cereals, split into 10 bins. Approximately what seems to be the most common calorie range?"
   ]
  },
  {
   "cell_type": "code",
   "execution_count": null,
   "metadata": {},
   "outputs": [],
   "source": [
    "histogram(cereal_data, 'calories', 10)"
   ]
  },
  {
   "cell_type": "markdown",
   "metadata": {},
   "source": [
    "Do you see any relationship between calories and fat? Why do you think what you see is the case?"
   ]
  },
  {
   "cell_type": "code",
   "execution_count": null,
   "metadata": {},
   "outputs": [],
   "source": [
    "scatter(cereal_data, 'calories', 'fat')"
   ]
  },
  {
   "cell_type": "markdown",
   "metadata": {},
   "source": [
    "Do you see any relationship between calories and the cereal rating? Why do you think what you see is the case?"
   ]
  },
  {
   "cell_type": "code",
   "execution_count": null,
   "metadata": {},
   "outputs": [],
   "source": [
    "scatter(cereal_data, 'calories', 'rating')"
   ]
  },
  {
   "cell_type": "markdown",
   "metadata": {},
   "source": [
    "What about between the grams of fat and the rating? "
   ]
  },
  {
   "cell_type": "code",
   "execution_count": null,
   "metadata": {},
   "outputs": [],
   "source": [
    "bar(cereal_data, 'fat', 'rating')"
   ]
  },
  {
   "cell_type": "markdown",
   "metadata": {},
   "source": [
    "### Now, create your own graphs! Choose some variables to compare and a graph type to see what happens. Think about what the relationships and patterns you see might mean!"
   ]
  },
  {
   "cell_type": "code",
   "execution_count": null,
   "metadata": {},
   "outputs": [],
   "source": [
    "# YOUR CODE HERE"
   ]
  }
 ],
 "metadata": {
  "kernelspec": {
   "display_name": "Python 3",
   "language": "python",
   "name": "python3"
  },
  "language_info": {
   "codemirror_mode": {
    "name": "ipython",
    "version": 3
   },
   "file_extension": ".py",
   "mimetype": "text/x-python",
   "name": "python",
   "nbconvert_exporter": "python",
   "pygments_lexer": "ipython3",
   "version": "3.8.2"
  }
 },
 "nbformat": 4,
 "nbformat_minor": 4
}
